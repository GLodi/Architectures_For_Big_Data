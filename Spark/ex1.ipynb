{
 "cells": [
  {
   "cell_type": "code",
   "execution_count": 1,
   "metadata": {},
   "outputs": [],
   "source": [
    "import pyspark\n",
    "from random import randint, random, choice\n",
    "import matplotlib.pyplot as plt\n",
    "\n",
    "sc = pyspark.SparkContext('local[*]')"
   ]
  },
  {
   "cell_type": "code",
   "execution_count": 2,
   "metadata": {},
   "outputs": [],
   "source": [
    "from dataGenerator.rowGenerator import *\n",
    "from dataGenerator.datasetGenerator import *\n",
    "from datetime import datetime\n",
    "\n",
    "dataset = datasetGenerator()\n",
    "dataset.addGenerator(randomFromListGenerator(),list=['P&P103','P&P104','P&P105'],keyName=\"machineId\")\n",
    "dataset.addGenerator(intGenerator(),min=1,max=5000,keyName=\"itemId\")\n",
    "dataset.addGenerator(intGenerator(),min=1,max=10,keyName=\"errors\")\n",
    "dataset.addGenerator(dateGenerator(),min=1,max=10,keyName=\"ts\")\n",
    "dataset.addGenerator(randomFromListGenerator(),list=['In Progress', 'Idle','Done'],keyName=\"status\")\n",
    "\n",
    "rdd = sc.parallelize(dataset.generateDataset(1000)).persist()"
   ]
  },
  {
   "cell_type": "code",
   "execution_count": 3,
   "metadata": {},
   "outputs": [
    {
     "data": {
      "text/plain": [
       "[{'machineId': 'P&P103',\n",
       "  'itemId': 2570,\n",
       "  'errors': 2,\n",
       "  'ts': datetime.datetime(2014, 5, 7, 6, 34, 4),\n",
       "  'status': 'Idle'},\n",
       " {'machineId': 'P&P105',\n",
       "  'itemId': 2839,\n",
       "  'errors': 5,\n",
       "  'ts': datetime.datetime(2011, 5, 22, 11, 42, 2),\n",
       "  'status': 'In Progress'},\n",
       " {'machineId': 'P&P104',\n",
       "  'itemId': 4839,\n",
       "  'errors': 5,\n",
       "  'ts': datetime.datetime(2012, 2, 12, 3, 59, 14),\n",
       "  'status': 'Idle'},\n",
       " {'machineId': 'P&P103',\n",
       "  'itemId': 2802,\n",
       "  'errors': 7,\n",
       "  'ts': datetime.datetime(2020, 8, 5, 5, 15, 42),\n",
       "  'status': 'In Progress'},\n",
       " {'machineId': 'P&P105',\n",
       "  'itemId': 1001,\n",
       "  'errors': 1,\n",
       "  'ts': datetime.datetime(2011, 12, 24, 17, 22, 52),\n",
       "  'status': 'In Progress'}]"
      ]
     },
     "execution_count": 3,
     "metadata": {},
     "output_type": "execute_result"
    }
   ],
   "source": [
    "rdd.take(5)"
   ]
  },
  {
   "cell_type": "code",
   "execution_count": 4,
   "metadata": {},
   "outputs": [
    {
     "data": {
      "text/plain": [
       "[{'machineId': 'P&P103',\n",
       "  'itemId': 2570,\n",
       "  'errors': 2,\n",
       "  'ts': datetime.datetime(2014, 5, 7, 6, 34, 4),\n",
       "  'status': 'Idle'},\n",
       " {'machineId': 'P&P105',\n",
       "  'itemId': 2839,\n",
       "  'errors': 5,\n",
       "  'ts': datetime.datetime(2011, 5, 22, 11, 42, 2),\n",
       "  'status': 'In Progress'}]"
      ]
     },
     "execution_count": 4,
     "metadata": {},
     "output_type": "execute_result"
    }
   ],
   "source": [
    "notdone = rdd.filter(lambda x: x.get('status') != 'Done')\n",
    "notdone.take(2)"
   ]
  },
  {
   "cell_type": "code",
   "execution_count": 5,
   "metadata": {},
   "outputs": [
    {
     "data": {
      "text/plain": [
       "[{'machineId': 'P&P103',\n",
       "  'itemId': 2570,\n",
       "  'errors': 2,\n",
       "  'ts': datetime.datetime(2014, 5, 7, 6, 34, 4),\n",
       "  'status': 'Idle'},\n",
       " {'machineId': 'P&P105',\n",
       "  'itemId': 2839,\n",
       "  'errors': 5,\n",
       "  'ts': datetime.datetime(2011, 5, 22, 11, 42, 2),\n",
       "  'status': 'In Progress'}]"
      ]
     },
     "execution_count": 5,
     "metadata": {},
     "output_type": "execute_result"
    }
   ],
   "source": [
    "timeframe = notdone.filter(lambda x: x.get('ts').month >= 1 and x.get('ts').month <= 10)\n",
    "timeframe.take(2)"
   ]
  },
  {
   "cell_type": "code",
   "execution_count": 6,
   "metadata": {},
   "outputs": [
    {
     "data": {
      "text/plain": [
       "[(0, 465), (1, 461), (2, 371), (3, 395), (4, 411), (5, 509), (6, 398)]"
      ]
     },
     "execution_count": 6,
     "metadata": {},
     "output_type": "execute_result"
    }
   ],
   "source": [
    "res = timeframe.map(lambda x: (x.get('ts').weekday(), x.get('errors'))).reduceByKey(lambda a,b: a+b)\n",
    "res.collect()"
   ]
  },
  {
   "cell_type": "code",
   "execution_count": 7,
   "metadata": {},
   "outputs": [
    {
     "data": {
      "text/plain": [
       "<BarContainer object of 7 artists>"
      ]
     },
     "execution_count": 7,
     "metadata": {},
     "output_type": "execute_result"
    },
    {
     "data": {
      "image/png": "[encoded data removed]",
      "text/plain": [
       "<Figure size 432x288 with 1 Axes>"
      ]
     },
     "metadata": {
      "needs_background": "light"
     },
     "output_type": "display_data"
    }
   ],
   "source": [
    "plt.bar(res.map(lambda x: x[0]).collect(),res.map(lambda x: x[1]).collect())"
   ]
  },
  {
   "cell_type": "code",
   "execution_count": null,
   "metadata": {},
   "outputs": [],
   "source": []
  }
 ],
 "metadata": {
  "kernelspec": {
   "display_name": "Python 3",
   "language": "python",
   "name": "python3"
  },
  "language_info": {
   "codemirror_mode": {
    "name": "ipython",
    "version": 3
   },
   "file_extension": ".py",
   "mimetype": "text/x-python",
   "name": "python",
   "nbconvert_exporter": "python",
   "pygments_lexer": "ipython3",
   "version": "3.7.4"
  }
 },
 "nbformat": 4,
 "nbformat_minor": 4
}
