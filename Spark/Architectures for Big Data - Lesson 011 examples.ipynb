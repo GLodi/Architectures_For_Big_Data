{
 "cells": [
  {
   "cell_type": "code",
   "execution_count": 1,
   "metadata": {},
   "outputs": [],
   "source": [
    "#slide Transformation – example 001\n",
    "import sys\n",
    "sys.path.append(\"/home/jovyan/work/Architectures_for_Big_Data/\")\n",
    "import pyspark\n",
    "sc = pyspark.SparkContext(\"local[3]\")"
   ]
  },
  {
   "cell_type": "code",
   "execution_count": 5,
   "metadata": {},
   "outputs": [
    {
     "data": {
      "text/plain": [
       "PythonRDD[9] at RDD at PythonRDD.scala:53"
      ]
     },
     "execution_count": 5,
     "metadata": {},
     "output_type": "execute_result"
    }
   ],
   "source": [
    "## reading from path\n",
    "import json\n",
    "path = \"./example.jsonl\"\n",
    "sc.textFile(path).map(lambda x: json.loads(x)).filter(lambda x: x.get(\"status\") in [\"wip\",\"ok\",\"on hold\"])"
   ]
  },
  {
   "cell_type": "code",
   "execution_count": 4,
   "metadata": {},
   "outputs": [
    {
     "data": {
      "text/plain": [
       "PythonRDD[6] at RDD at PythonRDD.scala:53"
      ]
     },
     "execution_count": 4,
     "metadata": {},
     "output_type": "execute_result"
    }
   ],
   "source": [
    "## from memory\n",
    "import json\n",
    "myList = {}\n",
    "sc.parallelize(myList).map(lambda x: json.loads(x)).filter(lambda x: x.get(\"status\") in [\"wip\",\"ok\",\"on hold\"])"
   ]
  },
  {
   "cell_type": "code",
   "execution_count": 6,
   "metadata": {},
   "outputs": [
    {
     "data": {
      "text/plain": [
       "ParallelCollectionRDD[10] at readRDDFromFile at PythonRDD.scala:262"
      ]
     },
     "execution_count": 6,
     "metadata": {},
     "output_type": "execute_result"
    }
   ],
   "source": [
    "## reading from path\n",
    "from random import randint\n",
    "path = \"./example.jsonl\"\n",
    "sc.parallelize([(randint(0,10),randint(0,10))])"
   ]
  }
 ],
 "metadata": {
  "kernelspec": {
   "display_name": "Python 3",
   "language": "python",
   "name": "python3"
  },
  "language_info": {
   "codemirror_mode": {
    "name": "ipython",
    "version": 3
   },
   "file_extension": ".py",
   "mimetype": "text/x-python",
   "name": "python",
   "nbconvert_exporter": "python",
   "pygments_lexer": "ipython3",
   "version": "3.8.6"
  }
 },
 "nbformat": 4,
 "nbformat_minor": 4
}
