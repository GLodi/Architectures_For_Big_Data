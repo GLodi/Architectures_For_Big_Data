{
 "cells": [
  {
   "cell_type": "markdown",
   "metadata": {},
   "source": [
    "given a list of user-track find the number of total replays and total songs listened per user "
   ]
  },
  {
   "cell_type": "code",
   "execution_count": 1,
   "metadata": {},
   "outputs": [],
   "source": [
    "import pyspark\n",
    "from random import randint, random, choice\n",
    "import matplotlib.pyplot as plt\n",
    "\n",
    "sc = pyspark.SparkContext('local[*]')"
   ]
  },
  {
   "cell_type": "code",
   "execution_count": 3,
   "metadata": {},
   "outputs": [
    {
     "data": {
      "text/plain": [
       "[{'userId': 'user_0058', 'trackId': 'track_00794'},\n",
       " {'userId': 'user_0022', 'trackId': 'track_04088'},\n",
       " {'userId': 'user_0022', 'trackId': 'track_01762'},\n",
       " {'userId': 'user_0033', 'trackId': 'track_00785'},\n",
       " {'userId': 'user_0087', 'trackId': 'track_00768'}]"
      ]
     },
     "execution_count": 3,
     "metadata": {},
     "output_type": "execute_result"
    }
   ],
   "source": [
    "from dataGenerator.rowGenerator import *\n",
    "from dataGenerator.datasetGenerator import *\n",
    "from datetime import datetime\n",
    "\n",
    "dataset = datasetGenerator()\n",
    "dataset.addGenerator(idGenerator(),prefix=\"user\",min=1,max=100,keyName=\"userId\")\n",
    "dataset.addGenerator(idGenerator(),prefix=\"track\",min=1,max=5000,keyName=\"trackId\")\n",
    "\n",
    "rdd = sc.parallelize(dataset.generateDataset(500000)).persist()\n",
    "rdd.take(5)"
   ]
  },
  {
   "cell_type": "code",
   "execution_count": 4,
   "metadata": {},
   "outputs": [
    {
     "data": {
      "text/plain": [
       "[(('user_0044', 'track_02782'), 8),\n",
       " (('user_0030', 'track_01310'), 8),\n",
       " (('user_0051', 'track_02085'), 7),\n",
       " (('user_0100', 'track_02387'), 7),\n",
       " (('user_0003', 'track_00292'), 7)]"
      ]
     },
     "execution_count": 4,
     "metadata": {},
     "output_type": "execute_result"
    }
   ],
   "source": [
    "# pattern count occurrences da joinovertimedataset\n",
    "# count occurrences of each user-track\n",
    "rdd.map(lambda x: ((x.get(\"userId\"),x.get(\"trackId\")),1)).reduceByKey(lambda a,b: a+b).top(5, lambda x: x[1])"
   ]
  },
  {
   "cell_type": "code",
   "execution_count": 5,
   "metadata": {},
   "outputs": [
    {
     "data": {
      "text/plain": [
       "[(('user_0040', 'track_02350'), 1),\n",
       " (('user_0024', 'track_01038'), 1),\n",
       " (('user_0032', 'track_03440'), 1),\n",
       " (('user_0084', 'track_00537'), 1),\n",
       " (('user_0012', 'track_03742'), 1)]"
      ]
     },
     "execution_count": 5,
     "metadata": {},
     "output_type": "execute_result"
    }
   ],
   "source": [
    "# non serve il distinct perche' STO CONTANDO LE OCCURRENCES DI (USER,TRACK), NON SOLO USER:\n",
    "rdd.map(lambda x: (x.get(\"userId\"),x.get(\"trackId\"))).distinct().map(lambda x: ((x[0],x[1]),1)).reduceByKey(lambda a,b: a+b).top(5, lambda x: x[1])"
   ]
  },
  {
   "cell_type": "code",
   "execution_count": 6,
   "metadata": {},
   "outputs": [
    {
     "data": {
      "text/plain": [
       "[('user_0041', 5272),\n",
       " ('user_0061', 5192),\n",
       " ('user_0090', 5141),\n",
       " ('user_0032', 5134),\n",
       " ('user_0020', 5106)]"
      ]
     },
     "execution_count": 6,
     "metadata": {},
     "output_type": "execute_result"
    }
   ],
   "source": [
    "# how many replays per user\n",
    "rdd.map(lambda x: (x.get(\"userId\"), 1)).reduceByKey(lambda a,b: a+b).top(5, lambda x: x[1])"
   ]
  },
  {
   "cell_type": "code",
   "execution_count": 7,
   "metadata": {},
   "outputs": [
    {
     "data": {
      "text/plain": [
       "[('user_0041', 3242),\n",
       " ('user_0032', 3232),\n",
       " ('user_0023', 3223),\n",
       " ('user_0072', 3216),\n",
       " ('user_0003', 3213)]"
      ]
     },
     "execution_count": 7,
     "metadata": {},
     "output_type": "execute_result"
    }
   ],
   "source": [
    "# how many songs per user COUNT OCCURRENCES DI SOLO USER QUINDI HA BISOGNO DI DISTINCT\n",
    "rdd.map(lambda x: (x.get(\"userId\"), x.get(\"trackId\"))).distinct().map(lambda x: (x[0],1)).reduceByKey(lambda a,b: a+b).top(5, lambda x: x[1])"
   ]
  },
  {
   "cell_type": "code",
   "execution_count": 27,
   "metadata": {},
   "outputs": [
    {
     "data": {
      "text/plain": [
       "[('track_00607', 134),\n",
       " ('track_04041', 133),\n",
       " ('track_00038', 132),\n",
       " ('track_01386', 132),\n",
       " ('track_03399', 132),\n",
       " ('track_01297', 132),\n",
       " ('track_03761', 131),\n",
       " ('track_02842', 131),\n",
       " ('track_03254', 130),\n",
       " ('track_04322', 129)]"
      ]
     },
     "execution_count": 27,
     "metadata": {},
     "output_type": "execute_result"
    }
   ],
   "source": [
    "# how many replays per song\n",
    "songreplays = rdd.map(lambda x: (x.get(\"trackId\"), 1)).reduceByKey(lambda a,b: a+b).persist()\n",
    "songreplays.top(10, lambda x: x[1])"
   ]
  },
  {
   "cell_type": "code",
   "execution_count": 45,
   "metadata": {},
   "outputs": [
    {
     "data": {
      "text/plain": [
       "[('track_05000', 1.6935483870967742),\n",
       " ('track_04999', 1.4393939393939394),\n",
       " ('track_04998', 1.6),\n",
       " ('track_04997', 1.507936507936508),\n",
       " ('track_04996', 1.5737704918032787),\n",
       " ('track_04995', 1.4912280701754386),\n",
       " ('track_04994', 1.53125),\n",
       " ('track_04993', 1.5614035087719298),\n",
       " ('track_04992', 1.576271186440678),\n",
       " ('track_04991', 1.6774193548387097)]"
      ]
     },
     "execution_count": 45,
     "metadata": {},
     "output_type": "execute_result"
    }
   ],
   "source": [
    "# on average how many replays per song\n",
    "rdd.map(lambda x: ((x.get(\"trackId\"), x.get(\"userId\")),1)).reduceByKey(lambda a,b: a+b)\\\n",
    "        .map(lambda x: (x[0][0],(x[1],1)))\\\n",
    "        .reduceByKey(lambda a,b: (a[0]+b[0], a[1]+b[1]))\\\n",
    "        .map(lambda x: (x[0], x[1][0]/x[1][1])).top(10, lambda x: x[0])"
   ]
  },
  {
   "cell_type": "code",
   "execution_count": null,
   "metadata": {},
   "outputs": [],
   "source": []
  }
 ],
 "metadata": {
  "kernelspec": {
   "display_name": "Python 3",
   "language": "python",
   "name": "python3"
  },
  "language_info": {
   "codemirror_mode": {
    "name": "ipython",
    "version": 3
   },
   "file_extension": ".py",
   "mimetype": "text/x-python",
   "name": "python",
   "nbconvert_exporter": "python",
   "pygments_lexer": "ipython3",
   "version": "3.7.4"
  }
 },
 "nbformat": 4,
 "nbformat_minor": 4
}
