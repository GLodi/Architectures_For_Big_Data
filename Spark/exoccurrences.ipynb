{
 "cells": [
  {
   "cell_type": "markdown",
   "metadata": {},
   "source": [
    "given a list of user-track find the number of total replays and total songs listened per user "
   ]
  },
  {
   "cell_type": "code",
   "execution_count": 1,
   "metadata": {},
   "outputs": [],
   "source": [
    "import pyspark\n",
    "from random import randint, random, choice\n",
    "import matplotlib.pyplot as plt\n",
    "\n",
    "sc = pyspark.SparkContext('local[*]')"
   ]
  },
  {
   "cell_type": "code",
   "execution_count": 2,
   "metadata": {},
   "outputs": [
    {
     "data": {
      "text/plain": [
       "[{'userId': 'user_0084', 'trackId': 'track_04328'},\n",
       " {'userId': 'user_0055', 'trackId': 'track_03619'},\n",
       " {'userId': 'user_0062', 'trackId': 'track_00205'},\n",
       " {'userId': 'user_0044', 'trackId': 'track_03379'},\n",
       " {'userId': 'user_0058', 'trackId': 'track_02566'}]"
      ]
     },
     "execution_count": 2,
     "metadata": {},
     "output_type": "execute_result"
    }
   ],
   "source": [
    "from dataGenerator.rowGenerator import *\n",
    "from dataGenerator.datasetGenerator import *\n",
    "from datetime import datetime\n",
    "\n",
    "dataset = datasetGenerator()\n",
    "dataset.addGenerator(idGenerator(),prefix=\"user\",min=1,max=100,keyName=\"userId\")\n",
    "dataset.addGenerator(idGenerator(),prefix=\"track\",min=1,max=5000,keyName=\"trackId\")\n",
    "\n",
    "rdd = sc.parallelize(dataset.generateDataset(250000)).persist()\n",
    "rdd.take(5)"
   ]
  },
  {
   "cell_type": "code",
   "execution_count": 10,
   "metadata": {},
   "outputs": [
    {
     "data": {
      "text/plain": [
       "[(('user_0033', 'track_02469'), 6),\n",
       " (('user_0094', 'track_04085'), 6),\n",
       " (('user_0086', 'track_00801'), 6),\n",
       " (('user_0015', 'track_02924'), 6),\n",
       " (('user_0096', 'track_04441'), 6)]"
      ]
     },
     "execution_count": 10,
     "metadata": {},
     "output_type": "execute_result"
    }
   ],
   "source": [
    "# pattern count occurrences da joinovertimedataset\n",
    "# count occurrences of each user-track\n",
    "rdd.map(lambda x: ((x.get(\"userId\"),x.get(\"trackId\")),1)).reduceByKey(lambda a,b: a+b).top(5, lambda x: x[1])"
   ]
  },
  {
   "cell_type": "code",
   "execution_count": 12,
   "metadata": {},
   "outputs": [
    {
     "data": {
      "text/plain": [
       "[(('user_0033', 'track_01029'), 1),\n",
       " (('user_0020', 'track_02254'), 1),\n",
       " (('user_0015', 'track_04030'), 1),\n",
       " (('user_0043', 'track_04407'), 1),\n",
       " (('user_0023', 'track_01637'), 1)]"
      ]
     },
     "execution_count": 12,
     "metadata": {},
     "output_type": "execute_result"
    }
   ],
   "source": [
    "# non serve il distinct perche' STO CONTANDO LE OCCURRENCES DI (USER,TRACK), NON SOLO USER:\n",
    "rdd.map(lambda x: (x.get(\"userId\"),x.get(\"trackId\"))).distinct().map(lambda x: ((x[0],x[1]),1)).reduceByKey(lambda a,b: a+b).top(5, lambda x: x[1])"
   ]
  },
  {
   "cell_type": "code",
   "execution_count": 4,
   "metadata": {},
   "outputs": [
    {
     "data": {
      "text/plain": [
       "[('user_0046', 2619),\n",
       " ('user_0061', 2607),\n",
       " ('user_0059', 2601),\n",
       " ('user_0017', 2599),\n",
       " ('user_0095', 2596)]"
      ]
     },
     "execution_count": 4,
     "metadata": {},
     "output_type": "execute_result"
    }
   ],
   "source": [
    "# how many replays per user\n",
    "rdd.map(lambda x: (x.get(\"userId\"), 1)).reduceByKey(lambda a,b: a+b).top(5, lambda x: x[1])"
   ]
  },
  {
   "cell_type": "code",
   "execution_count": 8,
   "metadata": {},
   "outputs": [
    {
     "data": {
      "text/plain": [
       "[('user_0017', 2049),\n",
       " ('user_0059', 2046),\n",
       " ('user_0061', 2046),\n",
       " ('user_0027', 2036),\n",
       " ('user_0095', 2031)]"
      ]
     },
     "execution_count": 8,
     "metadata": {},
     "output_type": "execute_result"
    }
   ],
   "source": [
    "# how many songs per user COUNTO CCURRENCES DI SOLO USER QUINDI HA BISOGNO DI DISTINCT\n",
    "rdd.map(lambda x: (x.get(\"userId\"), x.get(\"trackId\"))).distinct().map(lambda x: (x[0],1)).reduceByKey(lambda a,b: a+b).top(5, lambda x: x[1])"
   ]
  },
  {
   "cell_type": "code",
   "execution_count": null,
   "metadata": {},
   "outputs": [],
   "source": []
  }
 ],
 "metadata": {
  "kernelspec": {
   "display_name": "Python 3",
   "language": "python",
   "name": "python3"
  },
  "language_info": {
   "codemirror_mode": {
    "name": "ipython",
    "version": 3
   },
   "file_extension": ".py",
   "mimetype": "text/x-python",
   "name": "python",
   "nbconvert_exporter": "python",
   "pygments_lexer": "ipython3",
   "version": "3.7.4"
  }
 },
 "nbformat": 4,
 "nbformat_minor": 4
}
