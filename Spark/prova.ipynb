{
 "cells": [
  {
   "cell_type": "code",
   "execution_count": 1,
   "metadata": {},
   "outputs": [],
   "source": [
    "import sys\n",
    "sys.path.append(\"/home/jovyan/work/Architectures_for_Big_Data/\")\n",
    "import pyspark\n",
    "import re\n",
    "import numpy as np\n",
    "import matplotlib.pyplot as plt\n",
    "\n",
    "sc = pyspark.SparkContext(\"local[3]\")"
   ]
  },
  {
   "cell_type": "code",
   "execution_count": null,
   "metadata": {},
   "outputs": [],
   "source": [
    "from dataGenerator.rowGenerator import *\n",
    "from dataGenerator.datasetGenerator import *\n",
    "from datetime import datetime\n",
    "import numpy as np\n",
    "\n",
    "dataset = datasetGenerator()\n",
    "dataset.addGenerator(mioIdGenerator(),prefix=\"book\",min=1,max=100,keyName=\"bookId\",strategy=np.random.exponential)\n",
    "dataset.addGenerator(idGenerator(),prefix=\"token\",min=1,max=5000,keyName=\"tokenId\")\n",
    "\n",
    "bookTokens = sc.parallelize( dataset.generateDataset(250000)).persist()\n",
    "bookTokens.first()"
   ]
  },
  {
   "cell_type": "code",
   "execution_count": 7,
   "metadata": {},
   "outputs": [
    {
     "data": {
      "text/plain": [
       "['0074',\n",
       " '0079',\n",
       " '0088',\n",
       " '0001',\n",
       " '0031',\n",
       " '0045',\n",
       " '0090',\n",
       " '0007',\n",
       " '0069',\n",
       " '0043']"
      ]
     },
     "execution_count": 7,
     "metadata": {},
     "output_type": "execute_result"
    }
   ],
   "source": [
    "bookTokens.map(lambda x: x.get(\"bookId\")).map(lambda x: re.search(r'\\d+', x).group()).take(10)"
   ]
  },
  {
   "cell_type": "code",
   "execution_count": 10,
   "metadata": {},
   "outputs": [
    {
     "data": {
      "image/png": "[encoded data removed]",
      "text/plain": [
       "<Figure size 432x288 with 1 Axes>"
      ]
     },
     "metadata": {
      "needs_background": "light"
     },
     "output_type": "display_data"
    }
   ],
   "source": [
    "x = bookTokens.map(lambda x: x.get(\"bookId\")).map(lambda x: re.search(r'\\d+', x).group()).take(25000)\n",
    "plt.hist(x, bins=100)\n",
    "plt.show()"
   ]
  },
  {
   "cell_type": "code",
   "execution_count": 10,
   "metadata": {},
   "outputs": [
    {
     "data": {
      "text/plain": [
       "0"
      ]
     },
     "execution_count": 10,
     "metadata": {},
     "output_type": "execute_result"
    }
   ],
   "source": [
    "np.random.randint(0,10)"
   ]
  },
  {
   "cell_type": "code",
   "execution_count": 20,
   "metadata": {},
   "outputs": [
    {
     "data": {
      "text/plain": [
       "-0.5152908234972657"
      ]
     },
     "execution_count": 20,
     "metadata": {},
     "output_type": "execute_result"
    }
   ],
   "source": [
    "np.random.normal(0, 2, 1)[0]"
   ]
  },
  {
   "cell_type": "code",
   "execution_count": null,
   "metadata": {},
   "outputs": [],
   "source": []
  }
 ],
 "metadata": {
  "kernelspec": {
   "display_name": "Python 3",
   "language": "python",
   "name": "python3"
  },
  "language_info": {
   "codemirror_mode": {
    "name": "ipython",
    "version": 3
   },
   "file_extension": ".py",
   "mimetype": "text/x-python",
   "name": "python",
   "nbconvert_exporter": "python",
   "pygments_lexer": "ipython3",
   "version": "3.8.6"
  }
 },
 "nbformat": 4,
 "nbformat_minor": 4
}
