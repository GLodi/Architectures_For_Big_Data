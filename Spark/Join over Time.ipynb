{
 "cells": [
  {
   "cell_type": "code",
   "execution_count": null,
   "metadata": {},
   "outputs": [],
   "source": [
    "import pyspark\n",
    "sc = pyspark.SparkContext('local[*]')\n",
    "\n",
    "sc.parallelize(range(100)).count()"
   ]
  },
  {
   "cell_type": "code",
   "execution_count": null,
   "metadata": {},
   "outputs": [],
   "source": [
    "def joinOverTimeCondition(val1,val2):\n",
    "if val1[0]<timedelta(0) and val2[0]>timedelta(0):\n",
    "  return val2\n",
    "elif val2[0]<timedelta(0) and val1[0]>timedelta(0):\n",
    "  return val1\n",
    "else:\n",
    "  return val1 if val1[0]<val2[0] else val2\n",
    "\n",
    "def merger(x):\n",
    "    newDic = {}\n",
    "    for key in x[0]:\n",
    "      newDic[key] = x[0][key]\n",
    "    for key in x[1]:\n",
    "      if key in newDic:\n",
    "          if x[1][key] == newDic[key]:\n",
    "            continue\n",
    "          newDic[key+\"_2\"] = x[1][key]\n",
    "      else:\n",
    "         newDic[key] = x[1][key]\n",
    "    return newDic\n",
    "      \n",
    "obj1Key = [\"lineId\",\"itemId\"]\n",
    "obj2Key =  [\"lineId\",\"lineName\"]\n",
    "\n",
    "joinKeyListObj1 = [\"lineId\"]\n",
    "joinKeyListObj2 =  [\"lineId\"]\n",
    "\n",
    "tsKey1 = \"ts\"\n",
    "tsKey2 = \"date\"\n",
    "\n",
    "rdd1.map(lambda x: (tuple([x.get(key) for key in joinKeyListObj1]),x))\\\n",
    "          .join(Obj2.data.map(lambda x: (tuple([x.get(key) for key in joinKeyListObj2]),x)))\\\n",
    "          .map(lambda x:  (tuple([(key,x[1][0].get(key)) for key in joinKeyListObj1]+[(key,x[1][1].get(key)) \n",
    "                                                                                      for key in joinKeyListObj2]),\n",
    "                           (x[1][1].get(tsKey1)-x[1][0].get(tsKey2),x))).reduceByKey(lambda x,y: joinOverTimeCondition(x,y))\\\n",
    "          .map(lambda x: merger(x[1][1][1]))"
   ]
  }
 ],
 "metadata": {
  "kernelspec": {
   "display_name": "Python 3",
   "language": "python",
   "name": "python3"
  },
  "language_info": {
   "codemirror_mode": {
    "name": "ipython",
    "version": 3
   },
   "file_extension": ".py",
   "mimetype": "text/x-python",
   "name": "python",
   "nbconvert_exporter": "python",
   "pygments_lexer": "ipython3",
   "version": "3.8.6"
  }
 },
 "nbformat": 4,
 "nbformat_minor": 4
}
