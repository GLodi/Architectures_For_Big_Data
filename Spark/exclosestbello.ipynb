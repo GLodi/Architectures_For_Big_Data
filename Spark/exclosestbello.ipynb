{
 "cells": [
  {
   "cell_type": "code",
   "execution_count": 1,
   "metadata": {},
   "outputs": [],
   "source": [
    "import pyspark\n",
    "from random import randint, random, choice\n",
    "import matplotlib.pyplot as plt\n",
    "\n",
    "sc = pyspark.SparkContext('local[*]')"
   ]
  },
  {
   "cell_type": "code",
   "execution_count": 4,
   "metadata": {},
   "outputs": [],
   "source": [
    "from dataGenerator.rowGenerator import *\n",
    "from dataGenerator.datasetGenerator import *\n",
    "from datetime import datetime\n",
    "\n",
    "dataset = datasetGenerator()\n",
    "dataset.addGenerator(intGenerator(),min=1,max=10,keyName=\"lineId\")\n",
    "dataset.addGenerator(intGenerator(),min=1,max=100,keyName=\"itemId\")\n",
    "dataset.addGenerator(dateGenerator(),keyName=\"ts\")\n",
    "\n",
    "rdd = sc.parallelize(dataset.generateDataset(25000)).persist()"
   ]
  },
  {
   "cell_type": "code",
   "execution_count": 5,
   "metadata": {},
   "outputs": [
    {
     "data": {
      "text/plain": [
       "[{'lineId': 10,\n",
       "  'itemId': 18,\n",
       "  'ts': datetime.datetime(2010, 11, 19, 23, 37, 4)},\n",
       " {'lineId': 8,\n",
       "  'itemId': 43,\n",
       "  'ts': datetime.datetime(2013, 12, 17, 20, 48, 30)},\n",
       " {'lineId': 7, 'itemId': 84, 'ts': datetime.datetime(2010, 6, 3, 19, 5, 3)},\n",
       " {'lineId': 2, 'itemId': 98, 'ts': datetime.datetime(2011, 3, 28, 12, 39, 59)},\n",
       " {'lineId': 7, 'itemId': 75, 'ts': datetime.datetime(2019, 12, 7, 6, 13, 27)}]"
      ]
     },
     "execution_count": 5,
     "metadata": {},
     "output_type": "execute_result"
    }
   ],
   "source": [
    "rdd.take(5)"
   ]
  },
  {
   "cell_type": "code",
   "execution_count": 7,
   "metadata": {},
   "outputs": [
    {
     "data": {
      "text/plain": [
       "[((10, 18), datetime.datetime(2010, 11, 19, 23, 37, 4)),\n",
       " ((8, 43), datetime.datetime(2013, 12, 17, 20, 48, 30)),\n",
       " ((7, 84), datetime.datetime(2010, 6, 3, 19, 5, 3)),\n",
       " ((2, 98), datetime.datetime(2011, 3, 28, 12, 39, 59)),\n",
       " ((7, 75), datetime.datetime(2019, 12, 7, 6, 13, 27))]"
      ]
     },
     "execution_count": 7,
     "metadata": {},
     "output_type": "execute_result"
    }
   ],
   "source": [
    "tojoin = rdd.map(lambda x: ((x.get('lineId'), x.get('itemId')), x.get('ts')))\n",
    "tojoin.take(5)"
   ]
  },
  {
   "cell_type": "code",
   "execution_count": 8,
   "metadata": {},
   "outputs": [
    {
     "data": {
      "text/plain": [
       "[((5, 25),\n",
       "  (datetime.datetime(2018, 4, 15, 15, 42, 39),\n",
       "   datetime.datetime(2018, 4, 15, 15, 42, 39))),\n",
       " ((5, 25),\n",
       "  (datetime.datetime(2018, 4, 15, 15, 42, 39),\n",
       "   datetime.datetime(2012, 11, 5, 23, 58, 42))),\n",
       " ((5, 25),\n",
       "  (datetime.datetime(2018, 4, 15, 15, 42, 39),\n",
       "   datetime.datetime(2011, 5, 18, 10, 27, 49))),\n",
       " ((5, 25),\n",
       "  (datetime.datetime(2018, 4, 15, 15, 42, 39),\n",
       "   datetime.datetime(2011, 7, 15, 11, 40, 11))),\n",
       " ((5, 25),\n",
       "  (datetime.datetime(2018, 4, 15, 15, 42, 39),\n",
       "   datetime.datetime(2015, 8, 20, 21, 57, 19)))]"
      ]
     },
     "execution_count": 8,
     "metadata": {},
     "output_type": "execute_result"
    }
   ],
   "source": [
    "joined = tojoin.join(tojoin)\n",
    "joined.take(5)"
   ]
  },
  {
   "cell_type": "code",
   "execution_count": 10,
   "metadata": {},
   "outputs": [
    {
     "data": {
      "text/plain": [
       "[((5, 25),\n",
       "  (datetime.datetime(2018, 4, 15, 15, 42, 39),\n",
       "   datetime.datetime(2018, 5, 19, 18, 12, 27))),\n",
       " ((5, 25),\n",
       "  (datetime.datetime(2018, 4, 15, 15, 42, 39),\n",
       "   datetime.datetime(2019, 3, 27, 6, 39, 4))),\n",
       " ((5, 25),\n",
       "  (datetime.datetime(2018, 4, 15, 15, 42, 39),\n",
       "   datetime.datetime(2019, 6, 14, 16, 13, 38))),\n",
       " ((5, 25),\n",
       "  (datetime.datetime(2018, 4, 15, 15, 42, 39),\n",
       "   datetime.datetime(2020, 1, 20, 19, 54, 15))),\n",
       " ((5, 25),\n",
       "  (datetime.datetime(2018, 4, 15, 15, 42, 39),\n",
       "   datetime.datetime(2021, 4, 13, 17, 56, 3)))]"
      ]
     },
     "execution_count": 10,
     "metadata": {},
     "output_type": "execute_result"
    }
   ],
   "source": [
    "filtered = joined.filter(lambda x: x[1][0] < x[1][1])\n",
    "filtered.take(5)"
   ]
  },
  {
   "cell_type": "code",
   "execution_count": 14,
   "metadata": {},
   "outputs": [
    {
     "data": {
      "text/plain": [
       "[((5, 25, datetime.datetime(2018, 4, 15, 15, 42, 39)),\n",
       "  (datetime.datetime(2018, 4, 15, 15, 42, 39),\n",
       "   datetime.datetime(2018, 5, 19, 18, 12, 27),\n",
       "   datetime.timedelta(days=34, seconds=8988))),\n",
       " ((5, 25, datetime.datetime(2018, 4, 15, 15, 42, 39)),\n",
       "  (datetime.datetime(2018, 4, 15, 15, 42, 39),\n",
       "   datetime.datetime(2019, 3, 27, 6, 39, 4),\n",
       "   datetime.timedelta(days=345, seconds=53785))),\n",
       " ((5, 25, datetime.datetime(2018, 4, 15, 15, 42, 39)),\n",
       "  (datetime.datetime(2018, 4, 15, 15, 42, 39),\n",
       "   datetime.datetime(2019, 6, 14, 16, 13, 38),\n",
       "   datetime.timedelta(days=425, seconds=1859))),\n",
       " ((5, 25, datetime.datetime(2018, 4, 15, 15, 42, 39)),\n",
       "  (datetime.datetime(2018, 4, 15, 15, 42, 39),\n",
       "   datetime.datetime(2020, 1, 20, 19, 54, 15),\n",
       "   datetime.timedelta(days=645, seconds=15096))),\n",
       " ((5, 25, datetime.datetime(2018, 4, 15, 15, 42, 39)),\n",
       "  (datetime.datetime(2018, 4, 15, 15, 42, 39),\n",
       "   datetime.datetime(2021, 4, 13, 17, 56, 3),\n",
       "   datetime.timedelta(days=1094, seconds=8004)))]"
      ]
     },
     "execution_count": 14,
     "metadata": {},
     "output_type": "execute_result"
    }
   ],
   "source": [
    "diff = filtered.map(lambda x: ((x[0][0],x[0][1],x[1][0]), (x[1][0], x[1][1], x[1][1]-x[1][0])))\n",
    "diff.take(5)"
   ]
  },
  {
   "cell_type": "code",
   "execution_count": 15,
   "metadata": {},
   "outputs": [
    {
     "data": {
      "text/plain": [
       "[((5, 25, datetime.datetime(2010, 11, 23, 20, 0, 4)),\n",
       "  (datetime.datetime(2010, 11, 23, 20, 0, 4),\n",
       "   datetime.datetime(2010, 11, 25, 10, 59, 56),\n",
       "   datetime.timedelta(days=1, seconds=53992))),\n",
       " ((3, 55, datetime.datetime(2014, 9, 29, 23, 43, 29)),\n",
       "  (datetime.datetime(2014, 9, 29, 23, 43, 29),\n",
       "   datetime.datetime(2014, 12, 1, 2, 38, 17),\n",
       "   datetime.timedelta(days=62, seconds=10488))),\n",
       " ((6, 36, datetime.datetime(2018, 11, 24, 20, 40, 41)),\n",
       "  (datetime.datetime(2018, 11, 24, 20, 40, 41),\n",
       "   datetime.datetime(2018, 12, 20, 1, 48, 42),\n",
       "   datetime.timedelta(days=25, seconds=18481))),\n",
       " ((6, 36, datetime.datetime(2016, 2, 18, 9, 20, 33)),\n",
       "  (datetime.datetime(2016, 2, 18, 9, 20, 33),\n",
       "   datetime.datetime(2017, 3, 8, 0, 53, 8),\n",
       "   datetime.timedelta(days=383, seconds=55955))),\n",
       " ((6, 36, datetime.datetime(2013, 8, 31, 14, 27, 20)),\n",
       "  (datetime.datetime(2013, 8, 31, 14, 27, 20),\n",
       "   datetime.datetime(2013, 9, 16, 19, 57, 18),\n",
       "   datetime.timedelta(days=16, seconds=19798)))]"
      ]
     },
     "execution_count": 15,
     "metadata": {},
     "output_type": "execute_result"
    }
   ],
   "source": [
    "reduced = diff.reduceByKey(lambda a,b: a if a[2] < b[2] else b)\n",
    "reduced.take(5)"
   ]
  },
  {
   "cell_type": "code",
   "execution_count": null,
   "metadata": {},
   "outputs": [],
   "source": []
  }
 ],
 "metadata": {
  "kernelspec": {
   "display_name": "Python 3",
   "language": "python",
   "name": "python3"
  },
  "language_info": {
   "codemirror_mode": {
    "name": "ipython",
    "version": 3
   },
   "file_extension": ".py",
   "mimetype": "text/x-python",
   "name": "python",
   "nbconvert_exporter": "python",
   "pygments_lexer": "ipython3",
   "version": "3.7.4"
  }
 },
 "nbformat": 4,
 "nbformat_minor": 4
}
