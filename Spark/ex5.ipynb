{
 "cells": [
  {
   "cell_type": "code",
   "execution_count": 1,
   "metadata": {},
   "outputs": [],
   "source": [
    "import pyspark\n",
    "from random import randint, random, choice\n",
    "import matplotlib.pyplot as plt\n",
    "\n",
    "sc = pyspark.SparkContext('local[*]')"
   ]
  },
  {
   "cell_type": "code",
   "execution_count": 9,
   "metadata": {},
   "outputs": [],
   "source": [
    "from dataGenerator.rowGenerator import *\n",
    "from dataGenerator.datasetGenerator import *\n",
    "from datetime import datetime\n",
    "\n",
    "dataset = datasetGenerator()\n",
    "dataset.addGenerator(intGenerator(),min=1,max=1000,keyName=\"userId\")\n",
    "dataset.addGenerator(intGenerator(),min=1,max=10000,keyName=\"songId\")\n",
    "dataset.addGenerator(dateGenerator(),startDate=datetime(2021,3,1),keyName=\"ts\")\n",
    "\n",
    "rdd = sc.parallelize(dataset.generateDataset(1000000)).persist()"
   ]
  },
  {
   "cell_type": "code",
   "execution_count": 10,
   "metadata": {},
   "outputs": [
    {
     "data": {
      "text/plain": [
       "(697, 8332, datetime.date(2021, 3, 27))"
      ]
     },
     "execution_count": 10,
     "metadata": {},
     "output_type": "execute_result"
    }
   ],
   "source": [
    "rdd = rdd.map(lambda x: (x.get('userId'), x.get('songId'), x.get('ts').date()))\n",
    "rdd.first()"
   ]
  },
  {
   "cell_type": "code",
   "execution_count": 12,
   "metadata": {},
   "outputs": [
    {
     "data": {
      "text/plain": [
       "[((410, datetime.date(2021, 3, 16)), 54),\n",
       " ((251, datetime.date(2021, 3, 3)), 53),\n",
       " ((483, datetime.date(2021, 4, 4)), 49),\n",
       " ((825, datetime.date(2021, 3, 9)), 49),\n",
       " ((776, datetime.date(2021, 3, 9)), 48)]"
      ]
     },
     "execution_count": 12,
     "metadata": {},
     "output_type": "execute_result"
    }
   ],
   "source": [
    "replaysperdayperuser = rdd.map(lambda x: ((x[0], x[2]), 1)).reduceByKey(lambda a,b: a+b)\n",
    "replaysperdayperuser.top(5, lambda x: x[1])"
   ]
  },
  {
   "cell_type": "code",
   "execution_count": 18,
   "metadata": {},
   "outputs": [
    {
     "data": {
      "text/plain": [
       "[((410, datetime.date(2021, 3, 16)), 54),\n",
       " ((251, datetime.date(2021, 3, 3)), 53),\n",
       " ((483, datetime.date(2021, 4, 4)), 49),\n",
       " ((825, datetime.date(2021, 3, 9)), 49),\n",
       " ((776, datetime.date(2021, 3, 9)), 48)]"
      ]
     },
     "execution_count": 18,
     "metadata": {},
     "output_type": "execute_result"
    }
   ],
   "source": [
    "userover30 = replaysperdayperuser.filter(lambda x: x[1] > 30)\n",
    "userover30.top(5, lambda x: x[1])"
   ]
  },
  {
   "cell_type": "code",
   "execution_count": 35,
   "metadata": {},
   "outputs": [
    {
     "data": {
      "text/plain": [
       "11398"
      ]
     },
     "execution_count": 35,
     "metadata": {},
     "output_type": "execute_result"
    }
   ],
   "source": [
    "totLength = userover30.count()\n",
    "totLength"
   ]
  },
  {
   "cell_type": "code",
   "execution_count": 36,
   "metadata": {},
   "outputs": [
    {
     "data": {
      "text/plain": [
       "[((410, datetime.date(2021, 3, 16)), 54),\n",
       " ((251, datetime.date(2021, 3, 3)), 53),\n",
       " ((483, datetime.date(2021, 4, 4)), 49),\n",
       " ((825, datetime.date(2021, 3, 9)), 49),\n",
       " ((776, datetime.date(2021, 3, 9)), 48)]"
      ]
     },
     "execution_count": 36,
     "metadata": {},
     "output_type": "execute_result"
    }
   ],
   "source": [
    "userover30 = userover30.sortBy(lambda x: 1/x[1])\n",
    "userover30.take(5)"
   ]
  },
  {
   "cell_type": "code",
   "execution_count": null,
   "metadata": {},
   "outputs": [],
   "source": []
  }
 ],
 "metadata": {
  "kernelspec": {
   "display_name": "Python 3",
   "language": "python",
   "name": "python3"
  },
  "language_info": {
   "codemirror_mode": {
    "name": "ipython",
    "version": 3
   },
   "file_extension": ".py",
   "mimetype": "text/x-python",
   "name": "python",
   "nbconvert_exporter": "python",
   "pygments_lexer": "ipython3",
   "version": "3.7.4"
  }
 },
 "nbformat": 4,
 "nbformat_minor": 4
}
