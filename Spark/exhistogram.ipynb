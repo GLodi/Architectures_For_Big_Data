{
 "cells": [
  {
   "cell_type": "code",
   "execution_count": 1,
   "metadata": {},
   "outputs": [],
   "source": [
    "# NON MOLTO INTUITIVO, RIPASSALO\n",
    "import pyspark\n",
    "from random import randint, random, choice\n",
    "import matplotlib.pyplot as plt\n",
    "\n",
    "sc = pyspark.SparkContext('local[*]')"
   ]
  },
  {
   "cell_type": "code",
   "execution_count": 10,
   "metadata": {},
   "outputs": [],
   "source": [
    "from dataGenerator.rowGenerator import *\n",
    "from dataGenerator.datasetGenerator import *\n",
    "from datetime import datetime\n",
    "\n",
    "dataset = datasetGenerator()\n",
    "dataset.addGenerator(intGenerator(),min=1,max=100,keyName=\"bookId\")\n",
    "dataset.addGenerator(intGenerator(),min=1,max=1000,keyName=\"tokenId\")\n",
    "\n",
    "rdd = sc.parallelize(dataset.generateDataset(100000)).persist()"
   ]
  },
  {
   "cell_type": "code",
   "execution_count": 11,
   "metadata": {},
   "outputs": [
    {
     "data": {
      "text/plain": [
       "{'bookId': 31, 'tokenId': 913}"
      ]
     },
     "execution_count": 11,
     "metadata": {},
     "output_type": "execute_result"
    }
   ],
   "source": [
    "rdd.first()"
   ]
  },
  {
   "cell_type": "code",
   "execution_count": 12,
   "metadata": {},
   "outputs": [
    {
     "data": {
      "text/plain": [
       "[((62, 940), 7),\n",
       " ((65, 86), 7),\n",
       " ((42, 402), 7),\n",
       " ((9, 283), 7),\n",
       " ((48, 290), 6),\n",
       " ((93, 93), 6),\n",
       " ((11, 895), 6),\n",
       " ((86, 848), 6),\n",
       " ((7, 923), 6),\n",
       " ((62, 48), 6)]"
      ]
     },
     "execution_count": 12,
     "metadata": {},
     "output_type": "execute_result"
    }
   ],
   "source": [
    "# calcola la term frequency dei token rispetto ai book (quanti libri hanno un solo token? quanti 2? ecc)\n",
    "reduced = rdd.map(lambda x: ((x.get('bookId'), x.get(\"tokenId\")), 1)).reduceByKey(lambda a,b: a+b)\n",
    "reduced.top(10, lambda x: x[1])"
   ]
  },
  {
   "cell_type": "code",
   "execution_count": 22,
   "metadata": {},
   "outputs": [
    {
     "data": {
      "text/plain": [
       "[(1, 36810), (2, 18133), (3, 6295), (4, 1549), (5, 279), (6, 70), (7, 4)]"
      ]
     },
     "execution_count": 22,
     "metadata": {},
     "output_type": "execute_result"
    }
   ],
   "source": [
    "# essenzialmente una count frequency sulla quantita' di prima\n",
    "res = reduced.map(lambda x: (x[1], 1)).reduceByKey(lambda a,b: a+b)\n",
    "res.top(10, lambda x: x[1])"
   ]
  },
  {
   "cell_type": "code",
   "execution_count": 23,
   "metadata": {},
   "outputs": [
    {
     "data": {
      "text/plain": [
       "<BarContainer object of 7 artists>"
      ]
     },
     "execution_count": 23,
     "metadata": {},
     "output_type": "execute_result"
    },
    {
     "data": {
      "image/png": "[encoded data removed]",
      "text/plain": [
       "<Figure size 432x288 with 1 Axes>"
      ]
     },
     "metadata": {
      "needs_background": "light"
     },
     "output_type": "display_data"
    }
   ],
   "source": [
    "plt.bar(res.map(lambda x: x[0]).collect(), res.map(lambda x: x[1]).collect())"
   ]
  },
  {
   "cell_type": "code",
   "execution_count": null,
   "metadata": {},
   "outputs": [],
   "source": []
  }
 ],
 "metadata": {
  "kernelspec": {
   "display_name": "Python 3",
   "language": "python",
   "name": "python3"
  },
  "language_info": {
   "codemirror_mode": {
    "name": "ipython",
    "version": 3
   },
   "file_extension": ".py",
   "mimetype": "text/x-python",
   "name": "python",
   "nbconvert_exporter": "python",
   "pygments_lexer": "ipython3",
   "version": "3.7.4"
  }
 },
 "nbformat": 4,
 "nbformat_minor": 4
}
