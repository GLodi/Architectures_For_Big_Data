{
 "cells": [
  {
   "cell_type": "code",
   "execution_count": 1,
   "metadata": {},
   "outputs": [],
   "source": [
    "import sys\n",
    "sys.path.append(\"/home/jovyan/work/Architectures_for_Big_Data/\")\n",
    "import pyspark\n",
    "sc = pyspark.SparkContext(\"local[3]\")"
   ]
  },
  {
   "cell_type": "code",
   "execution_count": 27,
   "metadata": {},
   "outputs": [],
   "source": [
    "from dataGenerator.rowGenerator import *\n",
    "from dataGenerator.datasetGenerator import *\n",
    "from datetime import datetime\n",
    "\n",
    "dataset = datasetGenerator()\n",
    "dataset.addGenerator(intGenerator(),min=1,max=500,keyName=\"referenceId\")\n",
    "dataset.addGenerator(intGenerator(),min=1,max=5000,keyName=\"itemId\")\n",
    "dataset.addGenerator(dateGenerator(),min=1,max=10,keyName=\"ts\")\n",
    "\n",
    "activities = sc.parallelize(dataset.generateDataset(100000)).persist()\n",
    "\n",
    "dataset2 = datasetGenerator()\n",
    "dataset2.addGenerator(intGenerator(),min=1,max=500,keyName=\"referenceId\")\n",
    "dataset2.addGenerator(randomFromListGenerator(),list=['P&P103','P&P104','P&P105'],keyName=\"machineId\")\n",
    "dataset2.addGenerator(randomFromListGenerator(),list=['SMT24','SMT25','SMT26','SMT27'],keyName=\"lineId\")\n",
    "dataset2.addGenerator(randomFromListGenerator(),list=['In Progress', 'Idle','Done'],keyName=\"status\")\n",
    "\n",
    "lines = sc.parallelize(dataset2.generateDataset(1000)).persist()"
   ]
  },
  {
   "cell_type": "code",
   "execution_count": 28,
   "metadata": {},
   "outputs": [
    {
     "data": {
      "text/plain": [
       "(351, (886, datetime.datetime(2014, 1, 18, 2, 22, 9)))"
      ]
     },
     "execution_count": 28,
     "metadata": {},
     "output_type": "execute_result"
    }
   ],
   "source": [
    "activities = activities.map(lambda x: (x.get('referenceId'),(x.get('itemId'), x.get('ts'))))\n",
    "activities.first()"
   ]
  },
  {
   "cell_type": "code",
   "execution_count": 29,
   "metadata": {},
   "outputs": [
    {
     "data": {
      "text/plain": [
       "(164, 'SMT24')"
      ]
     },
     "execution_count": 29,
     "metadata": {},
     "output_type": "execute_result"
    }
   ],
   "source": [
    "# just to get only unique values\n",
    "dist = lines.map(lambda x: ((x.get('machineId'), x.get('lineId')), x)).reduceByKey(lambda a,b: a)\\\n",
    "    .map(lambda x: x[1])\\\n",
    "    .filter(lambda x: x.get('lineId') == 'SMT24' or x.get('lineId') == 'SMT25')\\\n",
    "    .filter(lambda x: x.get('status') != 'Done')\\\n",
    "    .map(lambda x: (x.get('referenceId'),(x.get('lineId'))))\n",
    "dist.first()"
   ]
  },
  {
   "cell_type": "code",
   "execution_count": 30,
   "metadata": {},
   "outputs": [
    {
     "data": {
      "text/plain": [
       "('SMT25', 920, datetime.datetime(2017, 11, 29, 11, 20, 22))"
      ]
     },
     "execution_count": 30,
     "metadata": {},
     "output_type": "execute_result"
    }
   ],
   "source": [
    "# count the number of pieces done per line\n",
    "# (lineId, amountOfPieces)\n",
    "\n",
    "afterjoin = dist.join(activities).map(lambda x: (x[1][0], x[1][1][0], x[1][1][1]))\n",
    "afterjoin.first()"
   ]
  },
  {
   "cell_type": "code",
   "execution_count": 31,
   "metadata": {},
   "outputs": [
    {
     "data": {
      "text/plain": [
       "[('SMT25', 604), ('SMT24', 584)]"
      ]
     },
     "execution_count": 31,
     "metadata": {},
     "output_type": "execute_result"
    }
   ],
   "source": [
    "perline = afterjoin.map(lambda x: (x[0], 1)).reduceByKey(lambda a,b: a+b)\n",
    "perline.top(5, lambda x: x[1])"
   ]
  },
  {
   "cell_type": "code",
   "execution_count": 38,
   "metadata": {},
   "outputs": [
    {
     "data": {
      "text/plain": [
       "[(0, 195), (6, 176), (1, 175), (2, 160), (3, 151), (4, 184), (5, 147)]"
      ]
     },
     "execution_count": 38,
     "metadata": {},
     "output_type": "execute_result"
    }
   ],
   "source": [
    "perday = afterjoin.map(lambda x: (x[2].weekday(),1)).reduceByKey(lambda a,b: a+b)\n",
    "perday.collect()"
   ]
  },
  {
   "cell_type": "code",
   "execution_count": 39,
   "metadata": {},
   "outputs": [
    {
     "data": {
      "text/plain": [
       "[(('SMT25', 2), 86),\n",
       " (('SMT24', 2), 74),\n",
       " (('SMT25', 5), 82),\n",
       " (('SMT24', 5), 65),\n",
       " (('SMT25', 4), 94),\n",
       " (('SMT24', 6), 76),\n",
       " (('SMT24', 0), 100),\n",
       " (('SMT25', 3), 72),\n",
       " (('SMT25', 1), 75),\n",
       " (('SMT25', 0), 95),\n",
       " (('SMT25', 6), 100),\n",
       " (('SMT24', 4), 90),\n",
       " (('SMT24', 3), 79),\n",
       " (('SMT24', 1), 100)]"
      ]
     },
     "execution_count": 39,
     "metadata": {},
     "output_type": "execute_result"
    }
   ],
   "source": [
    "perlineday = afterjoin.map(lambda x: ((x[0], x[2].weekday()), 1)).reduceByKey(lambda a,b: a+b)\n",
    "perlineday.collect()"
   ]
  },
  {
   "cell_type": "code",
   "execution_count": null,
   "metadata": {},
   "outputs": [],
   "source": []
  }
 ],
 "metadata": {
  "kernelspec": {
   "display_name": "Python 3",
   "language": "python",
   "name": "python3"
  },
  "language_info": {
   "codemirror_mode": {
    "name": "ipython",
    "version": 3
   },
   "file_extension": ".py",
   "mimetype": "text/x-python",
   "name": "python",
   "nbconvert_exporter": "python",
   "pygments_lexer": "ipython3",
   "version": "3.7.4"
  }
 },
 "nbformat": 4,
 "nbformat_minor": 4
}
