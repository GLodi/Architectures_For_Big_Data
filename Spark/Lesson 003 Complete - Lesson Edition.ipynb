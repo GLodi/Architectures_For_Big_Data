{
 "cells": [
  {
   "cell_type": "markdown",
   "metadata": {},
   "source": [
    "VISTO LEZ 13"
   ]
  },
  {
   "cell_type": "code",
   "execution_count": 1,
   "metadata": {},
   "outputs": [],
   "source": [
    "#remember to clone https://github.com/brcondor/Architectures_for_Big_Data into '/home/jovyan/work/'\n",
    "import sys\n",
    "sys.path.append(\"/home/jovyan/work/Architectures_for_Big_Data/\")\n",
    "import pyspark\n",
    "sc = pyspark.SparkContext(\"local[3]\")"
   ]
  },
  {
   "cell_type": "code",
   "execution_count": 2,
   "metadata": {},
   "outputs": [
    {
     "data": {
      "text/plain": [
       "{'bookId': 'book_0085', 'tokenId': 'token_04952'}"
      ]
     },
     "execution_count": 2,
     "metadata": {},
     "output_type": "execute_result"
    }
   ],
   "source": [
    "from dataGenerator.rowGenerator import *\n",
    "from dataGenerator.datasetGenerator import *\n",
    "from datetime import datetime\n",
    "\n",
    "dataset = datasetGenerator()\n",
    "dataset.addGenerator(idGenerator(),prefix=\"book\",min=1,max=100,keyName=\"bookId\")\n",
    "dataset.addGenerator(idGenerator(),prefix=\"token\",min=1,max=5000,keyName=\"tokenId\")\n",
    "\n",
    "bookTokens = sc.parallelize( dataset.generateDataset(250000)).persist()\n",
    "bookTokens.first()"
   ]
  },
  {
   "cell_type": "markdown",
   "metadata": {},
   "source": [
    "# Black Belt Histogram (= how a professional would build it)"
   ]
  },
  {
   "cell_type": "code",
   "execution_count": 3,
   "metadata": {},
   "outputs": [
    {
     "data": {
      "text/plain": [
       "196671"
      ]
     },
     "execution_count": 3,
     "metadata": {},
     "output_type": "execute_result"
    }
   ],
   "source": [
    "## Compute the term frequency for each token w.r.t. each book\n",
    "bookTermFrequency = bookTokens.map(lambda x: ((x.get(\"bookId\"),x.get(\"tokenId\")),1)).reduceByKey(lambda x,y: x+y)\\\n",
    "                    .map(lambda x: {\"bookId\":x[0][0],\"tokenId\":x[0][1], \"termFrequency\":x[1]} ).persist()\n",
    "bookTermFrequency.count()"
   ]
  },
  {
   "cell_type": "code",
   "execution_count": 6,
   "metadata": {},
   "outputs": [
    {
     "data": {
      "text/plain": [
       "[{'bookId': 'book_0044', 'tokenId': 'token_04756', 'termFrequency': 1},\n",
       " {'bookId': 'book_0053', 'tokenId': 'token_02191', 'termFrequency': 1},\n",
       " {'bookId': 'book_0077', 'tokenId': 'token_02646', 'termFrequency': 2},\n",
       " {'bookId': 'book_0080', 'tokenId': 'token_04884', 'termFrequency': 2},\n",
       " {'bookId': 'book_0038', 'tokenId': 'token_02960', 'termFrequency': 1}]"
      ]
     },
     "execution_count": 6,
     "metadata": {},
     "output_type": "execute_result"
    }
   ],
   "source": [
    "bookTermFrequency.take(5)"
   ]
  },
  {
   "cell_type": "code",
   "execution_count": 13,
   "metadata": {},
   "outputs": [
    {
     "data": {
      "text/plain": [
       "[(1, 151564), (2, 37868), (3, 6346), (4, 810), (5, 77), (6, 5), (7, 1)]"
      ]
     },
     "execution_count": 13,
     "metadata": {},
     "output_type": "execute_result"
    }
   ],
   "source": [
    "## Compute the hist for token frequencies\n",
    "btfRes = bookTermFrequency.map(lambda x: (x.get(\"termFrequency\"),1)).reduceByKey(lambda x,y: x+y)\n",
    "btfRes.top(15,key=lambda x: x[1])\n",
    "# as you can see, most of them appear only once, which is reasonable cuz of sparse dataset"
   ]
  },
  {
   "cell_type": "code",
   "execution_count": 12,
   "metadata": {},
   "outputs": [
    {
     "data": {
      "text/plain": [
       "<BarContainer object of 7 artists>"
      ]
     },
     "execution_count": 12,
     "metadata": {},
     "output_type": "execute_result"
    },
    {
     "data": {
      "image/png": "[encoded data removed]",
      "text/plain": [
       "<Figure size 432x288 with 1 Axes>"
      ]
     },
     "metadata": {
      "needs_background": "light"
     },
     "output_type": "display_data"
    }
   ],
   "source": [
    "import matplotlib.pyplot as plt\n",
    "\n",
    "plt.bar(btfRes.map(lambda x: x[0]).collect(), btfRes.map(lambda x: x[1]).collect())"
   ]
  },
  {
   "cell_type": "markdown",
   "metadata": {},
   "source": [
    "# TF-IDF \n",
    "## Reading from a CDC Master table"
   ]
  },
  {
   "cell_type": "code",
   "execution_count": 5,
   "metadata": {},
   "outputs": [
    {
     "data": {
      "text/plain": [
       "{'bookId': 'book_0002',\n",
       " 'tokenId': 'token_0295',\n",
       " 'termFrequency': 699,\n",
       " 'insertDate': datetime.datetime(2017, 6, 1, 10, 25, 31)}"
      ]
     },
     "execution_count": 5,
     "metadata": {},
     "output_type": "execute_result"
    }
   ],
   "source": [
    "from dataGenerator.rowGenerator import *\n",
    "from dataGenerator.datasetGenerator import *\n",
    "from datetime import datetime\n",
    "\n",
    "dataset = datasetGenerator()\n",
    "dataset.addGenerator(idGenerator(),prefix=\"book\",min=1,max=100,keyName=\"bookId\")\n",
    "dataset.addGenerator(idGenerator(),prefix=\"token\",min=1,max=500,keyName=\"tokenId\")\n",
    "dataset.addGenerator(intGenerator(),min=1,max=1000,keyName=\"termFrequency\")\n",
    "dataset.addGenerator(dateGenerator(),startdate=datetime(2018,1,1),max=datetime(2020,1,1),keyName=\"insertDate\")\n",
    "\n",
    "\n",
    "bookTermFrequencyUniform = sc.parallelize( dataset.generateDataset(250000)).persist()\n",
    "bookTermFrequencyUniform.first()"
   ]
  },
  {
   "cell_type": "code",
   "execution_count": 7,
   "metadata": {},
   "outputs": [
    {
     "data": {
      "text/plain": [
       "{'bookId': 'book_0002',\n",
       " 'tokenId': 'token_0295',\n",
       " 'termFrequency': 900,\n",
       " 'insertDate': datetime.datetime(2017, 6, 1, 10, 25, 31)}"
      ]
     },
     "execution_count": 7,
     "metadata": {},
     "output_type": "execute_result"
    }
   ],
   "source": [
    "## add exponentiality ==> np.random.exponential()\n",
    "import numpy as np\n",
    "def exp(row):\n",
    "    row[\"termFrequency\"] = int(np.random.exponential() * row[\"termFrequency\"])\n",
    "    return row\n",
    "bookTermFrequency = bookTermFrequencyUniform.map(lambda x: exp(x))\n",
    "bookTermFrequency.first()"
   ]
  },
  {
   "cell_type": "markdown",
   "metadata": {},
   "source": [
    "### Extract Master Data Snapshot"
   ]
  },
  {
   "cell_type": "code",
   "execution_count": 4,
   "metadata": {},
   "outputs": [
    {
     "data": {
      "text/plain": [
       "(('book_0024', 'token_0386'),\n",
       " (datetime.datetime(2013, 7, 1, 4, 45, 10),\n",
       "  {'bookId': 'book_0024',\n",
       "   'tokenId': 'token_0386',\n",
       "   'termFrequency': 2618,\n",
       "   'insertDate': datetime.datetime(2013, 7, 1, 4, 45, 10)}))"
      ]
     },
     "execution_count": 4,
     "metadata": {},
     "output_type": "execute_result"
    }
   ],
   "source": [
    "## lets get the snapshot of bookTermFrequency (is a Master Data Registry)\n",
    "def getKeys(row):\n",
    "    return row[\"bookId\"], row[\"tokenId\"]\n",
    "def getTs(row):\n",
    "    pass\n",
    "    \n",
    "bookTermFrequencySnapshot_step0 = bookTermFrequency.map(\n",
    "bookTermFrequencySnapshot_step0.first()"
   ]
  },
  {
   "cell_type": "code",
   "execution_count": 9,
   "metadata": {},
   "outputs": [
    {
     "data": {
      "text/plain": [
       "(('book_0002', 'token_0295'),\n",
       " (datetime.datetime(2017, 6, 1, 10, 25, 31),\n",
       "  {'bookId': 'book_0002',\n",
       "   'tokenId': 'token_0295',\n",
       "   'termFrequency': 900,\n",
       "   'insertDate': datetime.datetime(2017, 6, 1, 10, 25, 31)}))"
      ]
     },
     "execution_count": 9,
     "metadata": {},
     "output_type": "execute_result"
    }
   ],
   "source": [
    "\n",
    "def getKeys(row):\n",
    "    return row[\"bookId\"], row[\"tokenId\"]\n",
    "def getTs(row):\n",
    "    return row[\"insertDate\"]\n",
    "    \n",
    "bookTermFrequencySnapshot_step0 = bookTermFrequency.map(lambda x: (getKeys(x), (getTs(x),x)))\n",
    "bookTermFrequencySnapshot_step0.first()"
   ]
  },
  {
   "cell_type": "code",
   "execution_count": 10,
   "metadata": {},
   "outputs": [
    {
     "data": {
      "text/plain": [
       "(('book_0002', 'token_0295'),\n",
       " (datetime.datetime(2019, 4, 10, 13, 58, 29),\n",
       "  {'bookId': 'book_0002',\n",
       "   'tokenId': 'token_0295',\n",
       "   'termFrequency': 6,\n",
       "   'insertDate': datetime.datetime(2019, 4, 10, 13, 58, 29)}))"
      ]
     },
     "execution_count": 10,
     "metadata": {},
     "output_type": "execute_result"
    }
   ],
   "source": [
    "# take only the last value\n",
    "bookTermFrequencySnapshot_step1 = bookTermFrequencySnapshot_step0.reduceByKey(lambda x,y: x if x[0]>y[0] else y)\n",
    "bookTermFrequencySnapshot_step1.first()"
   ]
  },
  {
   "cell_type": "code",
   "execution_count": 11,
   "metadata": {},
   "outputs": [
    {
     "data": {
      "text/plain": [
       "49644"
      ]
     },
     "execution_count": 11,
     "metadata": {},
     "output_type": "execute_result"
    }
   ],
   "source": [
    "# come back to the dict per row format\n",
    "bookTermFrequencySnapshot = bookTermFrequencySnapshot_step1.map(lambda x: x[1][1])\n",
    "bookTermFrequencySnapshot.count()"
   ]
  },
  {
   "cell_type": "code",
   "execution_count": 12,
   "metadata": {},
   "outputs": [
    {
     "data": {
      "text/plain": [
       "{'bookId': 'book_0002',\n",
       " 'tokenId': 'token_0295',\n",
       " 'termFrequency': 6,\n",
       " 'insertDate': datetime.datetime(2019, 4, 10, 13, 58, 29)}"
      ]
     },
     "execution_count": 12,
     "metadata": {},
     "output_type": "execute_result"
    }
   ],
   "source": [
    "bookTermFrequencySnapshot.first()"
   ]
  },
  {
   "cell_type": "markdown",
   "metadata": {},
   "source": [
    "## inverseDocumentFrequency (iDF)"
   ]
  },
  {
   "cell_type": "code",
   "execution_count": 14,
   "metadata": {},
   "outputs": [
    {
     "data": {
      "text/plain": [
       "[('token_0295', 100),\n",
       " ('token_0446', 99),\n",
       " ('token_0261', 98),\n",
       " ('token_0500', 100),\n",
       " ('token_0365', 100)]"
      ]
     },
     "execution_count": 14,
     "metadata": {},
     "output_type": "execute_result"
    }
   ],
   "source": [
    "## compute iDF - start with distribution of tokens\n",
    "iDF = bookTermFrequencySnapshot.map(lambda x: (x.get(\"tokenId\"),1)).reduceByKey(lambda x,y: x+y)\n",
    "iDF.take(5)"
   ]
  },
  {
   "cell_type": "code",
   "execution_count": 8,
   "metadata": {},
   "outputs": [
    {
     "data": {
      "text/plain": [
       "[('token_0419', 100),\n",
       " ('token_0259', 100),\n",
       " ('token_0046', 100),\n",
       " ('token_0278', 99),\n",
       " ('token_0176', 100)]"
      ]
     },
     "execution_count": 8,
     "metadata": {},
     "output_type": "execute_result"
    }
   ],
   "source": [
    "iDF.take(5)\n",
    "# iDF(term1) = log(N_tot/N_with_term1)..."
   ]
  },
  {
   "cell_type": "code",
   "execution_count": 18,
   "metadata": {},
   "outputs": [
    {
     "data": {
      "text/plain": [
       "[('token_0295', 0.0),\n",
       " ('token_0446', -0.01005033585350145),\n",
       " ('token_0261', -0.020202707317519466),\n",
       " ('token_0500', 0.0),\n",
       " ('token_0365', 0.0)]"
      ]
     },
     "execution_count": 18,
     "metadata": {},
     "output_type": "execute_result"
    }
   ],
   "source": [
    "# compute iDF (again)\n",
    "import numpy as np\n",
    "totBooks = bookTermFrequencySnapshot.map(lambda x: x.get(\"bookId\")).distinct().count() \n",
    "iDF = bookTermFrequencySnapshot.map(lambda x: (x.get(\"tokenId\"),1)).reduceByKey(lambda x,y: x+y)\\\n",
    "                .map(lambda x: (x[0],np.log(x[1]/totBooks)))\n",
    "iDF.take(5)"
   ]
  },
  {
   "cell_type": "markdown",
   "metadata": {},
   "source": [
    "# Exercise (1) - solo and small teams\n",
    "The actual dataset generator always generate data from a random distribution.\n",
    "\n",
    "e.g., id generator returns \n",
    "```python\n",
    "return prefix+\"_\"+str(randint(min, max)).zfill(len(str(max))+1)\n",
    "```\n",
    "\n",
    "If we would like to use it in these exercises, we would need to create stronger id generator where the sampling strategy could be changed. Provide an implementation of \n",
    "```python\n",
    "class nonUniformeIdGenerator(typeGenerator)\n",
    "class expIntGenerator(typeGenerator)\n",
    "class expFloatGenerator(typeGenerator)\n",
    "```\n",
    "\n",
    "# Exercise (2) - additional (mandatory for Big Team)\n",
    "Extend datasetGenerator() \n",
    "```python\n",
    "class logDataset(datasetGenerator)\n",
    "class registryDataset(typeGenerator)\n",
    "class cdcRegistryDataset(typeGenerator)\n",
    "```"
   ]
  },
  {
   "cell_type": "code",
   "execution_count": 23,
   "metadata": {},
   "outputs": [
    {
     "data": {
      "text/plain": [
       "{'bookId': 'book_0002',\n",
       " 'tokenId': 'token_0295',\n",
       " 'termFrequency': 55,\n",
       " 'insertDate': datetime.datetime(2017, 6, 1, 10, 25, 31),\n",
       " 'iDF': 0.0,\n",
       " 'TF-iDF': 0.0}"
      ]
     },
     "execution_count": 23,
     "metadata": {},
     "output_type": "execute_result"
    }
   ],
   "source": [
    "## combine bookTermFrequency with iDF to obtain \n",
    "## {'bookId': 'book_0097', 'tokenId': 'token_0359', 'termFrequency': 576,\"iDF\":0.12, \"TF-iDF\":576*0.12}\n",
    "def parser(x):\n",
    "    x[1][0][\"iDF\"] = x[1][1]\n",
    "    x[1][0][\"TF-iDF\"] = x[1][1]*x[1][0].get(\"termFrequency\")\n",
    "    return x[1][0]\n",
    "\n",
    "bookTFiDF = bookTermFrequency.map(lambda x: (x.get(\"tokenId\"),x)).join(iDF).map(lambda x: parser(x))\n",
    "bookTFiDF.first()"
   ]
  },
  {
   "cell_type": "code",
   "execution_count": 24,
   "metadata": {},
   "outputs": [
    {
     "data": {
      "text/plain": [
       "(count: 250000, mean: -3.586772870725633, stdev: 8.19504185972357, max: 0.0, min: -218.3710633950679)"
      ]
     },
     "execution_count": 24,
     "metadata": {},
     "output_type": "execute_result"
    }
   ],
   "source": [
    "bookTFiDF.map(lambda x: x.get(\"TF-iDF\")).stats()"
   ]
  },
  {
   "cell_type": "markdown",
   "metadata": {},
   "source": [
    "# Book Similarity"
   ]
  },
  {
   "cell_type": "code",
   "execution_count": 14,
   "metadata": {},
   "outputs": [
    {
     "data": {
      "text/plain": [
       "{'bookId': 'book_0024',\n",
       " 'tokenId': 'token_0386',\n",
       " 'termFrequency': 2618,\n",
       " 'insertDate': datetime.datetime(2013, 7, 1, 4, 45, 10),\n",
       " 'iDF': 1.0,\n",
       " 'TF-iDF': 2618.0}"
      ]
     },
     "execution_count": 14,
     "metadata": {},
     "output_type": "execute_result"
    }
   ],
   "source": [
    "bookTFiDF.first()"
   ]
  },
  {
   "cell_type": "markdown",
   "metadata": {},
   "source": [
    "```python\n",
    "sim(bookA,bookB) = sum(bookA_token_i * bookB_token_i)/(norm(bookA)*norm(bookA))\n",
    "```"
   ]
  },
  {
   "cell_type": "code",
   "execution_count": 15,
   "metadata": {},
   "outputs": [
    {
     "data": {
      "text/plain": [
       "('token_0386',\n",
       " ({'bookId': 'book_0024',\n",
       "   'tokenId': 'token_0386',\n",
       "   'termFrequency': 2618,\n",
       "   'insertDate': datetime.datetime(2013, 7, 1, 4, 45, 10),\n",
       "   'iDF': 1.0,\n",
       "   'TF-iDF': 2618.0},\n",
       "  {'bookId': 'book_0024',\n",
       "   'tokenId': 'token_0386',\n",
       "   'termFrequency': 2618,\n",
       "   'insertDate': datetime.datetime(2013, 7, 1, 4, 45, 10),\n",
       "   'iDF': 1.0,\n",
       "   'TF-iDF': 2618.0}))"
      ]
     },
     "execution_count": 15,
     "metadata": {},
     "output_type": "execute_result"
    }
   ],
   "source": [
    "bookA_bookB_contributions = bookTFiDF.map(lambda x: (x.get(\"tokenId\"),x)).join(bookTFiDF.map(lambda x: (x.get(\"tokenId\"),x)))\n",
    "bookA_bookB_contributions.first()"
   ]
  },
  {
   "cell_type": "code",
   "execution_count": 16,
   "metadata": {},
   "outputs": [
    {
     "data": {
      "text/plain": [
       "('token_0386',\n",
       " ({'bookId': 'book_0024',\n",
       "   'tokenId': 'token_0386',\n",
       "   'termFrequency': 2618,\n",
       "   'insertDate': datetime.datetime(2013, 7, 1, 4, 45, 10),\n",
       "   'iDF': 1.0,\n",
       "   'TF-iDF': 2618.0},\n",
       "  {'bookId': 'book_0013',\n",
       "   'tokenId': 'token_0386',\n",
       "   'termFrequency': 15,\n",
       "   'insertDate': datetime.datetime(2015, 6, 13, 8, 50, 25),\n",
       "   'iDF': 1.0,\n",
       "   'TF-iDF': 15.0}))"
      ]
     },
     "execution_count": 16,
     "metadata": {},
     "output_type": "execute_result"
    }
   ],
   "source": [
    "# lets make a triangular matrix\n",
    "bookA_bookB_contrTriang = bookA_bookB_contributions.filter(lambda x: (x[1][0].get(\"bookId\")>x[1][1].get(\"bookId\")))\n",
    "bookA_bookB_contrTriang.first()"
   ]
  },
  {
   "cell_type": "code",
   "execution_count": 17,
   "metadata": {},
   "outputs": [
    {
     "data": {
      "text/plain": [
       "(('book_0024', 'book_0013'), 39270.0)"
      ]
     },
     "execution_count": 17,
     "metadata": {},
     "output_type": "execute_result"
    }
   ],
   "source": [
    "# now we need to build the line to apply the sum \n",
    "eachTokenContr = bookA_bookB_contrTriang.map(lambda x: (x[1]))\\\n",
    "                                        .map(lambda x: ((x[0].get(\"bookId\"),x[1].get(\"bookId\")),x[0].get(\"TF-iDF\")*x[1].get(\"TF-iDF\")))\n",
    "eachTokenContr.first()"
   ]
  },
  {
   "cell_type": "code",
   "execution_count": 18,
   "metadata": {},
   "outputs": [
    {
     "data": {
      "text/plain": [
       "[(('book_0024', 'book_0008'), 3242869498.8676004),\n",
       " (('book_0042', 'book_0005'), 3206962047.1919),\n",
       " (('book_0042', 'book_0018'), 3025013447.9978995),\n",
       " (('book_0042', 'book_0041'), 3022717698.029099),\n",
       " (('book_0074', 'book_0025'), 3538634467.577501)]"
      ]
     },
     "execution_count": 18,
     "metadata": {},
     "output_type": "execute_result"
    }
   ],
   "source": [
    "bookToBookSimilarity = eachTokenContr.reduceByKey(lambda x,y: x+y)\n",
    "bookToBookSimilarity.take(5)"
   ]
  },
  {
   "cell_type": "code",
   "execution_count": 21,
   "metadata": {},
   "outputs": [
    {
     "data": {
      "text/plain": [
       "[('book_0053',\n",
       "  [(3590301567.3896003, 'book_0052'),\n",
       "   (3489360515.0072994, 'book_0040'),\n",
       "   (3466590605.894301, 'book_0051'),\n",
       "   (3460133157.069299, 'book_0016'),\n",
       "   (3366735828.3003, 'book_0015')]),\n",
       " ('book_0018',\n",
       "  [(3192012053.4111996, 'book_0015'),\n",
       "   (3144117112.1008997, 'book_0009'),\n",
       "   (3112992650.2337, 'book_0001'),\n",
       "   (3109398537.7997, 'book_0002'),\n",
       "   (3084158099.4837003, 'book_0016')]),\n",
       " ('book_0071',\n",
       "  [(3454754921.7724, 'book_0025'),\n",
       "   (3442670399.305601, 'book_0064'),\n",
       "   (3391127566.771599, 'book_0070'),\n",
       "   (3384377553.7736998, 'book_0040'),\n",
       "   (3342645726.244, 'book_0066')]),\n",
       " ('book_0026',\n",
       "  [(3323608755.313201, 'book_0003'),\n",
       "   (3275116812.9099007, 'book_0008'),\n",
       "   (3258084699.6224, 'book_0025'),\n",
       "   (3246206971.6847005, 'book_0015'),\n",
       "   (3221652920.2483997, 'book_0016')]),\n",
       " ('book_0062',\n",
       "  [(3309376624.3505006, 'book_0052'),\n",
       "   (3174253797.3231006, 'book_0014'),\n",
       "   (3173889914.4335, 'book_0025'),\n",
       "   (3094063962.836199, 'book_0054'),\n",
       "   (3092812587.9716997, 'book_0013')])]"
      ]
     },
     "execution_count": 21,
     "metadata": {},
     "output_type": "execute_result"
    }
   ],
   "source": [
    "#extract for each book to 5 closer books\n",
    "bookToBookSimilarity.map(lambda x: (x[0][0],[(x[1],x[0][1])])).reduceByKey(lambda x,y: sorted(x+y,reverse=True)[0:5]).take(5)"
   ]
  },
  {
   "cell_type": "markdown",
   "metadata": {},
   "source": [
    "# Exercise 2\n",
    "In the previous example, we computed only the book_A_i*book_B_i... we missed the part below..."
   ]
  }
 ],
 "metadata": {
  "kernelspec": {
   "display_name": "Python 3",
   "language": "python",
   "name": "python3"
  },
  "language_info": {
   "codemirror_mode": {
    "name": "ipython",
    "version": 3
   },
   "file_extension": ".py",
   "mimetype": "text/x-python",
   "name": "python",
   "nbconvert_exporter": "python",
   "pygments_lexer": "ipython3",
   "version": "3.7.4"
  }
 },
 "nbformat": 4,
 "nbformat_minor": 4
}
