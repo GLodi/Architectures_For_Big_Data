{
 "cells": [
  {
   "cell_type": "code",
   "execution_count": 1,
   "metadata": {},
   "outputs": [],
   "source": [
    "#remember to clone https://github.com/brcondor/Architectures_for_Big_Data into '/home/jovyan/work/'\n",
    "import sys\n",
    "sys.path.append(\"/home/jovyan/work/Architectures_for_Big_Data/\")\n",
    "import pyspark\n",
    "sc = pyspark.SparkContext(\"local[3]\")"
   ]
  },
  {
   "cell_type": "code",
   "execution_count": 2,
   "metadata": {},
   "outputs": [
    {
     "data": {
      "text/plain": [
       "{'lineId': 'line_05',\n",
       " 'itemId': 'item_007',\n",
       " 'creationDate': datetime.datetime(2010, 1, 1, 0, 20, 22),\n",
       " 'qty': 124}"
      ]
     },
     "execution_count": 2,
     "metadata": {},
     "output_type": "execute_result"
    }
   ],
   "source": [
    "from dataGenerator.rowGenerator import *\n",
    "from dataGenerator.datasetGenerator import *\n",
    "\n",
    "dataset = datasetGenerator()\n",
    "dataset.addGenerator(idGenerator(),prefix=\"line\",min=1,max=5,keyName=\"lineId\")\n",
    "dataset.addGenerator(idGenerator(),prefix=\"item\",min=1,max=15,keyName=\"itemId\")\n",
    "dataset.addGenerator(tickGenerator(),minTick=600,maxTick=1800,keyName=\"creationDate\")\n",
    "dataset.addGenerator(intGenerator(),keyName=\"qty\")\n",
    "\n",
    "logRdd = sc.parallelize( dataset.generateDataset(25000)).persist()\n",
    "logRdd.first()"
   ]
  },
  {
   "cell_type": "code",
   "execution_count": 3,
   "metadata": {},
   "outputs": [
    {
     "data": {
      "text/plain": [
       "['2010-01-01 00:20:22',\n",
       " '2010-01-01 00:34:26',\n",
       " '2010-01-01 00:48:02',\n",
       " '2010-01-01 00:54:07',\n",
       " '2010-01-01 01:13:01']"
      ]
     },
     "execution_count": 3,
     "metadata": {},
     "output_type": "execute_result"
    }
   ],
   "source": [
    "logRdd.map(lambda x: x.get(\"creationDate\")).sortBy(lambda x: x).map(lambda x: str(x)).take(5)"
   ]
  },
  {
   "cell_type": "code",
   "execution_count": 4,
   "metadata": {},
   "outputs": [
    {
     "data": {
      "text/plain": [
       "[('line_01', 'item_001'),\n",
       " ('line_01', 'item_002'),\n",
       " ('line_01', 'item_003'),\n",
       " ('line_01', 'item_004'),\n",
       " ('line_01', 'item_005'),\n",
       " ('line_01', 'item_006'),\n",
       " ('line_01', 'item_007'),\n",
       " ('line_01', 'item_008'),\n",
       " ('line_01', 'item_009'),\n",
       " ('line_01', 'item_010'),\n",
       " ('line_01', 'item_011'),\n",
       " ('line_01', 'item_012'),\n",
       " ('line_01', 'item_013'),\n",
       " ('line_01', 'item_014'),\n",
       " ('line_01', 'item_015'),\n",
       " ('line_02', 'item_001'),\n",
       " ('line_02', 'item_002'),\n",
       " ('line_02', 'item_003'),\n",
       " ('line_02', 'item_004'),\n",
       " ('line_02', 'item_005'),\n",
       " ('line_02', 'item_006'),\n",
       " ('line_02', 'item_007'),\n",
       " ('line_02', 'item_008'),\n",
       " ('line_02', 'item_009'),\n",
       " ('line_02', 'item_010'),\n",
       " ('line_02', 'item_011'),\n",
       " ('line_02', 'item_012'),\n",
       " ('line_02', 'item_013'),\n",
       " ('line_02', 'item_014'),\n",
       " ('line_02', 'item_015'),\n",
       " ('line_03', 'item_001'),\n",
       " ('line_03', 'item_002'),\n",
       " ('line_03', 'item_003'),\n",
       " ('line_03', 'item_004'),\n",
       " ('line_03', 'item_005'),\n",
       " ('line_03', 'item_006'),\n",
       " ('line_03', 'item_007'),\n",
       " ('line_03', 'item_008'),\n",
       " ('line_03', 'item_009'),\n",
       " ('line_03', 'item_010'),\n",
       " ('line_03', 'item_011'),\n",
       " ('line_03', 'item_012'),\n",
       " ('line_03', 'item_013'),\n",
       " ('line_03', 'item_014'),\n",
       " ('line_03', 'item_015'),\n",
       " ('line_04', 'item_001'),\n",
       " ('line_04', 'item_002'),\n",
       " ('line_04', 'item_003'),\n",
       " ('line_04', 'item_004'),\n",
       " ('line_04', 'item_005'),\n",
       " ('line_04', 'item_006'),\n",
       " ('line_04', 'item_007'),\n",
       " ('line_04', 'item_008'),\n",
       " ('line_04', 'item_009'),\n",
       " ('line_04', 'item_010'),\n",
       " ('line_04', 'item_011'),\n",
       " ('line_04', 'item_012'),\n",
       " ('line_04', 'item_013'),\n",
       " ('line_04', 'item_014'),\n",
       " ('line_04', 'item_015'),\n",
       " ('line_05', 'item_001'),\n",
       " ('line_05', 'item_002'),\n",
       " ('line_05', 'item_003'),\n",
       " ('line_05', 'item_004'),\n",
       " ('line_05', 'item_005'),\n",
       " ('line_05', 'item_006'),\n",
       " ('line_05', 'item_007'),\n",
       " ('line_05', 'item_008'),\n",
       " ('line_05', 'item_009'),\n",
       " ('line_05', 'item_010'),\n",
       " ('line_05', 'item_011'),\n",
       " ('line_05', 'item_012'),\n",
       " ('line_05', 'item_013'),\n",
       " ('line_05', 'item_014'),\n",
       " ('line_05', 'item_015')]"
      ]
     },
     "execution_count": 4,
     "metadata": {},
     "output_type": "execute_result"
    }
   ],
   "source": [
    "logRdd.map(lambda x: (x.get(\"lineId\"),x.get(\"itemId\"))).distinct().sortBy(lambda x: (x[0],x[1])).collect()"
   ]
  },
  {
   "cell_type": "code",
   "execution_count": 5,
   "metadata": {},
   "outputs": [
    {
     "data": {
      "text/plain": [
       "[('line_01', 15),\n",
       " ('line_02', 15),\n",
       " ('line_03', 15),\n",
       " ('line_04', 15),\n",
       " ('line_05', 15)]"
      ]
     },
     "execution_count": 5,
     "metadata": {},
     "output_type": "execute_result"
    }
   ],
   "source": [
    "logRdd.map(lambda x: (x.get(\"lineId\"),x.get(\"itemId\"))).distinct().map(lambda x: (x[0],1))\\\n",
    "        .reduceByKey(lambda x,y: x+y).sortBy(lambda x: x[0]).collect()"
   ]
  },
  {
   "cell_type": "code",
   "execution_count": 6,
   "metadata": {},
   "outputs": [
    {
     "data": {
      "text/plain": [
       "'2010-09-18 11:06:15'"
      ]
     },
     "execution_count": 6,
     "metadata": {},
     "output_type": "execute_result"
    }
   ],
   "source": [
    "maxDate = logRdd.map(lambda x: x.get(\"creationDate\")).sortBy(lambda x: x).map(lambda x: x).max()\n",
    "str(maxDate)\n"
   ]
  },
  {
   "cell_type": "code",
   "execution_count": 7,
   "metadata": {},
   "outputs": [
    {
     "data": {
      "text/plain": [
       "{'lineId': 'line_03',\n",
       " 'itemId': 'item_014',\n",
       " 'registryInsertTimestamp': datetime.datetime(2010, 5, 15, 7, 1, 28),\n",
       " 'cost': 266}"
      ]
     },
     "execution_count": 7,
     "metadata": {},
     "output_type": "execute_result"
    }
   ],
   "source": [
    "from dataGenerator.rowGenerator import *\n",
    "from dataGenerator.datasetGenerator import *\n",
    "\n",
    "dataset = datasetGenerator()\n",
    "dataset.addGenerator(idGenerator(),prefix=\"line\",min=1,max=5,keyName=\"lineId\")\n",
    "dataset.addGenerator(idGenerator(),prefix=\"item\",min=1,max=15,keyName=\"itemId\")\n",
    "dataset.addGenerator(dateGenerator(),endDate=maxDate,keyName=\"registryInsertTimestamp\")\n",
    "dataset.addGenerator(intGenerator(),\"cost\")\n",
    "\n",
    "masterDataRdd = sc.parallelize( dataset.generateDataset(1500)).persist()\n",
    "masterDataRdd.first()"
   ]
  },
  {
   "cell_type": "code",
   "execution_count": 8,
   "metadata": {},
   "outputs": [
    {
     "data": {
      "text/plain": [
       "datetime.datetime(2010, 9, 18, 6, 26, 44)"
      ]
     },
     "execution_count": 8,
     "metadata": {},
     "output_type": "execute_result"
    }
   ],
   "source": [
    "masterDataRdd.map(lambda x: x.get(\"registryInsertTimestamp\")).max()"
   ]
  },
  {
   "cell_type": "markdown",
   "metadata": {},
   "source": [
    "# Bean Counter"
   ]
  },
  {
   "cell_type": "code",
   "execution_count": 9,
   "metadata": {},
   "outputs": [
    {
     "data": {
      "text/plain": [
       "{'lineId': 'line_05',\n",
       " 'itemId': 'item_007',\n",
       " 'creationDate': datetime.datetime(2010, 1, 1, 0, 20, 22),\n",
       " 'qty': 124}"
      ]
     },
     "execution_count": 9,
     "metadata": {},
     "output_type": "execute_result"
    }
   ],
   "source": [
    "logRdd.first()"
   ]
  },
  {
   "cell_type": "markdown",
   "metadata": {},
   "source": [
    "## How many lines per item?"
   ]
  },
  {
   "cell_type": "code",
   "execution_count": 10,
   "metadata": {},
   "outputs": [
    {
     "data": {
      "text/plain": [
       "[('item_007', 1717),\n",
       " ('item_005', 1705),\n",
       " ('item_014', 1710),\n",
       " ('item_013', 1634),\n",
       " ('item_001', 1657)]"
      ]
     },
     "execution_count": 10,
     "metadata": {},
     "output_type": "execute_result"
    }
   ],
   "source": [
    "logRdd.map(lambda x: (x.get(\"itemId\"),1)).reduceByKey(lambda x,y: x+y).take(5)"
   ]
  },
  {
   "cell_type": "markdown",
   "metadata": {},
   "source": [
    "## How much qty per item?"
   ]
  },
  {
   "cell_type": "code",
   "execution_count": 51,
   "metadata": {},
   "outputs": [
    {
     "data": {
      "text/plain": [
       "[('item_015', 823102),\n",
       " ('item_014', 850553),\n",
       " ('item_013', 804934),\n",
       " ('item_012', 832732),\n",
       " ('item_011', 845031),\n",
       " ('item_010', 853389),\n",
       " ('item_009', 833888),\n",
       " ('item_008', 842459),\n",
       " ('item_007', 863019),\n",
       " ('item_006', 817875),\n",
       " ('item_005', 872277),\n",
       " ('item_004', 854293),\n",
       " ('item_003', 804348),\n",
       " ('item_002', 835764),\n",
       " ('item_001', 835694)]"
      ]
     },
     "execution_count": 51,
     "metadata": {},
     "output_type": "execute_result"
    }
   ],
   "source": [
    "def f(x,y):\n",
    "    numberOfItems = x+y\n",
    "    return numberOfItems\n",
    "logRdd.map(lambda x: (x.get(\"itemId\"),x.get(\"qty\"))).reduceByKey(lambda x,y: f(x,y)).top(100)"
   ]
  },
  {
   "cell_type": "code",
   "execution_count": 52,
   "metadata": {},
   "outputs": [
    {
     "data": {
      "text/plain": [
       "[('item_001', 835694),\n",
       " ('item_002', 835764),\n",
       " ('item_003', 804348),\n",
       " ('item_004', 854293),\n",
       " ('item_005', 872277),\n",
       " ('item_006', 817875),\n",
       " ('item_007', 863019),\n",
       " ('item_008', 842459),\n",
       " ('item_009', 833888),\n",
       " ('item_010', 853389),\n",
       " ('item_011', 845031),\n",
       " ('item_012', 832732),\n",
       " ('item_013', 804934),\n",
       " ('item_014', 850553),\n",
       " ('item_015', 823102)]"
      ]
     },
     "execution_count": 52,
     "metadata": {},
     "output_type": "execute_result"
    }
   ],
   "source": [
    "def f(x,y):\n",
    "    numberOfItems = x+y\n",
    "    return numberOfItems\n",
    "logRdd.map(lambda x: (x.get(\"itemId\"),x.get(\"qty\"))).reduceByKey(lambda x,y: f(x,y))\\\n",
    "                    .top(100,key=lambda x: 1/int(x[0].split(\"_\")[1]))"
   ]
  },
  {
   "cell_type": "markdown",
   "metadata": {},
   "source": [
    "## How much qty in everage per item?"
   ]
  },
  {
   "cell_type": "code",
   "execution_count": 12,
   "metadata": {},
   "outputs": [
    {
     "data": {
      "text/plain": [
       "[('item_007', 502.63191613278974),\n",
       " ('item_005', 511.5994134897361),\n",
       " ('item_014', 497.39941520467835),\n",
       " ('item_013', 492.6156670746634),\n",
       " ('item_001', 504.34158117079056)]"
      ]
     },
     "execution_count": 12,
     "metadata": {},
     "output_type": "execute_result"
    }
   ],
   "source": [
    "def f(x,y):\n",
    "    cumulateQty = x[0]+y[0]\n",
    "    numberOfItems = x[1]+y[1]\n",
    "    return cumulateQty,numberOfItems\n",
    "    \n",
    "def prepare(x):\n",
    "    return x[0],x[1][0]/x[1][1]\n",
    "    \n",
    "logRdd.map(lambda x: (x.get(\"itemId\"),(x.get(\"qty\"),1.0))).reduceByKey(lambda x,y: f(x,y)).map(lambda x: prepare(x)).take(5)"
   ]
  },
  {
   "cell_type": "code",
   "execution_count": 13,
   "metadata": {},
   "outputs": [
    {
     "data": {
      "text/plain": [
       "(count: 15, mean: 502.8372373894986, stdev: 7.113083233556609, max: 518.4363076923077, min: 492.6156670746634)"
      ]
     },
     "execution_count": 13,
     "metadata": {},
     "output_type": "execute_result"
    }
   ],
   "source": [
    "def f(x,y):\n",
    "    cumulateQty = x[0]+y[0]\n",
    "    numberOfItems = x[1]+y[1]\n",
    "    return cumulateQty,numberOfItems\n",
    "    \n",
    "def prepare(x):\n",
    "    return x[1][0]/x[1][1]\n",
    "    \n",
    "logRdd.map(lambda x: (x.get(\"itemId\"),(x.get(\"qty\"),1.0))).reduceByKey(lambda x,y: f(x,y)).map(lambda x: prepare(x))\\\n",
    "                .stats()"
   ]
  },
  {
   "cell_type": "markdown",
   "metadata": {},
   "source": [
    "## Exercise (1): Similar statistics but on item,line couple"
   ]
  },
  {
   "cell_type": "code",
   "execution_count": 14,
   "metadata": {},
   "outputs": [],
   "source": [
    "#..."
   ]
  },
  {
   "cell_type": "markdown",
   "metadata": {},
   "source": [
    "## lets Imagine to have 100 executors, and we want to distribute the average over lineId"
   ]
  },
  {
   "cell_type": "code",
   "execution_count": 15,
   "metadata": {},
   "outputs": [
    {
     "data": {
      "text/plain": [
       "(count: 5, mean: 502.78731436467535, stdev: 2.8349413569255955, max: 507.68448764682057, min: 500.0643309580364)"
      ]
     },
     "execution_count": 15,
     "metadata": {},
     "output_type": "execute_result"
    }
   ],
   "source": [
    "def f(x,y):\n",
    "    cumulateQty = x[0]+y[0]\n",
    "    numberOfItems = x[1]+y[1]\n",
    "    return cumulateQty,numberOfItems\n",
    "    \n",
    "def prepare(x):\n",
    "    return x[1][0]/x[1][1]\n",
    "    \n",
    "logRdd.map(lambda x: ((x.get(\"lineId\")),(x.get(\"qty\"),1.0))).reduceByKey(lambda x,y: f(x,y))\\\n",
    "                    .map(lambda x: prepare(x))\\\n",
    "                .stats()"
   ]
  },
  {
   "cell_type": "code",
   "execution_count": 16,
   "metadata": {},
   "outputs": [
    {
     "data": {
      "text/plain": [
       "(count: 5, mean: 502.78731436467535, stdev: 2.8349413569256026, max: 507.68448764682057, min: 500.0643309580364)"
      ]
     },
     "execution_count": 16,
     "metadata": {},
     "output_type": "execute_result"
    }
   ],
   "source": [
    "def f(x,y):\n",
    "    cumulateQty = x[0]+y[0]\n",
    "    numberOfItems = x[1]+y[1]\n",
    "    return cumulateQty,numberOfItems\n",
    "    \n",
    "def prepare(x):\n",
    "    return x[1][0]/x[1][1]\n",
    "    \n",
    "logRdd.map(lambda x: ((randint(1,100),x.get(\"lineId\")),(x.get(\"qty\"),1.0))).reduceByKey(lambda x,y: f(x,y))\\\n",
    "                    .map(lambda x: (x[0][1],x[1])).reduceByKey(lambda x,y: f(x,y))\\\n",
    "                    .map(lambda x: prepare(x))\\\n",
    "                .stats()"
   ]
  },
  {
   "cell_type": "markdown",
   "metadata": {},
   "source": [
    "## Cycle Time"
   ]
  },
  {
   "cell_type": "code",
   "execution_count": 17,
   "metadata": {},
   "outputs": [
    {
     "data": {
      "text/plain": [
       "25000"
      ]
     },
     "execution_count": 17,
     "metadata": {},
     "output_type": "execute_result"
    }
   ],
   "source": [
    "semiLogRdd = logRdd.map(lambda x: ((x.get(\"lineId\"),x.get(\"itemId\")),x)).persist()\n",
    "semiLogRdd.count()"
   ]
  },
  {
   "cell_type": "code",
   "execution_count": 18,
   "metadata": {},
   "outputs": [
    {
     "data": {
      "text/plain": [
       "8352658"
      ]
     },
     "execution_count": 18,
     "metadata": {},
     "output_type": "execute_result"
    }
   ],
   "source": [
    "joinedRDD = semiLogRdd.join(semiLogRdd).persist()\n",
    "joinedRDD.count()"
   ]
  },
  {
   "cell_type": "code",
   "execution_count": 19,
   "metadata": {},
   "outputs": [
    {
     "data": {
      "text/plain": [
       "(('line_05', 'item_008'),\n",
       " ({'lineId': 'line_05',\n",
       "   'itemId': 'item_008',\n",
       "   'creationDate': datetime.datetime(2010, 1, 1, 2, 19, 37),\n",
       "   'qty': 481},\n",
       "  {'lineId': 'line_05',\n",
       "   'itemId': 'item_008',\n",
       "   'creationDate': datetime.datetime(2010, 1, 1, 2, 19, 37),\n",
       "   'qty': 481}))"
      ]
     },
     "execution_count": 19,
     "metadata": {},
     "output_type": "execute_result"
    }
   ],
   "source": [
    "joinedRDD.first()"
   ]
  },
  {
   "cell_type": "code",
   "execution_count": 20,
   "metadata": {},
   "outputs": [
    {
     "data": {
      "text/plain": [
       "4163829"
      ]
     },
     "execution_count": 20,
     "metadata": {},
     "output_type": "execute_result"
    }
   ],
   "source": [
    "triangleJoinedRdd = joinedRDD.filter(lambda x: x[1][0].get(\"creationDate\")<x[1][1].get(\"creationDate\")).persist()\n",
    "triangleJoinedRdd.count()"
   ]
  },
  {
   "cell_type": "code",
   "execution_count": 21,
   "metadata": {},
   "outputs": [
    {
     "data": {
      "text/plain": [
       "(('line_05', 'item_008'),\n",
       " ({'lineId': 'line_05',\n",
       "   'itemId': 'item_008',\n",
       "   'creationDate': datetime.datetime(2010, 1, 1, 2, 19, 37),\n",
       "   'qty': 481},\n",
       "  {'lineId': 'line_05',\n",
       "   'itemId': 'item_008',\n",
       "   'creationDate': datetime.datetime(2010, 1, 2, 6, 8, 37),\n",
       "   'qty': 390}))"
      ]
     },
     "execution_count": 21,
     "metadata": {},
     "output_type": "execute_result"
    }
   ],
   "source": [
    "triangleJoinedRdd.first()"
   ]
  },
  {
   "cell_type": "code",
   "execution_count": 22,
   "metadata": {},
   "outputs": [
    {
     "data": {
      "text/plain": [
       "((('line_05', 'item_008'), datetime.datetime(2010, 1, 1, 2, 19, 37)),\n",
       " (datetime.timedelta(days=1, seconds=13740),\n",
       "  (('line_05', 'item_008'),\n",
       "   ({'lineId': 'line_05',\n",
       "     'itemId': 'item_008',\n",
       "     'creationDate': datetime.datetime(2010, 1, 1, 2, 19, 37),\n",
       "     'qty': 481},\n",
       "    {'lineId': 'line_05',\n",
       "     'itemId': 'item_008',\n",
       "     'creationDate': datetime.datetime(2010, 1, 2, 6, 8, 37),\n",
       "     'qty': 390}))))"
      ]
     },
     "execution_count": 22,
     "metadata": {},
     "output_type": "execute_result"
    }
   ],
   "source": [
    "tempRdd = triangleJoinedRdd.map(lambda x: ((x[0],x[1][0].get(\"creationDate\")), \n",
    "                                 (x[1][1].get(\"creationDate\")-x[1][0].get(\"creationDate\"),x)))\n",
    "tempRdd.first()"
   ]
  },
  {
   "cell_type": "code",
   "execution_count": 23,
   "metadata": {},
   "outputs": [
    {
     "name": "stdout",
     "output_type": "stream",
     "text": [
      "(('line_05', 'item_008'), datetime.datetime(2010, 1, 1, 2, 19, 37))\n"
     ]
    },
    {
     "data": {
      "text/plain": [
       "331"
      ]
     },
     "execution_count": 23,
     "metadata": {},
     "output_type": "execute_result"
    }
   ],
   "source": [
    "sampleLine = tempRdd.first()[0]\n",
    "print(sampleLine)\n",
    "triangleJoinedRdd.map(lambda x: ((x[0],x[1][0].get(\"creationDate\")), \n",
    "                                 (x[1][1].get(\"creationDate\")-x[1][0].get(\"creationDate\"),x)))\\\n",
    "                .filter(lambda x: x[0]==sampleLine).count()"
   ]
  },
  {
   "cell_type": "code",
   "execution_count": 24,
   "metadata": {},
   "outputs": [
    {
     "data": {
      "text/plain": [
       "{'lineId': 'line_05',\n",
       " 'itemId': 'item_008',\n",
       " 'creationDate': datetime.datetime(2010, 1, 10, 10, 21, 45),\n",
       " 'qty': 852,\n",
       " 'cycleTime': datetime.timedelta(days=1, seconds=36181)}"
      ]
     },
     "execution_count": 24,
     "metadata": {},
     "output_type": "execute_result"
    }
   ],
   "source": [
    "def f(x,y):\n",
    "    if x[0]<y[0]:\n",
    "        return x\n",
    "    return y\n",
    "def prepare(x):\n",
    "    x[1][1][1][0][\"cycleTime\"] = x[1][0]\n",
    "    return x[1][1][1][0]\n",
    "    \n",
    "enrichedLogRdd = triangleJoinedRdd.map(lambda x: ((x[0],x[1][0].get(\"creationDate\")), \n",
    "                                                  (x[1][1].get(\"creationDate\")-x[1][0].get(\"creationDate\"),x)))\\\n",
    "                    .reduceByKey(lambda x,y: f(x,y)).map(lambda x: prepare(x)).persist()\n",
    "enrichedLogRdd.first()"
   ]
  },
  {
   "cell_type": "markdown",
   "metadata": {},
   "source": [
    "## Exercise (2): why if we count, we see fewer items?"
   ]
  },
  {
   "cell_type": "code",
   "execution_count": 25,
   "metadata": {},
   "outputs": [
    {
     "data": {
      "text/plain": [
       "24925"
      ]
     },
     "execution_count": 25,
     "metadata": {},
     "output_type": "execute_result"
    }
   ],
   "source": [
    "enrichedLogRdd.count()"
   ]
  },
  {
   "cell_type": "markdown",
   "metadata": {},
   "source": [
    "## Exercise (3): I want to see the histogram of cycle times"
   ]
  },
  {
   "cell_type": "code",
   "execution_count": null,
   "metadata": {},
   "outputs": [],
   "source": []
  },
  {
   "cell_type": "markdown",
   "metadata": {},
   "source": [
    "## Extract Snapshot from Master Data"
   ]
  },
  {
   "cell_type": "code",
   "execution_count": 26,
   "metadata": {},
   "outputs": [
    {
     "data": {
      "text/plain": [
       "(('line_03', 'item_014'), (266, datetime.datetime(2010, 5, 15, 7, 1, 28)))"
      ]
     },
     "execution_count": 26,
     "metadata": {},
     "output_type": "execute_result"
    }
   ],
   "source": [
    "tempRdd = masterDataRdd.map(lambda x: ((x.get(\"lineId\"),x.get(\"itemId\")), (x.get(\"cost\"),x.get(\"registryInsertTimestamp\")) )  )\n",
    "tempRdd.first()"
   ]
  },
  {
   "cell_type": "code",
   "execution_count": 27,
   "metadata": {},
   "outputs": [
    {
     "data": {
      "text/plain": [
       "75"
      ]
     },
     "execution_count": 27,
     "metadata": {},
     "output_type": "execute_result"
    }
   ],
   "source": [
    "masterDataRdd.map(lambda x: ((x.get(\"lineId\"),x.get(\"itemId\")))).distinct().count()"
   ]
  },
  {
   "cell_type": "code",
   "execution_count": 28,
   "metadata": {},
   "outputs": [
    {
     "name": "stdout",
     "output_type": "stream",
     "text": [
      "('line_03', 'item_014')\n"
     ]
    },
    {
     "data": {
      "text/plain": [
       "[(('line_03', 'item_014'), (500, '2010-01-01 07:17:46')),\n",
       " (('line_03', 'item_014'), (719, '2010-02-10 07:27:31')),\n",
       " (('line_03', 'item_014'), (600, '2010-03-16 14:29:19')),\n",
       " (('line_03', 'item_014'), (775, '2010-03-18 07:06:28')),\n",
       " (('line_03', 'item_014'), (848, '2010-03-28 13:38:06')),\n",
       " (('line_03', 'item_014'), (378, '2010-04-09 21:46:34')),\n",
       " (('line_03', 'item_014'), (829, '2010-05-06 05:24:26')),\n",
       " (('line_03', 'item_014'), (962, '2010-05-07 05:05:58')),\n",
       " (('line_03', 'item_014'), (266, '2010-05-15 07:01:28')),\n",
       " (('line_03', 'item_014'), (541, '2010-05-30 10:47:38')),\n",
       " (('line_03', 'item_014'), (68, '2010-06-04 09:18:50')),\n",
       " (('line_03', 'item_014'), (613, '2010-06-05 06:20:29')),\n",
       " (('line_03', 'item_014'), (150, '2010-06-08 15:53:09')),\n",
       " (('line_03', 'item_014'), (932, '2010-06-20 08:47:08')),\n",
       " (('line_03', 'item_014'), (329, '2010-06-25 13:37:22')),\n",
       " (('line_03', 'item_014'), (416, '2010-06-25 16:50:14')),\n",
       " (('line_03', 'item_014'), (424, '2010-06-27 09:58:43')),\n",
       " (('line_03', 'item_014'), (561, '2010-07-02 15:21:54')),\n",
       " (('line_03', 'item_014'), (844, '2010-07-04 06:27:18')),\n",
       " (('line_03', 'item_014'), (901, '2010-07-13 23:54:26')),\n",
       " (('line_03', 'item_014'), (207, '2010-07-19 05:07:51')),\n",
       " (('line_03', 'item_014'), (665, '2010-07-20 22:33:09')),\n",
       " (('line_03', 'item_014'), (866, '2010-07-21 00:44:15')),\n",
       " (('line_03', 'item_014'), (359, '2010-07-26 01:56:39')),\n",
       " (('line_03', 'item_014'), (786, '2010-08-26 01:04:19')),\n",
       " (('line_03', 'item_014'), (249, '2010-09-08 04:47:39'))]"
      ]
     },
     "execution_count": 28,
     "metadata": {},
     "output_type": "execute_result"
    }
   ],
   "source": [
    "sampleLine = tempRdd.first()[0]\n",
    "print(sampleLine)\n",
    "masterDataRdd.map(lambda x: ((x.get(\"lineId\"),x.get(\"itemId\")), (x.get(\"cost\"),str(x.get(\"registryInsertTimestamp\"))) )  )\\\n",
    "            .filter(lambda x: x[0]==sampleLine).sortBy(lambda x: x[1][1]).collect()"
   ]
  },
  {
   "cell_type": "code",
   "execution_count": 29,
   "metadata": {},
   "outputs": [
    {
     "name": "stdout",
     "output_type": "stream",
     "text": [
      "('line_03', 'item_014')\n"
     ]
    },
    {
     "data": {
      "text/plain": [
       "[(('line_03', 'item_014'), '2010-01-01 02:37:50'),\n",
       " (('line_03', 'item_014'), '2010-01-01 20:08:35'),\n",
       " (('line_03', 'item_014'), '2010-01-02 16:15:40'),\n",
       " (('line_03', 'item_014'), '2010-01-03 07:25:50'),\n",
       " (('line_03', 'item_014'), '2010-01-04 07:03:10'),\n",
       " (('line_03', 'item_014'), '2010-01-04 18:17:14'),\n",
       " (('line_03', 'item_014'), '2010-01-06 12:27:57'),\n",
       " (('line_03', 'item_014'), '2010-01-06 22:32:21'),\n",
       " (('line_03', 'item_014'), '2010-01-07 03:38:43'),\n",
       " (('line_03', 'item_014'), '2010-01-07 05:15:52'),\n",
       " (('line_03', 'item_014'), '2010-01-09 15:38:56'),\n",
       " (('line_03', 'item_014'), '2010-01-09 21:08:01'),\n",
       " (('line_03', 'item_014'), '2010-01-10 19:06:41'),\n",
       " (('line_03', 'item_014'), '2010-01-10 20:04:22'),\n",
       " (('line_03', 'item_014'), '2010-01-11 09:15:39'),\n",
       " (('line_03', 'item_014'), '2010-01-13 00:23:29'),\n",
       " (('line_03', 'item_014'), '2010-01-14 01:33:02'),\n",
       " (('line_03', 'item_014'), '2010-01-14 17:29:43'),\n",
       " (('line_03', 'item_014'), '2010-01-14 19:10:45'),\n",
       " (('line_03', 'item_014'), '2010-01-15 00:35:29'),\n",
       " (('line_03', 'item_014'), '2010-01-15 22:20:44'),\n",
       " (('line_03', 'item_014'), '2010-01-16 06:12:30'),\n",
       " (('line_03', 'item_014'), '2010-01-17 21:20:38'),\n",
       " (('line_03', 'item_014'), '2010-01-18 03:43:12'),\n",
       " (('line_03', 'item_014'), '2010-01-19 06:45:45'),\n",
       " (('line_03', 'item_014'), '2010-01-19 09:49:16'),\n",
       " (('line_03', 'item_014'), '2010-01-19 20:17:28'),\n",
       " (('line_03', 'item_014'), '2010-01-21 05:56:56'),\n",
       " (('line_03', 'item_014'), '2010-01-21 11:57:25'),\n",
       " (('line_03', 'item_014'), '2010-01-21 22:00:54'),\n",
       " (('line_03', 'item_014'), '2010-01-22 09:46:29'),\n",
       " (('line_03', 'item_014'), '2010-01-22 14:32:54'),\n",
       " (('line_03', 'item_014'), '2010-01-23 05:23:18'),\n",
       " (('line_03', 'item_014'), '2010-01-24 06:44:33'),\n",
       " (('line_03', 'item_014'), '2010-01-24 21:48:20'),\n",
       " (('line_03', 'item_014'), '2010-01-25 11:46:40'),\n",
       " (('line_03', 'item_014'), '2010-01-27 03:54:17'),\n",
       " (('line_03', 'item_014'), '2010-01-30 03:25:11'),\n",
       " (('line_03', 'item_014'), '2010-01-30 07:27:56'),\n",
       " (('line_03', 'item_014'), '2010-01-31 18:47:34'),\n",
       " (('line_03', 'item_014'), '2010-02-01 09:03:50'),\n",
       " (('line_03', 'item_014'), '2010-02-02 07:00:02'),\n",
       " (('line_03', 'item_014'), '2010-02-02 23:26:44'),\n",
       " (('line_03', 'item_014'), '2010-02-03 02:03:08'),\n",
       " (('line_03', 'item_014'), '2010-02-04 11:20:22'),\n",
       " (('line_03', 'item_014'), '2010-02-04 17:02:56'),\n",
       " (('line_03', 'item_014'), '2010-02-07 03:23:40'),\n",
       " (('line_03', 'item_014'), '2010-02-09 23:14:06'),\n",
       " (('line_03', 'item_014'), '2010-02-11 09:22:16'),\n",
       " (('line_03', 'item_014'), '2010-02-11 19:45:29'),\n",
       " (('line_03', 'item_014'), '2010-02-12 00:11:06'),\n",
       " (('line_03', 'item_014'), '2010-02-13 01:57:24'),\n",
       " (('line_03', 'item_014'), '2010-02-13 16:21:48'),\n",
       " (('line_03', 'item_014'), '2010-02-14 16:32:25'),\n",
       " (('line_03', 'item_014'), '2010-02-15 19:35:22'),\n",
       " (('line_03', 'item_014'), '2010-02-16 03:27:12'),\n",
       " (('line_03', 'item_014'), '2010-02-17 05:38:29'),\n",
       " (('line_03', 'item_014'), '2010-02-18 11:09:52'),\n",
       " (('line_03', 'item_014'), '2010-02-19 17:22:25'),\n",
       " (('line_03', 'item_014'), '2010-02-20 20:50:32'),\n",
       " (('line_03', 'item_014'), '2010-02-21 03:31:41'),\n",
       " (('line_03', 'item_014'), '2010-02-21 03:47:37'),\n",
       " (('line_03', 'item_014'), '2010-02-22 12:31:15'),\n",
       " (('line_03', 'item_014'), '2010-02-22 14:18:31'),\n",
       " (('line_03', 'item_014'), '2010-02-22 18:26:22'),\n",
       " (('line_03', 'item_014'), '2010-02-23 12:48:55'),\n",
       " (('line_03', 'item_014'), '2010-02-24 09:24:21'),\n",
       " (('line_03', 'item_014'), '2010-02-25 15:00:38'),\n",
       " (('line_03', 'item_014'), '2010-02-25 18:36:47'),\n",
       " (('line_03', 'item_014'), '2010-02-26 17:48:26'),\n",
       " (('line_03', 'item_014'), '2010-02-27 10:03:14'),\n",
       " (('line_03', 'item_014'), '2010-03-01 06:29:54'),\n",
       " (('line_03', 'item_014'), '2010-03-02 08:31:19'),\n",
       " (('line_03', 'item_014'), '2010-03-03 10:34:03'),\n",
       " (('line_03', 'item_014'), '2010-03-03 20:51:22'),\n",
       " (('line_03', 'item_014'), '2010-03-04 06:52:16'),\n",
       " (('line_03', 'item_014'), '2010-03-04 19:49:52'),\n",
       " (('line_03', 'item_014'), '2010-03-06 09:11:03'),\n",
       " (('line_03', 'item_014'), '2010-03-09 07:34:23'),\n",
       " (('line_03', 'item_014'), '2010-03-10 02:12:21'),\n",
       " (('line_03', 'item_014'), '2010-03-10 21:40:54'),\n",
       " (('line_03', 'item_014'), '2010-03-11 00:11:30'),\n",
       " (('line_03', 'item_014'), '2010-03-12 00:24:21'),\n",
       " (('line_03', 'item_014'), '2010-03-12 10:51:52'),\n",
       " (('line_03', 'item_014'), '2010-03-13 21:14:42'),\n",
       " (('line_03', 'item_014'), '2010-03-14 09:42:32'),\n",
       " (('line_03', 'item_014'), '2010-03-14 20:29:46'),\n",
       " (('line_03', 'item_014'), '2010-03-16 18:52:06'),\n",
       " (('line_03', 'item_014'), '2010-03-19 05:26:10'),\n",
       " (('line_03', 'item_014'), '2010-03-19 20:12:10'),\n",
       " (('line_03', 'item_014'), '2010-03-20 00:07:16'),\n",
       " (('line_03', 'item_014'), '2010-03-20 01:07:58'),\n",
       " (('line_03', 'item_014'), '2010-03-21 21:57:36'),\n",
       " (('line_03', 'item_014'), '2010-03-22 08:19:35'),\n",
       " (('line_03', 'item_014'), '2010-03-23 06:35:30'),\n",
       " (('line_03', 'item_014'), '2010-03-23 15:38:59'),\n",
       " (('line_03', 'item_014'), '2010-03-24 02:30:29'),\n",
       " (('line_03', 'item_014'), '2010-03-24 04:10:31'),\n",
       " (('line_03', 'item_014'), '2010-03-25 06:18:41'),\n",
       " (('line_03', 'item_014'), '2010-03-26 03:35:58'),\n",
       " (('line_03', 'item_014'), '2010-03-26 04:03:01'),\n",
       " (('line_03', 'item_014'), '2010-03-26 06:43:59'),\n",
       " (('line_03', 'item_014'), '2010-03-28 02:49:41'),\n",
       " (('line_03', 'item_014'), '2010-03-28 09:21:11'),\n",
       " (('line_03', 'item_014'), '2010-03-28 10:59:08'),\n",
       " (('line_03', 'item_014'), '2010-03-28 23:18:07'),\n",
       " (('line_03', 'item_014'), '2010-03-30 05:53:38'),\n",
       " (('line_03', 'item_014'), '2010-03-31 20:18:35'),\n",
       " (('line_03', 'item_014'), '2010-04-01 13:50:27'),\n",
       " (('line_03', 'item_014'), '2010-04-03 04:07:04'),\n",
       " (('line_03', 'item_014'), '2010-04-04 09:13:48'),\n",
       " (('line_03', 'item_014'), '2010-04-04 12:22:22'),\n",
       " (('line_03', 'item_014'), '2010-04-05 06:50:43'),\n",
       " (('line_03', 'item_014'), '2010-04-05 08:51:10'),\n",
       " (('line_03', 'item_014'), '2010-04-05 20:27:52'),\n",
       " (('line_03', 'item_014'), '2010-04-07 18:59:56'),\n",
       " (('line_03', 'item_014'), '2010-04-08 15:20:14'),\n",
       " (('line_03', 'item_014'), '2010-04-09 01:22:03'),\n",
       " (('line_03', 'item_014'), '2010-04-10 17:26:15'),\n",
       " (('line_03', 'item_014'), '2010-04-12 01:43:23'),\n",
       " (('line_03', 'item_014'), '2010-04-12 04:03:57'),\n",
       " (('line_03', 'item_014'), '2010-04-13 16:55:54'),\n",
       " (('line_03', 'item_014'), '2010-04-14 20:47:24'),\n",
       " (('line_03', 'item_014'), '2010-04-15 00:05:53'),\n",
       " (('line_03', 'item_014'), '2010-04-15 21:44:59'),\n",
       " (('line_03', 'item_014'), '2010-04-16 14:52:17'),\n",
       " (('line_03', 'item_014'), '2010-04-16 21:19:03'),\n",
       " (('line_03', 'item_014'), '2010-04-17 12:38:42'),\n",
       " (('line_03', 'item_014'), '2010-04-18 02:01:26'),\n",
       " (('line_03', 'item_014'), '2010-04-18 23:01:55'),\n",
       " (('line_03', 'item_014'), '2010-04-18 23:11:12'),\n",
       " (('line_03', 'item_014'), '2010-04-20 06:09:39'),\n",
       " (('line_03', 'item_014'), '2010-04-21 04:04:22'),\n",
       " (('line_03', 'item_014'), '2010-04-21 17:59:08'),\n",
       " (('line_03', 'item_014'), '2010-04-22 03:24:41'),\n",
       " (('line_03', 'item_014'), '2010-04-22 05:04:26'),\n",
       " (('line_03', 'item_014'), '2010-04-22 21:17:49'),\n",
       " (('line_03', 'item_014'), '2010-04-23 01:18:34'),\n",
       " (('line_03', 'item_014'), '2010-04-23 14:16:43'),\n",
       " (('line_03', 'item_014'), '2010-04-24 15:29:04'),\n",
       " (('line_03', 'item_014'), '2010-04-24 22:18:48'),\n",
       " (('line_03', 'item_014'), '2010-04-26 09:09:46'),\n",
       " (('line_03', 'item_014'), '2010-04-28 01:31:01'),\n",
       " (('line_03', 'item_014'), '2010-04-28 16:19:34'),\n",
       " (('line_03', 'item_014'), '2010-04-29 05:17:29'),\n",
       " (('line_03', 'item_014'), '2010-04-29 06:26:19'),\n",
       " (('line_03', 'item_014'), '2010-04-30 16:35:57'),\n",
       " (('line_03', 'item_014'), '2010-05-04 20:02:09'),\n",
       " (('line_03', 'item_014'), '2010-05-04 20:56:37'),\n",
       " (('line_03', 'item_014'), '2010-05-05 04:10:53'),\n",
       " (('line_03', 'item_014'), '2010-05-05 09:02:08'),\n",
       " (('line_03', 'item_014'), '2010-05-05 16:03:22'),\n",
       " (('line_03', 'item_014'), '2010-05-05 20:50:09'),\n",
       " (('line_03', 'item_014'), '2010-05-06 11:23:07'),\n",
       " (('line_03', 'item_014'), '2010-05-07 05:02:45'),\n",
       " (('line_03', 'item_014'), '2010-05-07 11:59:26'),\n",
       " (('line_03', 'item_014'), '2010-05-09 01:21:52'),\n",
       " (('line_03', 'item_014'), '2010-05-10 15:04:44'),\n",
       " (('line_03', 'item_014'), '2010-05-11 06:03:32'),\n",
       " (('line_03', 'item_014'), '2010-05-11 22:41:34'),\n",
       " (('line_03', 'item_014'), '2010-05-12 12:50:30'),\n",
       " (('line_03', 'item_014'), '2010-05-12 15:08:31'),\n",
       " (('line_03', 'item_014'), '2010-05-13 15:31:00'),\n",
       " (('line_03', 'item_014'), '2010-05-16 17:25:48'),\n",
       " (('line_03', 'item_014'), '2010-05-17 15:45:10'),\n",
       " (('line_03', 'item_014'), '2010-05-18 22:51:04'),\n",
       " (('line_03', 'item_014'), '2010-05-20 21:11:51'),\n",
       " (('line_03', 'item_014'), '2010-05-20 22:10:28'),\n",
       " (('line_03', 'item_014'), '2010-05-23 02:21:35'),\n",
       " (('line_03', 'item_014'), '2010-05-23 04:35:38'),\n",
       " (('line_03', 'item_014'), '2010-05-23 05:14:10'),\n",
       " (('line_03', 'item_014'), '2010-05-23 13:15:42'),\n",
       " (('line_03', 'item_014'), '2010-05-23 15:49:10'),\n",
       " (('line_03', 'item_014'), '2010-05-23 17:28:22'),\n",
       " (('line_03', 'item_014'), '2010-05-23 20:25:27'),\n",
       " (('line_03', 'item_014'), '2010-05-24 02:49:01'),\n",
       " (('line_03', 'item_014'), '2010-05-24 08:09:59'),\n",
       " (('line_03', 'item_014'), '2010-05-25 17:23:25'),\n",
       " (('line_03', 'item_014'), '2010-05-26 15:10:11'),\n",
       " (('line_03', 'item_014'), '2010-05-27 11:16:10'),\n",
       " (('line_03', 'item_014'), '2010-05-29 04:37:27'),\n",
       " (('line_03', 'item_014'), '2010-05-29 22:22:52'),\n",
       " (('line_03', 'item_014'), '2010-05-30 07:08:42'),\n",
       " (('line_03', 'item_014'), '2010-06-01 05:55:10'),\n",
       " (('line_03', 'item_014'), '2010-06-02 07:36:25'),\n",
       " (('line_03', 'item_014'), '2010-06-03 15:47:56'),\n",
       " (('line_03', 'item_014'), '2010-06-03 18:27:14'),\n",
       " (('line_03', 'item_014'), '2010-06-05 06:26:33'),\n",
       " (('line_03', 'item_014'), '2010-06-05 06:56:12'),\n",
       " (('line_03', 'item_014'), '2010-06-07 02:48:35'),\n",
       " (('line_03', 'item_014'), '2010-06-07 05:16:57'),\n",
       " (('line_03', 'item_014'), '2010-06-07 08:40:56'),\n",
       " (('line_03', 'item_014'), '2010-06-07 14:36:22'),\n",
       " (('line_03', 'item_014'), '2010-06-08 06:11:56'),\n",
       " (('line_03', 'item_014'), '2010-06-10 10:14:32'),\n",
       " (('line_03', 'item_014'), '2010-06-10 20:19:01'),\n",
       " (('line_03', 'item_014'), '2010-06-11 11:59:51'),\n",
       " (('line_03', 'item_014'), '2010-06-11 20:31:27'),\n",
       " (('line_03', 'item_014'), '2010-06-13 10:44:49'),\n",
       " (('line_03', 'item_014'), '2010-06-14 06:18:18'),\n",
       " (('line_03', 'item_014'), '2010-06-14 09:26:04'),\n",
       " (('line_03', 'item_014'), '2010-06-16 09:54:34'),\n",
       " (('line_03', 'item_014'), '2010-06-16 10:48:29'),\n",
       " (('line_03', 'item_014'), '2010-06-16 20:39:18'),\n",
       " (('line_03', 'item_014'), '2010-06-17 17:15:22'),\n",
       " (('line_03', 'item_014'), '2010-06-19 03:38:56'),\n",
       " (('line_03', 'item_014'), '2010-06-19 22:01:11'),\n",
       " (('line_03', 'item_014'), '2010-06-19 22:30:07'),\n",
       " (('line_03', 'item_014'), '2010-06-20 00:28:55'),\n",
       " (('line_03', 'item_014'), '2010-06-21 06:27:18'),\n",
       " (('line_03', 'item_014'), '2010-06-22 07:45:43'),\n",
       " (('line_03', 'item_014'), '2010-06-22 11:18:04'),\n",
       " (('line_03', 'item_014'), '2010-06-22 19:22:27'),\n",
       " (('line_03', 'item_014'), '2010-06-22 20:44:58'),\n",
       " (('line_03', 'item_014'), '2010-06-23 08:03:05'),\n",
       " (('line_03', 'item_014'), '2010-06-24 10:39:42'),\n",
       " (('line_03', 'item_014'), '2010-06-25 01:05:02'),\n",
       " (('line_03', 'item_014'), '2010-06-25 01:21:29'),\n",
       " (('line_03', 'item_014'), '2010-06-25 07:55:56'),\n",
       " (('line_03', 'item_014'), '2010-06-25 09:24:38'),\n",
       " (('line_03', 'item_014'), '2010-06-26 06:36:47'),\n",
       " (('line_03', 'item_014'), '2010-06-26 15:15:54'),\n",
       " (('line_03', 'item_014'), '2010-06-26 17:35:07'),\n",
       " (('line_03', 'item_014'), '2010-06-26 22:16:10'),\n",
       " (('line_03', 'item_014'), '2010-06-27 13:49:53'),\n",
       " (('line_03', 'item_014'), '2010-06-27 17:12:06'),\n",
       " (('line_03', 'item_014'), '2010-06-29 03:31:54'),\n",
       " (('line_03', 'item_014'), '2010-06-29 04:03:30'),\n",
       " (('line_03', 'item_014'), '2010-06-29 19:29:33'),\n",
       " (('line_03', 'item_014'), '2010-06-30 04:45:07'),\n",
       " (('line_03', 'item_014'), '2010-06-30 12:49:54'),\n",
       " (('line_03', 'item_014'), '2010-06-30 17:03:20'),\n",
       " (('line_03', 'item_014'), '2010-07-01 08:55:45'),\n",
       " (('line_03', 'item_014'), '2010-07-02 14:40:07'),\n",
       " (('line_03', 'item_014'), '2010-07-02 19:23:11'),\n",
       " (('line_03', 'item_014'), '2010-07-03 04:38:07'),\n",
       " (('line_03', 'item_014'), '2010-07-04 08:24:22'),\n",
       " (('line_03', 'item_014'), '2010-07-04 14:02:55'),\n",
       " (('line_03', 'item_014'), '2010-07-05 02:15:52'),\n",
       " (('line_03', 'item_014'), '2010-07-06 21:04:25'),\n",
       " (('line_03', 'item_014'), '2010-07-08 00:22:02'),\n",
       " (('line_03', 'item_014'), '2010-07-08 04:31:37'),\n",
       " (('line_03', 'item_014'), '2010-07-09 04:00:08'),\n",
       " (('line_03', 'item_014'), '2010-07-10 00:52:11'),\n",
       " (('line_03', 'item_014'), '2010-07-10 07:34:20'),\n",
       " (('line_03', 'item_014'), '2010-07-10 09:51:32'),\n",
       " (('line_03', 'item_014'), '2010-07-11 07:24:56'),\n",
       " (('line_03', 'item_014'), '2010-07-11 12:22:20'),\n",
       " (('line_03', 'item_014'), '2010-07-12 05:41:11'),\n",
       " (('line_03', 'item_014'), '2010-07-12 06:27:37'),\n",
       " (('line_03', 'item_014'), '2010-07-13 04:13:12'),\n",
       " (('line_03', 'item_014'), '2010-07-14 18:06:52'),\n",
       " (('line_03', 'item_014'), '2010-07-14 19:25:10'),\n",
       " (('line_03', 'item_014'), '2010-07-15 09:50:46'),\n",
       " (('line_03', 'item_014'), '2010-07-15 12:06:43'),\n",
       " (('line_03', 'item_014'), '2010-07-15 13:12:59'),\n",
       " (('line_03', 'item_014'), '2010-07-15 17:52:09'),\n",
       " (('line_03', 'item_014'), '2010-07-16 00:04:44'),\n",
       " (('line_03', 'item_014'), '2010-07-16 13:21:09'),\n",
       " (('line_03', 'item_014'), '2010-07-17 09:21:46'),\n",
       " (('line_03', 'item_014'), '2010-07-17 10:00:04'),\n",
       " (('line_03', 'item_014'), '2010-07-18 10:38:15'),\n",
       " (('line_03', 'item_014'), '2010-07-18 15:33:09'),\n",
       " (('line_03', 'item_014'), '2010-07-18 16:49:56'),\n",
       " (('line_03', 'item_014'), '2010-07-19 22:57:54'),\n",
       " (('line_03', 'item_014'), '2010-07-20 13:12:02'),\n",
       " (('line_03', 'item_014'), '2010-07-20 13:54:36'),\n",
       " (('line_03', 'item_014'), '2010-07-21 12:22:37'),\n",
       " (('line_03', 'item_014'), '2010-07-21 23:26:50'),\n",
       " (('line_03', 'item_014'), '2010-07-22 14:13:20'),\n",
       " (('line_03', 'item_014'), '2010-07-23 03:14:27'),\n",
       " (('line_03', 'item_014'), '2010-07-23 04:44:15'),\n",
       " (('line_03', 'item_014'), '2010-07-24 02:33:58'),\n",
       " (('line_03', 'item_014'), '2010-07-24 09:10:10'),\n",
       " (('line_03', 'item_014'), '2010-07-25 22:28:00'),\n",
       " (('line_03', 'item_014'), '2010-07-26 01:28:53'),\n",
       " (('line_03', 'item_014'), '2010-07-26 03:41:13'),\n",
       " (('line_03', 'item_014'), '2010-07-26 13:02:38'),\n",
       " (('line_03', 'item_014'), '2010-07-26 22:49:57'),\n",
       " (('line_03', 'item_014'), '2010-07-27 05:16:20'),\n",
       " (('line_03', 'item_014'), '2010-07-27 22:05:06'),\n",
       " (('line_03', 'item_014'), '2010-07-28 09:22:34'),\n",
       " (('line_03', 'item_014'), '2010-07-31 09:44:32'),\n",
       " (('line_03', 'item_014'), '2010-07-31 11:01:12'),\n",
       " (('line_03', 'item_014'), '2010-08-02 11:09:29'),\n",
       " (('line_03', 'item_014'), '2010-08-03 11:01:53'),\n",
       " (('line_03', 'item_014'), '2010-08-03 21:14:22'),\n",
       " (('line_03', 'item_014'), '2010-08-05 01:05:18'),\n",
       " (('line_03', 'item_014'), '2010-08-05 22:45:27'),\n",
       " (('line_03', 'item_014'), '2010-08-08 13:43:02'),\n",
       " (('line_03', 'item_014'), '2010-08-08 18:21:23'),\n",
       " (('line_03', 'item_014'), '2010-08-09 06:16:48'),\n",
       " (('line_03', 'item_014'), '2010-08-09 15:01:18'),\n",
       " (('line_03', 'item_014'), '2010-08-09 20:44:06'),\n",
       " (('line_03', 'item_014'), '2010-08-11 03:51:47'),\n",
       " (('line_03', 'item_014'), '2010-08-11 15:47:22'),\n",
       " (('line_03', 'item_014'), '2010-08-12 14:21:32'),\n",
       " (('line_03', 'item_014'), '2010-08-13 22:15:02'),\n",
       " (('line_03', 'item_014'), '2010-08-14 14:29:07'),\n",
       " (('line_03', 'item_014'), '2010-08-16 12:29:47'),\n",
       " (('line_03', 'item_014'), '2010-08-17 08:01:09'),\n",
       " (('line_03', 'item_014'), '2010-08-17 09:39:51'),\n",
       " (('line_03', 'item_014'), '2010-08-18 00:02:28'),\n",
       " (('line_03', 'item_014'), '2010-08-19 06:41:00'),\n",
       " (('line_03', 'item_014'), '2010-08-20 01:11:25'),\n",
       " (('line_03', 'item_014'), '2010-08-20 06:44:38'),\n",
       " (('line_03', 'item_014'), '2010-08-20 08:29:05'),\n",
       " (('line_03', 'item_014'), '2010-08-21 04:19:29'),\n",
       " (('line_03', 'item_014'), '2010-08-22 04:27:00'),\n",
       " (('line_03', 'item_014'), '2010-08-22 05:31:24'),\n",
       " (('line_03', 'item_014'), '2010-08-22 11:24:50'),\n",
       " (('line_03', 'item_014'), '2010-08-22 12:29:10'),\n",
       " (('line_03', 'item_014'), '2010-08-23 08:54:07'),\n",
       " (('line_03', 'item_014'), '2010-08-23 20:59:05'),\n",
       " (('line_03', 'item_014'), '2010-08-24 16:43:34'),\n",
       " (('line_03', 'item_014'), '2010-08-25 06:32:28'),\n",
       " (('line_03', 'item_014'), '2010-08-25 11:57:14'),\n",
       " (('line_03', 'item_014'), '2010-08-25 19:08:04'),\n",
       " (('line_03', 'item_014'), '2010-08-25 22:42:06'),\n",
       " (('line_03', 'item_014'), '2010-08-27 12:32:03'),\n",
       " (('line_03', 'item_014'), '2010-08-28 07:17:43'),\n",
       " (('line_03', 'item_014'), '2010-08-28 14:20:13'),\n",
       " (('line_03', 'item_014'), '2010-08-29 12:11:54'),\n",
       " (('line_03', 'item_014'), '2010-08-29 22:30:33'),\n",
       " (('line_03', 'item_014'), '2010-08-30 11:46:16'),\n",
       " (('line_03', 'item_014'), '2010-08-31 14:23:07'),\n",
       " (('line_03', 'item_014'), '2010-08-31 17:22:41'),\n",
       " (('line_03', 'item_014'), '2010-09-01 05:30:04'),\n",
       " (('line_03', 'item_014'), '2010-09-02 07:41:40'),\n",
       " (('line_03', 'item_014'), '2010-09-03 06:23:03'),\n",
       " (('line_03', 'item_014'), '2010-09-03 07:15:56'),\n",
       " (('line_03', 'item_014'), '2010-09-03 15:12:14'),\n",
       " (('line_03', 'item_014'), '2010-09-03 16:41:53'),\n",
       " (('line_03', 'item_014'), '2010-09-03 17:38:40'),\n",
       " (('line_03', 'item_014'), '2010-09-04 01:18:00'),\n",
       " (('line_03', 'item_014'), '2010-09-07 08:39:43'),\n",
       " (('line_03', 'item_014'), '2010-09-07 17:24:14'),\n",
       " (('line_03', 'item_014'), '2010-09-07 23:03:41'),\n",
       " (('line_03', 'item_014'), '2010-09-09 08:18:56'),\n",
       " (('line_03', 'item_014'), '2010-09-10 09:03:23'),\n",
       " (('line_03', 'item_014'), '2010-09-10 17:07:40'),\n",
       " (('line_03', 'item_014'), '2010-09-10 17:31:29'),\n",
       " (('line_03', 'item_014'), '2010-09-11 08:08:26'),\n",
       " (('line_03', 'item_014'), '2010-09-11 08:59:17'),\n",
       " (('line_03', 'item_014'), '2010-09-11 09:21:41'),\n",
       " (('line_03', 'item_014'), '2010-09-11 10:29:29'),\n",
       " (('line_03', 'item_014'), '2010-09-11 17:52:02'),\n",
       " (('line_03', 'item_014'), '2010-09-12 05:35:32'),\n",
       " (('line_03', 'item_014'), '2010-09-12 19:13:12'),\n",
       " (('line_03', 'item_014'), '2010-09-13 00:27:26'),\n",
       " (('line_03', 'item_014'), '2010-09-15 14:11:30'),\n",
       " (('line_03', 'item_014'), '2010-09-17 02:27:49'),\n",
       " (('line_03', 'item_014'), '2010-09-17 20:04:33'),\n",
       " (('line_03', 'item_014'), '2010-09-18 04:11:57')]"
      ]
     },
     "execution_count": 29,
     "metadata": {},
     "output_type": "execute_result"
    }
   ],
   "source": [
    "print(sampleLine)\n",
    "logRdd.map(lambda x: ((x.get(\"lineId\"),x.get(\"itemId\")), str(x.get(\"creationDate\"))) )\\\n",
    "            .filter(lambda x: x[0]==(sampleLine)).sortBy(lambda x: x[1][1]).collect()"
   ]
  },
  {
   "cell_type": "markdown",
   "metadata": {},
   "source": [
    "## Step1: start with all possible combinations of log/master regardless the timestamp"
   ]
  },
  {
   "cell_type": "code",
   "execution_count": 30,
   "metadata": {},
   "outputs": [
    {
     "data": {
      "text/plain": [
       "(('line_05', 'item_008'),\n",
       " ({'lineId': 'line_05',\n",
       "   'itemId': 'item_008',\n",
       "   'creationDate': datetime.datetime(2010, 1, 1, 2, 19, 37),\n",
       "   'qty': 481},\n",
       "  {'lineId': 'line_05',\n",
       "   'itemId': 'item_008',\n",
       "   'registryInsertTimestamp': datetime.datetime(2010, 6, 11, 15, 23, 55),\n",
       "   'cost': 102}))"
      ]
     },
     "execution_count": 30,
     "metadata": {},
     "output_type": "execute_result"
    }
   ],
   "source": [
    "step1 = logRdd.map(lambda x: ((x.get(\"lineId\"),x.get(\"itemId\")),x))\\\n",
    "                .join(masterDataRdd.map(lambda x: ((x.get(\"lineId\"),x.get(\"itemId\")),x)))\n",
    "step1.first()"
   ]
  },
  {
   "cell_type": "markdown",
   "metadata": {},
   "source": [
    "## Step2: reshape the rdd to create the unique ID needed - (lineId,ItemId,creationDate)"
   ]
  },
  {
   "cell_type": "code",
   "execution_count": 31,
   "metadata": {},
   "outputs": [
    {
     "data": {
      "text/plain": [
       "{'key': (('line_05', 'item_008'), datetime.datetime(2010, 1, 1, 2, 19, 37)),\n",
       " 'value': {'deltaTime': datetime.timedelta(days=-162, seconds=39342),\n",
       "  'logLine': {'lineId': 'line_05',\n",
       "   'itemId': 'item_008',\n",
       "   'creationDate': datetime.datetime(2010, 1, 1, 2, 19, 37),\n",
       "   'qty': 481},\n",
       "  'masterLine': {'lineId': 'line_05',\n",
       "   'itemId': 'item_008',\n",
       "   'registryInsertTimestamp': datetime.datetime(2010, 6, 11, 15, 23, 55),\n",
       "   'cost': 102}}}"
      ]
     },
     "execution_count": 31,
     "metadata": {},
     "output_type": "execute_result"
    }
   ],
   "source": [
    "#log data is leading\n",
    "def linePrepare(row):\n",
    "    key = (row[0],row[1][0].get(\"creationDate\"))\n",
    "    value = {\"deltaTime\":row[1][0].get(\"creationDate\")-row[1][1].get(\"registryInsertTimestamp\"),\n",
    "            \"logLine\":row[1][0],\"masterLine\":row[1][1]}\n",
    "    return {\"key\":key,\"value\":value}\n",
    "\n",
    "step2 = step1.map(lambda x: linePrepare(x)).persist()\n",
    "step2.first()"
   ]
  },
  {
   "cell_type": "markdown",
   "metadata": {},
   "source": [
    "## Step3: Reducing to Select only the correct value"
   ]
  },
  {
   "cell_type": "code",
   "execution_count": 32,
   "metadata": {},
   "outputs": [
    {
     "data": {
      "text/plain": [
       "25000"
      ]
     },
     "execution_count": 32,
     "metadata": {},
     "output_type": "execute_result"
    }
   ],
   "source": [
    "def reduceFun(val1,val2):\n",
    "    return val1 if val1.get(\"deltaTime\") < val2.get(\"deltaTime\") else val2\n",
    "\n",
    "step3 = step2.map(lambda x: (x.get(\"key\"),x.get(\"value\"))).reduceByKey(lambda x,y: reduceFun(x,y))\n",
    "step3.count()"
   ]
  },
  {
   "cell_type": "code",
   "execution_count": 33,
   "metadata": {},
   "outputs": [
    {
     "data": {
      "text/plain": [
       "((('line_05', 'item_008'), datetime.datetime(2010, 1, 10, 10, 21, 45)),\n",
       " {'deltaTime': datetime.timedelta(days=-247, seconds=22550),\n",
       "  'logLine': {'lineId': 'line_05',\n",
       "   'itemId': 'item_008',\n",
       "   'creationDate': datetime.datetime(2010, 1, 10, 10, 21, 45),\n",
       "   'qty': 852},\n",
       "  'masterLine': {'lineId': 'line_05',\n",
       "   'itemId': 'item_008',\n",
       "   'registryInsertTimestamp': datetime.datetime(2010, 9, 14, 4, 5, 55),\n",
       "   'cost': 129}})"
      ]
     },
     "execution_count": 33,
     "metadata": {},
     "output_type": "execute_result"
    }
   ],
   "source": [
    "## it looks like correct... lets make a check\n",
    "step3.filter(lambda x: x[1].get(\"deltaTime\")<timedelta(0)).first() ##a negative value?"
   ]
  },
  {
   "cell_type": "code",
   "execution_count": 34,
   "metadata": {},
   "outputs": [
    {
     "name": "stdout",
     "output_type": "stream",
     "text": [
      "line_05-item_008 @2010-01-01 02:19:37\n",
      "\t[2010-06-11 15:23:55] - 102€\n",
      "\t[2010-03-07 13:32:58] - 869€\n",
      "\t[2010-03-01 21:53:17] - 985€\n",
      "\t[2010-07-29 14:52:25] - 756€\n",
      "\t[2010-03-24 17:44:15] - 246€\n",
      "\t[2010-03-23 02:03:38] - 970€\n",
      "\t[2010-03-16 13:41:56] - 988€\n",
      "\t[2010-02-06 12:32:15] - 921€\n",
      "\t[2010-09-04 00:37:45] - 31€\n",
      "\t[2010-07-16 18:30:33] - 210€\n",
      "\t[2010-03-16 01:04:02] - 19€\n",
      "\t[2010-04-01 10:20:51] - 790€\n",
      "\t[2010-09-14 04:05:55] - 129€\n",
      "\t[2010-01-14 11:01:39] - 266€\n",
      "\t[2010-04-29 16:28:54] - 371€\n",
      "\t[2010-09-13 23:17:04] - 123€\n",
      "\t[2010-05-16 15:48:11] - 576€\n",
      "\t[2010-03-09 20:55:56] - 569€\n",
      "\t[2010-06-26 09:46:53] - 83€\n",
      "\t[2010-02-16 23:33:41] - 20€\n"
     ]
    }
   ],
   "source": [
    "def lineFormatter(row):\n",
    "    masterLine = row.get(\"value\").get(\"masterLine\")\n",
    "    return \"[{ts}] - {cost}€\".format(ts=masterLine.get(\"registryInsertTimestamp\"),cost=masterLine.get(\"cost\"))\n",
    "sampleRowKey = step2.first().get(\"key\")\n",
    "print(\"{line}-{item} @{ts}\".format(ts=str(sampleRowKey[1]),\n",
    "                          line=sampleRowKey[0][0],item=sampleRowKey[0][1]))\n",
    "print(\"\\t\"+\"\\n\\t\".join([lineFormatter(k) for k in step2.filter(lambda x: x.get(\"key\") == sampleRowKey).take(20)]))"
   ]
  },
  {
   "cell_type": "code",
   "execution_count": 35,
   "metadata": {},
   "outputs": [
    {
     "name": "stdout",
     "output_type": "stream",
     "text": [
      "line_05-item_008 @2010-04-01 15:04:20\n",
      "\t[2010-09-14 04:05:55] - 129€\n",
      "\t[2010-09-13 23:17:04] - 123€\n",
      "\t[2010-09-04 00:37:45] - 31€\n",
      "\t[2010-08-28 13:12:35] - 485€\n",
      "\t[2010-07-29 14:52:25] - 756€\n",
      "\t[2010-07-16 18:30:33] - 210€\n",
      "\t[2010-06-26 09:46:53] - 83€\n",
      "\t[2010-06-19 07:02:57] - 356€\n",
      "\t[2010-06-11 15:23:55] - 102€\n",
      "\t[2010-05-16 15:48:11] - 576€\n",
      "\t[2010-05-16 09:46:38] - 178€\n",
      "\t[2010-04-29 16:28:54] - 371€\n",
      "\t[2010-04-02 04:02:39] - 959€\n",
      "\t[2010-04-01 10:20:51] - 790€\n",
      "\t[2010-03-29 21:39:31] - 757€\n",
      "\t[2010-03-24 17:44:15] - 246€\n",
      "\t[2010-03-23 02:03:38] - 970€\n",
      "\t[2010-03-16 13:41:56] - 988€\n",
      "\t[2010-03-16 01:04:02] - 19€\n",
      "\t[2010-03-15 15:48:22] - 176€\n",
      "\t[2010-03-09 20:55:56] - 569€\n",
      "\t[2010-03-09 05:58:05] - 139€\n",
      "\t[2010-03-08 04:17:50] - 148€\n",
      "\t[2010-03-07 13:32:58] - 869€\n",
      "\t[2010-03-01 21:53:17] - 985€\n"
     ]
    }
   ],
   "source": [
    "sampleRowKey2 = step2.filter(lambda x: x.get(\"key\")[1]>datetime(2010,4,1)).first().get(\"key\")\n",
    "print(\"{line}-{item} @{ts}\".format(ts=str(sampleRowKey2[1]),\n",
    "                          line=sampleRowKey2[0][0],item=sampleRowKey2[0][1]))\n",
    "print(\"\\t\"+\"\\n\\t\".join([lineFormatter(k) for k in step2.filter(lambda x: x.get(\"key\") == sampleRowKey2)\\\n",
    "                        .top(25,key=lambda x: x.get(\"value\").get(\"masterLine\").get(\"registryInsertTimestamp\"))]))"
   ]
  },
  {
   "cell_type": "markdown",
   "metadata": {},
   "source": [
    "## Step3: lets try again!"
   ]
  },
  {
   "cell_type": "code",
   "execution_count": 36,
   "metadata": {},
   "outputs": [
    {
     "data": {
      "text/plain": [
       "23796"
      ]
     },
     "execution_count": 36,
     "metadata": {},
     "output_type": "execute_result"
    }
   ],
   "source": [
    "def reduceFun(val1,val2):\n",
    "    return val1 if val1.get(\"deltaTime\") < val2.get(\"deltaTime\") else val2\n",
    "step3_1 = step2.map(lambda x: (x.get(\"key\"),x.get(\"value\"))).filter(lambda x: x[1].get(\"deltaTime\")>=timedelta(0))\\\n",
    "            .reduceByKey(lambda x,y: reduceFun(x,y))\n",
    "step3_1.count()"
   ]
  },
  {
   "cell_type": "markdown",
   "metadata": {},
   "source": [
    "why 23883?? we lost some rows"
   ]
  },
  {
   "cell_type": "code",
   "execution_count": 37,
   "metadata": {},
   "outputs": [
    {
     "data": {
      "text/plain": [
       "[(('line_05', 'item_008'), (29, 0, 0)),\n",
       " (('line_02', 'item_011'), (18, 0, 0)),\n",
       " (('line_02', 'item_011'), (18, 0, 0)),\n",
       " (('line_04', 'item_002'), (22, 0, 0)),\n",
       " (('line_04', 'item_002'), (22, 0, 0)),\n",
       " (('line_01', 'item_005'), (18, 0, 0)),\n",
       " (('line_01', 'item_005'), (18, 0, 0)),\n",
       " (('line_03', 'item_007'), (25, 0, 0)),\n",
       " (('line_01', 'item_003'), (22, 0, 0)),\n",
       " (('line_03', 'item_004'), (14, 0, 0)),\n",
       " (('line_03', 'item_005'), (21, 0, 0)),\n",
       " (('line_03', 'item_009'), (21, 0, 0)),\n",
       " (('line_03', 'item_009'), (21, 0, 0)),\n",
       " (('line_03', 'item_009'), (21, 0, 0)),\n",
       " (('line_03', 'item_009'), (21, 0, 0)),\n",
       " (('line_02', 'item_014'), (25, 0, 0)),\n",
       " (('line_05', 'item_007'), (17, 0, 0)),\n",
       " (('line_05', 'item_007'), (17, 0, 0)),\n",
       " (('line_05', 'item_007'), (17, 0, 0)),\n",
       " (('line_05', 'item_007'), (17, 0, 0)),\n",
       " (('line_02', 'item_003'), (20, 0, 0)),\n",
       " (('line_02', 'item_003'), (20, 0, 0)),\n",
       " (('line_04', 'item_010'), (23, 0, 0)),\n",
       " (('line_04', 'item_010'), (23, 0, 0)),\n",
       " (('line_04', 'item_010'), (23, 0, 0)),\n",
       " (('line_04', 'item_010'), (23, 0, 0)),\n",
       " (('line_04', 'item_010'), (23, 0, 0)),\n",
       " (('line_04', 'item_010'), (23, 0, 0)),\n",
       " (('line_02', 'item_013'), (27, 0, 0)),\n",
       " (('line_02', 'item_013'), (27, 0, 0)),\n",
       " (('line_02', 'item_013'), (27, 0, 0)),\n",
       " (('line_02', 'item_013'), (27, 0, 0)),\n",
       " (('line_02', 'item_013'), (27, 0, 0)),\n",
       " (('line_02', 'item_013'), (27, 0, 0)),\n",
       " (('line_05', 'item_004'), (20, 0, 0)),\n",
       " (('line_05', 'item_004'), (20, 0, 0)),\n",
       " (('line_05', 'item_004'), (20, 0, 0)),\n",
       " (('line_02', 'item_002'), (18, 0, 0)),\n",
       " (('line_02', 'item_002'), (18, 0, 0)),\n",
       " (('line_02', 'item_002'), (18, 0, 0)),\n",
       " (('line_02', 'item_002'), (18, 0, 0)),\n",
       " (('line_02', 'item_002'), (18, 0, 0)),\n",
       " (('line_02', 'item_002'), (18, 0, 0)),\n",
       " (('line_02', 'item_008'), (21, 0, 0)),\n",
       " (('line_02', 'item_008'), (21, 0, 0)),\n",
       " (('line_02', 'item_008'), (21, 0, 0)),\n",
       " (('line_02', 'item_008'), (21, 0, 0)),\n",
       " (('line_02', 'item_008'), (21, 0, 0)),\n",
       " (('line_02', 'item_008'), (21, 0, 0)),\n",
       " (('line_02', 'item_008'), (21, 0, 0)),\n",
       " (('line_03', 'item_001'), (13, 0, 0)),\n",
       " (('line_03', 'item_001'), (13, 0, 0)),\n",
       " (('line_03', 'item_001'), (13, 0, 0)),\n",
       " (('line_03', 'item_001'), (13, 0, 0)),\n",
       " (('line_03', 'item_001'), (13, 0, 0)),\n",
       " (('line_03', 'item_001'), (13, 0, 0)),\n",
       " (('line_03', 'item_001'), (13, 0, 0)),\n",
       " (('line_03', 'item_001'), (13, 0, 0)),\n",
       " (('line_03', 'item_001'), (13, 0, 0)),\n",
       " (('line_03', 'item_002'), (15, 0, 0)),\n",
       " (('line_03', 'item_002'), (15, 0, 0)),\n",
       " (('line_03', 'item_002'), (15, 0, 0)),\n",
       " (('line_03', 'item_002'), (15, 0, 0)),\n",
       " (('line_05', 'item_012'), (22, 0, 0)),\n",
       " (('line_05', 'item_012'), (22, 0, 0)),\n",
       " (('line_01', 'item_006'), (22, 0, 0)),\n",
       " (('line_05', 'item_011'), (23, 0, 0)),\n",
       " (('line_01', 'item_004'), (25, 0, 0)),\n",
       " (('line_01', 'item_004'), (25, 0, 0)),\n",
       " (('line_01', 'item_004'), (25, 0, 0)),\n",
       " (('line_01', 'item_004'), (25, 0, 0)),\n",
       " (('line_04', 'item_006'), (20, 0, 0)),\n",
       " (('line_04', 'item_006'), (20, 0, 0)),\n",
       " (('line_04', 'item_006'), (20, 0, 0)),\n",
       " (('line_04', 'item_006'), (20, 0, 0)),\n",
       " (('line_04', 'item_006'), (20, 0, 0)),\n",
       " (('line_02', 'item_005'), (21, 0, 0)),\n",
       " (('line_04', 'item_015'), (23, 0, 0)),\n",
       " (('line_04', 'item_015'), (23, 0, 0)),\n",
       " (('line_01', 'item_012'), (16, 0, 0)),\n",
       " (('line_01', 'item_012'), (16, 0, 0)),\n",
       " (('line_01', 'item_012'), (16, 0, 0)),\n",
       " (('line_01', 'item_015'), (26, 0, 0)),\n",
       " (('line_01', 'item_015'), (26, 0, 0)),\n",
       " (('line_01', 'item_015'), (26, 0, 0)),\n",
       " (('line_01', 'item_015'), (26, 0, 0)),\n",
       " (('line_01', 'item_015'), (26, 0, 0)),\n",
       " (('line_01', 'item_015'), (26, 0, 0)),\n",
       " (('line_05', 'item_005'), (18, 0, 0)),\n",
       " (('line_05', 'item_005'), (18, 0, 0)),\n",
       " (('line_05', 'item_005'), (18, 0, 0)),\n",
       " (('line_05', 'item_005'), (18, 0, 0)),\n",
       " (('line_05', 'item_005'), (18, 0, 0)),\n",
       " (('line_05', 'item_005'), (18, 0, 0)),\n",
       " (('line_05', 'item_001'), (25, 0, 0)),\n",
       " (('line_05', 'item_001'), (25, 0, 0)),\n",
       " (('line_04', 'item_011'), (21, 0, 0)),\n",
       " (('line_04', 'item_011'), (21, 0, 0)),\n",
       " (('line_04', 'item_011'), (21, 0, 0)),\n",
       " (('line_01', 'item_011'), (19, 0, 0)),\n",
       " (('line_01', 'item_011'), (19, 0, 0)),\n",
       " (('line_04', 'item_005'), (18, 0, 0)),\n",
       " (('line_04', 'item_005'), (18, 0, 0)),\n",
       " (('line_04', 'item_005'), (18, 0, 0)),\n",
       " (('line_04', 'item_005'), (18, 0, 0)),\n",
       " (('line_04', 'item_005'), (18, 0, 0)),\n",
       " (('line_04', 'item_005'), (18, 0, 0)),\n",
       " (('line_04', 'item_005'), (18, 0, 0)),\n",
       " (('line_04', 'item_005'), (18, 0, 0)),\n",
       " (('line_04', 'item_005'), (18, 0, 0)),\n",
       " (('line_04', 'item_005'), (18, 0, 0)),\n",
       " (('line_01', 'item_013'), (10, 0, 0)),\n",
       " (('line_01', 'item_013'), (10, 0, 0)),\n",
       " (('line_01', 'item_013'), (10, 0, 0)),\n",
       " (('line_01', 'item_013'), (10, 0, 0)),\n",
       " (('line_01', 'item_013'), (10, 0, 0)),\n",
       " (('line_01', 'item_013'), (10, 0, 0)),\n",
       " (('line_05', 'item_014'), (19, 0, 0)),\n",
       " (('line_05', 'item_014'), (19, 0, 0)),\n",
       " (('line_05', 'item_014'), (19, 0, 0)),\n",
       " (('line_05', 'item_014'), (19, 0, 0)),\n",
       " (('line_04', 'item_009'), (18, 0, 0)),\n",
       " (('line_04', 'item_009'), (18, 0, 0)),\n",
       " (('line_01', 'item_001'), (27, 0, 0)),\n",
       " (('line_01', 'item_001'), (27, 0, 0)),\n",
       " (('line_01', 'item_001'), (27, 0, 0)),\n",
       " (('line_01', 'item_001'), (27, 0, 0)),\n",
       " (('line_01', 'item_001'), (27, 0, 0)),\n",
       " (('line_01', 'item_007'), (22, 0, 0)),\n",
       " (('line_01', 'item_007'), (22, 0, 0)),\n",
       " (('line_01', 'item_007'), (22, 0, 0)),\n",
       " (('line_01', 'item_007'), (22, 0, 0)),\n",
       " (('line_01', 'item_007'), (22, 0, 0)),\n",
       " (('line_03', 'item_013'), (16, 0, 0)),\n",
       " (('line_03', 'item_013'), (16, 0, 0)),\n",
       " (('line_04', 'item_007'), (17, 0, 0)),\n",
       " (('line_04', 'item_007'), (17, 0, 0)),\n",
       " (('line_04', 'item_007'), (17, 0, 0)),\n",
       " (('line_04', 'item_007'), (17, 0, 0)),\n",
       " (('line_04', 'item_007'), (17, 0, 0)),\n",
       " (('line_04', 'item_007'), (17, 0, 0)),\n",
       " (('line_04', 'item_007'), (17, 0, 0)),\n",
       " (('line_04', 'item_007'), (17, 0, 0)),\n",
       " (('line_04', 'item_007'), (17, 0, 0)),\n",
       " (('line_04', 'item_007'), (17, 0, 0)),\n",
       " (('line_03', 'item_003'), (28, 0, 0)),\n",
       " (('line_05', 'item_013'), (17, 0, 0)),\n",
       " (('line_03', 'item_008'), (18, 0, 0)),\n",
       " (('line_03', 'item_008'), (18, 0, 0)),\n",
       " (('line_03', 'item_008'), (18, 0, 0)),\n",
       " (('line_04', 'item_012'), (16, 0, 0)),\n",
       " (('line_01', 'item_008'), (23, 0, 0)),\n",
       " (('line_01', 'item_014'), (18, 0, 0)),\n",
       " (('line_01', 'item_014'), (18, 0, 0)),\n",
       " (('line_01', 'item_014'), (18, 0, 0)),\n",
       " (('line_01', 'item_014'), (18, 0, 0)),\n",
       " (('line_01', 'item_014'), (18, 0, 0)),\n",
       " (('line_01', 'item_014'), (18, 0, 0)),\n",
       " (('line_02', 'item_007'), (18, 0, 0)),\n",
       " (('line_02', 'item_007'), (18, 0, 0)),\n",
       " (('line_02', 'item_007'), (18, 0, 0)),\n",
       " (('line_02', 'item_007'), (18, 0, 0)),\n",
       " (('line_02', 'item_007'), (18, 0, 0)),\n",
       " (('line_02', 'item_007'), (18, 0, 0)),\n",
       " (('line_03', 'item_011'), (22, 0, 0)),\n",
       " (('line_03', 'item_011'), (22, 0, 0)),\n",
       " (('line_03', 'item_011'), (22, 0, 0)),\n",
       " (('line_03', 'item_011'), (22, 0, 0)),\n",
       " (('line_05', 'item_006'), (24, 0, 0)),\n",
       " (('line_05', 'item_006'), (24, 0, 0)),\n",
       " (('line_05', 'item_006'), (24, 0, 0)),\n",
       " (('line_05', 'item_006'), (24, 0, 0)),\n",
       " (('line_05', 'item_006'), (24, 0, 0)),\n",
       " (('line_05', 'item_006'), (24, 0, 0)),\n",
       " (('line_05', 'item_006'), (24, 0, 0)),\n",
       " (('line_05', 'item_003'), (13, 0, 0)),\n",
       " (('line_05', 'item_003'), (13, 0, 0)),\n",
       " (('line_03', 'item_012'), (19, 0, 0)),\n",
       " (('line_03', 'item_012'), (19, 0, 0)),\n",
       " (('line_03', 'item_012'), (19, 0, 0)),\n",
       " (('line_03', 'item_012'), (19, 0, 0)),\n",
       " (('line_03', 'item_012'), (19, 0, 0)),\n",
       " (('line_03', 'item_012'), (19, 0, 0)),\n",
       " (('line_03', 'item_012'), (19, 0, 0)),\n",
       " (('line_05', 'item_009'), (22, 0, 0)),\n",
       " (('line_05', 'item_008'), (29, 0, 0)),\n",
       " (('line_02', 'item_011'), (18, 0, 0)),\n",
       " (('line_02', 'item_011'), (18, 0, 0)),\n",
       " (('line_04', 'item_002'), (22, 0, 0)),\n",
       " (('line_04', 'item_002'), (22, 0, 0)),\n",
       " (('line_04', 'item_002'), (22, 0, 0)),\n",
       " (('line_04', 'item_002'), (22, 0, 0)),\n",
       " (('line_04', 'item_002'), (22, 0, 0)),\n",
       " (('line_04', 'item_002'), (22, 0, 0)),\n",
       " (('line_04', 'item_002'), (22, 0, 0)),\n",
       " (('line_04', 'item_002'), (22, 0, 0)),\n",
       " (('line_04', 'item_013'), (18, 0, 0)),\n",
       " (('line_01', 'item_005'), (18, 0, 0)),\n",
       " (('line_01', 'item_005'), (18, 0, 0)),\n",
       " (('line_01', 'item_005'), (18, 0, 0)),\n",
       " (('line_01', 'item_005'), (18, 0, 0)),\n",
       " (('line_01', 'item_005'), (18, 0, 0)),\n",
       " (('line_01', 'item_005'), (18, 0, 0)),\n",
       " (('line_01', 'item_005'), (18, 0, 0)),\n",
       " (('line_01', 'item_005'), (18, 0, 0)),\n",
       " (('line_01', 'item_005'), (18, 0, 0)),\n",
       " (('line_01', 'item_003'), (22, 0, 0)),\n",
       " (('line_01', 'item_003'), (22, 0, 0)),\n",
       " (('line_01', 'item_003'), (22, 0, 0)),\n",
       " (('line_03', 'item_004'), (14, 0, 0)),\n",
       " (('line_03', 'item_009'), (21, 0, 0)),\n",
       " (('line_03', 'item_009'), (21, 0, 0)),\n",
       " (('line_03', 'item_009'), (21, 0, 0)),\n",
       " (('line_03', 'item_009'), (21, 0, 0)),\n",
       " (('line_03', 'item_009'), (21, 0, 0)),\n",
       " (('line_02', 'item_014'), (25, 0, 0)),\n",
       " (('line_02', 'item_014'), (25, 0, 0)),\n",
       " (('line_04', 'item_003'), (18, 0, 0)),\n",
       " (('line_04', 'item_003'), (18, 0, 0)),\n",
       " (('line_05', 'item_007'), (17, 0, 0)),\n",
       " (('line_05', 'item_007'), (17, 0, 0)),\n",
       " (('line_05', 'item_007'), (17, 0, 0)),\n",
       " (('line_05', 'item_007'), (17, 0, 0)),\n",
       " (('line_05', 'item_007'), (17, 0, 0)),\n",
       " (('line_05', 'item_007'), (17, 0, 0)),\n",
       " (('line_05', 'item_007'), (17, 0, 0)),\n",
       " (('line_03', 'item_015'), (14, 0, 0)),\n",
       " (('line_02', 'item_003'), (20, 0, 0)),\n",
       " (('line_02', 'item_003'), (20, 0, 0)),\n",
       " (('line_02', 'item_003'), (20, 0, 0)),\n",
       " (('line_02', 'item_003'), (20, 0, 0)),\n",
       " (('line_02', 'item_003'), (20, 0, 0)),\n",
       " (('line_02', 'item_003'), (20, 0, 0)),\n",
       " (('line_02', 'item_003'), (20, 0, 0)),\n",
       " (('line_04', 'item_010'), (23, 0, 0)),\n",
       " (('line_04', 'item_010'), (23, 0, 0)),\n",
       " (('line_04', 'item_010'), (23, 0, 0)),\n",
       " (('line_04', 'item_010'), (23, 0, 0)),\n",
       " (('line_04', 'item_010'), (23, 0, 0)),\n",
       " (('line_04', 'item_010'), (23, 0, 0)),\n",
       " (('line_02', 'item_013'), (27, 0, 0)),\n",
       " (('line_02', 'item_013'), (27, 0, 0)),\n",
       " (('line_02', 'item_013'), (27, 0, 0)),\n",
       " (('line_04', 'item_014'), (20, 0, 0)),\n",
       " (('line_04', 'item_014'), (20, 0, 0)),\n",
       " (('line_03', 'item_010'), (13, 0, 0)),\n",
       " (('line_05', 'item_004'), (20, 0, 0)),\n",
       " (('line_02', 'item_009'), (27, 0, 0)),\n",
       " (('line_02', 'item_002'), (18, 0, 0)),\n",
       " (('line_02', 'item_002'), (18, 0, 0)),\n",
       " (('line_02', 'item_002'), (18, 0, 0)),\n",
       " (('line_02', 'item_008'), (21, 0, 0)),\n",
       " (('line_02', 'item_008'), (21, 0, 0)),\n",
       " (('line_02', 'item_008'), (21, 0, 0)),\n",
       " (('line_02', 'item_008'), (21, 0, 0)),\n",
       " (('line_02', 'item_008'), (21, 0, 0)),\n",
       " (('line_02', 'item_008'), (21, 0, 0)),\n",
       " (('line_02', 'item_008'), (21, 0, 0)),\n",
       " (('line_02', 'item_008'), (21, 0, 0)),\n",
       " (('line_02', 'item_008'), (21, 0, 0)),\n",
       " (('line_02', 'item_008'), (21, 0, 0)),\n",
       " (('line_02', 'item_008'), (21, 0, 0)),\n",
       " (('line_03', 'item_001'), (13, 0, 0)),\n",
       " (('line_03', 'item_001'), (13, 0, 0)),\n",
       " (('line_03', 'item_001'), (13, 0, 0)),\n",
       " (('line_03', 'item_001'), (13, 0, 0)),\n",
       " (('line_03', 'item_001'), (13, 0, 0)),\n",
       " (('line_03', 'item_001'), (13, 0, 0)),\n",
       " (('line_03', 'item_002'), (15, 0, 0)),\n",
       " (('line_03', 'item_002'), (15, 0, 0)),\n",
       " (('line_03', 'item_002'), (15, 0, 0)),\n",
       " (('line_03', 'item_002'), (15, 0, 0)),\n",
       " (('line_03', 'item_002'), (15, 0, 0)),\n",
       " (('line_04', 'item_001'), (29, 0, 0)),\n",
       " (('line_05', 'item_012'), (22, 0, 0)),\n",
       " (('line_01', 'item_006'), (22, 0, 0)),\n",
       " (('line_05', 'item_011'), (23, 0, 0)),\n",
       " (('line_05', 'item_011'), (23, 0, 0)),\n",
       " (('line_05', 'item_011'), (23, 0, 0)),\n",
       " (('line_01', 'item_004'), (25, 0, 0)),\n",
       " (('line_01', 'item_004'), (25, 0, 0)),\n",
       " (('line_01', 'item_004'), (25, 0, 0)),\n",
       " (('line_01', 'item_004'), (25, 0, 0)),\n",
       " (('line_01', 'item_004'), (25, 0, 0)),\n",
       " (('line_02', 'item_012'), (15, 0, 0)),\n",
       " (('line_02', 'item_012'), (15, 0, 0)),\n",
       " (('line_04', 'item_006'), (20, 0, 0)),\n",
       " (('line_04', 'item_006'), (20, 0, 0)),\n",
       " (('line_04', 'item_006'), (20, 0, 0)),\n",
       " (('line_04', 'item_006'), (20, 0, 0)),\n",
       " (('line_02', 'item_005'), (21, 0, 0)),\n",
       " (('line_02', 'item_005'), (21, 0, 0)),\n",
       " (('line_04', 'item_015'), (23, 0, 0)),\n",
       " (('line_04', 'item_015'), (23, 0, 0)),\n",
       " (('line_04', 'item_015'), (23, 0, 0)),\n",
       " (('line_04', 'item_015'), (23, 0, 0)),\n",
       " (('line_04', 'item_015'), (23, 0, 0)),\n",
       " (('line_04', 'item_015'), (23, 0, 0)),\n",
       " (('line_04', 'item_015'), (23, 0, 0)),\n",
       " (('line_04', 'item_015'), (23, 0, 0)),\n",
       " (('line_04', 'item_015'), (23, 0, 0)),\n",
       " (('line_04', 'item_015'), (23, 0, 0)),\n",
       " (('line_03', 'item_014'), (26, 0, 0)),\n",
       " (('line_01', 'item_012'), (16, 0, 0)),\n",
       " (('line_01', 'item_012'), (16, 0, 0)),\n",
       " (('line_01', 'item_012'), (16, 0, 0)),\n",
       " (('line_01', 'item_015'), (26, 0, 0)),\n",
       " (('line_01', 'item_015'), (26, 0, 0)),\n",
       " (('line_01', 'item_015'), (26, 0, 0)),\n",
       " (('line_01', 'item_015'), (26, 0, 0)),\n",
       " (('line_01', 'item_015'), (26, 0, 0)),\n",
       " (('line_01', 'item_015'), (26, 0, 0)),\n",
       " (('line_01', 'item_015'), (26, 0, 0)),\n",
       " (('line_05', 'item_005'), (18, 0, 0)),\n",
       " (('line_05', 'item_005'), (18, 0, 0)),\n",
       " (('line_05', 'item_005'), (18, 0, 0)),\n",
       " (('line_05', 'item_001'), (25, 0, 0)),\n",
       " (('line_04', 'item_011'), (21, 0, 0)),\n",
       " (('line_04', 'item_011'), (21, 0, 0)),\n",
       " (('line_04', 'item_011'), (21, 0, 0)),\n",
       " (('line_04', 'item_011'), (21, 0, 0)),\n",
       " (('line_04', 'item_011'), (21, 0, 0)),\n",
       " (('line_01', 'item_011'), (19, 0, 0)),\n",
       " (('line_01', 'item_011'), (19, 0, 0)),\n",
       " (('line_02', 'item_004'), (16, 0, 0)),\n",
       " (('line_02', 'item_004'), (16, 0, 0)),\n",
       " (('line_05', 'item_015'), (21, 0, 0)),\n",
       " (('line_04', 'item_005'), (18, 0, 0)),\n",
       " (('line_04', 'item_005'), (18, 0, 0)),\n",
       " (('line_04', 'item_005'), (18, 0, 0)),\n",
       " (('line_04', 'item_005'), (18, 0, 0)),\n",
       " (('line_04', 'item_005'), (18, 0, 0)),\n",
       " (('line_04', 'item_005'), (18, 0, 0)),\n",
       " (('line_04', 'item_005'), (18, 0, 0)),\n",
       " (('line_01', 'item_013'), (10, 0, 0)),\n",
       " (('line_01', 'item_013'), (10, 0, 0)),\n",
       " (('line_01', 'item_013'), (10, 0, 0)),\n",
       " (('line_01', 'item_013'), (10, 0, 0)),\n",
       " (('line_01', 'item_013'), (10, 0, 0)),\n",
       " (('line_01', 'item_013'), (10, 0, 0)),\n",
       " (('line_01', 'item_013'), (10, 0, 0)),\n",
       " (('line_01', 'item_013'), (10, 0, 0)),\n",
       " (('line_01', 'item_013'), (10, 0, 0)),\n",
       " (('line_05', 'item_014'), (19, 0, 0)),\n",
       " (('line_05', 'item_014'), (19, 0, 0)),\n",
       " (('line_04', 'item_009'), (18, 0, 0)),\n",
       " (('line_01', 'item_001'), (27, 0, 0)),\n",
       " (('line_01', 'item_001'), (27, 0, 0)),\n",
       " (('line_01', 'item_001'), (27, 0, 0)),\n",
       " (('line_01', 'item_002'), (18, 0, 0)),\n",
       " (('line_01', 'item_002'), (18, 0, 0)),\n",
       " (('line_01', 'item_007'), (22, 0, 0)),\n",
       " (('line_01', 'item_007'), (22, 0, 0)),\n",
       " (('line_01', 'item_007'), (22, 0, 0)),\n",
       " (('line_03', 'item_013'), (16, 0, 0)),\n",
       " (('line_03', 'item_013'), (16, 0, 0)),\n",
       " (('line_04', 'item_007'), (17, 0, 0)),\n",
       " (('line_04', 'item_007'), (17, 0, 0)),\n",
       " (('line_04', 'item_007'), (17, 0, 0)),\n",
       " (('line_04', 'item_007'), (17, 0, 0)),\n",
       " (('line_04', 'item_007'), (17, 0, 0)),\n",
       " (('line_04', 'item_007'), (17, 0, 0)),\n",
       " (('line_04', 'item_007'), (17, 0, 0)),\n",
       " (('line_04', 'item_007'), (17, 0, 0)),\n",
       " (('line_04', 'item_007'), (17, 0, 0)),\n",
       " (('line_04', 'item_007'), (17, 0, 0)),\n",
       " (('line_04', 'item_007'), (17, 0, 0)),\n",
       " (('line_04', 'item_007'), (17, 0, 0)),\n",
       " (('line_03', 'item_003'), (28, 0, 0)),\n",
       " (('line_03', 'item_008'), (18, 0, 0)),\n",
       " (('line_03', 'item_008'), (18, 0, 0)),\n",
       " (('line_03', 'item_008'), (18, 0, 0)),\n",
       " (('line_03', 'item_008'), (18, 0, 0)),\n",
       " (('line_03', 'item_008'), (18, 0, 0)),\n",
       " (('line_04', 'item_012'), (16, 0, 0)),\n",
       " (('line_04', 'item_012'), (16, 0, 0)),\n",
       " (('line_01', 'item_008'), (23, 0, 0)),\n",
       " (('line_01', 'item_008'), (23, 0, 0)),\n",
       " (('line_01', 'item_008'), (23, 0, 0)),\n",
       " (('line_01', 'item_014'), (18, 0, 0)),\n",
       " (('line_01', 'item_014'), (18, 0, 0)),\n",
       " (('line_01', 'item_014'), (18, 0, 0)),\n",
       " (('line_01', 'item_014'), (18, 0, 0)),\n",
       " (('line_02', 'item_007'), (18, 0, 0)),\n",
       " (('line_02', 'item_007'), (18, 0, 0)),\n",
       " (('line_02', 'item_007'), (18, 0, 0)),\n",
       " (('line_02', 'item_007'), (18, 0, 0)),\n",
       " (('line_02', 'item_007'), (18, 0, 0)),\n",
       " (('line_02', 'item_007'), (18, 0, 0)),\n",
       " (('line_02', 'item_007'), (18, 0, 0)),\n",
       " (('line_03', 'item_011'), (22, 0, 0)),\n",
       " (('line_03', 'item_011'), (22, 0, 0)),\n",
       " (('line_03', 'item_011'), (22, 0, 0)),\n",
       " (('line_03', 'item_011'), (22, 0, 0)),\n",
       " (('line_03', 'item_011'), (22, 0, 0)),\n",
       " (('line_03', 'item_011'), (22, 0, 0)),\n",
       " (('line_03', 'item_011'), (22, 0, 0)),\n",
       " (('line_03', 'item_011'), (22, 0, 0)),\n",
       " (('line_05', 'item_002'), (20, 0, 0)),\n",
       " (('line_05', 'item_002'), (20, 0, 0)),\n",
       " (('line_05', 'item_006'), (24, 0, 0)),\n",
       " (('line_05', 'item_006'), (24, 0, 0)),\n",
       " (('line_05', 'item_006'), (24, 0, 0)),\n",
       " (('line_05', 'item_003'), (13, 0, 0)),\n",
       " (('line_05', 'item_003'), (13, 0, 0)),\n",
       " (('line_03', 'item_012'), (19, 0, 0)),\n",
       " (('line_03', 'item_012'), (19, 0, 0)),\n",
       " (('line_03', 'item_012'), (19, 0, 0)),\n",
       " (('line_03', 'item_012'), (19, 0, 0)),\n",
       " (('line_03', 'item_012'), (19, 0, 0)),\n",
       " (('line_03', 'item_012'), (19, 0, 0)),\n",
       " (('line_03', 'item_012'), (19, 0, 0)),\n",
       " (('line_03', 'item_012'), (19, 0, 0)),\n",
       " (('line_05', 'item_009'), (22, 0, 0)),\n",
       " (('line_05', 'item_008'), (29, 0, 0)),\n",
       " (('line_05', 'item_008'), (29, 0, 0)),\n",
       " (('line_05', 'item_008'), (29, 0, 0)),\n",
       " (('line_02', 'item_011'), (18, 0, 0)),\n",
       " (('line_04', 'item_002'), (22, 0, 0)),\n",
       " (('line_04', 'item_002'), (22, 0, 0)),\n",
       " (('line_04', 'item_002'), (22, 0, 0)),\n",
       " (('line_04', 'item_002'), (22, 0, 0)),\n",
       " (('line_04', 'item_002'), (22, 0, 0)),\n",
       " (('line_01', 'item_005'), (18, 0, 0)),\n",
       " (('line_01', 'item_005'), (18, 0, 0)),\n",
       " (('line_01', 'item_005'), (18, 0, 0)),\n",
       " (('line_01', 'item_005'), (18, 0, 0)),\n",
       " (('line_01', 'item_005'), (18, 0, 0)),\n",
       " (('line_01', 'item_005'), (18, 0, 0)),\n",
       " (('line_03', 'item_007'), (25, 0, 0)),\n",
       " (('line_01', 'item_003'), (22, 0, 0)),\n",
       " (('line_01', 'item_003'), (22, 0, 0)),\n",
       " (('line_03', 'item_004'), (14, 0, 0)),\n",
       " (('line_03', 'item_004'), (14, 0, 0)),\n",
       " (('line_03', 'item_009'), (21, 0, 0)),\n",
       " (('line_03', 'item_009'), (21, 0, 0)),\n",
       " (('line_03', 'item_009'), (21, 0, 0)),\n",
       " (('line_03', 'item_009'), (21, 0, 0)),\n",
       " (('line_03', 'item_009'), (21, 0, 0)),\n",
       " (('line_03', 'item_009'), (21, 0, 0)),\n",
       " (('line_03', 'item_009'), (21, 0, 0)),\n",
       " (('line_03', 'item_009'), (21, 0, 0)),\n",
       " (('line_03', 'item_009'), (21, 0, 0)),\n",
       " (('line_05', 'item_007'), (17, 0, 0)),\n",
       " (('line_05', 'item_007'), (17, 0, 0)),\n",
       " (('line_05', 'item_007'), (17, 0, 0)),\n",
       " (('line_05', 'item_007'), (17, 0, 0)),\n",
       " (('line_03', 'item_015'), (14, 0, 0)),\n",
       " (('line_02', 'item_003'), (20, 0, 0)),\n",
       " (('line_02', 'item_003'), (20, 0, 0)),\n",
       " (('line_04', 'item_010'), (23, 0, 0)),\n",
       " (('line_02', 'item_013'), (27, 0, 0)),\n",
       " (('line_02', 'item_013'), (27, 0, 0)),\n",
       " (('line_04', 'item_014'), (20, 0, 0)),\n",
       " (('line_04', 'item_014'), (20, 0, 0)),\n",
       " (('line_04', 'item_014'), (20, 0, 0)),\n",
       " (('line_03', 'item_010'), (13, 0, 0)),\n",
       " (('line_05', 'item_004'), (20, 0, 0)),\n",
       " (('line_02', 'item_009'), (27, 0, 0)),\n",
       " (('line_02', 'item_009'), (27, 0, 0)),\n",
       " (('line_02', 'item_009'), (27, 0, 0)),\n",
       " (('line_02', 'item_009'), (27, 0, 0)),\n",
       " (('line_02', 'item_002'), (18, 0, 0)),\n",
       " (('line_02', 'item_002'), (18, 0, 0)),\n",
       " (('line_02', 'item_008'), (21, 0, 0)),\n",
       " (('line_02', 'item_008'), (21, 0, 0)),\n",
       " (('line_02', 'item_008'), (21, 0, 0)),\n",
       " (('line_02', 'item_008'), (21, 0, 0)),\n",
       " (('line_03', 'item_001'), (13, 0, 0)),\n",
       " (('line_03', 'item_001'), (13, 0, 0)),\n",
       " (('line_03', 'item_001'), (13, 0, 0)),\n",
       " (('line_03', 'item_001'), (13, 0, 0)),\n",
       " (('line_03', 'item_001'), (13, 0, 0)),\n",
       " (('line_03', 'item_001'), (13, 0, 0)),\n",
       " (('line_03', 'item_002'), (15, 0, 0)),\n",
       " (('line_03', 'item_002'), (15, 0, 0)),\n",
       " (('line_03', 'item_002'), (15, 0, 0)),\n",
       " (('line_03', 'item_002'), (15, 0, 0)),\n",
       " (('line_04', 'item_001'), (29, 0, 0)),\n",
       " (('line_05', 'item_012'), (22, 0, 0)),\n",
       " (('line_05', 'item_012'), (22, 0, 0)),\n",
       " (('line_05', 'item_012'), (22, 0, 0)),\n",
       " (('line_01', 'item_006'), (22, 0, 0)),\n",
       " (('line_01', 'item_004'), (25, 0, 0)),\n",
       " (('line_01', 'item_004'), (25, 0, 0)),\n",
       " (('line_01', 'item_004'), (25, 0, 0)),\n",
       " (('line_01', 'item_004'), (25, 0, 0)),\n",
       " (('line_04', 'item_006'), (20, 0, 0)),\n",
       " (('line_04', 'item_006'), (20, 0, 0)),\n",
       " (('line_02', 'item_005'), (21, 0, 0)),\n",
       " (('line_02', 'item_005'), (21, 0, 0)),\n",
       " (('line_04', 'item_015'), (23, 0, 0)),\n",
       " (('line_04', 'item_015'), (23, 0, 0)),\n",
       " (('line_04', 'item_015'), (23, 0, 0)),\n",
       " (('line_01', 'item_012'), (16, 0, 0)),\n",
       " (('line_01', 'item_012'), (16, 0, 0)),\n",
       " (('line_01', 'item_012'), (16, 0, 0)),\n",
       " (('line_01', 'item_012'), (16, 0, 0)),\n",
       " (('line_01', 'item_012'), (16, 0, 0)),\n",
       " (('line_01', 'item_015'), (26, 0, 0)),\n",
       " (('line_01', 'item_015'), (26, 0, 0)),\n",
       " (('line_01', 'item_015'), (26, 0, 0)),\n",
       " (('line_01', 'item_015'), (26, 0, 0)),\n",
       " (('line_01', 'item_015'), (26, 0, 0)),\n",
       " (('line_01', 'item_015'), (26, 0, 0)),\n",
       " (('line_05', 'item_005'), (18, 0, 0)),\n",
       " (('line_05', 'item_005'), (18, 0, 0)),\n",
       " (('line_05', 'item_005'), (18, 0, 0)),\n",
       " (('line_05', 'item_001'), (25, 0, 0)),\n",
       " (('line_04', 'item_011'), (21, 0, 0)),\n",
       " (('line_04', 'item_011'), (21, 0, 0)),\n",
       " (('line_01', 'item_011'), (19, 0, 0)),\n",
       " (('line_01', 'item_011'), (19, 0, 0)),\n",
       " (('line_02', 'item_004'), (16, 0, 0)),\n",
       " (('line_04', 'item_005'), (18, 0, 0)),\n",
       " (('line_04', 'item_005'), (18, 0, 0)),\n",
       " (('line_04', 'item_005'), (18, 0, 0)),\n",
       " (('line_04', 'item_005'), (18, 0, 0)),\n",
       " (('line_04', 'item_005'), (18, 0, 0)),\n",
       " (('line_01', 'item_013'), (10, 0, 0)),\n",
       " (('line_01', 'item_013'), (10, 0, 0)),\n",
       " (('line_01', 'item_013'), (10, 0, 0)),\n",
       " (('line_01', 'item_013'), (10, 0, 0)),\n",
       " (('line_01', 'item_013'), (10, 0, 0)),\n",
       " (('line_01', 'item_013'), (10, 0, 0)),\n",
       " (('line_01', 'item_013'), (10, 0, 0)),\n",
       " (('line_01', 'item_013'), (10, 0, 0)),\n",
       " (('line_01', 'item_013'), (10, 0, 0)),\n",
       " (('line_01', 'item_013'), (10, 0, 0)),\n",
       " (('line_01', 'item_013'), (10, 0, 0)),\n",
       " (('line_01', 'item_013'), (10, 0, 0)),\n",
       " (('line_01', 'item_013'), (10, 0, 0)),\n",
       " (('line_01', 'item_013'), (10, 0, 0)),\n",
       " (('line_05', 'item_014'), (19, 0, 0)),\n",
       " (('line_04', 'item_009'), (18, 0, 0)),\n",
       " (('line_04', 'item_009'), (18, 0, 0)),\n",
       " (('line_01', 'item_001'), (27, 0, 0)),\n",
       " (('line_01', 'item_001'), (27, 0, 0)),\n",
       " (('line_01', 'item_001'), (27, 0, 0)),\n",
       " (('line_01', 'item_001'), (27, 0, 0)),\n",
       " (('line_01', 'item_002'), (18, 0, 0)),\n",
       " (('line_01', 'item_002'), (18, 0, 0)),\n",
       " (('line_01', 'item_002'), (18, 0, 0)),\n",
       " (('line_01', 'item_007'), (22, 0, 0)),\n",
       " (('line_01', 'item_007'), (22, 0, 0)),\n",
       " (('line_01', 'item_007'), (22, 0, 0)),\n",
       " (('line_01', 'item_007'), (22, 0, 0)),\n",
       " (('line_03', 'item_013'), (16, 0, 0)),\n",
       " (('line_03', 'item_013'), (16, 0, 0)),\n",
       " (('line_03', 'item_013'), (16, 0, 0)),\n",
       " (('line_03', 'item_013'), (16, 0, 0)),\n",
       " (('line_03', 'item_013'), (16, 0, 0)),\n",
       " (('line_03', 'item_013'), (16, 0, 0)),\n",
       " (('line_03', 'item_013'), (16, 0, 0)),\n",
       " (('line_03', 'item_013'), (16, 0, 0)),\n",
       " (('line_04', 'item_007'), (17, 0, 0)),\n",
       " (('line_04', 'item_007'), (17, 0, 0)),\n",
       " (('line_04', 'item_007'), (17, 0, 0)),\n",
       " (('line_04', 'item_007'), (17, 0, 0)),\n",
       " (('line_04', 'item_007'), (17, 0, 0)),\n",
       " (('line_04', 'item_007'), (17, 0, 0)),\n",
       " (('line_03', 'item_003'), (28, 0, 0)),\n",
       " (('line_02', 'item_006'), (18, 0, 0)),\n",
       " (('line_03', 'item_008'), (18, 0, 0)),\n",
       " (('line_03', 'item_008'), (18, 0, 0)),\n",
       " (('line_01', 'item_008'), (23, 0, 0)),\n",
       " (('line_01', 'item_008'), (23, 0, 0)),\n",
       " (('line_01', 'item_008'), (23, 0, 0)),\n",
       " (('line_01', 'item_008'), (23, 0, 0)),\n",
       " (('line_01', 'item_014'), (18, 0, 0)),\n",
       " (('line_01', 'item_014'), (18, 0, 0)),\n",
       " (('line_02', 'item_007'), (18, 0, 0)),\n",
       " (('line_02', 'item_007'), (18, 0, 0)),\n",
       " (('line_02', 'item_007'), (18, 0, 0)),\n",
       " (('line_02', 'item_007'), (18, 0, 0)),\n",
       " (('line_02', 'item_007'), (18, 0, 0)),\n",
       " (('line_02', 'item_007'), (18, 0, 0)),\n",
       " (('line_02', 'item_007'), (18, 0, 0)),\n",
       " (('line_02', 'item_007'), (18, 0, 0)),\n",
       " (('line_02', 'item_007'), (18, 0, 0)),\n",
       " (('line_03', 'item_011'), (22, 0, 0)),\n",
       " (('line_03', 'item_011'), (22, 0, 0)),\n",
       " (('line_03', 'item_011'), (22, 0, 0)),\n",
       " (('line_03', 'item_011'), (22, 0, 0)),\n",
       " (('line_03', 'item_011'), (22, 0, 0)),\n",
       " (('line_03', 'item_011'), (22, 0, 0)),\n",
       " (('line_03', 'item_011'), (22, 0, 0)),\n",
       " (('line_03', 'item_011'), (22, 0, 0)),\n",
       " (('line_05', 'item_002'), (20, 0, 0)),\n",
       " (('line_05', 'item_002'), (20, 0, 0)),\n",
       " (('line_05', 'item_002'), (20, 0, 0)),\n",
       " (('line_05', 'item_002'), (20, 0, 0)),\n",
       " (('line_05', 'item_006'), (24, 0, 0)),\n",
       " (('line_05', 'item_006'), (24, 0, 0)),\n",
       " (('line_05', 'item_006'), (24, 0, 0)),\n",
       " (('line_05', 'item_006'), (24, 0, 0)),\n",
       " (('line_05', 'item_006'), (24, 0, 0)),\n",
       " (('line_05', 'item_003'), (13, 0, 0)),\n",
       " (('line_05', 'item_003'), (13, 0, 0)),\n",
       " (('line_05', 'item_003'), (13, 0, 0)),\n",
       " (('line_05', 'item_003'), (13, 0, 0)),\n",
       " (('line_05', 'item_003'), (13, 0, 0)),\n",
       " (('line_05', 'item_003'), (13, 0, 0)),\n",
       " (('line_03', 'item_012'), (19, 0, 0)),\n",
       " (('line_03', 'item_012'), (19, 0, 0)),\n",
       " (('line_03', 'item_012'), (19, 0, 0)),\n",
       " (('line_03', 'item_012'), (19, 0, 0)),\n",
       " (('line_03', 'item_012'), (19, 0, 0)),\n",
       " (('line_05', 'item_008'), (29, 0, 0)),\n",
       " (('line_05', 'item_008'), (29, 0, 0)),\n",
       " (('line_05', 'item_008'), (29, 0, 0)),\n",
       " (('line_05', 'item_008'), (29, 0, 0)),\n",
       " (('line_05', 'item_008'), (29, 0, 0)),\n",
       " (('line_02', 'item_011'), (18, 0, 0)),\n",
       " (('line_02', 'item_011'), (18, 0, 0)),\n",
       " (('line_02', 'item_011'), (18, 0, 0)),\n",
       " (('line_04', 'item_002'), (22, 0, 0)),\n",
       " (('line_04', 'item_002'), (22, 0, 0)),\n",
       " (('line_04', 'item_002'), (22, 0, 0)),\n",
       " (('line_04', 'item_002'), (22, 0, 0)),\n",
       " (('line_04', 'item_002'), (22, 0, 0)),\n",
       " (('line_01', 'item_005'), (18, 0, 0)),\n",
       " (('line_01', 'item_005'), (18, 0, 0)),\n",
       " (('line_01', 'item_005'), (18, 0, 0)),\n",
       " (('line_01', 'item_005'), (18, 0, 0)),\n",
       " (('line_03', 'item_007'), (25, 0, 0)),\n",
       " (('line_03', 'item_007'), (25, 0, 0)),\n",
       " (('line_01', 'item_003'), (22, 0, 0)),\n",
       " (('line_01', 'item_003'), (22, 0, 0)),\n",
       " (('line_03', 'item_009'), (21, 0, 0)),\n",
       " (('line_03', 'item_009'), (21, 0, 0)),\n",
       " (('line_04', 'item_003'), (18, 0, 0)),\n",
       " (('line_05', 'item_007'), (17, 0, 0)),\n",
       " (('line_05', 'item_007'), (17, 0, 0)),\n",
       " (('line_05', 'item_007'), (17, 0, 0)),\n",
       " (('line_05', 'item_007'), (17, 0, 0)),\n",
       " (('line_05', 'item_007'), (17, 0, 0)),\n",
       " (('line_05', 'item_007'), (17, 0, 0)),\n",
       " (('line_05', 'item_007'), (17, 0, 0)),\n",
       " (('line_05', 'item_007'), (17, 0, 0)),\n",
       " (('line_05', 'item_007'), (17, 0, 0)),\n",
       " (('line_03', 'item_015'), (14, 0, 0)),\n",
       " (('line_02', 'item_003'), (20, 0, 0)),\n",
       " (('line_02', 'item_003'), (20, 0, 0)),\n",
       " (('line_02', 'item_003'), (20, 0, 0)),\n",
       " (('line_04', 'item_010'), (23, 0, 0)),\n",
       " (('line_04', 'item_010'), (23, 0, 0)),\n",
       " (('line_04', 'item_010'), (23, 0, 0)),\n",
       " (('line_04', 'item_010'), (23, 0, 0)),\n",
       " (('line_04', 'item_010'), (23, 0, 0)),\n",
       " (('line_04', 'item_010'), (23, 0, 0)),\n",
       " (('line_04', 'item_010'), (23, 0, 0)),\n",
       " (('line_02', 'item_013'), (27, 0, 0)),\n",
       " (('line_02', 'item_013'), (27, 0, 0)),\n",
       " (('line_02', 'item_013'), (27, 0, 0)),\n",
       " (('line_05', 'item_004'), (20, 0, 0)),\n",
       " (('line_05', 'item_004'), (20, 0, 0)),\n",
       " (('line_02', 'item_009'), (27, 0, 0)),\n",
       " (('line_02', 'item_009'), (27, 0, 0)),\n",
       " (('line_02', 'item_002'), (18, 0, 0)),\n",
       " (('line_02', 'item_002'), (18, 0, 0)),\n",
       " (('line_02', 'item_002'), (18, 0, 0)),\n",
       " (('line_02', 'item_002'), (18, 0, 0)),\n",
       " (('line_02', 'item_008'), (21, 0, 0)),\n",
       " (('line_02', 'item_008'), (21, 0, 0)),\n",
       " (('line_02', 'item_008'), (21, 0, 0)),\n",
       " (('line_02', 'item_008'), (21, 0, 0)),\n",
       " (('line_02', 'item_008'), (21, 0, 0)),\n",
       " (('line_02', 'item_008'), (21, 0, 0)),\n",
       " (('line_03', 'item_001'), (13, 0, 0)),\n",
       " (('line_03', 'item_001'), (13, 0, 0)),\n",
       " (('line_03', 'item_001'), (13, 0, 0)),\n",
       " (('line_03', 'item_001'), (13, 0, 0)),\n",
       " (('line_03', 'item_001'), (13, 0, 0)),\n",
       " (('line_03', 'item_001'), (13, 0, 0)),\n",
       " (('line_03', 'item_001'), (13, 0, 0)),\n",
       " (('line_03', 'item_001'), (13, 0, 0)),\n",
       " (('line_03', 'item_001'), (13, 0, 0)),\n",
       " (('line_03', 'item_001'), (13, 0, 0)),\n",
       " (('line_03', 'item_001'), (13, 0, 0)),\n",
       " (('line_03', 'item_001'), (13, 0, 0)),\n",
       " (('line_03', 'item_001'), (13, 0, 0)),\n",
       " (('line_03', 'item_001'), (13, 0, 0)),\n",
       " (('line_02', 'item_015'), (19, 0, 0)),\n",
       " (('line_04', 'item_004'), (16, 0, 0)),\n",
       " (('line_03', 'item_002'), (15, 0, 0)),\n",
       " (('line_03', 'item_002'), (15, 0, 0)),\n",
       " (('line_03', 'item_002'), (15, 0, 0)),\n",
       " (('line_03', 'item_002'), (15, 0, 0)),\n",
       " (('line_03', 'item_002'), (15, 0, 0)),\n",
       " (('line_04', 'item_001'), (29, 0, 0)),\n",
       " (('line_04', 'item_001'), (29, 0, 0)),\n",
       " (('line_03', 'item_006'), (19, 0, 0)),\n",
       " (('line_01', 'item_004'), (25, 0, 0)),\n",
       " (('line_01', 'item_004'), (25, 0, 0)),\n",
       " (('line_04', 'item_006'), (20, 0, 0)),\n",
       " (('line_04', 'item_006'), (20, 0, 0)),\n",
       " (('line_02', 'item_005'), (21, 0, 0)),\n",
       " (('line_02', 'item_005'), (21, 0, 0)),\n",
       " (('line_04', 'item_015'), (23, 0, 0)),\n",
       " (('line_04', 'item_015'), (23, 0, 0)),\n",
       " (('line_04', 'item_015'), (23, 0, 0)),\n",
       " (('line_01', 'item_012'), (16, 0, 0)),\n",
       " (('line_01', 'item_012'), (16, 0, 0)),\n",
       " (('line_01', 'item_015'), (26, 0, 0)),\n",
       " (('line_01', 'item_015'), (26, 0, 0)),\n",
       " (('line_01', 'item_015'), (26, 0, 0)),\n",
       " (('line_01', 'item_015'), (26, 0, 0)),\n",
       " (('line_01', 'item_015'), (26, 0, 0)),\n",
       " (('line_01', 'item_015'), (26, 0, 0)),\n",
       " (('line_05', 'item_005'), (18, 0, 0)),\n",
       " (('line_04', 'item_011'), (21, 0, 0)),\n",
       " (('line_04', 'item_011'), (21, 0, 0)),\n",
       " (('line_01', 'item_011'), (19, 0, 0)),\n",
       " (('line_01', 'item_011'), (19, 0, 0)),\n",
       " (('line_02', 'item_004'), (16, 0, 0)),\n",
       " (('line_05', 'item_015'), (21, 0, 0)),\n",
       " (('line_04', 'item_005'), (18, 0, 0)),\n",
       " (('line_04', 'item_005'), (18, 0, 0)),\n",
       " (('line_01', 'item_013'), (10, 0, 0)),\n",
       " (('line_01', 'item_013'), (10, 0, 0)),\n",
       " (('line_01', 'item_013'), (10, 0, 0)),\n",
       " (('line_01', 'item_013'), (10, 0, 0)),\n",
       " (('line_01', 'item_013'), (10, 0, 0)),\n",
       " (('line_01', 'item_013'), (10, 0, 0)),\n",
       " (('line_01', 'item_013'), (10, 0, 0)),\n",
       " (('line_01', 'item_013'), (10, 0, 0)),\n",
       " (('line_01', 'item_013'), (10, 0, 0)),\n",
       " (('line_01', 'item_013'), (10, 0, 0)),\n",
       " (('line_01', 'item_013'), (10, 0, 0)),\n",
       " (('line_01', 'item_013'), (10, 0, 0)),\n",
       " (('line_01', 'item_013'), (10, 0, 0)),\n",
       " (('line_01', 'item_013'), (10, 0, 0)),\n",
       " (('line_01', 'item_013'), (10, 0, 0)),\n",
       " (('line_01', 'item_013'), (10, 0, 0)),\n",
       " (('line_01', 'item_013'), (10, 0, 0)),\n",
       " (('line_01', 'item_013'), (10, 0, 0)),\n",
       " (('line_01', 'item_013'), (10, 0, 0)),\n",
       " (('line_01', 'item_013'), (10, 0, 0)),\n",
       " (('line_05', 'item_014'), (19, 0, 0)),\n",
       " (('line_05', 'item_014'), (19, 0, 0)),\n",
       " (('line_05', 'item_014'), (19, 0, 0)),\n",
       " (('line_04', 'item_009'), (18, 0, 0)),\n",
       " (('line_01', 'item_001'), (27, 0, 0)),\n",
       " (('line_01', 'item_001'), (27, 0, 0)),\n",
       " (('line_01', 'item_002'), (18, 0, 0)),\n",
       " (('line_01', 'item_007'), (22, 0, 0)),\n",
       " (('line_01', 'item_007'), (22, 0, 0)),\n",
       " (('line_03', 'item_013'), (16, 0, 0)),\n",
       " (('line_03', 'item_013'), (16, 0, 0)),\n",
       " (('line_04', 'item_007'), (17, 0, 0)),\n",
       " (('line_04', 'item_007'), (17, 0, 0)),\n",
       " (('line_04', 'item_007'), (17, 0, 0)),\n",
       " (('line_04', 'item_007'), (17, 0, 0)),\n",
       " (('line_04', 'item_007'), (17, 0, 0)),\n",
       " (('line_04', 'item_007'), (17, 0, 0)),\n",
       " (('line_04', 'item_007'), (17, 0, 0)),\n",
       " (('line_04', 'item_007'), (17, 0, 0)),\n",
       " (('line_04', 'item_007'), (17, 0, 0)),\n",
       " (('line_04', 'item_007'), (17, 0, 0)),\n",
       " (('line_04', 'item_007'), (17, 0, 0)),\n",
       " (('line_03', 'item_003'), (28, 0, 0)),\n",
       " (('line_03', 'item_003'), (28, 0, 0)),\n",
       " (('line_03', 'item_003'), (28, 0, 0)),\n",
       " (('line_03', 'item_003'), (28, 0, 0)),\n",
       " (('line_03', 'item_003'), (28, 0, 0)),\n",
       " (('line_03', 'item_008'), (18, 0, 0)),\n",
       " (('line_03', 'item_008'), (18, 0, 0)),\n",
       " (('line_03', 'item_008'), (18, 0, 0)),\n",
       " (('line_01', 'item_008'), (23, 0, 0)),\n",
       " (('line_01', 'item_008'), (23, 0, 0)),\n",
       " (('line_01', 'item_014'), (18, 0, 0)),\n",
       " (('line_01', 'item_014'), (18, 0, 0)),\n",
       " (('line_01', 'item_014'), (18, 0, 0)),\n",
       " (('line_01', 'item_014'), (18, 0, 0)),\n",
       " (('line_02', 'item_007'), (18, 0, 0)),\n",
       " (('line_02', 'item_007'), (18, 0, 0)),\n",
       " (('line_02', 'item_007'), (18, 0, 0)),\n",
       " (('line_02', 'item_007'), (18, 0, 0)),\n",
       " (('line_02', 'item_007'), (18, 0, 0)),\n",
       " (('line_02', 'item_007'), (18, 0, 0)),\n",
       " (('line_02', 'item_007'), (18, 0, 0)),\n",
       " (('line_02', 'item_007'), (18, 0, 0)),\n",
       " (('line_02', 'item_007'), (18, 0, 0)),\n",
       " (('line_02', 'item_007'), (18, 0, 0)),\n",
       " (('line_02', 'item_007'), (18, 0, 0)),\n",
       " (('line_02', 'item_007'), (18, 0, 0)),\n",
       " (('line_02', 'item_007'), (18, 0, 0)),\n",
       " (('line_03', 'item_011'), (22, 0, 0)),\n",
       " (('line_03', 'item_011'), (22, 0, 0)),\n",
       " (('line_03', 'item_011'), (22, 0, 0)),\n",
       " (('line_03', 'item_011'), (22, 0, 0)),\n",
       " (('line_03', 'item_011'), (22, 0, 0)),\n",
       " (('line_03', 'item_011'), (22, 0, 0)),\n",
       " (('line_03', 'item_011'), (22, 0, 0)),\n",
       " (('line_05', 'item_002'), (20, 0, 0)),\n",
       " (('line_05', 'item_002'), (20, 0, 0)),\n",
       " (('line_05', 'item_006'), (24, 0, 0)),\n",
       " (('line_05', 'item_006'), (24, 0, 0)),\n",
       " (('line_05', 'item_006'), (24, 0, 0)),\n",
       " (('line_05', 'item_006'), (24, 0, 0)),\n",
       " (('line_05', 'item_003'), (13, 0, 0)),\n",
       " (('line_03', 'item_012'), (19, 0, 0)),\n",
       " (('line_03', 'item_012'), (19, 0, 0)),\n",
       " (('line_03', 'item_012'), (19, 0, 0)),\n",
       " (('line_03', 'item_012'), (19, 0, 0)),\n",
       " (('line_03', 'item_012'), (19, 0, 0)),\n",
       " (('line_03', 'item_012'), (19, 0, 0)),\n",
       " (('line_05', 'item_009'), (22, 0, 0)),\n",
       " (('line_05', 'item_009'), (22, 0, 0)),\n",
       " (('line_05', 'item_009'), (22, 0, 0)),\n",
       " (('line_02', 'item_001'), (19, 0, 0)),\n",
       " (('line_02', 'item_001'), (19, 0, 0)),\n",
       " (('line_05', 'item_008'), (29, 0, 0)),\n",
       " (('line_05', 'item_008'), (29, 0, 0)),\n",
       " (('line_05', 'item_008'), (29, 0, 0)),\n",
       " (('line_02', 'item_011'), (18, 0, 0)),\n",
       " (('line_04', 'item_002'), (22, 0, 0)),\n",
       " (('line_04', 'item_002'), (22, 0, 0)),\n",
       " (('line_04', 'item_002'), (22, 0, 0)),\n",
       " (('line_04', 'item_002'), (22, 0, 0)),\n",
       " (('line_04', 'item_002'), (22, 0, 0)),\n",
       " (('line_04', 'item_002'), (22, 0, 0)),\n",
       " (('line_04', 'item_002'), (22, 0, 0)),\n",
       " (('line_04', 'item_013'), (18, 0, 0)),\n",
       " (('line_01', 'item_005'), (18, 0, 0)),\n",
       " (('line_01', 'item_005'), (18, 0, 0)),\n",
       " (('line_01', 'item_005'), (18, 0, 0)),\n",
       " (('line_01', 'item_005'), (18, 0, 0)),\n",
       " (('line_01', 'item_005'), (18, 0, 0)),\n",
       " (('line_01', 'item_005'), (18, 0, 0)),\n",
       " (('line_01', 'item_005'), (18, 0, 0)),\n",
       " (('line_01', 'item_005'), (18, 0, 0)),\n",
       " (('line_03', 'item_005'), (21, 0, 0)),\n",
       " (('line_03', 'item_005'), (21, 0, 0)),\n",
       " (('line_03', 'item_009'), (21, 0, 0)),\n",
       " (('line_03', 'item_009'), (21, 0, 0)),\n",
       " (('line_03', 'item_009'), (21, 0, 0)),\n",
       " (('line_03', 'item_009'), (21, 0, 0)),\n",
       " (('line_03', 'item_009'), (21, 0, 0)),\n",
       " (('line_02', 'item_014'), (25, 0, 0)),\n",
       " (('line_04', 'item_003'), (18, 0, 0)),\n",
       " (('line_04', 'item_003'), (18, 0, 0)),\n",
       " (('line_05', 'item_007'), (17, 0, 0)),\n",
       " (('line_05', 'item_007'), (17, 0, 0)),\n",
       " (('line_05', 'item_007'), (17, 0, 0)),\n",
       " (('line_05', 'item_007'), (17, 0, 0)),\n",
       " (('line_05', 'item_007'), (17, 0, 0)),\n",
       " (('line_02', 'item_003'), (20, 0, 0)),\n",
       " (('line_02', 'item_003'), (20, 0, 0)),\n",
       " (('line_04', 'item_010'), (23, 0, 0)),\n",
       " (('line_04', 'item_010'), (23, 0, 0)),\n",
       " (('line_04', 'item_010'), (23, 0, 0)),\n",
       " (('line_04', 'item_010'), (23, 0, 0)),\n",
       " (('line_04', 'item_010'), (23, 0, 0)),\n",
       " (('line_04', 'item_010'), (23, 0, 0)),\n",
       " (('line_04', 'item_010'), (23, 0, 0)),\n",
       " (('line_04', 'item_010'), (23, 0, 0)),\n",
       " (('line_04', 'item_010'), (23, 0, 0)),\n",
       " (('line_02', 'item_013'), (27, 0, 0)),\n",
       " (('line_02', 'item_013'), (27, 0, 0)),\n",
       " (('line_02', 'item_013'), (27, 0, 0)),\n",
       " (('line_02', 'item_013'), (27, 0, 0)),\n",
       " (('line_03', 'item_010'), (13, 0, 0)),\n",
       " (('line_05', 'item_004'), (20, 0, 0)),\n",
       " (('line_05', 'item_004'), (20, 0, 0)),\n",
       " (('line_02', 'item_009'), (27, 0, 0)),\n",
       " (('line_02', 'item_002'), (18, 0, 0)),\n",
       " (('line_02', 'item_002'), (18, 0, 0)),\n",
       " (('line_02', 'item_002'), (18, 0, 0)),\n",
       " (('line_02', 'item_002'), (18, 0, 0)),\n",
       " (('line_02', 'item_008'), (21, 0, 0)),\n",
       " (('line_02', 'item_008'), (21, 0, 0)),\n",
       " (('line_02', 'item_008'), (21, 0, 0)),\n",
       " (('line_02', 'item_008'), (21, 0, 0)),\n",
       " (('line_02', 'item_008'), (21, 0, 0)),\n",
       " (('line_03', 'item_001'), (13, 0, 0)),\n",
       " (('line_03', 'item_001'), (13, 0, 0)),\n",
       " (('line_03', 'item_001'), (13, 0, 0)),\n",
       " (('line_03', 'item_001'), (13, 0, 0)),\n",
       " (('line_03', 'item_001'), (13, 0, 0)),\n",
       " (('line_03', 'item_002'), (15, 0, 0)),\n",
       " (('line_03', 'item_002'), (15, 0, 0)),\n",
       " (('line_03', 'item_002'), (15, 0, 0)),\n",
       " (('line_03', 'item_002'), (15, 0, 0)),\n",
       " (('line_04', 'item_001'), (29, 0, 0)),\n",
       " (('line_05', 'item_012'), (22, 0, 0)),\n",
       " (('line_05', 'item_012'), (22, 0, 0)),\n",
       " (('line_03', 'item_006'), (19, 0, 0)),\n",
       " (('line_01', 'item_006'), (22, 0, 0)),\n",
       " (('line_01', 'item_006'), (22, 0, 0)),\n",
       " (('line_05', 'item_011'), (23, 0, 0)),\n",
       " (('line_01', 'item_004'), (25, 0, 0)),\n",
       " (('line_01', 'item_004'), (25, 0, 0)),\n",
       " (('line_01', 'item_004'), (25, 0, 0)),\n",
       " (('line_01', 'item_004'), (25, 0, 0)),\n",
       " (('line_01', 'item_004'), (25, 0, 0)),\n",
       " (('line_01', 'item_004'), (25, 0, 0)),\n",
       " (('line_02', 'item_012'), (15, 0, 0)),\n",
       " (('line_04', 'item_006'), (20, 0, 0)),\n",
       " (('line_04', 'item_006'), (20, 0, 0)),\n",
       " (('line_04', 'item_006'), (20, 0, 0)),\n",
       " (('line_04', 'item_006'), (20, 0, 0)),\n",
       " (('line_04', 'item_006'), (20, 0, 0)),\n",
       " (('line_02', 'item_005'), (21, 0, 0)),\n",
       " (('line_02', 'item_005'), (21, 0, 0)),\n",
       " (('line_02', 'item_005'), (21, 0, 0)),\n",
       " (('line_04', 'item_015'), (23, 0, 0)),\n",
       " (('line_04', 'item_015'), (23, 0, 0)),\n",
       " (('line_01', 'item_012'), (16, 0, 0)),\n",
       " (('line_01', 'item_012'), (16, 0, 0)),\n",
       " (('line_01', 'item_012'), (16, 0, 0)),\n",
       " (('line_01', 'item_012'), (16, 0, 0)),\n",
       " (('line_01', 'item_015'), (26, 0, 0)),\n",
       " (('line_01', 'item_015'), (26, 0, 0)),\n",
       " (('line_01', 'item_015'), (26, 0, 0)),\n",
       " (('line_01', 'item_015'), (26, 0, 0)),\n",
       " (('line_01', 'item_015'), (26, 0, 0)),\n",
       " (('line_01', 'item_015'), (26, 0, 0)),\n",
       " (('line_01', 'item_015'), (26, 0, 0)),\n",
       " (('line_05', 'item_005'), (18, 0, 0)),\n",
       " (('line_05', 'item_005'), (18, 0, 0)),\n",
       " (('line_04', 'item_011'), (21, 0, 0)),\n",
       " (('line_04', 'item_011'), (21, 0, 0)),\n",
       " (('line_04', 'item_005'), (18, 0, 0)),\n",
       " (('line_04', 'item_005'), (18, 0, 0)),\n",
       " (('line_04', 'item_005'), (18, 0, 0)),\n",
       " (('line_04', 'item_005'), (18, 0, 0)),\n",
       " (('line_01', 'item_013'), (10, 0, 0)),\n",
       " (('line_01', 'item_013'), (10, 0, 0)),\n",
       " (('line_01', 'item_013'), (10, 0, 0)),\n",
       " (('line_01', 'item_013'), (10, 0, 0)),\n",
       " (('line_01', 'item_013'), (10, 0, 0)),\n",
       " (('line_05', 'item_014'), (19, 0, 0)),\n",
       " (('line_05', 'item_014'), (19, 0, 0)),\n",
       " (('line_05', 'item_014'), (19, 0, 0)),\n",
       " (('line_05', 'item_014'), (19, 0, 0)),\n",
       " (('line_04', 'item_009'), (18, 0, 0)),\n",
       " (('line_04', 'item_009'), (18, 0, 0)),\n",
       " (('line_01', 'item_001'), (27, 0, 0)),\n",
       " (('line_01', 'item_001'), (27, 0, 0)),\n",
       " (('line_01', 'item_001'), (27, 0, 0)),\n",
       " (('line_01', 'item_002'), (18, 0, 0)),\n",
       " (('line_01', 'item_007'), (22, 0, 0)),\n",
       " (('line_01', 'item_007'), (22, 0, 0)),\n",
       " (('line_03', 'item_013'), (16, 0, 0)),\n",
       " (('line_03', 'item_013'), (16, 0, 0)),\n",
       " (('line_03', 'item_013'), (16, 0, 0)),\n",
       " (('line_03', 'item_013'), (16, 0, 0)),\n",
       " (('line_03', 'item_013'), (16, 0, 0)),\n",
       " (('line_03', 'item_013'), (16, 0, 0)),\n",
       " (('line_04', 'item_007'), (17, 0, 0)),\n",
       " (('line_04', 'item_007'), (17, 0, 0)),\n",
       " (('line_04', 'item_007'), (17, 0, 0)),\n",
       " (('line_04', 'item_007'), (17, 0, 0)),\n",
       " (('line_04', 'item_007'), (17, 0, 0)),\n",
       " (('line_04', 'item_007'), (17, 0, 0)),\n",
       " (('line_04', 'item_007'), (17, 0, 0)),\n",
       " (('line_04', 'item_007'), (17, 0, 0)),\n",
       " (('line_04', 'item_007'), (17, 0, 0)),\n",
       " (('line_03', 'item_003'), (28, 0, 0)),\n",
       " (('line_03', 'item_003'), (28, 0, 0)),\n",
       " (('line_03', 'item_003'), (28, 0, 0)),\n",
       " (('line_03', 'item_003'), (28, 0, 0)),\n",
       " (('line_05', 'item_013'), (17, 0, 0)),\n",
       " (('line_03', 'item_008'), (18, 0, 0)),\n",
       " (('line_03', 'item_008'), (18, 0, 0)),\n",
       " (('line_03', 'item_008'), (18, 0, 0)),\n",
       " (('line_03', 'item_008'), (18, 0, 0)),\n",
       " (('line_03', 'item_008'), (18, 0, 0)),\n",
       " (('line_03', 'item_008'), (18, 0, 0)),\n",
       " (('line_01', 'item_008'), (23, 0, 0)),\n",
       " (('line_01', 'item_008'), (23, 0, 0)),\n",
       " (('line_01', 'item_008'), (23, 0, 0)),\n",
       " (('line_01', 'item_008'), (23, 0, 0)),\n",
       " (('line_01', 'item_008'), (23, 0, 0)),\n",
       " (('line_01', 'item_008'), (23, 0, 0)),\n",
       " (('line_01', 'item_014'), (18, 0, 0)),\n",
       " (('line_01', 'item_014'), (18, 0, 0)),\n",
       " (('line_01', 'item_014'), (18, 0, 0)),\n",
       " (('line_01', 'item_014'), (18, 0, 0)),\n",
       " (('line_02', 'item_007'), (18, 0, 0)),\n",
       " (('line_02', 'item_007'), (18, 0, 0)),\n",
       " (('line_02', 'item_007'), (18, 0, 0)),\n",
       " (('line_02', 'item_007'), (18, 0, 0)),\n",
       " (('line_02', 'item_007'), (18, 0, 0)),\n",
       " (('line_02', 'item_007'), (18, 0, 0)),\n",
       " (('line_02', 'item_007'), (18, 0, 0)),\n",
       " (('line_03', 'item_011'), (22, 0, 0)),\n",
       " (('line_03', 'item_011'), (22, 0, 0)),\n",
       " (('line_03', 'item_011'), (22, 0, 0)),\n",
       " (('line_03', 'item_011'), (22, 0, 0)),\n",
       " (('line_03', 'item_011'), (22, 0, 0)),\n",
       " (('line_03', 'item_011'), (22, 0, 0)),\n",
       " (('line_03', 'item_011'), (22, 0, 0)),\n",
       " (('line_03', 'item_011'), (22, 0, 0)),\n",
       " (('line_03', 'item_011'), (22, 0, 0)),\n",
       " (('line_05', 'item_002'), (20, 0, 0)),\n",
       " (('line_05', 'item_006'), (24, 0, 0)),\n",
       " (('line_05', 'item_006'), (24, 0, 0)),\n",
       " ...]"
      ]
     },
     "execution_count": 37,
     "metadata": {},
     "output_type": "execute_result"
    }
   ],
   "source": [
    "def lineMaker(row):\n",
    "    return (row.get(\"key\"),(0,0,1) if row.get(\"value\").get(\"deltaTime\")>timedelta(0) \n",
    "                                            else (0,1,0) if row.get(\"value\").get(\"deltaTime\") == 0\n",
    "                                            else (1,0,0))\n",
    "    \n",
    "rowDistribution = step2.map(lambda x: lineMaker(x)).reduceByKey(lambda x,y: (x[0]+y[0],x[1]+y[1],x[2]+y[2])).persist()\n",
    "[(k[0][0],k[1]) for k in rowDistribution.collect() if k[1][2] == 0]"
   ]
  },
  {
   "cell_type": "code",
   "execution_count": 38,
   "metadata": {},
   "outputs": [
    {
     "data": {
      "text/plain": [
       "(1204, 26204)"
      ]
     },
     "execution_count": 38,
     "metadata": {},
     "output_type": "execute_result"
    }
   ],
   "source": [
    "len([(k[0][0],k[1]) for k in rowDistribution.collect() if k[1][2] == 0]),len([(k[0][0],k[1]) for k in rowDistribution.collect() if k[1][2] == 0]) + step3.count()"
   ]
  },
  {
   "cell_type": "markdown",
   "metadata": {},
   "source": [
    "## Step3.ter maybe this is the good one"
   ]
  },
  {
   "cell_type": "code",
   "execution_count": 39,
   "metadata": {},
   "outputs": [
    {
     "data": {
      "text/plain": [
       "25000"
      ]
     },
     "execution_count": 39,
     "metadata": {},
     "output_type": "execute_result"
    }
   ],
   "source": [
    "def reduceFun(val1,val2):\n",
    "    val1Delta = val1.get(\"deltaTime\")\n",
    "    val2Delta = val2.get(\"deltaTime\")\n",
    "    if val1Delta >= timedelta(0) and val2Delta >=timedelta(0):\n",
    "        return val1 if  val1Delta < val2Delta else val2\n",
    "    elif val1Delta < timedelta(0) and val2Delta <timedelta(0): \n",
    "        return val1 if  val1Delta > val2Delta else val2\n",
    "    else: \n",
    "        return val1 if val1Delta>=timedelta(0) else val2\n",
    "        \n",
    "def lineParser(row):\n",
    "    return {\"lineId\":row[0][0][0],\"itemId\":row[0][0][1],\"creationDate\":row[0][1], \"deltaTime\":row[1].get(\"deltaTime\"),\n",
    "                 \"qty\":row[1].get(\"logLine\").get(\"qty\"),\"cost\":row[1].get(\"masterLine\").get(\"cost\")}\n",
    "\n",
    "\n",
    "step3_2 = step2.map(lambda x: (x.get(\"key\"),x.get(\"value\")))\\\n",
    "            .reduceByKey(lambda x,y: reduceFun(x,y)).map(lambda x: lineParser(x))\n",
    "step3_2.count()"
   ]
  },
  {
   "cell_type": "code",
   "execution_count": 40,
   "metadata": {},
   "outputs": [
    {
     "data": {
      "text/plain": [
       "(23794, 1206)"
      ]
     },
     "execution_count": 40,
     "metadata": {},
     "output_type": "execute_result"
    }
   ],
   "source": [
    "step3_0 = step3.map(lambda x: lineParser(x))\n",
    "step3_0.filter(lambda x: x.get(\"deltaTime\")<timedelta(0)).count(),step3_0.filter(lambda x: x.get(\"deltaTime\")>=timedelta(0)).count()"
   ]
  },
  {
   "cell_type": "code",
   "execution_count": 41,
   "metadata": {},
   "outputs": [
    {
     "data": {
      "text/plain": [
       "(0, 23796)"
      ]
     },
     "execution_count": 41,
     "metadata": {},
     "output_type": "execute_result"
    }
   ],
   "source": [
    "step3_1_0 = step3_1.map(lambda x: lineParser(x))\n",
    "step3_1_0.filter(lambda x: x.get(\"deltaTime\")<timedelta(0)).count(),step3_1_0.filter(lambda x: x.get(\"deltaTime\")>=timedelta(0)).count()"
   ]
  },
  {
   "cell_type": "code",
   "execution_count": 42,
   "metadata": {},
   "outputs": [
    {
     "data": {
      "text/plain": [
       "(1204, 23796)"
      ]
     },
     "execution_count": 42,
     "metadata": {},
     "output_type": "execute_result"
    }
   ],
   "source": [
    "step3_2.filter(lambda x: x.get(\"deltaTime\")<timedelta(0)).count(),step3_2.filter(lambda x: x.get(\"deltaTime\")>=timedelta(0)).count()"
   ]
  }
 ],
 "metadata": {
  "kernelspec": {
   "display_name": "Python 3",
   "language": "python",
   "name": "python3"
  },
  "language_info": {
   "codemirror_mode": {
    "name": "ipython",
    "version": 3
   },
   "file_extension": ".py",
   "mimetype": "text/x-python",
   "name": "python",
   "nbconvert_exporter": "python",
   "pygments_lexer": "ipython3",
   "version": "3.8.6"
  }
 },
 "nbformat": 4,
 "nbformat_minor": 4
}
