{
 "cells": [
  {
   "cell_type": "code",
   "execution_count": 1,
   "metadata": {},
   "outputs": [],
   "source": [
    "#remember to clone https://github.com/brcondor/Architectures_for_Big_Data into '/home/jovyan/work/'\n",
    "import sys\n",
    "sys.path.append(\"/home/jovyan/work/Architectures_for_Big_Data/\")\n",
    "import pyspark\n",
    "sc = pyspark.SparkContext(\"local[3]\")"
   ]
  },
  {
   "cell_type": "code",
   "execution_count": 2,
   "metadata": {},
   "outputs": [
    {
     "data": {
      "text/plain": [
       "{'lineId': 'line_04',\n",
       " 'itemId': 'item_005',\n",
       " 'ts': datetime.datetime(2010, 1, 1, 0, 14, 7),\n",
       " 'qty': 46}"
      ]
     },
     "execution_count": 2,
     "metadata": {},
     "output_type": "execute_result"
    }
   ],
   "source": [
    "from dataGenerator.rowGenerator import *\n",
    "from dataGenerator.datasetGenerator import *\n",
    "\n",
    "dataset = datasetGenerator()\n",
    "dataset.addGenerator(idGenerator(),prefix=\"line\",min=1,max=5,keyName=\"lineId\")\n",
    "dataset.addGenerator(idGenerator(),prefix=\"item\",min=1,max=15,keyName=\"itemId\")\n",
    "dataset.addGenerator(tickGenerator(),minTick=600,maxTick=1800,keyName=\"ts\")\n",
    "dataset.addGenerator(intGenerator(),keyName=\"qty\")\n",
    "\n",
    "logRdd = sc.parallelize( dataset.generateDataset(25000)).persist()\n",
    "logRdd.first()"
   ]
  },
  {
   "cell_type": "code",
   "execution_count": 3,
   "metadata": {},
   "outputs": [
    {
     "data": {
      "text/plain": [
       "['2010-01-01 00:14:07',\n",
       " '2010-01-01 00:41:49',\n",
       " '2010-01-01 01:06:11',\n",
       " '2010-01-01 01:20:34',\n",
       " '2010-01-01 01:49:32']"
      ]
     },
     "execution_count": 3,
     "metadata": {},
     "output_type": "execute_result"
    }
   ],
   "source": [
    "logRdd.map(lambda x: x.get(\"ts\")).sortBy(lambda x: x).map(lambda x: str(x)).take(5)"
   ]
  },
  {
   "cell_type": "code",
   "execution_count": 4,
   "metadata": {},
   "outputs": [
    {
     "data": {
      "text/plain": [
       "[('line_01', 'item_001'),\n",
       " ('line_01', 'item_002'),\n",
       " ('line_01', 'item_003'),\n",
       " ('line_01', 'item_004'),\n",
       " ('line_01', 'item_005'),\n",
       " ('line_01', 'item_006'),\n",
       " ('line_01', 'item_007'),\n",
       " ('line_01', 'item_008'),\n",
       " ('line_01', 'item_009'),\n",
       " ('line_01', 'item_010'),\n",
       " ('line_01', 'item_011'),\n",
       " ('line_01', 'item_012'),\n",
       " ('line_01', 'item_013'),\n",
       " ('line_01', 'item_014'),\n",
       " ('line_01', 'item_015'),\n",
       " ('line_02', 'item_001'),\n",
       " ('line_02', 'item_002'),\n",
       " ('line_02', 'item_003'),\n",
       " ('line_02', 'item_004'),\n",
       " ('line_02', 'item_005'),\n",
       " ('line_02', 'item_006'),\n",
       " ('line_02', 'item_007'),\n",
       " ('line_02', 'item_008'),\n",
       " ('line_02', 'item_009'),\n",
       " ('line_02', 'item_010'),\n",
       " ('line_02', 'item_011'),\n",
       " ('line_02', 'item_012'),\n",
       " ('line_02', 'item_013'),\n",
       " ('line_02', 'item_014'),\n",
       " ('line_02', 'item_015'),\n",
       " ('line_03', 'item_001'),\n",
       " ('line_03', 'item_002'),\n",
       " ('line_03', 'item_003'),\n",
       " ('line_03', 'item_004'),\n",
       " ('line_03', 'item_005'),\n",
       " ('line_03', 'item_006'),\n",
       " ('line_03', 'item_007'),\n",
       " ('line_03', 'item_008'),\n",
       " ('line_03', 'item_009'),\n",
       " ('line_03', 'item_010'),\n",
       " ('line_03', 'item_011'),\n",
       " ('line_03', 'item_012'),\n",
       " ('line_03', 'item_013'),\n",
       " ('line_03', 'item_014'),\n",
       " ('line_03', 'item_015'),\n",
       " ('line_04', 'item_001'),\n",
       " ('line_04', 'item_002'),\n",
       " ('line_04', 'item_003'),\n",
       " ('line_04', 'item_004'),\n",
       " ('line_04', 'item_005'),\n",
       " ('line_04', 'item_006'),\n",
       " ('line_04', 'item_007'),\n",
       " ('line_04', 'item_008'),\n",
       " ('line_04', 'item_009'),\n",
       " ('line_04', 'item_010'),\n",
       " ('line_04', 'item_011'),\n",
       " ('line_04', 'item_012'),\n",
       " ('line_04', 'item_013'),\n",
       " ('line_04', 'item_014'),\n",
       " ('line_04', 'item_015'),\n",
       " ('line_05', 'item_001'),\n",
       " ('line_05', 'item_002'),\n",
       " ('line_05', 'item_003'),\n",
       " ('line_05', 'item_004'),\n",
       " ('line_05', 'item_005'),\n",
       " ('line_05', 'item_006'),\n",
       " ('line_05', 'item_007'),\n",
       " ('line_05', 'item_008'),\n",
       " ('line_05', 'item_009'),\n",
       " ('line_05', 'item_010'),\n",
       " ('line_05', 'item_011'),\n",
       " ('line_05', 'item_012'),\n",
       " ('line_05', 'item_013'),\n",
       " ('line_05', 'item_014'),\n",
       " ('line_05', 'item_015')]"
      ]
     },
     "execution_count": 4,
     "metadata": {},
     "output_type": "execute_result"
    }
   ],
   "source": [
    "logRdd.map(lambda x: (x.get(\"lineId\"),x.get(\"itemId\"))).distinct().sortBy(lambda x: (x[0],x[1])).collect()"
   ]
  },
  {
   "cell_type": "code",
   "execution_count": 5,
   "metadata": {},
   "outputs": [
    {
     "data": {
      "text/plain": [
       "[('line_01', 15),\n",
       " ('line_02', 15),\n",
       " ('line_03', 15),\n",
       " ('line_04', 15),\n",
       " ('line_05', 15)]"
      ]
     },
     "execution_count": 5,
     "metadata": {},
     "output_type": "execute_result"
    }
   ],
   "source": [
    "logRdd.map(lambda x: (x.get(\"lineId\"),x.get(\"itemId\"))).distinct().map(lambda x: (x[0],1))\\\n",
    "        .reduceByKey(lambda x,y: x+y).sortBy(lambda x: x[0]).collect()"
   ]
  },
  {
   "cell_type": "code",
   "execution_count": 6,
   "metadata": {},
   "outputs": [
    {
     "data": {
      "text/plain": [
       "'2010-09-17 19:51:06'"
      ]
     },
     "execution_count": 6,
     "metadata": {},
     "output_type": "execute_result"
    }
   ],
   "source": [
    "maxDate = logRdd.map(lambda x: x.get(\"ts\")).sortBy(lambda x: x).map(lambda x: x).max()\n",
    "str(maxDate)\n"
   ]
  },
  {
   "cell_type": "code",
   "execution_count": 7,
   "metadata": {},
   "outputs": [
    {
     "data": {
      "text/plain": [
       "{'lineId': 'line_05',\n",
       " 'itemId': 'item_010',\n",
       " 'ts': datetime.datetime(2010, 1, 16, 22, 18, 38),\n",
       " 'cost': 341}"
      ]
     },
     "execution_count": 7,
     "metadata": {},
     "output_type": "execute_result"
    }
   ],
   "source": [
    "from dataGenerator.rowGenerator import *\n",
    "from dataGenerator.datasetGenerator import *\n",
    "\n",
    "dataset = datasetGenerator()\n",
    "dataset.addGenerator(idGenerator(),prefix=\"line\",min=1,max=5,keyName=\"lineId\")\n",
    "dataset.addGenerator(idGenerator(),prefix=\"item\",min=1,max=15,keyName=\"itemId\")\n",
    "dataset.addGenerator(dateGenerator(),endDate=maxDate,keyName=\"ts\")\n",
    "dataset.addGenerator(intGenerator(),\"cost\")\n",
    "\n",
    "masterDataRdd = sc.parallelize( dataset.generateDataset(1500)).persist()\n",
    "masterDataRdd.first()"
   ]
  },
  {
   "cell_type": "code",
   "execution_count": 8,
   "metadata": {},
   "outputs": [
    {
     "data": {
      "text/plain": [
       "datetime.datetime(2010, 9, 17, 13, 52, 5)"
      ]
     },
     "execution_count": 8,
     "metadata": {},
     "output_type": "execute_result"
    }
   ],
   "source": [
    "masterDataRdd.map(lambda x: x.get(\"ts\")).max()"
   ]
  },
  {
   "cell_type": "markdown",
   "metadata": {},
   "source": [
    "# Bean Counter"
   ]
  },
  {
   "cell_type": "code",
   "execution_count": 9,
   "metadata": {},
   "outputs": [
    {
     "data": {
      "text/plain": [
       "{'lineId': 'line_04',\n",
       " 'itemId': 'item_005',\n",
       " 'ts': datetime.datetime(2010, 1, 1, 0, 14, 7),\n",
       " 'qty': 46}"
      ]
     },
     "execution_count": 9,
     "metadata": {},
     "output_type": "execute_result"
    }
   ],
   "source": [
    "logRdd.first()"
   ]
  },
  {
   "cell_type": "markdown",
   "metadata": {},
   "source": [
    "## How many lines per item?"
   ]
  },
  {
   "cell_type": "code",
   "execution_count": 10,
   "metadata": {},
   "outputs": [
    {
     "data": {
      "text/plain": [
       "[('item_005', 1666),\n",
       " ('item_013', 1583),\n",
       " ('item_010', 1649),\n",
       " ('item_007', 1725),\n",
       " ('item_014', 1668)]"
      ]
     },
     "execution_count": 10,
     "metadata": {},
     "output_type": "execute_result"
    }
   ],
   "source": [
    "logRdd.map(lambda x: (x.get(\"itemId\"),1)).reduceByKey(lambda x,y: x+y).take(5)"
   ]
  },
  {
   "cell_type": "markdown",
   "metadata": {},
   "source": [
    "## How much qty per item?"
   ]
  },
  {
   "cell_type": "code",
   "execution_count": 11,
   "metadata": {},
   "outputs": [
    {
     "data": {
      "text/plain": [
       "[('item_005', 834748),\n",
       " ('item_013', 785499),\n",
       " ('item_010', 825618),\n",
       " ('item_007', 881358),\n",
       " ('item_014', 847889)]"
      ]
     },
     "execution_count": 11,
     "metadata": {},
     "output_type": "execute_result"
    }
   ],
   "source": [
    "def f(x,y):\n",
    "    numberOfItems = x+y\n",
    "    return numberOfItems\n",
    "logRdd.map(lambda x: (x.get(\"itemId\"),x.get(\"qty\"))).reduceByKey(lambda x,y: f(x,y)).take(5)"
   ]
  },
  {
   "cell_type": "markdown",
   "metadata": {},
   "source": [
    "## How much qty in everage per item?"
   ]
  },
  {
   "cell_type": "code",
   "execution_count": 12,
   "metadata": {},
   "outputs": [
    {
     "data": {
      "text/plain": [
       "[('item_005', 501.04921968787517),\n",
       " ('item_013', 496.2090966519267),\n",
       " ('item_010', 500.67798665858095),\n",
       " ('item_007', 510.93217391304347),\n",
       " ('item_014', 508.32673860911274)]"
      ]
     },
     "execution_count": 12,
     "metadata": {},
     "output_type": "execute_result"
    }
   ],
   "source": [
    "def f(x,y):\n",
    "    cumulateQty = x[0]+y[0]\n",
    "    numberOfItems = x[1]+y[1]\n",
    "    return cumulateQty,numberOfItems\n",
    "    \n",
    "def prepare(x):\n",
    "    return x[0],x[1][0]/x[1][1]\n",
    "    \n",
    "logRdd.map(lambda x: (x.get(\"itemId\"),(x.get(\"qty\"),1.0))).reduceByKey(lambda x,y: f(x,y)).map(lambda x: prepare(x)).take(5)"
   ]
  },
  {
   "cell_type": "code",
   "execution_count": 13,
   "metadata": {},
   "outputs": [
    {
     "data": {
      "text/plain": [
       "(count: 15, mean: 500.7442721979763, stdev: 5.537131200704034, max: 510.93217391304347, min: 489.468085106383)"
      ]
     },
     "execution_count": 13,
     "metadata": {},
     "output_type": "execute_result"
    }
   ],
   "source": [
    "def f(x,y):\n",
    "    cumulateQty = x[0]+y[0]\n",
    "    numberOfItems = x[1]+y[1]\n",
    "    return cumulateQty,numberOfItems\n",
    "    \n",
    "def prepare(x):\n",
    "    return x[1][0]/x[1][1]\n",
    "    \n",
    "logRdd.map(lambda x: (x.get(\"itemId\"),(x.get(\"qty\"),1.0))).reduceByKey(lambda x,y: f(x,y)).map(lambda x: prepare(x))\\\n",
    "                .stats()"
   ]
  },
  {
   "cell_type": "markdown",
   "metadata": {},
   "source": [
    "## Exercise (1): Similar statistics but on item,line couple"
   ]
  },
  {
   "cell_type": "code",
   "execution_count": 14,
   "metadata": {},
   "outputs": [],
   "source": [
    "#..."
   ]
  },
  {
   "cell_type": "markdown",
   "metadata": {},
   "source": [
    "## lets Imagine to have 100 executors, and we want to distribute the average over lineId"
   ]
  },
  {
   "cell_type": "code",
   "execution_count": 15,
   "metadata": {},
   "outputs": [
    {
     "data": {
      "text/plain": [
       "(count: 5, mean: 500.75982327713666, stdev: 2.3358911677342413, max: 503.2509113001215, min: 496.51540332387515)"
      ]
     },
     "execution_count": 15,
     "metadata": {},
     "output_type": "execute_result"
    }
   ],
   "source": [
    "def f(x,y):\n",
    "    cumulateQty = x[0]+y[0]\n",
    "    numberOfItems = x[1]+y[1]\n",
    "    return cumulateQty,numberOfItems\n",
    "    \n",
    "def prepare(x):\n",
    "    return x[1][0]/x[1][1]\n",
    "    \n",
    "logRdd.map(lambda x: ((x.get(\"lineId\")),(x.get(\"qty\"),1.0))).reduceByKey(lambda x,y: f(x,y))\\\n",
    "                    .map(lambda x: prepare(x))\\\n",
    "                .stats()"
   ]
  },
  {
   "cell_type": "code",
   "execution_count": 16,
   "metadata": {},
   "outputs": [
    {
     "data": {
      "text/plain": [
       "(count: 5, mean: 500.75982327713666, stdev: 2.335891167734239, max: 503.2509113001215, min: 496.51540332387515)"
      ]
     },
     "execution_count": 16,
     "metadata": {},
     "output_type": "execute_result"
    }
   ],
   "source": [
    "def f(x,y):\n",
    "    cumulateQty = x[0]+y[0]\n",
    "    numberOfItems = x[1]+y[1]\n",
    "    return cumulateQty,numberOfItems\n",
    "    \n",
    "def prepare(x):\n",
    "    return x[1][0]/x[1][1]\n",
    "    \n",
    "logRdd.map(lambda x: ((randint(1,100),x.get(\"lineId\")),(x.get(\"qty\"),1.0))).reduceByKey(lambda x,y: f(x,y))\\\n",
    "                    .map(lambda x: (x[0][1],x[1])).reduceByKey(lambda x,y: f(x,y))\\\n",
    "                    .map(lambda x: prepare(x))\\\n",
    "                .stats()"
   ]
  },
  {
   "cell_type": "markdown",
   "metadata": {},
   "source": [
    "## Cycle Time"
   ]
  },
  {
   "cell_type": "code",
   "execution_count": 17,
   "metadata": {},
   "outputs": [
    {
     "data": {
      "text/plain": [
       "25000"
      ]
     },
     "execution_count": 17,
     "metadata": {},
     "output_type": "execute_result"
    }
   ],
   "source": [
    "semiLogRdd = logRdd.map(lambda x: ((x.get(\"lineId\"),x.get(\"itemId\")),x)).persist()\n",
    "semiLogRdd.count()"
   ]
  },
  {
   "cell_type": "code",
   "execution_count": 18,
   "metadata": {},
   "outputs": [
    {
     "data": {
      "text/plain": [
       "8355026"
      ]
     },
     "execution_count": 18,
     "metadata": {},
     "output_type": "execute_result"
    }
   ],
   "source": [
    "joinedRDD = semiLogRdd.join(semiLogRdd).persist()\n",
    "joinedRDD.count()"
   ]
  },
  {
   "cell_type": "code",
   "execution_count": 19,
   "metadata": {},
   "outputs": [
    {
     "data": {
      "text/plain": [
       "(('line_04', 'item_013'),\n",
       " ({'lineId': 'line_04',\n",
       "   'itemId': 'item_013',\n",
       "   'ts': datetime.datetime(2010, 1, 1, 0, 41, 49),\n",
       "   'qty': 259},\n",
       "  {'lineId': 'line_04',\n",
       "   'itemId': 'item_013',\n",
       "   'ts': datetime.datetime(2010, 1, 1, 0, 41, 49),\n",
       "   'qty': 259}))"
      ]
     },
     "execution_count": 19,
     "metadata": {},
     "output_type": "execute_result"
    }
   ],
   "source": [
    "joinedRDD.first()"
   ]
  },
  {
   "cell_type": "code",
   "execution_count": 20,
   "metadata": {},
   "outputs": [
    {
     "data": {
      "text/plain": [
       "4165013"
      ]
     },
     "execution_count": 20,
     "metadata": {},
     "output_type": "execute_result"
    }
   ],
   "source": [
    "triangleJoinedRdd = joinedRDD.filter(lambda x: x[1][0].get(\"ts\")<x[1][1].get(\"ts\")).persist()\n",
    "triangleJoinedRdd.count()"
   ]
  },
  {
   "cell_type": "code",
   "execution_count": 21,
   "metadata": {},
   "outputs": [
    {
     "data": {
      "text/plain": [
       "(('line_04', 'item_013'),\n",
       " ({'lineId': 'line_04',\n",
       "   'itemId': 'item_013',\n",
       "   'ts': datetime.datetime(2010, 1, 1, 0, 41, 49),\n",
       "   'qty': 259},\n",
       "  {'lineId': 'line_04',\n",
       "   'itemId': 'item_013',\n",
       "   'ts': datetime.datetime(2010, 1, 1, 16, 53, 3),\n",
       "   'qty': 415}))"
      ]
     },
     "execution_count": 21,
     "metadata": {},
     "output_type": "execute_result"
    }
   ],
   "source": [
    "triangleJoinedRdd.first()"
   ]
  },
  {
   "cell_type": "code",
   "execution_count": 22,
   "metadata": {},
   "outputs": [
    {
     "data": {
      "text/plain": [
       "((('line_04', 'item_013'), datetime.datetime(2010, 1, 1, 0, 41, 49)),\n",
       " (datetime.timedelta(seconds=58274),\n",
       "  (('line_04', 'item_013'),\n",
       "   ({'lineId': 'line_04',\n",
       "     'itemId': 'item_013',\n",
       "     'ts': datetime.datetime(2010, 1, 1, 0, 41, 49),\n",
       "     'qty': 259},\n",
       "    {'lineId': 'line_04',\n",
       "     'itemId': 'item_013',\n",
       "     'ts': datetime.datetime(2010, 1, 1, 16, 53, 3),\n",
       "     'qty': 415}))))"
      ]
     },
     "execution_count": 22,
     "metadata": {},
     "output_type": "execute_result"
    }
   ],
   "source": [
    "triangleJoinedRdd.map(lambda x: ((x[0],x[1][0].get(\"ts\")), (x[1][1].get(\"ts\")-x[1][0].get(\"ts\"),x))).first()"
   ]
  },
  {
   "cell_type": "code",
   "execution_count": 23,
   "metadata": {},
   "outputs": [
    {
     "data": {
      "text/plain": [
       "0"
      ]
     },
     "execution_count": 23,
     "metadata": {},
     "output_type": "execute_result"
    }
   ],
   "source": [
    "triangleJoinedRdd.map(lambda x: ((x[0],x[1][0].get(\"ts\")), (x[1][1].get(\"ts\")-x[1][0].get(\"ts\"),x)))\\\n",
    "                .filter(lambda x: x[0]==(('line_03', 'item_005'), datetime(2010, 1, 1, 0, 13, 41))).count()"
   ]
  },
  {
   "cell_type": "code",
   "execution_count": 24,
   "metadata": {},
   "outputs": [
    {
     "data": {
      "text/plain": [
       "{'lineId': 'line_04',\n",
       " 'itemId': 'item_013',\n",
       " 'ts': datetime.datetime(2010, 1, 1, 16, 53, 3),\n",
       " 'qty': 415,\n",
       " 'cycleTime': datetime.timedelta(seconds=29394)}"
      ]
     },
     "execution_count": 24,
     "metadata": {},
     "output_type": "execute_result"
    }
   ],
   "source": [
    "def f(x,y):\n",
    "    if x[0]<y[0]:\n",
    "        return x\n",
    "    return y\n",
    "def prepare(x):\n",
    "    x[1][1][1][0][\"cycleTime\"] = x[1][0]\n",
    "    return x[1][1][1][0]\n",
    "    \n",
    "enrichedLogRdd = triangleJoinedRdd.map(lambda x: ((x[0],x[1][0].get(\"ts\")), (x[1][1].get(\"ts\")-x[1][0].get(\"ts\"),x)))\\\n",
    "                    .reduceByKey(lambda x,y: f(x,y)).map(lambda x: prepare(x)).persist()\n",
    "enrichedLogRdd.first()"
   ]
  },
  {
   "cell_type": "markdown",
   "metadata": {},
   "source": [
    "## Exercise (2): why if we count, we see fewer items?"
   ]
  },
  {
   "cell_type": "code",
   "execution_count": 25,
   "metadata": {},
   "outputs": [
    {
     "data": {
      "text/plain": [
       "24925"
      ]
     },
     "execution_count": 25,
     "metadata": {},
     "output_type": "execute_result"
    }
   ],
   "source": [
    "enrichedLogRdd.count()"
   ]
  },
  {
   "cell_type": "markdown",
   "metadata": {},
   "source": [
    "## Exercise (3): I want to see the histogram of cycle times"
   ]
  },
  {
   "cell_type": "code",
   "execution_count": null,
   "metadata": {},
   "outputs": [],
   "source": []
  },
  {
   "cell_type": "markdown",
   "metadata": {},
   "source": [
    "## Extract Snapshot from Master Data"
   ]
  },
  {
   "cell_type": "code",
   "execution_count": 26,
   "metadata": {},
   "outputs": [
    {
     "data": {
      "text/plain": [
       "(('line_05', 'item_010'), (341, datetime.datetime(2010, 1, 16, 22, 18, 38)))"
      ]
     },
     "execution_count": 26,
     "metadata": {},
     "output_type": "execute_result"
    }
   ],
   "source": [
    "masterDataRdd.map(lambda x: ((x.get(\"lineId\"),x.get(\"itemId\")), (x.get(\"cost\"),x.get(\"ts\")) )  ).first()"
   ]
  },
  {
   "cell_type": "code",
   "execution_count": 27,
   "metadata": {},
   "outputs": [
    {
     "data": {
      "text/plain": [
       "75"
      ]
     },
     "execution_count": 27,
     "metadata": {},
     "output_type": "execute_result"
    }
   ],
   "source": [
    "masterDataRdd.map(lambda x: ((x.get(\"lineId\"),x.get(\"itemId\")))).distinct().count()"
   ]
  },
  {
   "cell_type": "code",
   "execution_count": 28,
   "metadata": {},
   "outputs": [
    {
     "data": {
      "text/plain": [
       "[]"
      ]
     },
     "execution_count": 28,
     "metadata": {},
     "output_type": "execute_result"
    }
   ],
   "source": [
    "masterDataRdd.map(lambda x: ((x.get(\"lineId\"),x.get(\"itemId\")), (x.get(\"cost\"),str(x.get(\"ts\"))) )  )\\\n",
    "            .filter(lambda x: x[0]==(('line_025', 'item_078'))).sortBy(lambda x: x[1][1]).collect()"
   ]
  },
  {
   "cell_type": "code",
   "execution_count": 29,
   "metadata": {},
   "outputs": [
    {
     "data": {
      "text/plain": [
       "[]"
      ]
     },
     "execution_count": 29,
     "metadata": {},
     "output_type": "execute_result"
    }
   ],
   "source": [
    "logRdd.map(lambda x: ((x.get(\"lineId\"),x.get(\"itemId\")), str(x.get(\"ts\"))) )\\\n",
    "            .filter(lambda x: x[0]==(('line_025', 'item_078'))).sortBy(lambda x: x[1][1]).collect()"
   ]
  },
  {
   "cell_type": "code",
   "execution_count": 30,
   "metadata": {},
   "outputs": [
    {
     "data": {
      "text/plain": [
       "[(('line_01', 'item_014'), 32),\n",
       " (('line_01', 'item_007'), 29),\n",
       " (('line_03', 'item_003'), 27),\n",
       " (('line_05', 'item_003'), 27),\n",
       " (('line_04', 'item_015'), 26)]"
      ]
     },
     "execution_count": 30,
     "metadata": {},
     "output_type": "execute_result"
    }
   ],
   "source": [
    "masterDataRdd.map(lambda x: ((x.get(\"lineId\"),x.get(\"itemId\")),1)).reduceByKey(lambda x,y: x+y).top(5,lambda x: x[1])"
   ]
  }
 ],
 "metadata": {
  "kernelspec": {
   "display_name": "Python 3",
   "language": "python",
   "name": "python3"
  },
  "language_info": {
   "codemirror_mode": {
    "name": "ipython",
    "version": 3
   },
   "file_extension": ".py",
   "mimetype": "text/x-python",
   "name": "python",
   "nbconvert_exporter": "python",
   "pygments_lexer": "ipython3",
   "version": "3.8.6"
  }
 },
 "nbformat": 4,
 "nbformat_minor": 4
}
