{
 "cells": [
  {
   "cell_type": "code",
   "execution_count": 1,
   "metadata": {},
   "outputs": [],
   "source": [
    "#remember to clone https://github.com/brcondor/Architectures_for_Big_Data into '/home/jovyan/work/'\n",
    "import sys\n",
    "sys.path.append(\"/home/jovyan/work/Architectures_for_Big_Data/\")\n",
    "import pyspark\n",
    "sc = pyspark.SparkContext(\"local[3]\")"
   ]
  },
  {
   "cell_type": "code",
   "execution_count": 35,
   "metadata": {},
   "outputs": [
    {
     "data": {
      "text/plain": [
       "{'lineId': 'line_04',\n",
       " 'itemId': 'item_010',\n",
       " 'creationDate': datetime.datetime(2010, 1, 1, 0, 13, 10),\n",
       " 'qty': 215}"
      ]
     },
     "execution_count": 35,
     "metadata": {},
     "output_type": "execute_result"
    }
   ],
   "source": [
    "from dataGenerator.rowGenerator import *\n",
    "from dataGenerator.datasetGenerator import *\n",
    "\n",
    "dataset = datasetGenerator()\n",
    "dataset.addGenerator(idGenerator(),prefix=\"line\",min=1,max=5,keyName=\"lineId\")\n",
    "dataset.addGenerator(idGenerator(),prefix=\"item\",min=1,max=15,keyName=\"itemId\")\n",
    "dataset.addGenerator(tickGenerator(),minTick=600,maxTick=1800,keyName=\"creationDate\")\n",
    "dataset.addGenerator(intGenerator(),keyName=\"qty\")\n",
    "\n",
    "logRdd = sc.parallelize( dataset.generateDataset(25000)).persist()\n",
    "logRdd.first()"
   ]
  },
  {
   "cell_type": "code",
   "execution_count": 36,
   "metadata": {},
   "outputs": [
    {
     "data": {
      "text/plain": [
       "['2010-01-01 00:13:10',\n",
       " '2010-01-01 00:33:45',\n",
       " '2010-01-01 00:37:26',\n",
       " '2010-01-01 01:01:42',\n",
       " '2010-01-01 01:06:33']"
      ]
     },
     "execution_count": 36,
     "metadata": {},
     "output_type": "execute_result"
    }
   ],
   "source": [
    "logRdd.map(lambda x: x.get(\"creationDate\")).sortBy(lambda x: x).map(lambda x: str(x)).take(5)"
   ]
  },
  {
   "cell_type": "code",
   "execution_count": 4,
   "metadata": {},
   "outputs": [
    {
     "data": {
      "text/plain": [
       "[('line_01', 'item_001'),\n",
       " ('line_01', 'item_002'),\n",
       " ('line_01', 'item_003'),\n",
       " ('line_01', 'item_004'),\n",
       " ('line_01', 'item_005'),\n",
       " ('line_01', 'item_006'),\n",
       " ('line_01', 'item_007'),\n",
       " ('line_01', 'item_008'),\n",
       " ('line_01', 'item_009'),\n",
       " ('line_01', 'item_010'),\n",
       " ('line_01', 'item_011'),\n",
       " ('line_01', 'item_012'),\n",
       " ('line_01', 'item_013'),\n",
       " ('line_01', 'item_014'),\n",
       " ('line_01', 'item_015'),\n",
       " ('line_02', 'item_001'),\n",
       " ('line_02', 'item_002'),\n",
       " ('line_02', 'item_003'),\n",
       " ('line_02', 'item_004'),\n",
       " ('line_02', 'item_005'),\n",
       " ('line_02', 'item_006'),\n",
       " ('line_02', 'item_007'),\n",
       " ('line_02', 'item_008'),\n",
       " ('line_02', 'item_009'),\n",
       " ('line_02', 'item_010'),\n",
       " ('line_02', 'item_011'),\n",
       " ('line_02', 'item_012'),\n",
       " ('line_02', 'item_013'),\n",
       " ('line_02', 'item_014'),\n",
       " ('line_02', 'item_015'),\n",
       " ('line_03', 'item_001'),\n",
       " ('line_03', 'item_002'),\n",
       " ('line_03', 'item_003'),\n",
       " ('line_03', 'item_004'),\n",
       " ('line_03', 'item_005'),\n",
       " ('line_03', 'item_006'),\n",
       " ('line_03', 'item_007'),\n",
       " ('line_03', 'item_008'),\n",
       " ('line_03', 'item_009'),\n",
       " ('line_03', 'item_010'),\n",
       " ('line_03', 'item_011'),\n",
       " ('line_03', 'item_012'),\n",
       " ('line_03', 'item_013'),\n",
       " ('line_03', 'item_014'),\n",
       " ('line_03', 'item_015'),\n",
       " ('line_04', 'item_001'),\n",
       " ('line_04', 'item_002'),\n",
       " ('line_04', 'item_003'),\n",
       " ('line_04', 'item_004'),\n",
       " ('line_04', 'item_005'),\n",
       " ('line_04', 'item_006'),\n",
       " ('line_04', 'item_007'),\n",
       " ('line_04', 'item_008'),\n",
       " ('line_04', 'item_009'),\n",
       " ('line_04', 'item_010'),\n",
       " ('line_04', 'item_011'),\n",
       " ('line_04', 'item_012'),\n",
       " ('line_04', 'item_013'),\n",
       " ('line_04', 'item_014'),\n",
       " ('line_04', 'item_015'),\n",
       " ('line_05', 'item_001'),\n",
       " ('line_05', 'item_002'),\n",
       " ('line_05', 'item_003'),\n",
       " ('line_05', 'item_004'),\n",
       " ('line_05', 'item_005'),\n",
       " ('line_05', 'item_006'),\n",
       " ('line_05', 'item_007'),\n",
       " ('line_05', 'item_008'),\n",
       " ('line_05', 'item_009'),\n",
       " ('line_05', 'item_010'),\n",
       " ('line_05', 'item_011'),\n",
       " ('line_05', 'item_012'),\n",
       " ('line_05', 'item_013'),\n",
       " ('line_05', 'item_014'),\n",
       " ('line_05', 'item_015')]"
      ]
     },
     "execution_count": 4,
     "metadata": {},
     "output_type": "execute_result"
    }
   ],
   "source": [
    "logRdd.map(lambda x: (x.get(\"lineId\"),x.get(\"itemId\"))).distinct().sortBy(lambda x: (x[0],x[1])).collect()"
   ]
  },
  {
   "cell_type": "code",
   "execution_count": 5,
   "metadata": {},
   "outputs": [
    {
     "data": {
      "text/plain": [
       "[('line_01', 15),\n",
       " ('line_02', 15),\n",
       " ('line_03', 15),\n",
       " ('line_04', 15),\n",
       " ('line_05', 15)]"
      ]
     },
     "execution_count": 5,
     "metadata": {},
     "output_type": "execute_result"
    }
   ],
   "source": [
    "logRdd.map(lambda x: (x.get(\"lineId\"),x.get(\"itemId\"))).distinct().map(lambda x: (x[0],1))\\\n",
    "        .reduceByKey(lambda x,y: x+y).sortBy(lambda x: x[0]).collect()"
   ]
  },
  {
   "cell_type": "code",
   "execution_count": 37,
   "metadata": {},
   "outputs": [
    {
     "data": {
      "text/plain": [
       "'2010-09-17 13:43:23'"
      ]
     },
     "execution_count": 37,
     "metadata": {},
     "output_type": "execute_result"
    }
   ],
   "source": [
    "maxDate = logRdd.map(lambda x: x.get(\"creationDate\")).sortBy(lambda x: x).map(lambda x: x).max()\n",
    "str(maxDate)\n"
   ]
  },
  {
   "cell_type": "code",
   "execution_count": 38,
   "metadata": {},
   "outputs": [
    {
     "data": {
      "text/plain": [
       "{'lineId': 'line_03',\n",
       " 'itemId': 'item_002',\n",
       " 'registryInsertTimestamp': datetime.datetime(2010, 3, 5, 3, 6, 13),\n",
       " 'cost': 417}"
      ]
     },
     "execution_count": 38,
     "metadata": {},
     "output_type": "execute_result"
    }
   ],
   "source": [
    "from dataGenerator.rowGenerator import *\n",
    "from dataGenerator.datasetGenerator import *\n",
    "\n",
    "dataset = datasetGenerator()\n",
    "dataset.addGenerator(idGenerator(),prefix=\"line\",min=1,max=5,keyName=\"lineId\")\n",
    "dataset.addGenerator(idGenerator(),prefix=\"item\",min=1,max=15,keyName=\"itemId\")\n",
    "dataset.addGenerator(dateGenerator(),endDate=maxDate,keyName=\"registryInsertTimestamp\")\n",
    "dataset.addGenerator(intGenerator(),\"cost\")\n",
    "\n",
    "masterDataRdd = sc.parallelize( dataset.generateDataset(1500)).persist()\n",
    "masterDataRdd.first()"
   ]
  },
  {
   "cell_type": "code",
   "execution_count": 39,
   "metadata": {},
   "outputs": [
    {
     "data": {
      "text/plain": [
       "datetime.datetime(2010, 9, 17, 12, 34, 52)"
      ]
     },
     "execution_count": 39,
     "metadata": {},
     "output_type": "execute_result"
    }
   ],
   "source": [
    "masterDataRdd.map(lambda x: x.get(\"registryInsertTimestamp\")).max()"
   ]
  },
  {
   "cell_type": "markdown",
   "metadata": {},
   "source": [
    "# Bean Counter"
   ]
  },
  {
   "cell_type": "code",
   "execution_count": 40,
   "metadata": {},
   "outputs": [
    {
     "data": {
      "text/plain": [
       "{'lineId': 'line_04',\n",
       " 'itemId': 'item_010',\n",
       " 'creationDate': datetime.datetime(2010, 1, 1, 0, 13, 10),\n",
       " 'qty': 215}"
      ]
     },
     "execution_count": 40,
     "metadata": {},
     "output_type": "execute_result"
    }
   ],
   "source": [
    "logRdd.first()"
   ]
  },
  {
   "cell_type": "markdown",
   "metadata": {},
   "source": [
    "## How many lines per item?"
   ]
  },
  {
   "cell_type": "code",
   "execution_count": 41,
   "metadata": {},
   "outputs": [
    {
     "data": {
      "text/plain": [
       "[('item_010', 1682),\n",
       " ('item_003', 1663),\n",
       " ('item_001', 1634),\n",
       " ('item_014', 1680),\n",
       " ('item_013', 1705)]"
      ]
     },
     "execution_count": 41,
     "metadata": {},
     "output_type": "execute_result"
    }
   ],
   "source": [
    "logRdd.map(lambda x: (x.get(\"itemId\"),1)).reduceByKey(lambda x,y: x+y).take(5)"
   ]
  },
  {
   "cell_type": "markdown",
   "metadata": {},
   "source": [
    "## How much qty per item?"
   ]
  },
  {
   "cell_type": "code",
   "execution_count": 42,
   "metadata": {},
   "outputs": [
    {
     "data": {
      "text/plain": [
       "[('item_010', 836945),\n",
       " ('item_003', 827941),\n",
       " ('item_001', 808763),\n",
       " ('item_014', 837709),\n",
       " ('item_013', 857160)]"
      ]
     },
     "execution_count": 42,
     "metadata": {},
     "output_type": "execute_result"
    }
   ],
   "source": [
    "def f(x,y):\n",
    "    numberOfItems = x+y\n",
    "    return numberOfItems\n",
    "logRdd.map(lambda x: (x.get(\"itemId\"),x.get(\"qty\"))).reduceByKey(lambda x,y: f(x,y)).take(5)"
   ]
  },
  {
   "cell_type": "markdown",
   "metadata": {},
   "source": [
    "## How much qty in everage per item?"
   ]
  },
  {
   "cell_type": "code",
   "execution_count": 43,
   "metadata": {},
   "outputs": [
    {
     "data": {
      "text/plain": [
       "[('item_010', 497.58917954815695),\n",
       " ('item_003', 497.8598917618761),\n",
       " ('item_001', 494.9589963280294),\n",
       " ('item_014', 498.63630952380953),\n",
       " ('item_013', 502.73313782991204)]"
      ]
     },
     "execution_count": 43,
     "metadata": {},
     "output_type": "execute_result"
    }
   ],
   "source": [
    "def f(x,y):\n",
    "    cumulateQty = x[0]+y[0]\n",
    "    numberOfItems = x[1]+y[1]\n",
    "    return cumulateQty,numberOfItems\n",
    "    \n",
    "def prepare(x):\n",
    "    return x[0],x[1][0]/x[1][1]\n",
    "    \n",
    "logRdd.map(lambda x: (x.get(\"itemId\"),(x.get(\"qty\"),1.0))).reduceByKey(lambda x,y: f(x,y)).map(lambda x: prepare(x)).take(5)"
   ]
  },
  {
   "cell_type": "code",
   "execution_count": 44,
   "metadata": {},
   "outputs": [
    {
     "data": {
      "text/plain": [
       "(count: 15, mean: 502.0338628276392, stdev: 5.501691605710327, max: 511.8249097472924, min: 493.08837485172006)"
      ]
     },
     "execution_count": 44,
     "metadata": {},
     "output_type": "execute_result"
    }
   ],
   "source": [
    "def f(x,y):\n",
    "    cumulateQty = x[0]+y[0]\n",
    "    numberOfItems = x[1]+y[1]\n",
    "    return cumulateQty,numberOfItems\n",
    "    \n",
    "def prepare(x):\n",
    "    return x[1][0]/x[1][1]\n",
    "    \n",
    "logRdd.map(lambda x: (x.get(\"itemId\"),(x.get(\"qty\"),1.0))).reduceByKey(lambda x,y: f(x,y)).map(lambda x: prepare(x))\\\n",
    "                .stats()"
   ]
  },
  {
   "cell_type": "markdown",
   "metadata": {},
   "source": [
    "## Exercise (1): Similar statistics but on item,line couple"
   ]
  },
  {
   "cell_type": "code",
   "execution_count": 14,
   "metadata": {},
   "outputs": [],
   "source": [
    "#..."
   ]
  },
  {
   "cell_type": "markdown",
   "metadata": {},
   "source": [
    "## lets Imagine to have 100 executors, and we want to distribute the average over lineId"
   ]
  },
  {
   "cell_type": "code",
   "execution_count": 45,
   "metadata": {},
   "outputs": [
    {
     "data": {
      "text/plain": [
       "(count: 5, mean: 501.9888627551801, stdev: 1.9292706973781275, max: 505.33687162026837, min: 499.4560844453296)"
      ]
     },
     "execution_count": 45,
     "metadata": {},
     "output_type": "execute_result"
    }
   ],
   "source": [
    "def f(x,y):\n",
    "    cumulateQty = x[0]+y[0]\n",
    "    numberOfItems = x[1]+y[1]\n",
    "    return cumulateQty,numberOfItems\n",
    "    \n",
    "def prepare(x):\n",
    "    return x[1][0]/x[1][1]\n",
    "    \n",
    "logRdd.map(lambda x: ((x.get(\"lineId\")),(x.get(\"qty\"),1.0))).reduceByKey(lambda x,y: f(x,y))\\\n",
    "                    .map(lambda x: prepare(x))\\\n",
    "                .stats()"
   ]
  },
  {
   "cell_type": "code",
   "execution_count": 46,
   "metadata": {},
   "outputs": [
    {
     "data": {
      "text/plain": [
       "(count: 5, mean: 501.9888627551801, stdev: 1.9292706973781275, max: 505.33687162026837, min: 499.4560844453296)"
      ]
     },
     "execution_count": 46,
     "metadata": {},
     "output_type": "execute_result"
    }
   ],
   "source": [
    "def f(x,y):\n",
    "    cumulateQty = x[0]+y[0]\n",
    "    numberOfItems = x[1]+y[1]\n",
    "    return cumulateQty,numberOfItems\n",
    "    \n",
    "def prepare(x):\n",
    "    return x[1][0]/x[1][1]\n",
    "    \n",
    "logRdd.map(lambda x: ((randint(1,100),x.get(\"lineId\")),(x.get(\"qty\"),1.0))).reduceByKey(lambda x,y: f(x,y))\\\n",
    "                    .map(lambda x: (x[0][1],x[1])).reduceByKey(lambda x,y: f(x,y))\\\n",
    "                    .map(lambda x: prepare(x))\\\n",
    "                .stats()"
   ]
  },
  {
   "cell_type": "markdown",
   "metadata": {},
   "source": [
    "## Cycle Time"
   ]
  },
  {
   "cell_type": "code",
   "execution_count": 47,
   "metadata": {},
   "outputs": [
    {
     "data": {
      "text/plain": [
       "25000"
      ]
     },
     "execution_count": 47,
     "metadata": {},
     "output_type": "execute_result"
    }
   ],
   "source": [
    "semiLogRdd = logRdd.map(lambda x: ((x.get(\"lineId\"),x.get(\"itemId\")),x)).persist()\n",
    "semiLogRdd.count()"
   ]
  },
  {
   "cell_type": "code",
   "execution_count": 48,
   "metadata": {},
   "outputs": [
    {
     "data": {
      "text/plain": [
       "8355274"
      ]
     },
     "execution_count": 48,
     "metadata": {},
     "output_type": "execute_result"
    }
   ],
   "source": [
    "joinedRDD = semiLogRdd.join(semiLogRdd).persist()\n",
    "joinedRDD.count()"
   ]
  },
  {
   "cell_type": "code",
   "execution_count": 49,
   "metadata": {},
   "outputs": [
    {
     "data": {
      "text/plain": [
       "(('line_02', 'item_014'),\n",
       " ({'lineId': 'line_02',\n",
       "   'itemId': 'item_014',\n",
       "   'creationDate': datetime.datetime(2010, 1, 1, 2, 10, 10),\n",
       "   'qty': 898},\n",
       "  {'lineId': 'line_02',\n",
       "   'itemId': 'item_014',\n",
       "   'creationDate': datetime.datetime(2010, 1, 1, 2, 10, 10),\n",
       "   'qty': 898}))"
      ]
     },
     "execution_count": 49,
     "metadata": {},
     "output_type": "execute_result"
    }
   ],
   "source": [
    "joinedRDD.first()"
   ]
  },
  {
   "cell_type": "code",
   "execution_count": 51,
   "metadata": {},
   "outputs": [
    {
     "data": {
      "text/plain": [
       "4165137"
      ]
     },
     "execution_count": 51,
     "metadata": {},
     "output_type": "execute_result"
    }
   ],
   "source": [
    "triangleJoinedRdd = joinedRDD.filter(lambda x: x[1][0].get(\"creationDate\")<x[1][1].get(\"creationDate\")).persist()\n",
    "triangleJoinedRdd.count()"
   ]
  },
  {
   "cell_type": "code",
   "execution_count": 52,
   "metadata": {},
   "outputs": [
    {
     "data": {
      "text/plain": [
       "(('line_02', 'item_014'),\n",
       " ({'lineId': 'line_02',\n",
       "   'itemId': 'item_014',\n",
       "   'creationDate': datetime.datetime(2010, 1, 1, 2, 10, 10),\n",
       "   'qty': 898},\n",
       "  {'lineId': 'line_02',\n",
       "   'itemId': 'item_014',\n",
       "   'creationDate': datetime.datetime(2010, 1, 1, 5, 35, 25),\n",
       "   'qty': 867}))"
      ]
     },
     "execution_count": 52,
     "metadata": {},
     "output_type": "execute_result"
    }
   ],
   "source": [
    "triangleJoinedRdd.first()"
   ]
  },
  {
   "cell_type": "code",
   "execution_count": 54,
   "metadata": {},
   "outputs": [
    {
     "data": {
      "text/plain": [
       "((('line_02', 'item_014'), datetime.datetime(2010, 1, 1, 2, 10, 10)),\n",
       " (datetime.timedelta(seconds=12315),\n",
       "  (('line_02', 'item_014'),\n",
       "   ({'lineId': 'line_02',\n",
       "     'itemId': 'item_014',\n",
       "     'creationDate': datetime.datetime(2010, 1, 1, 2, 10, 10),\n",
       "     'qty': 898},\n",
       "    {'lineId': 'line_02',\n",
       "     'itemId': 'item_014',\n",
       "     'creationDate': datetime.datetime(2010, 1, 1, 5, 35, 25),\n",
       "     'qty': 867}))))"
      ]
     },
     "execution_count": 54,
     "metadata": {},
     "output_type": "execute_result"
    }
   ],
   "source": [
    "tempRdd = triangleJoinedRdd.map(lambda x: ((x[0],x[1][0].get(\"creationDate\")), \n",
    "                                 (x[1][1].get(\"creationDate\")-x[1][0].get(\"creationDate\"),x)))\n",
    "tempRdd.first()"
   ]
  },
  {
   "cell_type": "code",
   "execution_count": 56,
   "metadata": {},
   "outputs": [
    {
     "data": {
      "text/plain": [
       "343"
      ]
     },
     "execution_count": 56,
     "metadata": {},
     "output_type": "execute_result"
    }
   ],
   "source": [
    "sampleLine = tempRdd.first()[0]\n",
    "print(sampleLine)\n",
    "triangleJoinedRdd.map(lambda x: ((x[0],x[1][0].get(\"creationDate\")), \n",
    "                                 (x[1][1].get(\"creationDate\")-x[1][0].get(\"creationDate\"),x)))\\\n",
    "                .filter(lambda x: x[0]==sampleLine).count()"
   ]
  },
  {
   "cell_type": "code",
   "execution_count": 57,
   "metadata": {},
   "outputs": [
    {
     "data": {
      "text/plain": [
       "{'lineId': 'line_02',\n",
       " 'itemId': 'item_014',\n",
       " 'creationDate': datetime.datetime(2010, 1, 1, 19, 58, 39),\n",
       " 'qty': 193,\n",
       " 'cycleTime': datetime.timedelta(seconds=25023)}"
      ]
     },
     "execution_count": 57,
     "metadata": {},
     "output_type": "execute_result"
    }
   ],
   "source": [
    "def f(x,y):\n",
    "    if x[0]<y[0]:\n",
    "        return x\n",
    "    return y\n",
    "def prepare(x):\n",
    "    x[1][1][1][0][\"cycleTime\"] = x[1][0]\n",
    "    return x[1][1][1][0]\n",
    "    \n",
    "enrichedLogRdd = triangleJoinedRdd.map(lambda x: ((x[0],x[1][0].get(\"creationDate\")), \n",
    "                                                  (x[1][1].get(\"creationDate\")-x[1][0].get(\"creationDate\"),x)))\\\n",
    "                    .reduceByKey(lambda x,y: f(x,y)).map(lambda x: prepare(x)).persist()\n",
    "enrichedLogRdd.first()"
   ]
  },
  {
   "cell_type": "markdown",
   "metadata": {},
   "source": [
    "## Exercise (2): why if we count, we see fewer items?"
   ]
  },
  {
   "cell_type": "code",
   "execution_count": 25,
   "metadata": {},
   "outputs": [
    {
     "data": {
      "text/plain": [
       "24925"
      ]
     },
     "execution_count": 25,
     "metadata": {},
     "output_type": "execute_result"
    }
   ],
   "source": [
    "enrichedLogRdd.count()"
   ]
  },
  {
   "cell_type": "markdown",
   "metadata": {},
   "source": [
    "## Exercise (3): I want to see the histogram of cycle times"
   ]
  },
  {
   "cell_type": "code",
   "execution_count": null,
   "metadata": {},
   "outputs": [],
   "source": []
  },
  {
   "cell_type": "markdown",
   "metadata": {},
   "source": [
    "## Extract Snapshot from Master Data"
   ]
  },
  {
   "cell_type": "code",
   "execution_count": 59,
   "metadata": {},
   "outputs": [
    {
     "data": {
      "text/plain": [
       "(('line_03', 'item_002'), (417, datetime.datetime(2010, 3, 5, 3, 6, 13)))"
      ]
     },
     "execution_count": 59,
     "metadata": {},
     "output_type": "execute_result"
    }
   ],
   "source": [
    "tempRdd = masterDataRdd.map(lambda x: ((x.get(\"lineId\"),x.get(\"itemId\")), (x.get(\"cost\"),x.get(\"registryInsertTimestamp\")) )  )\n",
    "tempRdd.first()"
   ]
  },
  {
   "cell_type": "code",
   "execution_count": 27,
   "metadata": {},
   "outputs": [
    {
     "data": {
      "text/plain": [
       "75"
      ]
     },
     "execution_count": 27,
     "metadata": {},
     "output_type": "execute_result"
    }
   ],
   "source": [
    "masterDataRdd.map(lambda x: ((x.get(\"lineId\"),x.get(\"itemId\")))).distinct().count()"
   ]
  },
  {
   "cell_type": "code",
   "execution_count": 65,
   "metadata": {},
   "outputs": [
    {
     "name": "stdout",
     "output_type": "stream",
     "text": [
      "('line_03', 'item_002')\n"
     ]
    },
    {
     "data": {
      "text/plain": [
       "[(('line_03', 'item_002'), (544, '2010-01-13 04:19:03')),\n",
       " (('line_03', 'item_002'), (333, '2010-01-25 07:25:49')),\n",
       " (('line_03', 'item_002'), (272, '2010-01-30 17:07:57')),\n",
       " (('line_03', 'item_002'), (989, '2010-02-03 10:26:20')),\n",
       " (('line_03', 'item_002'), (356, '2010-02-16 23:05:31')),\n",
       " (('line_03', 'item_002'), (417, '2010-03-05 03:06:13')),\n",
       " (('line_03', 'item_002'), (751, '2010-03-20 20:18:58')),\n",
       " (('line_03', 'item_002'), (321, '2010-04-06 11:14:35')),\n",
       " (('line_03', 'item_002'), (683, '2010-05-13 06:18:56')),\n",
       " (('line_03', 'item_002'), (453, '2010-06-20 19:24:05')),\n",
       " (('line_03', 'item_002'), (675, '2010-06-22 23:25:25')),\n",
       " (('line_03', 'item_002'), (22, '2010-07-17 22:53:08')),\n",
       " (('line_03', 'item_002'), (822, '2010-07-30 16:40:45')),\n",
       " (('line_03', 'item_002'), (10, '2010-07-31 02:13:30')),\n",
       " (('line_03', 'item_002'), (486, '2010-08-19 18:57:10')),\n",
       " (('line_03', 'item_002'), (767, '2010-09-02 04:11:42')),\n",
       " (('line_03', 'item_002'), (287, '2010-09-02 07:58:23')),\n",
       " (('line_03', 'item_002'), (793, '2010-09-13 06:44:42')),\n",
       " (('line_03', 'item_002'), (193, '2010-09-14 09:50:23'))]"
      ]
     },
     "execution_count": 65,
     "metadata": {},
     "output_type": "execute_result"
    }
   ],
   "source": [
    "sampleLine = tempRdd.first()[0]\n",
    "print(sampleLine)\n",
    "masterDataRdd.map(lambda x: ((x.get(\"lineId\"),x.get(\"itemId\")), (x.get(\"cost\"),str(x.get(\"registryInsertTimestamp\"))) )  )\\\n",
    "            .filter(lambda x: x[0]==sampleLine).sortBy(lambda x: x[1][1]).collect()"
   ]
  },
  {
   "cell_type": "code",
   "execution_count": 67,
   "metadata": {},
   "outputs": [
    {
     "name": "stdout",
     "output_type": "stream",
     "text": [
      "('line_03', 'item_002')\n"
     ]
    },
    {
     "data": {
      "text/plain": [
       "[(('line_03', 'item_002'), '2010-01-01 07:33:51'),\n",
       " (('line_03', 'item_002'), '2010-01-02 12:52:43'),\n",
       " (('line_03', 'item_002'), '2010-01-02 17:14:29'),\n",
       " (('line_03', 'item_002'), '2010-01-04 06:14:10'),\n",
       " (('line_03', 'item_002'), '2010-01-06 13:42:03'),\n",
       " (('line_03', 'item_002'), '2010-01-07 10:12:32'),\n",
       " (('line_03', 'item_002'), '2010-01-08 10:45:47'),\n",
       " (('line_03', 'item_002'), '2010-01-11 00:27:59'),\n",
       " (('line_03', 'item_002'), '2010-01-11 14:53:17'),\n",
       " (('line_03', 'item_002'), '2010-01-11 23:53:07'),\n",
       " (('line_03', 'item_002'), '2010-01-13 04:23:52'),\n",
       " (('line_03', 'item_002'), '2010-01-13 12:16:45'),\n",
       " (('line_03', 'item_002'), '2010-01-14 09:17:46'),\n",
       " (('line_03', 'item_002'), '2010-01-15 01:51:40'),\n",
       " (('line_03', 'item_002'), '2010-01-15 13:02:34'),\n",
       " (('line_03', 'item_002'), '2010-01-16 11:48:19'),\n",
       " (('line_03', 'item_002'), '2010-01-18 15:51:18'),\n",
       " (('line_03', 'item_002'), '2010-01-21 17:07:49'),\n",
       " (('line_03', 'item_002'), '2010-01-22 04:13:26'),\n",
       " (('line_03', 'item_002'), '2010-01-22 05:15:34'),\n",
       " (('line_03', 'item_002'), '2010-01-22 14:31:53'),\n",
       " (('line_03', 'item_002'), '2010-01-22 15:43:19'),\n",
       " (('line_03', 'item_002'), '2010-01-23 10:41:40'),\n",
       " (('line_03', 'item_002'), '2010-01-23 19:42:34'),\n",
       " (('line_03', 'item_002'), '2010-01-26 14:02:31'),\n",
       " (('line_03', 'item_002'), '2010-01-27 00:16:42'),\n",
       " (('line_03', 'item_002'), '2010-01-27 06:38:42'),\n",
       " (('line_03', 'item_002'), '2010-01-27 07:03:16'),\n",
       " (('line_03', 'item_002'), '2010-01-30 01:44:02'),\n",
       " (('line_03', 'item_002'), '2010-01-30 05:32:17'),\n",
       " (('line_03', 'item_002'), '2010-01-30 18:02:34'),\n",
       " (('line_03', 'item_002'), '2010-01-31 05:31:15'),\n",
       " (('line_03', 'item_002'), '2010-02-01 01:39:19'),\n",
       " (('line_03', 'item_002'), '2010-02-01 15:14:12'),\n",
       " (('line_03', 'item_002'), '2010-02-01 22:05:20'),\n",
       " (('line_03', 'item_002'), '2010-02-02 07:52:24'),\n",
       " (('line_03', 'item_002'), '2010-02-03 03:36:13'),\n",
       " (('line_03', 'item_002'), '2010-02-03 09:05:22'),\n",
       " (('line_03', 'item_002'), '2010-02-03 11:04:50'),\n",
       " (('line_03', 'item_002'), '2010-02-05 14:53:38'),\n",
       " (('line_03', 'item_002'), '2010-02-05 19:01:08'),\n",
       " (('line_03', 'item_002'), '2010-02-06 20:56:40'),\n",
       " (('line_03', 'item_002'), '2010-02-07 17:27:58'),\n",
       " (('line_03', 'item_002'), '2010-02-07 23:19:16'),\n",
       " (('line_03', 'item_002'), '2010-02-08 00:58:33'),\n",
       " (('line_03', 'item_002'), '2010-02-08 04:33:09'),\n",
       " (('line_03', 'item_002'), '2010-02-08 14:04:14'),\n",
       " (('line_03', 'item_002'), '2010-02-09 23:08:39'),\n",
       " (('line_03', 'item_002'), '2010-02-11 00:30:27'),\n",
       " (('line_03', 'item_002'), '2010-02-11 00:34:55'),\n",
       " (('line_03', 'item_002'), '2010-02-11 05:44:20'),\n",
       " (('line_03', 'item_002'), '2010-02-13 21:23:46'),\n",
       " (('line_03', 'item_002'), '2010-02-14 04:27:48'),\n",
       " (('line_03', 'item_002'), '2010-02-14 23:27:05'),\n",
       " (('line_03', 'item_002'), '2010-02-16 06:13:08'),\n",
       " (('line_03', 'item_002'), '2010-02-16 19:29:02'),\n",
       " (('line_03', 'item_002'), '2010-02-17 04:43:37'),\n",
       " (('line_03', 'item_002'), '2010-02-17 11:23:12'),\n",
       " (('line_03', 'item_002'), '2010-02-18 02:36:12'),\n",
       " (('line_03', 'item_002'), '2010-02-18 11:54:01'),\n",
       " (('line_03', 'item_002'), '2010-02-19 11:22:33'),\n",
       " (('line_03', 'item_002'), '2010-02-19 22:40:30'),\n",
       " (('line_03', 'item_002'), '2010-02-20 09:15:10'),\n",
       " (('line_03', 'item_002'), '2010-02-21 06:03:43'),\n",
       " (('line_03', 'item_002'), '2010-02-21 21:49:09'),\n",
       " (('line_03', 'item_002'), '2010-02-21 22:45:43'),\n",
       " (('line_03', 'item_002'), '2010-02-22 10:03:43'),\n",
       " (('line_03', 'item_002'), '2010-02-23 07:33:43'),\n",
       " (('line_03', 'item_002'), '2010-02-23 09:03:44'),\n",
       " (('line_03', 'item_002'), '2010-02-24 01:40:30'),\n",
       " (('line_03', 'item_002'), '2010-02-24 12:13:33'),\n",
       " (('line_03', 'item_002'), '2010-02-24 13:58:01'),\n",
       " (('line_03', 'item_002'), '2010-02-27 01:37:45'),\n",
       " (('line_03', 'item_002'), '2010-03-01 03:52:59'),\n",
       " (('line_03', 'item_002'), '2010-03-03 04:06:49'),\n",
       " (('line_03', 'item_002'), '2010-03-03 13:56:35'),\n",
       " (('line_03', 'item_002'), '2010-03-03 15:47:09'),\n",
       " (('line_03', 'item_002'), '2010-03-04 02:39:17'),\n",
       " (('line_03', 'item_002'), '2010-03-04 19:22:51'),\n",
       " (('line_03', 'item_002'), '2010-03-05 00:33:21'),\n",
       " (('line_03', 'item_002'), '2010-03-05 02:15:58'),\n",
       " (('line_03', 'item_002'), '2010-03-05 03:52:31'),\n",
       " (('line_03', 'item_002'), '2010-03-05 23:13:59'),\n",
       " (('line_03', 'item_002'), '2010-03-06 01:50:03'),\n",
       " (('line_03', 'item_002'), '2010-03-06 23:56:31'),\n",
       " (('line_03', 'item_002'), '2010-03-07 08:52:43'),\n",
       " (('line_03', 'item_002'), '2010-03-08 07:26:00'),\n",
       " (('line_03', 'item_002'), '2010-03-08 19:52:03'),\n",
       " (('line_03', 'item_002'), '2010-03-09 19:37:10'),\n",
       " (('line_03', 'item_002'), '2010-03-09 19:54:01'),\n",
       " (('line_03', 'item_002'), '2010-03-10 06:40:22'),\n",
       " (('line_03', 'item_002'), '2010-03-10 12:06:21'),\n",
       " (('line_03', 'item_002'), '2010-03-11 17:42:33'),\n",
       " (('line_03', 'item_002'), '2010-03-11 18:20:35'),\n",
       " (('line_03', 'item_002'), '2010-03-13 11:04:17'),\n",
       " (('line_03', 'item_002'), '2010-03-14 04:35:46'),\n",
       " (('line_03', 'item_002'), '2010-03-15 07:20:56'),\n",
       " (('line_03', 'item_002'), '2010-03-17 05:59:55'),\n",
       " (('line_03', 'item_002'), '2010-03-18 03:35:00'),\n",
       " (('line_03', 'item_002'), '2010-03-18 23:06:14'),\n",
       " (('line_03', 'item_002'), '2010-03-19 17:24:48'),\n",
       " (('line_03', 'item_002'), '2010-03-19 18:04:12'),\n",
       " (('line_03', 'item_002'), '2010-03-21 07:16:11'),\n",
       " (('line_03', 'item_002'), '2010-03-21 08:37:11'),\n",
       " (('line_03', 'item_002'), '2010-03-21 09:50:23'),\n",
       " (('line_03', 'item_002'), '2010-03-22 06:56:38'),\n",
       " (('line_03', 'item_002'), '2010-03-22 11:08:01'),\n",
       " (('line_03', 'item_002'), '2010-03-22 16:14:47'),\n",
       " (('line_03', 'item_002'), '2010-03-23 10:20:00'),\n",
       " (('line_03', 'item_002'), '2010-03-23 20:48:38'),\n",
       " (('line_03', 'item_002'), '2010-03-24 03:26:16'),\n",
       " (('line_03', 'item_002'), '2010-03-24 17:19:12'),\n",
       " (('line_03', 'item_002'), '2010-03-25 21:01:22'),\n",
       " (('line_03', 'item_002'), '2010-03-26 03:54:02'),\n",
       " (('line_03', 'item_002'), '2010-03-26 05:32:06'),\n",
       " (('line_03', 'item_002'), '2010-03-26 21:22:05'),\n",
       " (('line_03', 'item_002'), '2010-03-27 05:01:58'),\n",
       " (('line_03', 'item_002'), '2010-03-28 07:13:44'),\n",
       " (('line_03', 'item_002'), '2010-03-28 18:01:15'),\n",
       " (('line_03', 'item_002'), '2010-03-29 06:03:38'),\n",
       " (('line_03', 'item_002'), '2010-03-29 10:13:44'),\n",
       " (('line_03', 'item_002'), '2010-03-29 21:14:30'),\n",
       " (('line_03', 'item_002'), '2010-04-01 13:04:45'),\n",
       " (('line_03', 'item_002'), '2010-04-01 20:30:57'),\n",
       " (('line_03', 'item_002'), '2010-04-02 19:05:33'),\n",
       " (('line_03', 'item_002'), '2010-04-03 14:13:51'),\n",
       " (('line_03', 'item_002'), '2010-04-04 10:31:44'),\n",
       " (('line_03', 'item_002'), '2010-04-04 22:21:47'),\n",
       " (('line_03', 'item_002'), '2010-04-05 02:25:19'),\n",
       " (('line_03', 'item_002'), '2010-04-05 03:45:29'),\n",
       " (('line_03', 'item_002'), '2010-04-05 06:49:39'),\n",
       " (('line_03', 'item_002'), '2010-04-05 10:51:53'),\n",
       " (('line_03', 'item_002'), '2010-04-06 00:35:09'),\n",
       " (('line_03', 'item_002'), '2010-04-06 06:38:29'),\n",
       " (('line_03', 'item_002'), '2010-04-06 20:08:03'),\n",
       " (('line_03', 'item_002'), '2010-04-07 21:14:35'),\n",
       " (('line_03', 'item_002'), '2010-04-08 19:49:59'),\n",
       " (('line_03', 'item_002'), '2010-04-09 13:37:33'),\n",
       " (('line_03', 'item_002'), '2010-04-10 15:42:02'),\n",
       " (('line_03', 'item_002'), '2010-04-10 20:54:45'),\n",
       " (('line_03', 'item_002'), '2010-04-11 13:20:13'),\n",
       " (('line_03', 'item_002'), '2010-04-13 02:24:34'),\n",
       " (('line_03', 'item_002'), '2010-04-13 03:09:27'),\n",
       " (('line_03', 'item_002'), '2010-04-14 03:35:54'),\n",
       " (('line_03', 'item_002'), '2010-04-14 03:48:17'),\n",
       " (('line_03', 'item_002'), '2010-04-15 11:32:12'),\n",
       " (('line_03', 'item_002'), '2010-04-18 11:46:40'),\n",
       " (('line_03', 'item_002'), '2010-04-20 12:08:12'),\n",
       " (('line_03', 'item_002'), '2010-04-22 00:13:13'),\n",
       " (('line_03', 'item_002'), '2010-04-23 04:14:15'),\n",
       " (('line_03', 'item_002'), '2010-04-24 23:27:21'),\n",
       " (('line_03', 'item_002'), '2010-04-28 10:02:11'),\n",
       " (('line_03', 'item_002'), '2010-05-01 06:45:54'),\n",
       " (('line_03', 'item_002'), '2010-05-01 12:45:05'),\n",
       " (('line_03', 'item_002'), '2010-05-01 15:35:03'),\n",
       " (('line_03', 'item_002'), '2010-05-01 22:32:51'),\n",
       " (('line_03', 'item_002'), '2010-05-01 23:16:48'),\n",
       " (('line_03', 'item_002'), '2010-05-02 00:32:15'),\n",
       " (('line_03', 'item_002'), '2010-05-02 02:01:21'),\n",
       " (('line_03', 'item_002'), '2010-05-02 10:59:33'),\n",
       " (('line_03', 'item_002'), '2010-05-02 12:44:59'),\n",
       " (('line_03', 'item_002'), '2010-05-03 00:39:08'),\n",
       " (('line_03', 'item_002'), '2010-05-03 16:35:13'),\n",
       " (('line_03', 'item_002'), '2010-05-03 17:01:09'),\n",
       " (('line_03', 'item_002'), '2010-05-04 07:21:25'),\n",
       " (('line_03', 'item_002'), '2010-05-05 06:56:55'),\n",
       " (('line_03', 'item_002'), '2010-05-05 17:14:38'),\n",
       " (('line_03', 'item_002'), '2010-05-06 08:52:41'),\n",
       " (('line_03', 'item_002'), '2010-05-06 23:59:39'),\n",
       " (('line_03', 'item_002'), '2010-05-08 04:36:18'),\n",
       " (('line_03', 'item_002'), '2010-05-08 10:03:56'),\n",
       " (('line_03', 'item_002'), '2010-05-09 00:11:43'),\n",
       " (('line_03', 'item_002'), '2010-05-09 01:53:08'),\n",
       " (('line_03', 'item_002'), '2010-05-10 06:21:02'),\n",
       " (('line_03', 'item_002'), '2010-05-11 10:41:40'),\n",
       " (('line_03', 'item_002'), '2010-05-12 01:41:14'),\n",
       " (('line_03', 'item_002'), '2010-05-13 01:04:30'),\n",
       " (('line_03', 'item_002'), '2010-05-13 16:51:49'),\n",
       " (('line_03', 'item_002'), '2010-05-14 00:23:25'),\n",
       " (('line_03', 'item_002'), '2010-05-14 12:18:53'),\n",
       " (('line_03', 'item_002'), '2010-05-15 11:23:33'),\n",
       " (('line_03', 'item_002'), '2010-05-15 20:32:27'),\n",
       " (('line_03', 'item_002'), '2010-05-16 01:17:43'),\n",
       " (('line_03', 'item_002'), '2010-05-17 16:12:53'),\n",
       " (('line_03', 'item_002'), '2010-05-19 02:03:52'),\n",
       " (('line_03', 'item_002'), '2010-05-20 03:59:26'),\n",
       " (('line_03', 'item_002'), '2010-05-20 11:53:37'),\n",
       " (('line_03', 'item_002'), '2010-05-21 16:09:21'),\n",
       " (('line_03', 'item_002'), '2010-05-22 13:16:09'),\n",
       " (('line_03', 'item_002'), '2010-05-22 15:37:53'),\n",
       " (('line_03', 'item_002'), '2010-05-24 13:42:22'),\n",
       " (('line_03', 'item_002'), '2010-05-25 02:28:46'),\n",
       " (('line_03', 'item_002'), '2010-05-27 08:56:17'),\n",
       " (('line_03', 'item_002'), '2010-05-27 14:27:05'),\n",
       " (('line_03', 'item_002'), '2010-05-27 19:44:16'),\n",
       " (('line_03', 'item_002'), '2010-05-28 04:58:18'),\n",
       " (('line_03', 'item_002'), '2010-05-28 16:38:32'),\n",
       " (('line_03', 'item_002'), '2010-05-28 21:52:31'),\n",
       " (('line_03', 'item_002'), '2010-05-29 22:27:10'),\n",
       " (('line_03', 'item_002'), '2010-05-30 10:18:06'),\n",
       " (('line_03', 'item_002'), '2010-05-31 06:50:12'),\n",
       " (('line_03', 'item_002'), '2010-06-02 00:04:13'),\n",
       " (('line_03', 'item_002'), '2010-06-03 01:25:20'),\n",
       " (('line_03', 'item_002'), '2010-06-03 15:17:42'),\n",
       " (('line_03', 'item_002'), '2010-06-04 04:41:03'),\n",
       " (('line_03', 'item_002'), '2010-06-04 22:35:46'),\n",
       " (('line_03', 'item_002'), '2010-06-06 14:20:00'),\n",
       " (('line_03', 'item_002'), '2010-06-08 19:55:40'),\n",
       " (('line_03', 'item_002'), '2010-06-09 12:45:52'),\n",
       " (('line_03', 'item_002'), '2010-06-09 20:32:24'),\n",
       " (('line_03', 'item_002'), '2010-06-09 21:06:29'),\n",
       " (('line_03', 'item_002'), '2010-06-12 03:39:07'),\n",
       " (('line_03', 'item_002'), '2010-06-12 18:18:10'),\n",
       " (('line_03', 'item_002'), '2010-06-13 10:31:59'),\n",
       " (('line_03', 'item_002'), '2010-06-13 16:26:07'),\n",
       " (('line_03', 'item_002'), '2010-06-17 17:25:46'),\n",
       " (('line_03', 'item_002'), '2010-06-18 05:16:47'),\n",
       " (('line_03', 'item_002'), '2010-06-19 01:03:56'),\n",
       " (('line_03', 'item_002'), '2010-06-19 08:42:57'),\n",
       " (('line_03', 'item_002'), '2010-06-20 02:42:56'),\n",
       " (('line_03', 'item_002'), '2010-06-20 17:06:29'),\n",
       " (('line_03', 'item_002'), '2010-06-22 16:40:52'),\n",
       " (('line_03', 'item_002'), '2010-06-22 17:26:22'),\n",
       " (('line_03', 'item_002'), '2010-06-24 22:03:46'),\n",
       " (('line_03', 'item_002'), '2010-06-25 10:31:50'),\n",
       " (('line_03', 'item_002'), '2010-06-25 19:29:18'),\n",
       " (('line_03', 'item_002'), '2010-06-26 09:09:02'),\n",
       " (('line_03', 'item_002'), '2010-06-27 15:23:20'),\n",
       " (('line_03', 'item_002'), '2010-06-28 23:56:59'),\n",
       " (('line_03', 'item_002'), '2010-06-29 10:25:48'),\n",
       " (('line_03', 'item_002'), '2010-06-29 14:57:01'),\n",
       " (('line_03', 'item_002'), '2010-06-30 01:52:42'),\n",
       " (('line_03', 'item_002'), '2010-06-30 19:23:55'),\n",
       " (('line_03', 'item_002'), '2010-07-01 12:54:53'),\n",
       " (('line_03', 'item_002'), '2010-07-01 14:42:06'),\n",
       " (('line_03', 'item_002'), '2010-07-01 17:01:16'),\n",
       " (('line_03', 'item_002'), '2010-07-01 23:36:54'),\n",
       " (('line_03', 'item_002'), '2010-07-02 00:46:54'),\n",
       " (('line_03', 'item_002'), '2010-07-06 00:29:10'),\n",
       " (('line_03', 'item_002'), '2010-07-06 04:02:37'),\n",
       " (('line_03', 'item_002'), '2010-07-08 14:55:21'),\n",
       " (('line_03', 'item_002'), '2010-07-09 14:35:07'),\n",
       " (('line_03', 'item_002'), '2010-07-11 17:08:39'),\n",
       " (('line_03', 'item_002'), '2010-07-12 04:37:56'),\n",
       " (('line_03', 'item_002'), '2010-07-13 00:07:04'),\n",
       " (('line_03', 'item_002'), '2010-07-13 06:03:48'),\n",
       " (('line_03', 'item_002'), '2010-07-13 17:11:01'),\n",
       " (('line_03', 'item_002'), '2010-07-13 20:14:59'),\n",
       " (('line_03', 'item_002'), '2010-07-15 05:11:11'),\n",
       " (('line_03', 'item_002'), '2010-07-15 13:40:59'),\n",
       " (('line_03', 'item_002'), '2010-07-15 19:07:47'),\n",
       " (('line_03', 'item_002'), '2010-07-15 19:58:16'),\n",
       " (('line_03', 'item_002'), '2010-07-16 00:10:37'),\n",
       " (('line_03', 'item_002'), '2010-07-16 04:50:06'),\n",
       " (('line_03', 'item_002'), '2010-07-16 07:30:53'),\n",
       " (('line_03', 'item_002'), '2010-07-17 06:38:26'),\n",
       " (('line_03', 'item_002'), '2010-07-17 18:29:45'),\n",
       " (('line_03', 'item_002'), '2010-07-19 05:49:38'),\n",
       " (('line_03', 'item_002'), '2010-07-19 07:49:04'),\n",
       " (('line_03', 'item_002'), '2010-07-19 17:56:55'),\n",
       " (('line_03', 'item_002'), '2010-07-19 22:23:10'),\n",
       " (('line_03', 'item_002'), '2010-07-20 00:59:41'),\n",
       " (('line_03', 'item_002'), '2010-07-20 02:26:51'),\n",
       " (('line_03', 'item_002'), '2010-07-21 15:11:20'),\n",
       " (('line_03', 'item_002'), '2010-07-22 12:33:34'),\n",
       " (('line_03', 'item_002'), '2010-07-23 07:53:50'),\n",
       " (('line_03', 'item_002'), '2010-07-25 02:25:16'),\n",
       " (('line_03', 'item_002'), '2010-07-25 09:07:52'),\n",
       " (('line_03', 'item_002'), '2010-07-26 04:19:25'),\n",
       " (('line_03', 'item_002'), '2010-07-26 14:28:08'),\n",
       " (('line_03', 'item_002'), '2010-07-28 23:12:38'),\n",
       " (('line_03', 'item_002'), '2010-07-28 23:22:23'),\n",
       " (('line_03', 'item_002'), '2010-07-30 01:06:44'),\n",
       " (('line_03', 'item_002'), '2010-07-30 19:05:39'),\n",
       " (('line_03', 'item_002'), '2010-07-31 03:57:25'),\n",
       " (('line_03', 'item_002'), '2010-07-31 07:20:15'),\n",
       " (('line_03', 'item_002'), '2010-07-31 07:33:22'),\n",
       " (('line_03', 'item_002'), '2010-08-01 00:21:27'),\n",
       " (('line_03', 'item_002'), '2010-08-01 16:45:01'),\n",
       " (('line_03', 'item_002'), '2010-08-04 14:20:22'),\n",
       " (('line_03', 'item_002'), '2010-08-05 02:27:32'),\n",
       " (('line_03', 'item_002'), '2010-08-07 23:20:59'),\n",
       " (('line_03', 'item_002'), '2010-08-09 05:06:40'),\n",
       " (('line_03', 'item_002'), '2010-08-09 21:23:32'),\n",
       " (('line_03', 'item_002'), '2010-08-10 22:12:04'),\n",
       " (('line_03', 'item_002'), '2010-08-11 02:26:08'),\n",
       " (('line_03', 'item_002'), '2010-08-11 07:05:08'),\n",
       " (('line_03', 'item_002'), '2010-08-11 12:51:00'),\n",
       " (('line_03', 'item_002'), '2010-08-11 17:12:52'),\n",
       " (('line_03', 'item_002'), '2010-08-11 18:51:41'),\n",
       " (('line_03', 'item_002'), '2010-08-12 14:52:56'),\n",
       " (('line_03', 'item_002'), '2010-08-13 01:23:57'),\n",
       " (('line_03', 'item_002'), '2010-08-13 22:20:37'),\n",
       " (('line_03', 'item_002'), '2010-08-13 22:53:52'),\n",
       " (('line_03', 'item_002'), '2010-08-16 02:37:28'),\n",
       " (('line_03', 'item_002'), '2010-08-16 03:17:19'),\n",
       " (('line_03', 'item_002'), '2010-08-16 16:36:29'),\n",
       " (('line_03', 'item_002'), '2010-08-17 05:50:46'),\n",
       " (('line_03', 'item_002'), '2010-08-19 04:04:05'),\n",
       " (('line_03', 'item_002'), '2010-08-20 04:15:54'),\n",
       " (('line_03', 'item_002'), '2010-08-21 05:19:46'),\n",
       " (('line_03', 'item_002'), '2010-08-21 05:53:05'),\n",
       " (('line_03', 'item_002'), '2010-08-21 08:28:42'),\n",
       " (('line_03', 'item_002'), '2010-08-21 13:07:57'),\n",
       " (('line_03', 'item_002'), '2010-08-23 16:05:36'),\n",
       " (('line_03', 'item_002'), '2010-08-23 20:28:03'),\n",
       " (('line_03', 'item_002'), '2010-08-23 23:53:14'),\n",
       " (('line_03', 'item_002'), '2010-08-24 06:44:21'),\n",
       " (('line_03', 'item_002'), '2010-08-25 00:54:43'),\n",
       " (('line_03', 'item_002'), '2010-08-26 17:05:49'),\n",
       " (('line_03', 'item_002'), '2010-08-27 19:23:19'),\n",
       " (('line_03', 'item_002'), '2010-08-31 12:21:18'),\n",
       " (('line_03', 'item_002'), '2010-09-01 08:55:59'),\n",
       " (('line_03', 'item_002'), '2010-09-01 17:48:45'),\n",
       " (('line_03', 'item_002'), '2010-09-01 23:50:30'),\n",
       " (('line_03', 'item_002'), '2010-09-04 08:27:13'),\n",
       " (('line_03', 'item_002'), '2010-09-04 10:19:17'),\n",
       " (('line_03', 'item_002'), '2010-09-05 01:59:56'),\n",
       " (('line_03', 'item_002'), '2010-09-05 03:15:23'),\n",
       " (('line_03', 'item_002'), '2010-09-07 03:31:07'),\n",
       " (('line_03', 'item_002'), '2010-09-07 07:07:06'),\n",
       " (('line_03', 'item_002'), '2010-09-07 14:41:21'),\n",
       " (('line_03', 'item_002'), '2010-09-08 03:51:08'),\n",
       " (('line_03', 'item_002'), '2010-09-08 05:13:25'),\n",
       " (('line_03', 'item_002'), '2010-09-08 11:40:52'),\n",
       " (('line_03', 'item_002'), '2010-09-09 11:16:11'),\n",
       " (('line_03', 'item_002'), '2010-09-09 16:42:50'),\n",
       " (('line_03', 'item_002'), '2010-09-10 00:46:48'),\n",
       " (('line_03', 'item_002'), '2010-09-11 03:26:54'),\n",
       " (('line_03', 'item_002'), '2010-09-12 23:14:44'),\n",
       " (('line_03', 'item_002'), '2010-09-12 23:54:21'),\n",
       " (('line_03', 'item_002'), '2010-09-13 07:00:18'),\n",
       " (('line_03', 'item_002'), '2010-09-13 09:28:26'),\n",
       " (('line_03', 'item_002'), '2010-09-13 10:45:56'),\n",
       " (('line_03', 'item_002'), '2010-09-15 09:03:00'),\n",
       " (('line_03', 'item_002'), '2010-09-15 12:34:47')]"
      ]
     },
     "execution_count": 67,
     "metadata": {},
     "output_type": "execute_result"
    }
   ],
   "source": [
    "print(sampleLine)\n",
    "logRdd.map(lambda x: ((x.get(\"lineId\"),x.get(\"itemId\")), str(x.get(\"creationDate\"))) )\\\n",
    "            .filter(lambda x: x[0]==(sampleLine)).sortBy(lambda x: x[1][1]).collect()"
   ]
  },
  {
   "cell_type": "markdown",
   "metadata": {},
   "source": [
    "## Step1: start with all possible combinations of log/master regardless the timestamp"
   ]
  },
  {
   "cell_type": "code",
   "execution_count": 68,
   "metadata": {},
   "outputs": [
    {
     "data": {
      "text/plain": [
       "(('line_02', 'item_014'),\n",
       " ({'lineId': 'line_02',\n",
       "   'itemId': 'item_014',\n",
       "   'creationDate': datetime.datetime(2010, 1, 1, 2, 10, 10),\n",
       "   'qty': 898},\n",
       "  {'lineId': 'line_02',\n",
       "   'itemId': 'item_014',\n",
       "   'registryInsertTimestamp': datetime.datetime(2010, 2, 3, 23, 47, 55),\n",
       "   'cost': 626}))"
      ]
     },
     "execution_count": 68,
     "metadata": {},
     "output_type": "execute_result"
    }
   ],
   "source": [
    "step1 = logRdd.map(lambda x: ((x.get(\"lineId\"),x.get(\"itemId\")),x))\\\n",
    "                .join(masterDataRdd.map(lambda x: ((x.get(\"lineId\"),x.get(\"itemId\")),x)))\n",
    "step1.first()"
   ]
  },
  {
   "cell_type": "markdown",
   "metadata": {},
   "source": [
    "## Step2: reshape the rdd to create the unique ID needed - (lineId,ItemId,creationDate)"
   ]
  },
  {
   "cell_type": "code",
   "execution_count": 73,
   "metadata": {},
   "outputs": [
    {
     "data": {
      "text/plain": [
       "{'key': (('line_02', 'item_014'), datetime.datetime(2010, 1, 1, 2, 10, 10)),\n",
       " 'value': {'deltaTime': datetime.timedelta(days=-34, seconds=8535),\n",
       "  'logLine': {'lineId': 'line_02',\n",
       "   'itemId': 'item_014',\n",
       "   'creationDate': datetime.datetime(2010, 1, 1, 2, 10, 10),\n",
       "   'qty': 898},\n",
       "  'masterLine': {'lineId': 'line_02',\n",
       "   'itemId': 'item_014',\n",
       "   'registryInsertTimestamp': datetime.datetime(2010, 2, 3, 23, 47, 55),\n",
       "   'cost': 626}}}"
      ]
     },
     "execution_count": 73,
     "metadata": {},
     "output_type": "execute_result"
    }
   ],
   "source": [
    "#log data is leading\n",
    "def linePrepare(row):\n",
    "    key = (row[0],row[1][0].get(\"creationDate\"))\n",
    "    value = {\"deltaTime\":row[1][0].get(\"creationDate\")-row[1][1].get(\"registryInsertTimestamp\"),\n",
    "            \"logLine\":row[1][0],\"masterLine\":row[1][1]}\n",
    "    return {\"key\":key,\"value\":value}\n",
    "\n",
    "step2 = step1.map(lambda x: linePrepare(x)).persist()\n",
    "step2.first()"
   ]
  },
  {
   "cell_type": "markdown",
   "metadata": {},
   "source": [
    "## Step3: Reducing to Select only the correct value"
   ]
  },
  {
   "cell_type": "code",
   "execution_count": 146,
   "metadata": {},
   "outputs": [
    {
     "data": {
      "text/plain": [
       "25000"
      ]
     },
     "execution_count": 146,
     "metadata": {},
     "output_type": "execute_result"
    }
   ],
   "source": [
    "def reduceFun(val1,val2):\n",
    "    return val1 if val1.get(\"deltaTime\") < val2.get(\"deltaTime\") else val2\n",
    "\n",
    "step3 = step2.map(lambda x: (x.get(\"key\"),x.get(\"value\"))).reduceByKey(lambda x,y: reduceFun(x,y))\n",
    "step3.count()"
   ]
  },
  {
   "cell_type": "code",
   "execution_count": 147,
   "metadata": {},
   "outputs": [
    {
     "data": {
      "text/plain": [
       "((('line_02', 'item_014'), datetime.datetime(2010, 1, 1, 19, 58, 39)),\n",
       " {'deltaTime': datetime.timedelta(days=-257, seconds=77029),\n",
       "  'logLine': {'lineId': 'line_02',\n",
       "   'itemId': 'item_014',\n",
       "   'creationDate': datetime.datetime(2010, 1, 1, 19, 58, 39),\n",
       "   'qty': 193},\n",
       "  'masterLine': {'lineId': 'line_02',\n",
       "   'itemId': 'item_014',\n",
       "   'registryInsertTimestamp': datetime.datetime(2010, 9, 14, 22, 34, 50),\n",
       "   'cost': 576}})"
      ]
     },
     "execution_count": 147,
     "metadata": {},
     "output_type": "execute_result"
    }
   ],
   "source": [
    "## it looks like correct... lets make a check\n",
    "step3.filter(lambda x: x[1].get(\"deltaTime\")<timedelta(0)).first() ##a negative value?"
   ]
  },
  {
   "cell_type": "code",
   "execution_count": 148,
   "metadata": {},
   "outputs": [
    {
     "name": "stdout",
     "output_type": "stream",
     "text": [
      "line_02-item_014 @2010-01-01 02:10:10\n",
      "\t[2010-02-03 23:47:55] - 626€\n",
      "\t[2010-09-14 22:34:50] - 576€\n",
      "\t[2010-01-17 23:41:33] - 953€\n",
      "\t[2010-08-06 10:17:02] - 582€\n",
      "\t[2010-06-24 01:36:10] - 252€\n",
      "\t[2010-07-05 08:38:42] - 681€\n",
      "\t[2010-05-15 17:20:07] - 426€\n",
      "\t[2010-01-08 19:46:20] - 560€\n",
      "\t[2010-03-20 17:23:30] - 910€\n",
      "\t[2010-01-30 17:50:57] - 199€\n",
      "\t[2010-07-24 20:10:26] - 484€\n",
      "\t[2010-08-04 05:19:52] - 775€\n",
      "\t[2010-07-03 21:10:58] - 970€\n",
      "\t[2010-06-08 08:45:19] - 212€\n",
      "\t[2010-07-13 23:46:05] - 596€\n",
      "\t[2010-04-11 18:13:46] - 814€\n",
      "\t[2010-03-11 13:14:34] - 947€\n",
      "\t[2010-09-02 02:29:54] - 781€\n",
      "\t[2010-07-27 21:55:53] - 756€\n",
      "\t[2010-05-28 02:20:16] - 430€\n"
     ]
    }
   ],
   "source": [
    "def lineFormatter(row):\n",
    "    masterLine = row.get(\"value\").get(\"masterLine\")\n",
    "    return \"[{ts}] - {cost}€\".format(ts=masterLine.get(\"registryInsertTimestamp\"),cost=masterLine.get(\"cost\"))\n",
    "sampleRowKey = step2.first().get(\"key\")\n",
    "print(\"{line}-{item} @{ts}\".format(ts=str(sampleRowKey[1]),\n",
    "                          line=sampleRowKey[0][0],item=sampleRowKey[0][1]))\n",
    "print(\"\\t\"+\"\\n\\t\".join([lineFormatter(k) for k in step2.filter(lambda x: x.get(\"key\") == sampleRowKey).take(20)]))"
   ]
  },
  {
   "cell_type": "code",
   "execution_count": 149,
   "metadata": {},
   "outputs": [
    {
     "name": "stdout",
     "output_type": "stream",
     "text": [
      "line_02-item_014 @2010-04-01 13:58:43\n",
      "\t[2010-09-14 22:34:50] - 576€\n",
      "\t[2010-09-03 16:22:04] - 90€\n",
      "\t[2010-09-02 02:29:54] - 781€\n",
      "\t[2010-08-24 15:50:21] - 503€\n",
      "\t[2010-08-13 04:27:10] - 565€\n",
      "\t[2010-08-06 10:17:02] - 582€\n",
      "\t[2010-08-04 05:19:52] - 775€\n",
      "\t[2010-07-27 21:55:53] - 756€\n",
      "\t[2010-07-24 20:10:26] - 484€\n",
      "\t[2010-07-13 23:46:05] - 596€\n",
      "\t[2010-07-08 10:01:31] - 704€\n",
      "\t[2010-07-05 08:38:42] - 681€\n",
      "\t[2010-07-03 21:10:58] - 970€\n",
      "\t[2010-06-24 01:36:10] - 252€\n",
      "\t[2010-06-13 11:20:15] - 379€\n",
      "\t[2010-06-08 08:45:19] - 212€\n",
      "\t[2010-06-06 00:46:00] - 289€\n",
      "\t[2010-05-28 02:20:16] - 430€\n",
      "\t[2010-05-19 02:45:21] - 488€\n",
      "\t[2010-05-15 17:20:07] - 426€\n",
      "\t[2010-04-30 07:12:45] - 349€\n",
      "\t[2010-04-25 11:42:55] - 211€\n",
      "\t[2010-04-11 18:13:46] - 814€\n",
      "\t[2010-03-20 17:23:30] - 910€\n",
      "\t[2010-03-20 09:07:16] - 233€\n"
     ]
    }
   ],
   "source": [
    "sampleRowKey2 = step2.filter(lambda x: x.get(\"key\")[1]>datetime(2010,4,1)).first().get(\"key\")\n",
    "print(\"{line}-{item} @{ts}\".format(ts=str(sampleRowKey2[1]),\n",
    "                          line=sampleRowKey2[0][0],item=sampleRowKey2[0][1]))\n",
    "print(\"\\t\"+\"\\n\\t\".join([lineFormatter(k) for k in step2.filter(lambda x: x.get(\"key\") == sampleRowKey2)\\\n",
    "                        .top(25,key=lambda x: x.get(\"value\").get(\"masterLine\").get(\"registryInsertTimestamp\"))]))"
   ]
  },
  {
   "cell_type": "markdown",
   "metadata": {},
   "source": [
    "## Step3: lets try again!"
   ]
  },
  {
   "cell_type": "code",
   "execution_count": 150,
   "metadata": {},
   "outputs": [
    {
     "data": {
      "text/plain": [
       "23883"
      ]
     },
     "execution_count": 150,
     "metadata": {},
     "output_type": "execute_result"
    }
   ],
   "source": [
    "def reduceFun(val1,val2):\n",
    "    return val1 if val1.get(\"deltaTime\") < val2.get(\"deltaTime\") else val2\n",
    "step3_1 = step2.map(lambda x: (x.get(\"key\"),x.get(\"value\"))).filter(lambda x: x[1].get(\"deltaTime\")>=timedelta(0))\\\n",
    "            .reduceByKey(lambda x,y: reduceFun(x,y))\n",
    "step3_1.count()"
   ]
  },
  {
   "cell_type": "markdown",
   "metadata": {},
   "source": [
    "why 23883?? we lost some rows"
   ]
  },
  {
   "cell_type": "code",
   "execution_count": 127,
   "metadata": {},
   "outputs": [
    {
     "data": {
      "text/plain": [
       "[(('line_02', 'item_014'), (33, 0, 0)),\n",
       " (('line_02', 'item_014'), (33, 0, 0)),\n",
       " (('line_02', 'item_014'), (33, 0, 0)),\n",
       " (('line_02', 'item_014'), (33, 0, 0)),\n",
       " (('line_03', 'item_009'), (20, 0, 0)),\n",
       " (('line_03', 'item_009'), (20, 0, 0)),\n",
       " (('line_05', 'item_008'), (14, 0, 0)),\n",
       " (('line_01', 'item_003'), (8, 0, 0)),\n",
       " (('line_01', 'item_003'), (8, 0, 0)),\n",
       " (('line_01', 'item_003'), (8, 0, 0)),\n",
       " (('line_01', 'item_003'), (8, 0, 0)),\n",
       " (('line_01', 'item_003'), (8, 0, 0)),\n",
       " (('line_01', 'item_003'), (8, 0, 0)),\n",
       " (('line_01', 'item_003'), (8, 0, 0)),\n",
       " (('line_01', 'item_003'), (8, 0, 0)),\n",
       " (('line_01', 'item_003'), (8, 0, 0)),\n",
       " (('line_01', 'item_003'), (8, 0, 0)),\n",
       " (('line_04', 'item_013'), (20, 0, 0)),\n",
       " (('line_03', 'item_004'), (23, 0, 0)),\n",
       " (('line_03', 'item_004'), (23, 0, 0)),\n",
       " (('line_01', 'item_005'), (26, 0, 0)),\n",
       " (('line_01', 'item_005'), (26, 0, 0)),\n",
       " (('line_01', 'item_005'), (26, 0, 0)),\n",
       " (('line_04', 'item_003'), (28, 0, 0)),\n",
       " (('line_04', 'item_003'), (28, 0, 0)),\n",
       " (('line_04', 'item_003'), (28, 0, 0)),\n",
       " (('line_04', 'item_010'), (15, 0, 0)),\n",
       " (('line_04', 'item_010'), (15, 0, 0)),\n",
       " (('line_04', 'item_010'), (15, 0, 0)),\n",
       " (('line_02', 'item_003'), (19, 0, 0)),\n",
       " (('line_02', 'item_013'), (24, 0, 0)),\n",
       " (('line_05', 'item_007'), (14, 0, 0)),\n",
       " (('line_05', 'item_007'), (14, 0, 0)),\n",
       " (('line_04', 'item_014'), (26, 0, 0)),\n",
       " (('line_03', 'item_010'), (16, 0, 0)),\n",
       " (('line_02', 'item_012'), (22, 0, 0)),\n",
       " (('line_02', 'item_012'), (22, 0, 0)),\n",
       " (('line_02', 'item_012'), (22, 0, 0)),\n",
       " (('line_02', 'item_012'), (22, 0, 0)),\n",
       " (('line_02', 'item_012'), (22, 0, 0)),\n",
       " (('line_02', 'item_012'), (22, 0, 0)),\n",
       " (('line_02', 'item_015'), (23, 0, 0)),\n",
       " (('line_02', 'item_015'), (23, 0, 0)),\n",
       " (('line_02', 'item_015'), (23, 0, 0)),\n",
       " (('line_02', 'item_015'), (23, 0, 0)),\n",
       " (('line_04', 'item_001'), (19, 0, 0)),\n",
       " (('line_04', 'item_001'), (19, 0, 0)),\n",
       " (('line_04', 'item_001'), (19, 0, 0)),\n",
       " (('line_04', 'item_006'), (33, 0, 0)),\n",
       " (('line_04', 'item_006'), (33, 0, 0)),\n",
       " (('line_04', 'item_006'), (33, 0, 0)),\n",
       " (('line_04', 'item_006'), (33, 0, 0)),\n",
       " (('line_04', 'item_006'), (33, 0, 0)),\n",
       " (('line_04', 'item_006'), (33, 0, 0)),\n",
       " (('line_04', 'item_006'), (33, 0, 0)),\n",
       " (('line_03', 'item_002'), (19, 0, 0)),\n",
       " (('line_03', 'item_002'), (19, 0, 0)),\n",
       " (('line_02', 'item_008'), (24, 0, 0)),\n",
       " (('line_02', 'item_008'), (24, 0, 0)),\n",
       " (('line_03', 'item_006'), (16, 0, 0)),\n",
       " (('line_04', 'item_004'), (17, 0, 0)),\n",
       " (('line_04', 'item_004'), (17, 0, 0)),\n",
       " (('line_04', 'item_004'), (17, 0, 0)),\n",
       " (('line_04', 'item_004'), (17, 0, 0)),\n",
       " (('line_05', 'item_012'), (23, 0, 0)),\n",
       " (('line_05', 'item_012'), (23, 0, 0)),\n",
       " (('line_05', 'item_012'), (23, 0, 0)),\n",
       " (('line_05', 'item_012'), (23, 0, 0)),\n",
       " (('line_05', 'item_012'), (23, 0, 0)),\n",
       " (('line_05', 'item_012'), (23, 0, 0)),\n",
       " (('line_05', 'item_012'), (23, 0, 0)),\n",
       " (('line_05', 'item_012'), (23, 0, 0)),\n",
       " (('line_01', 'item_009'), (23, 0, 0)),\n",
       " (('line_01', 'item_009'), (23, 0, 0)),\n",
       " (('line_03', 'item_001'), (14, 0, 0)),\n",
       " (('line_03', 'item_001'), (14, 0, 0)),\n",
       " (('line_05', 'item_001'), (26, 0, 0)),\n",
       " (('line_05', 'item_001'), (26, 0, 0)),\n",
       " (('line_05', 'item_001'), (26, 0, 0)),\n",
       " (('line_01', 'item_011'), (18, 0, 0)),\n",
       " (('line_01', 'item_011'), (18, 0, 0)),\n",
       " (('line_04', 'item_015'), (22, 0, 0)),\n",
       " (('line_04', 'item_015'), (22, 0, 0)),\n",
       " (('line_04', 'item_015'), (22, 0, 0)),\n",
       " (('line_04', 'item_015'), (22, 0, 0)),\n",
       " (('line_04', 'item_015'), (22, 0, 0)),\n",
       " (('line_04', 'item_015'), (22, 0, 0)),\n",
       " (('line_04', 'item_015'), (22, 0, 0)),\n",
       " (('line_04', 'item_015'), (22, 0, 0)),\n",
       " (('line_04', 'item_015'), (22, 0, 0)),\n",
       " (('line_04', 'item_015'), (22, 0, 0)),\n",
       " (('line_03', 'item_014'), (19, 0, 0)),\n",
       " (('line_03', 'item_014'), (19, 0, 0)),\n",
       " (('line_03', 'item_014'), (19, 0, 0)),\n",
       " (('line_01', 'item_012'), (19, 0, 0)),\n",
       " (('line_01', 'item_012'), (19, 0, 0)),\n",
       " (('line_02', 'item_005'), (20, 0, 0)),\n",
       " (('line_01', 'item_010'), (21, 0, 0)),\n",
       " (('line_05', 'item_005'), (21, 0, 0)),\n",
       " (('line_05', 'item_005'), (21, 0, 0)),\n",
       " (('line_01', 'item_015'), (19, 0, 0)),\n",
       " (('line_01', 'item_015'), (19, 0, 0)),\n",
       " (('line_02', 'item_004'), (18, 0, 0)),\n",
       " (('line_02', 'item_010'), (22, 0, 0)),\n",
       " (('line_04', 'item_009'), (20, 0, 0)),\n",
       " (('line_04', 'item_009'), (20, 0, 0)),\n",
       " (('line_04', 'item_009'), (20, 0, 0)),\n",
       " (('line_04', 'item_009'), (20, 0, 0)),\n",
       " (('line_04', 'item_009'), (20, 0, 0)),\n",
       " (('line_01', 'item_002'), (16, 0, 0)),\n",
       " (('line_05', 'item_015'), (23, 0, 0)),\n",
       " (('line_05', 'item_015'), (23, 0, 0)),\n",
       " (('line_05', 'item_015'), (23, 0, 0)),\n",
       " (('line_05', 'item_015'), (23, 0, 0)),\n",
       " (('line_05', 'item_015'), (23, 0, 0)),\n",
       " (('line_05', 'item_015'), (23, 0, 0)),\n",
       " (('line_05', 'item_015'), (23, 0, 0)),\n",
       " (('line_05', 'item_015'), (23, 0, 0)),\n",
       " (('line_05', 'item_015'), (23, 0, 0)),\n",
       " (('line_05', 'item_015'), (23, 0, 0)),\n",
       " (('line_01', 'item_007'), (24, 0, 0)),\n",
       " (('line_03', 'item_003'), (19, 0, 0)),\n",
       " (('line_03', 'item_003'), (19, 0, 0)),\n",
       " (('line_03', 'item_003'), (19, 0, 0)),\n",
       " (('line_03', 'item_003'), (19, 0, 0)),\n",
       " (('line_03', 'item_003'), (19, 0, 0)),\n",
       " (('line_03', 'item_003'), (19, 0, 0)),\n",
       " (('line_03', 'item_013'), (19, 0, 0)),\n",
       " (('line_03', 'item_013'), (19, 0, 0)),\n",
       " (('line_03', 'item_013'), (19, 0, 0)),\n",
       " (('line_01', 'item_013'), (19, 0, 0)),\n",
       " (('line_01', 'item_001'), (17, 0, 0)),\n",
       " (('line_01', 'item_001'), (17, 0, 0)),\n",
       " (('line_01', 'item_001'), (17, 0, 0)),\n",
       " (('line_05', 'item_006'), (22, 0, 0)),\n",
       " (('line_03', 'item_008'), (18, 0, 0)),\n",
       " (('line_03', 'item_008'), (18, 0, 0)),\n",
       " (('line_03', 'item_008'), (18, 0, 0)),\n",
       " (('line_03', 'item_008'), (18, 0, 0)),\n",
       " (('line_03', 'item_008'), (18, 0, 0)),\n",
       " (('line_03', 'item_008'), (18, 0, 0)),\n",
       " (('line_03', 'item_008'), (18, 0, 0)),\n",
       " (('line_03', 'item_008'), (18, 0, 0)),\n",
       " (('line_01', 'item_008'), (13, 0, 0)),\n",
       " (('line_01', 'item_008'), (13, 0, 0)),\n",
       " (('line_01', 'item_008'), (13, 0, 0)),\n",
       " (('line_01', 'item_008'), (13, 0, 0)),\n",
       " (('line_01', 'item_008'), (13, 0, 0)),\n",
       " (('line_01', 'item_008'), (13, 0, 0)),\n",
       " (('line_04', 'item_012'), (22, 0, 0)),\n",
       " (('line_04', 'item_012'), (22, 0, 0)),\n",
       " (('line_03', 'item_012'), (21, 0, 0)),\n",
       " (('line_03', 'item_012'), (21, 0, 0)),\n",
       " (('line_05', 'item_003'), (18, 0, 0)),\n",
       " (('line_05', 'item_003'), (18, 0, 0)),\n",
       " (('line_05', 'item_003'), (18, 0, 0)),\n",
       " (('line_05', 'item_003'), (18, 0, 0)),\n",
       " (('line_05', 'item_003'), (18, 0, 0)),\n",
       " (('line_05', 'item_003'), (18, 0, 0)),\n",
       " (('line_05', 'item_003'), (18, 0, 0)),\n",
       " (('line_05', 'item_003'), (18, 0, 0)),\n",
       " (('line_05', 'item_003'), (18, 0, 0)),\n",
       " (('line_05', 'item_002'), (11, 0, 0)),\n",
       " (('line_02', 'item_007'), (16, 0, 0)),\n",
       " (('line_02', 'item_007'), (16, 0, 0)),\n",
       " (('line_02', 'item_007'), (16, 0, 0)),\n",
       " (('line_02', 'item_007'), (16, 0, 0)),\n",
       " (('line_05', 'item_009'), (17, 0, 0)),\n",
       " (('line_02', 'item_006'), (18, 0, 0)),\n",
       " (('line_02', 'item_006'), (18, 0, 0)),\n",
       " (('line_02', 'item_006'), (18, 0, 0)),\n",
       " (('line_02', 'item_006'), (18, 0, 0)),\n",
       " (('line_02', 'item_006'), (18, 0, 0)),\n",
       " (('line_02', 'item_006'), (18, 0, 0)),\n",
       " (('line_02', 'item_006'), (18, 0, 0)),\n",
       " (('line_02', 'item_006'), (18, 0, 0)),\n",
       " (('line_05', 'item_013'), (22, 0, 0)),\n",
       " (('line_05', 'item_013'), (22, 0, 0)),\n",
       " (('line_03', 'item_011'), (20, 0, 0)),\n",
       " (('line_03', 'item_011'), (20, 0, 0)),\n",
       " (('line_03', 'item_011'), (20, 0, 0)),\n",
       " (('line_03', 'item_011'), (20, 0, 0)),\n",
       " (('line_03', 'item_011'), (20, 0, 0)),\n",
       " (('line_01', 'item_014'), (13, 0, 0)),\n",
       " (('line_01', 'item_014'), (13, 0, 0)),\n",
       " (('line_01', 'item_014'), (13, 0, 0)),\n",
       " (('line_02', 'item_014'), (33, 0, 0)),\n",
       " (('line_02', 'item_014'), (33, 0, 0)),\n",
       " (('line_05', 'item_008'), (14, 0, 0)),\n",
       " (('line_05', 'item_008'), (14, 0, 0)),\n",
       " (('line_01', 'item_003'), (8, 0, 0)),\n",
       " (('line_01', 'item_003'), (8, 0, 0)),\n",
       " (('line_01', 'item_003'), (8, 0, 0)),\n",
       " (('line_01', 'item_003'), (8, 0, 0)),\n",
       " (('line_01', 'item_003'), (8, 0, 0)),\n",
       " (('line_01', 'item_003'), (8, 0, 0)),\n",
       " (('line_01', 'item_003'), (8, 0, 0)),\n",
       " (('line_01', 'item_003'), (8, 0, 0)),\n",
       " (('line_01', 'item_003'), (8, 0, 0)),\n",
       " (('line_01', 'item_003'), (8, 0, 0)),\n",
       " (('line_04', 'item_013'), (20, 0, 0)),\n",
       " (('line_04', 'item_013'), (20, 0, 0)),\n",
       " (('line_03', 'item_004'), (23, 0, 0)),\n",
       " (('line_03', 'item_004'), (23, 0, 0)),\n",
       " (('line_03', 'item_004'), (23, 0, 0)),\n",
       " (('line_01', 'item_005'), (26, 0, 0)),\n",
       " (('line_01', 'item_005'), (26, 0, 0)),\n",
       " (('line_02', 'item_011'), (12, 0, 0)),\n",
       " (('line_02', 'item_011'), (12, 0, 0)),\n",
       " (('line_04', 'item_003'), (28, 0, 0)),\n",
       " (('line_02', 'item_013'), (24, 0, 0)),\n",
       " (('line_05', 'item_007'), (14, 0, 0)),\n",
       " (('line_05', 'item_004'), (21, 0, 0)),\n",
       " (('line_04', 'item_014'), (26, 0, 0)),\n",
       " (('line_04', 'item_014'), (26, 0, 0)),\n",
       " (('line_03', 'item_010'), (16, 0, 0)),\n",
       " (('line_02', 'item_012'), (22, 0, 0)),\n",
       " (('line_02', 'item_012'), (22, 0, 0)),\n",
       " (('line_02', 'item_012'), (22, 0, 0)),\n",
       " (('line_02', 'item_012'), (22, 0, 0)),\n",
       " (('line_02', 'item_012'), (22, 0, 0)),\n",
       " (('line_02', 'item_015'), (23, 0, 0)),\n",
       " (('line_02', 'item_015'), (23, 0, 0)),\n",
       " (('line_02', 'item_015'), (23, 0, 0)),\n",
       " (('line_02', 'item_015'), (23, 0, 0)),\n",
       " (('line_02', 'item_015'), (23, 0, 0)),\n",
       " (('line_02', 'item_015'), (23, 0, 0)),\n",
       " (('line_02', 'item_015'), (23, 0, 0)),\n",
       " (('line_02', 'item_015'), (23, 0, 0)),\n",
       " (('line_04', 'item_001'), (19, 0, 0)),\n",
       " (('line_04', 'item_001'), (19, 0, 0)),\n",
       " (('line_04', 'item_001'), (19, 0, 0)),\n",
       " (('line_04', 'item_001'), (19, 0, 0)),\n",
       " (('line_04', 'item_001'), (19, 0, 0)),\n",
       " (('line_04', 'item_001'), (19, 0, 0)),\n",
       " (('line_03', 'item_002'), (19, 0, 0)),\n",
       " (('line_03', 'item_002'), (19, 0, 0)),\n",
       " (('line_03', 'item_002'), (19, 0, 0)),\n",
       " (('line_02', 'item_008'), (24, 0, 0)),\n",
       " (('line_02', 'item_008'), (24, 0, 0)),\n",
       " (('line_02', 'item_008'), (24, 0, 0)),\n",
       " (('line_02', 'item_008'), (24, 0, 0)),\n",
       " (('line_01', 'item_006'), (20, 0, 0)),\n",
       " (('line_01', 'item_006'), (20, 0, 0)),\n",
       " (('line_01', 'item_006'), (20, 0, 0)),\n",
       " (('line_01', 'item_006'), (20, 0, 0)),\n",
       " (('line_05', 'item_011'), (23, 0, 0)),\n",
       " (('line_05', 'item_011'), (23, 0, 0)),\n",
       " (('line_04', 'item_004'), (17, 0, 0)),\n",
       " (('line_04', 'item_004'), (17, 0, 0)),\n",
       " (('line_04', 'item_004'), (17, 0, 0)),\n",
       " (('line_04', 'item_004'), (17, 0, 0)),\n",
       " (('line_04', 'item_004'), (17, 0, 0)),\n",
       " (('line_05', 'item_012'), (23, 0, 0)),\n",
       " (('line_05', 'item_012'), (23, 0, 0)),\n",
       " (('line_05', 'item_012'), (23, 0, 0)),\n",
       " (('line_05', 'item_012'), (23, 0, 0)),\n",
       " (('line_05', 'item_012'), (23, 0, 0)),\n",
       " (('line_05', 'item_012'), (23, 0, 0)),\n",
       " (('line_01', 'item_009'), (23, 0, 0)),\n",
       " (('line_01', 'item_009'), (23, 0, 0)),\n",
       " (('line_05', 'item_001'), (26, 0, 0)),\n",
       " (('line_05', 'item_001'), (26, 0, 0)),\n",
       " (('line_05', 'item_001'), (26, 0, 0)),\n",
       " (('line_01', 'item_011'), (18, 0, 0)),\n",
       " (('line_01', 'item_011'), (18, 0, 0)),\n",
       " (('line_01', 'item_011'), (18, 0, 0)),\n",
       " (('line_01', 'item_011'), (18, 0, 0)),\n",
       " (('line_01', 'item_011'), (18, 0, 0)),\n",
       " (('line_01', 'item_011'), (18, 0, 0)),\n",
       " (('line_01', 'item_011'), (18, 0, 0)),\n",
       " (('line_01', 'item_011'), (18, 0, 0)),\n",
       " (('line_04', 'item_015'), (22, 0, 0)),\n",
       " (('line_04', 'item_015'), (22, 0, 0)),\n",
       " (('line_04', 'item_015'), (22, 0, 0)),\n",
       " (('line_04', 'item_015'), (22, 0, 0)),\n",
       " (('line_04', 'item_015'), (22, 0, 0)),\n",
       " (('line_04', 'item_015'), (22, 0, 0)),\n",
       " (('line_04', 'item_015'), (22, 0, 0)),\n",
       " (('line_04', 'item_015'), (22, 0, 0)),\n",
       " (('line_04', 'item_015'), (22, 0, 0)),\n",
       " (('line_03', 'item_014'), (19, 0, 0)),\n",
       " (('line_01', 'item_012'), (19, 0, 0)),\n",
       " (('line_01', 'item_012'), (19, 0, 0)),\n",
       " (('line_02', 'item_005'), (20, 0, 0)),\n",
       " (('line_01', 'item_010'), (21, 0, 0)),\n",
       " (('line_05', 'item_005'), (21, 0, 0)),\n",
       " (('line_01', 'item_015'), (19, 0, 0)),\n",
       " (('line_01', 'item_015'), (19, 0, 0)),\n",
       " (('line_01', 'item_015'), (19, 0, 0)),\n",
       " (('line_01', 'item_015'), (19, 0, 0)),\n",
       " (('line_02', 'item_004'), (18, 0, 0)),\n",
       " (('line_02', 'item_004'), (18, 0, 0)),\n",
       " (('line_02', 'item_010'), (22, 0, 0)),\n",
       " (('line_04', 'item_009'), (20, 0, 0)),\n",
       " (('line_04', 'item_009'), (20, 0, 0)),\n",
       " (('line_04', 'item_009'), (20, 0, 0)),\n",
       " (('line_04', 'item_009'), (20, 0, 0)),\n",
       " (('line_04', 'item_009'), (20, 0, 0)),\n",
       " (('line_04', 'item_009'), (20, 0, 0)),\n",
       " (('line_04', 'item_009'), (20, 0, 0)),\n",
       " (('line_04', 'item_009'), (20, 0, 0)),\n",
       " (('line_04', 'item_009'), (20, 0, 0)),\n",
       " (('line_04', 'item_009'), (20, 0, 0)),\n",
       " (('line_01', 'item_002'), (16, 0, 0)),\n",
       " (('line_01', 'item_002'), (16, 0, 0)),\n",
       " (('line_01', 'item_002'), (16, 0, 0)),\n",
       " (('line_01', 'item_002'), (16, 0, 0)),\n",
       " (('line_01', 'item_002'), (16, 0, 0)),\n",
       " (('line_01', 'item_002'), (16, 0, 0)),\n",
       " (('line_05', 'item_015'), (23, 0, 0)),\n",
       " (('line_05', 'item_015'), (23, 0, 0)),\n",
       " (('line_05', 'item_015'), (23, 0, 0)),\n",
       " (('line_05', 'item_015'), (23, 0, 0)),\n",
       " (('line_05', 'item_015'), (23, 0, 0)),\n",
       " (('line_05', 'item_015'), (23, 0, 0)),\n",
       " (('line_01', 'item_007'), (24, 0, 0)),\n",
       " (('line_01', 'item_007'), (24, 0, 0)),\n",
       " (('line_03', 'item_003'), (19, 0, 0)),\n",
       " (('line_03', 'item_003'), (19, 0, 0)),\n",
       " (('line_03', 'item_003'), (19, 0, 0)),\n",
       " (('line_03', 'item_003'), (19, 0, 0)),\n",
       " (('line_03', 'item_003'), (19, 0, 0)),\n",
       " (('line_03', 'item_013'), (19, 0, 0)),\n",
       " (('line_03', 'item_013'), (19, 0, 0)),\n",
       " (('line_03', 'item_013'), (19, 0, 0)),\n",
       " (('line_03', 'item_013'), (19, 0, 0)),\n",
       " (('line_03', 'item_013'), (19, 0, 0)),\n",
       " (('line_03', 'item_013'), (19, 0, 0)),\n",
       " (('line_04', 'item_007'), (18, 0, 0)),\n",
       " (('line_04', 'item_007'), (18, 0, 0)),\n",
       " (('line_01', 'item_013'), (19, 0, 0)),\n",
       " (('line_01', 'item_001'), (17, 0, 0)),\n",
       " (('line_01', 'item_001'), (17, 0, 0)),\n",
       " (('line_03', 'item_008'), (18, 0, 0)),\n",
       " (('line_03', 'item_008'), (18, 0, 0)),\n",
       " (('line_03', 'item_008'), (18, 0, 0)),\n",
       " (('line_03', 'item_008'), (18, 0, 0)),\n",
       " (('line_03', 'item_008'), (18, 0, 0)),\n",
       " (('line_03', 'item_008'), (18, 0, 0)),\n",
       " (('line_03', 'item_008'), (18, 0, 0)),\n",
       " (('line_03', 'item_008'), (18, 0, 0)),\n",
       " (('line_03', 'item_008'), (18, 0, 0)),\n",
       " (('line_01', 'item_008'), (13, 0, 0)),\n",
       " (('line_01', 'item_008'), (13, 0, 0)),\n",
       " (('line_01', 'item_008'), (13, 0, 0)),\n",
       " (('line_01', 'item_008'), (13, 0, 0)),\n",
       " (('line_01', 'item_008'), (13, 0, 0)),\n",
       " (('line_01', 'item_008'), (13, 0, 0)),\n",
       " (('line_01', 'item_008'), (13, 0, 0)),\n",
       " (('line_01', 'item_008'), (13, 0, 0)),\n",
       " (('line_04', 'item_012'), (22, 0, 0)),\n",
       " (('line_04', 'item_012'), (22, 0, 0)),\n",
       " (('line_04', 'item_012'), (22, 0, 0)),\n",
       " (('line_04', 'item_012'), (22, 0, 0)),\n",
       " (('line_03', 'item_012'), (21, 0, 0)),\n",
       " (('line_03', 'item_012'), (21, 0, 0)),\n",
       " (('line_03', 'item_012'), (21, 0, 0)),\n",
       " (('line_03', 'item_012'), (21, 0, 0)),\n",
       " (('line_05', 'item_003'), (18, 0, 0)),\n",
       " (('line_05', 'item_003'), (18, 0, 0)),\n",
       " (('line_05', 'item_003'), (18, 0, 0)),\n",
       " (('line_05', 'item_003'), (18, 0, 0)),\n",
       " (('line_05', 'item_003'), (18, 0, 0)),\n",
       " (('line_05', 'item_003'), (18, 0, 0)),\n",
       " (('line_05', 'item_003'), (18, 0, 0)),\n",
       " (('line_05', 'item_003'), (18, 0, 0)),\n",
       " (('line_05', 'item_003'), (18, 0, 0)),\n",
       " (('line_05', 'item_002'), (11, 0, 0)),\n",
       " (('line_02', 'item_007'), (16, 0, 0)),\n",
       " (('line_02', 'item_007'), (16, 0, 0)),\n",
       " (('line_02', 'item_007'), (16, 0, 0)),\n",
       " (('line_05', 'item_009'), (17, 0, 0)),\n",
       " (('line_05', 'item_009'), (17, 0, 0)),\n",
       " (('line_05', 'item_009'), (17, 0, 0)),\n",
       " (('line_02', 'item_006'), (18, 0, 0)),\n",
       " (('line_02', 'item_006'), (18, 0, 0)),\n",
       " (('line_02', 'item_006'), (18, 0, 0)),\n",
       " (('line_02', 'item_006'), (18, 0, 0)),\n",
       " (('line_02', 'item_006'), (18, 0, 0)),\n",
       " (('line_02', 'item_006'), (18, 0, 0)),\n",
       " (('line_05', 'item_013'), (22, 0, 0)),\n",
       " (('line_05', 'item_013'), (22, 0, 0)),\n",
       " (('line_05', 'item_013'), (22, 0, 0)),\n",
       " (('line_01', 'item_014'), (13, 0, 0)),\n",
       " (('line_01', 'item_014'), (13, 0, 0)),\n",
       " (('line_01', 'item_014'), (13, 0, 0)),\n",
       " (('line_01', 'item_014'), (13, 0, 0)),\n",
       " (('line_01', 'item_014'), (13, 0, 0)),\n",
       " (('line_02', 'item_014'), (33, 0, 0)),\n",
       " (('line_02', 'item_014'), (33, 0, 0)),\n",
       " (('line_02', 'item_014'), (33, 0, 0)),\n",
       " (('line_03', 'item_009'), (20, 0, 0)),\n",
       " (('line_03', 'item_009'), (20, 0, 0)),\n",
       " (('line_01', 'item_003'), (8, 0, 0)),\n",
       " (('line_01', 'item_003'), (8, 0, 0)),\n",
       " (('line_01', 'item_003'), (8, 0, 0)),\n",
       " (('line_01', 'item_003'), (8, 0, 0)),\n",
       " (('line_01', 'item_003'), (8, 0, 0)),\n",
       " (('line_01', 'item_003'), (8, 0, 0)),\n",
       " (('line_01', 'item_003'), (8, 0, 0)),\n",
       " (('line_01', 'item_003'), (8, 0, 0)),\n",
       " (('line_04', 'item_013'), (20, 0, 0)),\n",
       " (('line_03', 'item_004'), (23, 0, 0)),\n",
       " (('line_03', 'item_004'), (23, 0, 0)),\n",
       " (('line_01', 'item_005'), (26, 0, 0)),\n",
       " (('line_01', 'item_005'), (26, 0, 0)),\n",
       " (('line_02', 'item_011'), (12, 0, 0)),\n",
       " (('line_02', 'item_011'), (12, 0, 0)),\n",
       " (('line_02', 'item_011'), (12, 0, 0)),\n",
       " (('line_04', 'item_003'), (28, 0, 0)),\n",
       " (('line_04', 'item_010'), (15, 0, 0)),\n",
       " (('line_04', 'item_010'), (15, 0, 0)),\n",
       " (('line_04', 'item_010'), (15, 0, 0)),\n",
       " (('line_02', 'item_013'), (24, 0, 0)),\n",
       " (('line_02', 'item_013'), (24, 0, 0)),\n",
       " (('line_02', 'item_013'), (24, 0, 0)),\n",
       " (('line_02', 'item_013'), (24, 0, 0)),\n",
       " (('line_05', 'item_007'), (14, 0, 0)),\n",
       " (('line_05', 'item_004'), (21, 0, 0)),\n",
       " (('line_03', 'item_015'), (14, 0, 0)),\n",
       " (('line_04', 'item_014'), (26, 0, 0)),\n",
       " (('line_02', 'item_002'), (25, 0, 0)),\n",
       " (('line_02', 'item_002'), (25, 0, 0)),\n",
       " (('line_02', 'item_002'), (25, 0, 0)),\n",
       " (('line_03', 'item_010'), (16, 0, 0)),\n",
       " (('line_03', 'item_010'), (16, 0, 0)),\n",
       " (('line_02', 'item_012'), (22, 0, 0)),\n",
       " (('line_02', 'item_012'), (22, 0, 0)),\n",
       " (('line_02', 'item_012'), (22, 0, 0)),\n",
       " (('line_02', 'item_012'), (22, 0, 0)),\n",
       " (('line_02', 'item_012'), (22, 0, 0)),\n",
       " (('line_02', 'item_012'), (22, 0, 0)),\n",
       " (('line_02', 'item_012'), (22, 0, 0)),\n",
       " (('line_02', 'item_012'), (22, 0, 0)),\n",
       " (('line_02', 'item_015'), (23, 0, 0)),\n",
       " (('line_02', 'item_015'), (23, 0, 0)),\n",
       " (('line_02', 'item_015'), (23, 0, 0)),\n",
       " (('line_02', 'item_015'), (23, 0, 0)),\n",
       " (('line_02', 'item_015'), (23, 0, 0)),\n",
       " (('line_02', 'item_015'), (23, 0, 0)),\n",
       " (('line_02', 'item_015'), (23, 0, 0)),\n",
       " (('line_02', 'item_015'), (23, 0, 0)),\n",
       " (('line_04', 'item_001'), (19, 0, 0)),\n",
       " (('line_04', 'item_006'), (33, 0, 0)),\n",
       " (('line_02', 'item_008'), (24, 0, 0)),\n",
       " (('line_02', 'item_008'), (24, 0, 0)),\n",
       " (('line_02', 'item_008'), (24, 0, 0)),\n",
       " (('line_02', 'item_008'), (24, 0, 0)),\n",
       " (('line_02', 'item_008'), (24, 0, 0)),\n",
       " (('line_03', 'item_006'), (16, 0, 0)),\n",
       " (('line_04', 'item_004'), (17, 0, 0)),\n",
       " (('line_04', 'item_004'), (17, 0, 0)),\n",
       " (('line_05', 'item_012'), (23, 0, 0)),\n",
       " (('line_05', 'item_012'), (23, 0, 0)),\n",
       " (('line_05', 'item_012'), (23, 0, 0)),\n",
       " (('line_05', 'item_012'), (23, 0, 0)),\n",
       " (('line_05', 'item_001'), (26, 0, 0)),\n",
       " (('line_01', 'item_011'), (18, 0, 0)),\n",
       " (('line_01', 'item_011'), (18, 0, 0)),\n",
       " (('line_01', 'item_011'), (18, 0, 0)),\n",
       " (('line_04', 'item_015'), (22, 0, 0)),\n",
       " (('line_04', 'item_015'), (22, 0, 0)),\n",
       " (('line_03', 'item_014'), (19, 0, 0)),\n",
       " (('line_02', 'item_005'), (20, 0, 0)),\n",
       " (('line_02', 'item_005'), (20, 0, 0)),\n",
       " (('line_02', 'item_005'), (20, 0, 0)),\n",
       " (('line_02', 'item_005'), (20, 0, 0)),\n",
       " (('line_05', 'item_005'), (21, 0, 0)),\n",
       " (('line_05', 'item_005'), (21, 0, 0)),\n",
       " (('line_05', 'item_005'), (21, 0, 0)),\n",
       " (('line_05', 'item_005'), (21, 0, 0)),\n",
       " (('line_01', 'item_015'), (19, 0, 0)),\n",
       " (('line_02', 'item_004'), (18, 0, 0)),\n",
       " (('line_02', 'item_004'), (18, 0, 0)),\n",
       " (('line_02', 'item_010'), (22, 0, 0)),\n",
       " (('line_04', 'item_009'), (20, 0, 0)),\n",
       " (('line_04', 'item_009'), (20, 0, 0)),\n",
       " (('line_04', 'item_009'), (20, 0, 0)),\n",
       " (('line_04', 'item_009'), (20, 0, 0)),\n",
       " (('line_04', 'item_009'), (20, 0, 0)),\n",
       " (('line_04', 'item_009'), (20, 0, 0)),\n",
       " (('line_04', 'item_009'), (20, 0, 0)),\n",
       " (('line_01', 'item_002'), (16, 0, 0)),\n",
       " (('line_01', 'item_002'), (16, 0, 0)),\n",
       " (('line_01', 'item_002'), (16, 0, 0)),\n",
       " (('line_01', 'item_002'), (16, 0, 0)),\n",
       " (('line_05', 'item_015'), (23, 0, 0)),\n",
       " (('line_05', 'item_015'), (23, 0, 0)),\n",
       " (('line_05', 'item_015'), (23, 0, 0)),\n",
       " (('line_05', 'item_015'), (23, 0, 0)),\n",
       " (('line_05', 'item_015'), (23, 0, 0)),\n",
       " (('line_05', 'item_015'), (23, 0, 0)),\n",
       " (('line_01', 'item_007'), (24, 0, 0)),\n",
       " (('line_01', 'item_007'), (24, 0, 0)),\n",
       " (('line_01', 'item_007'), (24, 0, 0)),\n",
       " (('line_03', 'item_003'), (19, 0, 0)),\n",
       " (('line_03', 'item_003'), (19, 0, 0)),\n",
       " (('line_03', 'item_003'), (19, 0, 0)),\n",
       " (('line_04', 'item_005'), (12, 0, 0)),\n",
       " (('line_03', 'item_013'), (19, 0, 0)),\n",
       " (('line_03', 'item_013'), (19, 0, 0)),\n",
       " (('line_03', 'item_013'), (19, 0, 0)),\n",
       " (('line_03', 'item_013'), (19, 0, 0)),\n",
       " (('line_04', 'item_007'), (18, 0, 0)),\n",
       " (('line_01', 'item_013'), (19, 0, 0)),\n",
       " (('line_01', 'item_013'), (19, 0, 0)),\n",
       " (('line_01', 'item_013'), (19, 0, 0)),\n",
       " (('line_01', 'item_013'), (19, 0, 0)),\n",
       " (('line_01', 'item_001'), (17, 0, 0)),\n",
       " (('line_01', 'item_001'), (17, 0, 0)),\n",
       " (('line_03', 'item_008'), (18, 0, 0)),\n",
       " (('line_03', 'item_008'), (18, 0, 0)),\n",
       " (('line_03', 'item_008'), (18, 0, 0)),\n",
       " (('line_03', 'item_008'), (18, 0, 0)),\n",
       " (('line_03', 'item_008'), (18, 0, 0)),\n",
       " (('line_03', 'item_008'), (18, 0, 0)),\n",
       " (('line_03', 'item_008'), (18, 0, 0)),\n",
       " (('line_03', 'item_008'), (18, 0, 0)),\n",
       " (('line_03', 'item_008'), (18, 0, 0)),\n",
       " (('line_03', 'item_008'), (18, 0, 0)),\n",
       " (('line_03', 'item_008'), (18, 0, 0)),\n",
       " (('line_03', 'item_008'), (18, 0, 0)),\n",
       " (('line_03', 'item_008'), (18, 0, 0)),\n",
       " (('line_03', 'item_008'), (18, 0, 0)),\n",
       " (('line_01', 'item_008'), (13, 0, 0)),\n",
       " (('line_01', 'item_008'), (13, 0, 0)),\n",
       " (('line_01', 'item_008'), (13, 0, 0)),\n",
       " (('line_04', 'item_012'), (22, 0, 0)),\n",
       " (('line_03', 'item_012'), (21, 0, 0)),\n",
       " (('line_03', 'item_012'), (21, 0, 0)),\n",
       " (('line_03', 'item_012'), (21, 0, 0)),\n",
       " (('line_03', 'item_012'), (21, 0, 0)),\n",
       " (('line_03', 'item_012'), (21, 0, 0)),\n",
       " (('line_03', 'item_012'), (21, 0, 0)),\n",
       " (('line_05', 'item_003'), (18, 0, 0)),\n",
       " (('line_05', 'item_003'), (18, 0, 0)),\n",
       " (('line_05', 'item_003'), (18, 0, 0)),\n",
       " (('line_05', 'item_003'), (18, 0, 0)),\n",
       " (('line_05', 'item_003'), (18, 0, 0)),\n",
       " (('line_05', 'item_003'), (18, 0, 0)),\n",
       " (('line_05', 'item_003'), (18, 0, 0)),\n",
       " (('line_02', 'item_007'), (16, 0, 0)),\n",
       " (('line_02', 'item_007'), (16, 0, 0)),\n",
       " (('line_05', 'item_009'), (17, 0, 0)),\n",
       " (('line_02', 'item_006'), (18, 0, 0)),\n",
       " (('line_02', 'item_006'), (18, 0, 0)),\n",
       " (('line_02', 'item_006'), (18, 0, 0)),\n",
       " (('line_02', 'item_006'), (18, 0, 0)),\n",
       " (('line_02', 'item_006'), (18, 0, 0)),\n",
       " (('line_02', 'item_006'), (18, 0, 0)),\n",
       " (('line_02', 'item_006'), (18, 0, 0)),\n",
       " (('line_02', 'item_006'), (18, 0, 0)),\n",
       " (('line_02', 'item_006'), (18, 0, 0)),\n",
       " (('line_02', 'item_006'), (18, 0, 0)),\n",
       " (('line_02', 'item_006'), (18, 0, 0)),\n",
       " (('line_02', 'item_006'), (18, 0, 0)),\n",
       " (('line_02', 'item_006'), (18, 0, 0)),\n",
       " (('line_05', 'item_013'), (22, 0, 0)),\n",
       " (('line_05', 'item_013'), (22, 0, 0)),\n",
       " (('line_05', 'item_013'), (22, 0, 0)),\n",
       " (('line_05', 'item_013'), (22, 0, 0)),\n",
       " (('line_03', 'item_011'), (20, 0, 0)),\n",
       " (('line_03', 'item_011'), (20, 0, 0)),\n",
       " (('line_03', 'item_011'), (20, 0, 0)),\n",
       " (('line_01', 'item_014'), (13, 0, 0)),\n",
       " (('line_02', 'item_014'), (33, 0, 0)),\n",
       " (('line_03', 'item_009'), (20, 0, 0)),\n",
       " (('line_05', 'item_008'), (14, 0, 0)),\n",
       " (('line_03', 'item_007'), (24, 0, 0)),\n",
       " (('line_01', 'item_003'), (8, 0, 0)),\n",
       " (('line_01', 'item_003'), (8, 0, 0)),\n",
       " (('line_01', 'item_003'), (8, 0, 0)),\n",
       " (('line_01', 'item_003'), (8, 0, 0)),\n",
       " (('line_01', 'item_003'), (8, 0, 0)),\n",
       " (('line_01', 'item_003'), (8, 0, 0)),\n",
       " (('line_01', 'item_003'), (8, 0, 0)),\n",
       " (('line_01', 'item_003'), (8, 0, 0)),\n",
       " (('line_01', 'item_003'), (8, 0, 0)),\n",
       " (('line_01', 'item_003'), (8, 0, 0)),\n",
       " (('line_01', 'item_003'), (8, 0, 0)),\n",
       " (('line_01', 'item_003'), (8, 0, 0)),\n",
       " (('line_04', 'item_013'), (20, 0, 0)),\n",
       " (('line_04', 'item_013'), (20, 0, 0)),\n",
       " (('line_04', 'item_013'), (20, 0, 0)),\n",
       " (('line_04', 'item_013'), (20, 0, 0)),\n",
       " (('line_03', 'item_004'), (23, 0, 0)),\n",
       " (('line_01', 'item_005'), (26, 0, 0)),\n",
       " (('line_02', 'item_011'), (12, 0, 0)),\n",
       " (('line_04', 'item_003'), (28, 0, 0)),\n",
       " (('line_04', 'item_003'), (28, 0, 0)),\n",
       " (('line_04', 'item_010'), (15, 0, 0)),\n",
       " (('line_02', 'item_013'), (24, 0, 0)),\n",
       " (('line_05', 'item_004'), (21, 0, 0)),\n",
       " (('line_04', 'item_014'), (26, 0, 0)),\n",
       " (('line_04', 'item_014'), (26, 0, 0)),\n",
       " (('line_04', 'item_014'), (26, 0, 0)),\n",
       " (('line_04', 'item_014'), (26, 0, 0)),\n",
       " (('line_02', 'item_002'), (25, 0, 0)),\n",
       " (('line_02', 'item_012'), (22, 0, 0)),\n",
       " (('line_02', 'item_012'), (22, 0, 0)),\n",
       " (('line_02', 'item_012'), (22, 0, 0)),\n",
       " (('line_02', 'item_012'), (22, 0, 0)),\n",
       " (('line_02', 'item_012'), (22, 0, 0)),\n",
       " (('line_02', 'item_012'), (22, 0, 0)),\n",
       " (('line_02', 'item_012'), (22, 0, 0)),\n",
       " (('line_02', 'item_015'), (23, 0, 0)),\n",
       " (('line_02', 'item_015'), (23, 0, 0)),\n",
       " (('line_02', 'item_015'), (23, 0, 0)),\n",
       " (('line_02', 'item_015'), (23, 0, 0)),\n",
       " (('line_04', 'item_001'), (19, 0, 0)),\n",
       " (('line_04', 'item_001'), (19, 0, 0)),\n",
       " (('line_04', 'item_001'), (19, 0, 0)),\n",
       " (('line_04', 'item_001'), (19, 0, 0)),\n",
       " (('line_04', 'item_001'), (19, 0, 0)),\n",
       " (('line_04', 'item_001'), (19, 0, 0)),\n",
       " (('line_04', 'item_001'), (19, 0, 0)),\n",
       " (('line_04', 'item_006'), (33, 0, 0)),\n",
       " (('line_04', 'item_006'), (33, 0, 0)),\n",
       " (('line_04', 'item_006'), (33, 0, 0)),\n",
       " (('line_04', 'item_006'), (33, 0, 0)),\n",
       " (('line_02', 'item_008'), (24, 0, 0)),\n",
       " (('line_02', 'item_008'), (24, 0, 0)),\n",
       " (('line_02', 'item_008'), (24, 0, 0)),\n",
       " (('line_02', 'item_008'), (24, 0, 0)),\n",
       " (('line_02', 'item_008'), (24, 0, 0)),\n",
       " (('line_05', 'item_011'), (23, 0, 0)),\n",
       " (('line_05', 'item_011'), (23, 0, 0)),\n",
       " (('line_05', 'item_011'), (23, 0, 0)),\n",
       " (('line_04', 'item_004'), (17, 0, 0)),\n",
       " (('line_04', 'item_004'), (17, 0, 0)),\n",
       " (('line_04', 'item_004'), (17, 0, 0)),\n",
       " (('line_04', 'item_004'), (17, 0, 0)),\n",
       " (('line_04', 'item_004'), (17, 0, 0)),\n",
       " (('line_04', 'item_004'), (17, 0, 0)),\n",
       " (('line_05', 'item_012'), (23, 0, 0)),\n",
       " (('line_05', 'item_012'), (23, 0, 0)),\n",
       " (('line_05', 'item_012'), (23, 0, 0)),\n",
       " (('line_05', 'item_012'), (23, 0, 0)),\n",
       " (('line_05', 'item_012'), (23, 0, 0)),\n",
       " (('line_05', 'item_012'), (23, 0, 0)),\n",
       " (('line_05', 'item_012'), (23, 0, 0)),\n",
       " (('line_05', 'item_012'), (23, 0, 0)),\n",
       " (('line_01', 'item_009'), (23, 0, 0)),\n",
       " (('line_03', 'item_001'), (14, 0, 0)),\n",
       " (('line_05', 'item_001'), (26, 0, 0)),\n",
       " (('line_05', 'item_001'), (26, 0, 0)),\n",
       " (('line_05', 'item_001'), (26, 0, 0)),\n",
       " (('line_01', 'item_011'), (18, 0, 0)),\n",
       " (('line_01', 'item_011'), (18, 0, 0)),\n",
       " (('line_01', 'item_011'), (18, 0, 0)),\n",
       " (('line_01', 'item_011'), (18, 0, 0)),\n",
       " (('line_01', 'item_011'), (18, 0, 0)),\n",
       " (('line_01', 'item_011'), (18, 0, 0)),\n",
       " (('line_04', 'item_015'), (22, 0, 0)),\n",
       " (('line_04', 'item_015'), (22, 0, 0)),\n",
       " (('line_04', 'item_015'), (22, 0, 0)),\n",
       " (('line_04', 'item_015'), (22, 0, 0)),\n",
       " (('line_03', 'item_014'), (19, 0, 0)),\n",
       " (('line_03', 'item_014'), (19, 0, 0)),\n",
       " (('line_02', 'item_005'), (20, 0, 0)),\n",
       " (('line_02', 'item_005'), (20, 0, 0)),\n",
       " (('line_02', 'item_005'), (20, 0, 0)),\n",
       " (('line_01', 'item_010'), (21, 0, 0)),\n",
       " (('line_01', 'item_010'), (21, 0, 0)),\n",
       " (('line_05', 'item_005'), (21, 0, 0)),\n",
       " (('line_01', 'item_015'), (19, 0, 0)),\n",
       " (('line_01', 'item_015'), (19, 0, 0)),\n",
       " (('line_01', 'item_015'), (19, 0, 0)),\n",
       " (('line_01', 'item_015'), (19, 0, 0)),\n",
       " (('line_01', 'item_015'), (19, 0, 0)),\n",
       " (('line_02', 'item_010'), (22, 0, 0)),\n",
       " (('line_02', 'item_010'), (22, 0, 0)),\n",
       " (('line_02', 'item_010'), (22, 0, 0)),\n",
       " (('line_02', 'item_010'), (22, 0, 0)),\n",
       " (('line_04', 'item_009'), (20, 0, 0)),\n",
       " (('line_04', 'item_009'), (20, 0, 0)),\n",
       " (('line_04', 'item_009'), (20, 0, 0)),\n",
       " (('line_04', 'item_009'), (20, 0, 0)),\n",
       " (('line_04', 'item_009'), (20, 0, 0)),\n",
       " (('line_04', 'item_009'), (20, 0, 0)),\n",
       " (('line_04', 'item_009'), (20, 0, 0)),\n",
       " (('line_01', 'item_002'), (16, 0, 0)),\n",
       " (('line_01', 'item_002'), (16, 0, 0)),\n",
       " (('line_01', 'item_002'), (16, 0, 0)),\n",
       " (('line_01', 'item_002'), (16, 0, 0)),\n",
       " (('line_01', 'item_002'), (16, 0, 0)),\n",
       " (('line_01', 'item_002'), (16, 0, 0)),\n",
       " (('line_05', 'item_015'), (23, 0, 0)),\n",
       " (('line_05', 'item_015'), (23, 0, 0)),\n",
       " (('line_05', 'item_015'), (23, 0, 0)),\n",
       " (('line_01', 'item_007'), (24, 0, 0)),\n",
       " (('line_03', 'item_003'), (19, 0, 0)),\n",
       " (('line_03', 'item_003'), (19, 0, 0)),\n",
       " (('line_04', 'item_005'), (12, 0, 0)),\n",
       " (('line_03', 'item_013'), (19, 0, 0)),\n",
       " (('line_04', 'item_007'), (18, 0, 0)),\n",
       " (('line_01', 'item_013'), (19, 0, 0)),\n",
       " (('line_01', 'item_013'), (19, 0, 0)),\n",
       " (('line_01', 'item_001'), (17, 0, 0)),\n",
       " (('line_03', 'item_008'), (18, 0, 0)),\n",
       " (('line_03', 'item_008'), (18, 0, 0)),\n",
       " (('line_03', 'item_008'), (18, 0, 0)),\n",
       " (('line_03', 'item_008'), (18, 0, 0)),\n",
       " (('line_03', 'item_008'), (18, 0, 0)),\n",
       " (('line_03', 'item_008'), (18, 0, 0)),\n",
       " (('line_03', 'item_008'), (18, 0, 0)),\n",
       " (('line_01', 'item_008'), (13, 0, 0)),\n",
       " (('line_01', 'item_008'), (13, 0, 0)),\n",
       " (('line_04', 'item_012'), (22, 0, 0)),\n",
       " (('line_04', 'item_012'), (22, 0, 0)),\n",
       " (('line_04', 'item_012'), (22, 0, 0)),\n",
       " (('line_04', 'item_012'), (22, 0, 0)),\n",
       " (('line_04', 'item_012'), (22, 0, 0)),\n",
       " (('line_04', 'item_012'), (22, 0, 0)),\n",
       " (('line_04', 'item_012'), (22, 0, 0)),\n",
       " (('line_03', 'item_012'), (21, 0, 0)),\n",
       " (('line_03', 'item_012'), (21, 0, 0)),\n",
       " (('line_03', 'item_012'), (21, 0, 0)),\n",
       " (('line_03', 'item_012'), (21, 0, 0)),\n",
       " (('line_05', 'item_003'), (18, 0, 0)),\n",
       " (('line_05', 'item_003'), (18, 0, 0)),\n",
       " (('line_05', 'item_003'), (18, 0, 0)),\n",
       " (('line_05', 'item_003'), (18, 0, 0)),\n",
       " (('line_05', 'item_003'), (18, 0, 0)),\n",
       " (('line_05', 'item_003'), (18, 0, 0)),\n",
       " (('line_05', 'item_002'), (11, 0, 0)),\n",
       " (('line_02', 'item_007'), (16, 0, 0)),\n",
       " (('line_02', 'item_007'), (16, 0, 0)),\n",
       " (('line_02', 'item_007'), (16, 0, 0)),\n",
       " (('line_02', 'item_007'), (16, 0, 0)),\n",
       " (('line_05', 'item_009'), (17, 0, 0)),\n",
       " (('line_02', 'item_006'), (18, 0, 0)),\n",
       " (('line_02', 'item_006'), (18, 0, 0)),\n",
       " (('line_02', 'item_006'), (18, 0, 0)),\n",
       " (('line_02', 'item_006'), (18, 0, 0)),\n",
       " (('line_05', 'item_013'), (22, 0, 0)),\n",
       " (('line_05', 'item_013'), (22, 0, 0)),\n",
       " (('line_05', 'item_013'), (22, 0, 0)),\n",
       " (('line_05', 'item_013'), (22, 0, 0)),\n",
       " (('line_05', 'item_013'), (22, 0, 0)),\n",
       " (('line_05', 'item_013'), (22, 0, 0)),\n",
       " (('line_03', 'item_011'), (20, 0, 0)),\n",
       " (('line_03', 'item_011'), (20, 0, 0)),\n",
       " (('line_03', 'item_011'), (20, 0, 0)),\n",
       " (('line_03', 'item_011'), (20, 0, 0)),\n",
       " (('line_03', 'item_011'), (20, 0, 0)),\n",
       " (('line_03', 'item_011'), (20, 0, 0)),\n",
       " (('line_01', 'item_014'), (13, 0, 0)),\n",
       " (('line_01', 'item_014'), (13, 0, 0)),\n",
       " (('line_01', 'item_014'), (13, 0, 0)),\n",
       " (('line_01', 'item_014'), (13, 0, 0)),\n",
       " (('line_02', 'item_014'), (33, 0, 0)),\n",
       " (('line_02', 'item_014'), (33, 0, 0)),\n",
       " (('line_05', 'item_010'), (18, 0, 0)),\n",
       " (('line_05', 'item_010'), (18, 0, 0)),\n",
       " (('line_05', 'item_010'), (18, 0, 0)),\n",
       " (('line_03', 'item_009'), (20, 0, 0)),\n",
       " (('line_01', 'item_003'), (8, 0, 0)),\n",
       " (('line_01', 'item_003'), (8, 0, 0)),\n",
       " (('line_01', 'item_003'), (8, 0, 0)),\n",
       " (('line_01', 'item_003'), (8, 0, 0)),\n",
       " (('line_01', 'item_003'), (8, 0, 0)),\n",
       " (('line_01', 'item_003'), (8, 0, 0)),\n",
       " (('line_01', 'item_003'), (8, 0, 0)),\n",
       " (('line_01', 'item_003'), (8, 0, 0)),\n",
       " (('line_01', 'item_003'), (8, 0, 0)),\n",
       " (('line_01', 'item_003'), (8, 0, 0)),\n",
       " (('line_01', 'item_003'), (8, 0, 0)),\n",
       " (('line_04', 'item_013'), (20, 0, 0)),\n",
       " (('line_04', 'item_013'), (20, 0, 0)),\n",
       " (('line_03', 'item_004'), (23, 0, 0)),\n",
       " (('line_03', 'item_004'), (23, 0, 0)),\n",
       " (('line_03', 'item_004'), (23, 0, 0)),\n",
       " (('line_01', 'item_005'), (26, 0, 0)),\n",
       " (('line_01', 'item_005'), (26, 0, 0)),\n",
       " (('line_01', 'item_005'), (26, 0, 0)),\n",
       " (('line_04', 'item_003'), (28, 0, 0)),\n",
       " (('line_04', 'item_003'), (28, 0, 0)),\n",
       " (('line_04', 'item_010'), (15, 0, 0)),\n",
       " (('line_04', 'item_010'), (15, 0, 0)),\n",
       " (('line_02', 'item_003'), (19, 0, 0)),\n",
       " (('line_02', 'item_013'), (24, 0, 0)),\n",
       " (('line_02', 'item_013'), (24, 0, 0)),\n",
       " (('line_02', 'item_013'), (24, 0, 0)),\n",
       " (('line_05', 'item_007'), (14, 0, 0)),\n",
       " (('line_05', 'item_007'), (14, 0, 0)),\n",
       " (('line_04', 'item_014'), (26, 0, 0)),\n",
       " (('line_04', 'item_014'), (26, 0, 0)),\n",
       " (('line_03', 'item_010'), (16, 0, 0)),\n",
       " (('line_02', 'item_012'), (22, 0, 0)),\n",
       " (('line_02', 'item_012'), (22, 0, 0)),\n",
       " (('line_02', 'item_012'), (22, 0, 0)),\n",
       " (('line_02', 'item_012'), (22, 0, 0)),\n",
       " (('line_02', 'item_012'), (22, 0, 0)),\n",
       " (('line_02', 'item_012'), (22, 0, 0)),\n",
       " (('line_02', 'item_012'), (22, 0, 0)),\n",
       " (('line_02', 'item_012'), (22, 0, 0)),\n",
       " (('line_02', 'item_012'), (22, 0, 0)),\n",
       " (('line_02', 'item_015'), (23, 0, 0)),\n",
       " (('line_02', 'item_015'), (23, 0, 0)),\n",
       " (('line_02', 'item_015'), (23, 0, 0)),\n",
       " (('line_02', 'item_015'), (23, 0, 0)),\n",
       " (('line_02', 'item_015'), (23, 0, 0)),\n",
       " (('line_04', 'item_001'), (19, 0, 0)),\n",
       " (('line_04', 'item_001'), (19, 0, 0)),\n",
       " (('line_04', 'item_001'), (19, 0, 0)),\n",
       " (('line_04', 'item_001'), (19, 0, 0)),\n",
       " (('line_04', 'item_006'), (33, 0, 0)),\n",
       " (('line_04', 'item_006'), (33, 0, 0)),\n",
       " (('line_04', 'item_006'), (33, 0, 0)),\n",
       " (('line_04', 'item_006'), (33, 0, 0)),\n",
       " (('line_04', 'item_006'), (33, 0, 0)),\n",
       " (('line_03', 'item_002'), (19, 0, 0)),\n",
       " (('line_03', 'item_002'), (19, 0, 0)),\n",
       " (('line_03', 'item_002'), (19, 0, 0)),\n",
       " (('line_02', 'item_008'), (24, 0, 0)),\n",
       " (('line_02', 'item_008'), (24, 0, 0)),\n",
       " (('line_02', 'item_008'), (24, 0, 0)),\n",
       " (('line_02', 'item_008'), (24, 0, 0)),\n",
       " (('line_01', 'item_006'), (20, 0, 0)),\n",
       " (('line_05', 'item_011'), (23, 0, 0)),\n",
       " (('line_04', 'item_004'), (17, 0, 0)),\n",
       " (('line_04', 'item_004'), (17, 0, 0)),\n",
       " (('line_04', 'item_004'), (17, 0, 0)),\n",
       " (('line_04', 'item_004'), (17, 0, 0)),\n",
       " (('line_05', 'item_012'), (23, 0, 0)),\n",
       " (('line_05', 'item_012'), (23, 0, 0)),\n",
       " (('line_05', 'item_012'), (23, 0, 0)),\n",
       " (('line_05', 'item_012'), (23, 0, 0)),\n",
       " (('line_05', 'item_012'), (23, 0, 0)),\n",
       " (('line_05', 'item_012'), (23, 0, 0)),\n",
       " (('line_05', 'item_012'), (23, 0, 0)),\n",
       " (('line_05', 'item_012'), (23, 0, 0)),\n",
       " (('line_01', 'item_004'), (18, 0, 0)),\n",
       " (('line_03', 'item_001'), (14, 0, 0)),\n",
       " (('line_05', 'item_001'), (26, 0, 0)),\n",
       " (('line_05', 'item_001'), (26, 0, 0)),\n",
       " (('line_01', 'item_011'), (18, 0, 0)),\n",
       " (('line_01', 'item_011'), (18, 0, 0)),\n",
       " (('line_01', 'item_011'), (18, 0, 0)),\n",
       " (('line_01', 'item_011'), (18, 0, 0)),\n",
       " (('line_01', 'item_011'), (18, 0, 0)),\n",
       " (('line_01', 'item_011'), (18, 0, 0)),\n",
       " (('line_04', 'item_015'), (22, 0, 0)),\n",
       " (('line_04', 'item_015'), (22, 0, 0)),\n",
       " (('line_04', 'item_015'), (22, 0, 0)),\n",
       " (('line_04', 'item_015'), (22, 0, 0)),\n",
       " (('line_04', 'item_015'), (22, 0, 0)),\n",
       " (('line_04', 'item_015'), (22, 0, 0)),\n",
       " (('line_04', 'item_015'), (22, 0, 0)),\n",
       " (('line_04', 'item_015'), (22, 0, 0)),\n",
       " (('line_01', 'item_012'), (19, 0, 0)),\n",
       " (('line_01', 'item_012'), (19, 0, 0)),\n",
       " (('line_05', 'item_005'), (21, 0, 0)),\n",
       " (('line_05', 'item_005'), (21, 0, 0)),\n",
       " (('line_01', 'item_015'), (19, 0, 0)),\n",
       " (('line_01', 'item_015'), (19, 0, 0)),\n",
       " (('line_01', 'item_015'), (19, 0, 0)),\n",
       " (('line_01', 'item_015'), (19, 0, 0)),\n",
       " (('line_02', 'item_004'), (18, 0, 0)),\n",
       " (('line_02', 'item_004'), (18, 0, 0)),\n",
       " (('line_02', 'item_010'), (22, 0, 0)),\n",
       " (('line_04', 'item_009'), (20, 0, 0)),\n",
       " (('line_04', 'item_009'), (20, 0, 0)),\n",
       " (('line_04', 'item_009'), (20, 0, 0)),\n",
       " (('line_04', 'item_009'), (20, 0, 0)),\n",
       " (('line_04', 'item_009'), (20, 0, 0)),\n",
       " (('line_04', 'item_009'), (20, 0, 0)),\n",
       " (('line_01', 'item_002'), (16, 0, 0)),\n",
       " (('line_01', 'item_002'), (16, 0, 0)),\n",
       " (('line_01', 'item_002'), (16, 0, 0)),\n",
       " (('line_01', 'item_002'), (16, 0, 0)),\n",
       " (('line_01', 'item_002'), (16, 0, 0)),\n",
       " (('line_05', 'item_015'), (23, 0, 0)),\n",
       " (('line_05', 'item_015'), (23, 0, 0)),\n",
       " (('line_05', 'item_015'), (23, 0, 0)),\n",
       " (('line_05', 'item_015'), (23, 0, 0)),\n",
       " (('line_05', 'item_015'), (23, 0, 0)),\n",
       " (('line_05', 'item_015'), (23, 0, 0)),\n",
       " (('line_05', 'item_015'), (23, 0, 0)),\n",
       " (('line_05', 'item_015'), (23, 0, 0)),\n",
       " (('line_05', 'item_015'), (23, 0, 0)),\n",
       " (('line_05', 'item_015'), (23, 0, 0)),\n",
       " (('line_05', 'item_015'), (23, 0, 0)),\n",
       " (('line_01', 'item_007'), (24, 0, 0)),\n",
       " (('line_03', 'item_003'), (19, 0, 0)),\n",
       " (('line_03', 'item_003'), (19, 0, 0)),\n",
       " (('line_03', 'item_003'), (19, 0, 0)),\n",
       " (('line_03', 'item_003'), (19, 0, 0)),\n",
       " (('line_03', 'item_003'), (19, 0, 0)),\n",
       " (('line_03', 'item_013'), (19, 0, 0)),\n",
       " (('line_03', 'item_013'), (19, 0, 0)),\n",
       " (('line_01', 'item_013'), (19, 0, 0)),\n",
       " (('line_01', 'item_013'), (19, 0, 0)),\n",
       " (('line_01', 'item_001'), (17, 0, 0)),\n",
       " (('line_01', 'item_001'), (17, 0, 0)),\n",
       " (('line_01', 'item_001'), (17, 0, 0)),\n",
       " (('line_05', 'item_006'), (22, 0, 0)),\n",
       " (('line_03', 'item_008'), (18, 0, 0)),\n",
       " (('line_03', 'item_008'), (18, 0, 0)),\n",
       " (('line_03', 'item_008'), (18, 0, 0)),\n",
       " (('line_03', 'item_008'), (18, 0, 0)),\n",
       " (('line_03', 'item_008'), (18, 0, 0)),\n",
       " (('line_03', 'item_008'), (18, 0, 0)),\n",
       " (('line_01', 'item_008'), (13, 0, 0)),\n",
       " (('line_01', 'item_008'), (13, 0, 0)),\n",
       " (('line_01', 'item_008'), (13, 0, 0)),\n",
       " (('line_01', 'item_008'), (13, 0, 0)),\n",
       " (('line_04', 'item_012'), (22, 0, 0)),\n",
       " (('line_04', 'item_012'), (22, 0, 0)),\n",
       " (('line_04', 'item_012'), (22, 0, 0)),\n",
       " (('line_03', 'item_012'), (21, 0, 0)),\n",
       " (('line_03', 'item_012'), (21, 0, 0)),\n",
       " (('line_03', 'item_012'), (21, 0, 0)),\n",
       " (('line_03', 'item_012'), (21, 0, 0)),\n",
       " (('line_05', 'item_003'), (18, 0, 0)),\n",
       " (('line_05', 'item_003'), (18, 0, 0)),\n",
       " (('line_05', 'item_003'), (18, 0, 0)),\n",
       " (('line_05', 'item_003'), (18, 0, 0)),\n",
       " (('line_05', 'item_002'), (11, 0, 0)),\n",
       " (('line_05', 'item_002'), (11, 0, 0)),\n",
       " (('line_02', 'item_007'), (16, 0, 0)),\n",
       " (('line_02', 'item_007'), (16, 0, 0)),\n",
       " (('line_05', 'item_009'), (17, 0, 0)),\n",
       " (('line_05', 'item_009'), (17, 0, 0)),\n",
       " (('line_02', 'item_006'), (18, 0, 0)),\n",
       " (('line_02', 'item_006'), (18, 0, 0)),\n",
       " (('line_02', 'item_006'), (18, 0, 0)),\n",
       " (('line_02', 'item_006'), (18, 0, 0)),\n",
       " (('line_02', 'item_006'), (18, 0, 0)),\n",
       " (('line_02', 'item_006'), (18, 0, 0)),\n",
       " (('line_02', 'item_006'), (18, 0, 0)),\n",
       " (('line_05', 'item_013'), (22, 0, 0)),\n",
       " (('line_03', 'item_011'), (20, 0, 0)),\n",
       " (('line_03', 'item_011'), (20, 0, 0)),\n",
       " (('line_01', 'item_014'), (13, 0, 0)),\n",
       " (('line_02', 'item_014'), (33, 0, 0)),\n",
       " (('line_05', 'item_010'), (18, 0, 0)),\n",
       " (('line_05', 'item_010'), (18, 0, 0)),\n",
       " (('line_03', 'item_009'), (20, 0, 0)),\n",
       " (('line_03', 'item_009'), (20, 0, 0)),\n",
       " (('line_05', 'item_008'), (14, 0, 0)),\n",
       " (('line_01', 'item_003'), (8, 0, 0)),\n",
       " (('line_01', 'item_003'), (8, 0, 0)),\n",
       " (('line_01', 'item_003'), (8, 0, 0)),\n",
       " (('line_01', 'item_003'), (8, 0, 0)),\n",
       " (('line_01', 'item_003'), (8, 0, 0)),\n",
       " (('line_01', 'item_003'), (8, 0, 0)),\n",
       " (('line_04', 'item_013'), (20, 0, 0)),\n",
       " (('line_04', 'item_013'), (20, 0, 0)),\n",
       " (('line_03', 'item_004'), (23, 0, 0)),\n",
       " (('line_03', 'item_004'), (23, 0, 0)),\n",
       " (('line_03', 'item_004'), (23, 0, 0)),\n",
       " (('line_04', 'item_002'), (17, 0, 0)),\n",
       " (('line_01', 'item_005'), (26, 0, 0)),\n",
       " (('line_01', 'item_005'), (26, 0, 0)),\n",
       " (('line_01', 'item_005'), (26, 0, 0)),\n",
       " (('line_01', 'item_005'), (26, 0, 0)),\n",
       " (('line_01', 'item_005'), (26, 0, 0)),\n",
       " (('line_01', 'item_005'), (26, 0, 0)),\n",
       " (('line_02', 'item_011'), (12, 0, 0)),\n",
       " (('line_04', 'item_003'), (28, 0, 0)),\n",
       " (('line_04', 'item_003'), (28, 0, 0)),\n",
       " (('line_04', 'item_010'), (15, 0, 0)),\n",
       " (('line_02', 'item_013'), (24, 0, 0)),\n",
       " (('line_02', 'item_013'), (24, 0, 0)),\n",
       " (('line_02', 'item_013'), (24, 0, 0)),\n",
       " (('line_02', 'item_013'), (24, 0, 0)),\n",
       " (('line_02', 'item_013'), (24, 0, 0)),\n",
       " (('line_05', 'item_007'), (14, 0, 0)),\n",
       " (('line_05', 'item_004'), (21, 0, 0)),\n",
       " (('line_04', 'item_014'), (26, 0, 0)),\n",
       " (('line_02', 'item_012'), (22, 0, 0)),\n",
       " (('line_02', 'item_012'), (22, 0, 0)),\n",
       " (('line_02', 'item_012'), (22, 0, 0)),\n",
       " (('line_02', 'item_012'), (22, 0, 0)),\n",
       " (('line_02', 'item_015'), (23, 0, 0)),\n",
       " (('line_02', 'item_015'), (23, 0, 0)),\n",
       " (('line_02', 'item_015'), (23, 0, 0)),\n",
       " (('line_02', 'item_015'), (23, 0, 0)),\n",
       " (('line_02', 'item_015'), (23, 0, 0)),\n",
       " (('line_02', 'item_015'), (23, 0, 0)),\n",
       " (('line_02', 'item_015'), (23, 0, 0)),\n",
       " (('line_02', 'item_015'), (23, 0, 0)),\n",
       " (('line_04', 'item_001'), (19, 0, 0)),\n",
       " (('line_04', 'item_001'), (19, 0, 0)),\n",
       " (('line_04', 'item_001'), (19, 0, 0)),\n",
       " (('line_04', 'item_001'), (19, 0, 0)),\n",
       " (('line_04', 'item_001'), (19, 0, 0)),\n",
       " (('line_04', 'item_001'), (19, 0, 0)),\n",
       " (('line_04', 'item_006'), (33, 0, 0)),\n",
       " (('line_03', 'item_002'), (19, 0, 0)),\n",
       " (('line_03', 'item_002'), (19, 0, 0)),\n",
       " (('line_02', 'item_008'), (24, 0, 0)),\n",
       " (('line_02', 'item_008'), (24, 0, 0)),\n",
       " (('line_01', 'item_006'), (20, 0, 0)),\n",
       " (('line_01', 'item_006'), (20, 0, 0)),\n",
       " (('line_01', 'item_006'), (20, 0, 0)),\n",
       " (('line_01', 'item_006'), (20, 0, 0)),\n",
       " ...]"
      ]
     },
     "execution_count": 127,
     "metadata": {},
     "output_type": "execute_result"
    }
   ],
   "source": [
    "def lineMaker(row):\n",
    "    return (row.get(\"key\"),(0,0,1) if row.get(\"value\").get(\"deltaTime\")>timedelta(0) \n",
    "                                            else (0,1,0) if row.get(\"value\").get(\"deltaTime\") == 0\n",
    "                                            else (1,0,0))\n",
    "    \n",
    "rowDistribution = step2.map(lambda x: lineMaker(x)).reduceByKey(lambda x,y: (x[0]+y[0],x[1]+y[1],x[2]+y[2])).persist()\n",
    "[(k[0][0],k[1]) for k in rowDistribution.collect() if k[1][2] == 0]"
   ]
  },
  {
   "cell_type": "code",
   "execution_count": 144,
   "metadata": {},
   "outputs": [
    {
     "data": {
      "text/plain": [
       "(1117, 26117)"
      ]
     },
     "execution_count": 144,
     "metadata": {},
     "output_type": "execute_result"
    }
   ],
   "source": [
    "len([(k[0][0],k[1]) for k in rowDistribution.collect() if k[1][2] == 0]),len([(k[0][0],k[1]) for k in rowDistribution.collect() if k[1][2] == 0]) + step3.count()"
   ]
  },
  {
   "cell_type": "markdown",
   "metadata": {},
   "source": [
    "## Step3.ter maybe this is the good one"
   ]
  },
  {
   "cell_type": "code",
   "execution_count": 151,
   "metadata": {},
   "outputs": [
    {
     "data": {
      "text/plain": [
       "25000"
      ]
     },
     "execution_count": 151,
     "metadata": {},
     "output_type": "execute_result"
    }
   ],
   "source": [
    "def reduceFun(val1,val2):\n",
    "    val1Delta = val1.get(\"deltaTime\")\n",
    "    val2Delta = val2.get(\"deltaTime\")\n",
    "    if val1Delta >= timedelta(0) and val2Delta >=timedelta(0):\n",
    "        return val1 if  val1Delta < val2Delta else val2\n",
    "    elif val1Delta < timedelta(0) and val2Delta <timedelta(0): \n",
    "        return val1 if  val1Delta > val2Delta else val2\n",
    "    else: \n",
    "        return val1 if val1Delta>=timedelta(0) else val2\n",
    "        \n",
    "def lineParser(row):\n",
    "    return {\"lineId\":row[0][0][0],\"itemId\":row[0][0][1],\"creationDate\":row[0][1], \"deltaTime\":row[1].get(\"deltaTime\"),\n",
    "                 \"qty\":row[1].get(\"logLine\").get(\"qty\"),\"cost\":row[1].get(\"masterLine\").get(\"cost\")}\n",
    "\n",
    "\n",
    "step3_2 = step2.map(lambda x: (x.get(\"key\"),x.get(\"value\")))\\\n",
    "            .reduceByKey(lambda x,y: reduceFun(x,y)).map(lambda x: lineParser(x))\n",
    "step3_2.count()"
   ]
  },
  {
   "cell_type": "code",
   "execution_count": 153,
   "metadata": {},
   "outputs": [
    {
     "data": {
      "text/plain": [
       "(23889, 1111)"
      ]
     },
     "execution_count": 153,
     "metadata": {},
     "output_type": "execute_result"
    }
   ],
   "source": [
    "step3_0 = step3.map(lambda x: lineParser(x))\n",
    "step3_0.filter(lambda x: x.get(\"deltaTime\")<timedelta(0)).count(),step3_0.filter(lambda x: x.get(\"deltaTime\")>=timedelta(0)).count()"
   ]
  },
  {
   "cell_type": "code",
   "execution_count": 154,
   "metadata": {},
   "outputs": [
    {
     "data": {
      "text/plain": [
       "(0, 23883)"
      ]
     },
     "execution_count": 154,
     "metadata": {},
     "output_type": "execute_result"
    }
   ],
   "source": [
    "step3_1_0 = step3_1.map(lambda x: lineParser(x))\n",
    "step3_1_0.filter(lambda x: x.get(\"deltaTime\")<timedelta(0)).count(),step3_1_0.filter(lambda x: x.get(\"deltaTime\")>=timedelta(0)).count()"
   ]
  },
  {
   "cell_type": "code",
   "execution_count": 155,
   "metadata": {},
   "outputs": [
    {
     "data": {
      "text/plain": [
       "(1117, 23883)"
      ]
     },
     "execution_count": 155,
     "metadata": {},
     "output_type": "execute_result"
    }
   ],
   "source": [
    "step3_2.filter(lambda x: x.get(\"deltaTime\")<timedelta(0)).count(),step3_2.filter(lambda x: x.get(\"deltaTime\")>=timedelta(0)).count()"
   ]
  }
 ],
 "metadata": {
  "kernelspec": {
   "display_name": "Python 3",
   "language": "python",
   "name": "python3"
  },
  "language_info": {
   "codemirror_mode": {
    "name": "ipython",
    "version": 3
   },
   "file_extension": ".py",
   "mimetype": "text/x-python",
   "name": "python",
   "nbconvert_exporter": "python",
   "pygments_lexer": "ipython3",
   "version": "3.8.6"
  }
 },
 "nbformat": 4,
 "nbformat_minor": 4
}
