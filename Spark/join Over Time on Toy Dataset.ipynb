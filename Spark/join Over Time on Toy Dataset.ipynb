{
 "cells": [
  {
   "cell_type": "code",
   "execution_count": 1,
   "metadata": {},
   "outputs": [],
   "source": [
    "#remember to clone https://github.com/brcondor/Architectures_for_Big_Data into '/home/jovyan/work/'\n",
    "import sys\n",
    "sys.path.append(\"/home/jovyan/work/Architectures_for_Big_Data/\")\n",
    "import pyspark\n",
    "sc = pyspark.SparkContext(\"local[3]\")"
   ]
  },
  {
   "cell_type": "code",
   "execution_count": 2,
   "metadata": {},
   "outputs": [
    {
     "data": {
      "text/plain": [
       "{'lineId': 'line_03',\n",
       " 'itemId': 'item_007',\n",
       " 'creationDate': datetime.datetime(2010, 1, 1, 0, 23, 19),\n",
       " 'qty': 819}"
      ]
     },
     "execution_count": 2,
     "metadata": {},
     "output_type": "execute_result"
    }
   ],
   "source": [
    "from dataGenerator.rowGenerator import *\n",
    "from dataGenerator.datasetGenerator import *\n",
    "\n",
    "dataset = datasetGenerator()\n",
    "dataset.addGenerator(idGenerator(),prefix=\"line\",min=1,max=5,keyName=\"lineId\")\n",
    "dataset.addGenerator(idGenerator(),prefix=\"item\",min=1,max=15,keyName=\"itemId\")\n",
    "dataset.addGenerator(tickGenerator(),minTick=600,maxTick=1800,keyName=\"creationDate\")\n",
    "dataset.addGenerator(intGenerator(),keyName=\"qty\")\n",
    "\n",
    "logRdd = sc.parallelize( dataset.generateDataset(25000)).persist()\n",
    "logRdd.first()"
   ]
  },
  {
   "cell_type": "code",
   "execution_count": 53,
   "metadata": {},
   "outputs": [
    {
     "data": {
      "text/plain": [
       "['2010-01-01 00:23:19',\n",
       " '2010-01-01 00:28:52',\n",
       " '2010-01-01 00:53:32',\n",
       " '2010-01-01 01:16:54',\n",
       " '2010-01-01 01:38:26']"
      ]
     },
     "execution_count": 53,
     "metadata": {},
     "output_type": "execute_result"
    }
   ],
   "source": [
    "logRdd.map(lambda x: x.get(\"creationDate\")).sortBy(lambda x: x).map(lambda x: str(x)).take(5)"
   ]
  },
  {
   "cell_type": "code",
   "execution_count": 4,
   "metadata": {},
   "outputs": [
    {
     "data": {
      "text/plain": [
       "[('line_01', 'item_001'),\n",
       " ('line_01', 'item_002'),\n",
       " ('line_01', 'item_003'),\n",
       " ('line_01', 'item_004'),\n",
       " ('line_01', 'item_005'),\n",
       " ('line_01', 'item_006'),\n",
       " ('line_01', 'item_007'),\n",
       " ('line_01', 'item_008'),\n",
       " ('line_01', 'item_009'),\n",
       " ('line_01', 'item_010'),\n",
       " ('line_01', 'item_011'),\n",
       " ('line_01', 'item_012'),\n",
       " ('line_01', 'item_013'),\n",
       " ('line_01', 'item_014'),\n",
       " ('line_01', 'item_015'),\n",
       " ('line_02', 'item_001'),\n",
       " ('line_02', 'item_002'),\n",
       " ('line_02', 'item_003'),\n",
       " ('line_02', 'item_004'),\n",
       " ('line_02', 'item_005'),\n",
       " ('line_02', 'item_006'),\n",
       " ('line_02', 'item_007'),\n",
       " ('line_02', 'item_008'),\n",
       " ('line_02', 'item_009'),\n",
       " ('line_02', 'item_010'),\n",
       " ('line_02', 'item_011'),\n",
       " ('line_02', 'item_012'),\n",
       " ('line_02', 'item_013'),\n",
       " ('line_02', 'item_014'),\n",
       " ('line_02', 'item_015'),\n",
       " ('line_03', 'item_001'),\n",
       " ('line_03', 'item_002'),\n",
       " ('line_03', 'item_003'),\n",
       " ('line_03', 'item_004'),\n",
       " ('line_03', 'item_005'),\n",
       " ('line_03', 'item_006'),\n",
       " ('line_03', 'item_007'),\n",
       " ('line_03', 'item_008'),\n",
       " ('line_03', 'item_009'),\n",
       " ('line_03', 'item_010'),\n",
       " ('line_03', 'item_011'),\n",
       " ('line_03', 'item_012'),\n",
       " ('line_03', 'item_013'),\n",
       " ('line_03', 'item_014'),\n",
       " ('line_03', 'item_015'),\n",
       " ('line_04', 'item_001'),\n",
       " ('line_04', 'item_002'),\n",
       " ('line_04', 'item_003'),\n",
       " ('line_04', 'item_004'),\n",
       " ('line_04', 'item_005'),\n",
       " ('line_04', 'item_006'),\n",
       " ('line_04', 'item_007'),\n",
       " ('line_04', 'item_008'),\n",
       " ('line_04', 'item_009'),\n",
       " ('line_04', 'item_010'),\n",
       " ('line_04', 'item_011'),\n",
       " ('line_04', 'item_012'),\n",
       " ('line_04', 'item_013'),\n",
       " ('line_04', 'item_014'),\n",
       " ('line_04', 'item_015'),\n",
       " ('line_05', 'item_001'),\n",
       " ('line_05', 'item_002'),\n",
       " ('line_05', 'item_003'),\n",
       " ('line_05', 'item_004'),\n",
       " ('line_05', 'item_005'),\n",
       " ('line_05', 'item_006'),\n",
       " ('line_05', 'item_007'),\n",
       " ('line_05', 'item_008'),\n",
       " ('line_05', 'item_009'),\n",
       " ('line_05', 'item_010'),\n",
       " ('line_05', 'item_011'),\n",
       " ('line_05', 'item_012'),\n",
       " ('line_05', 'item_013'),\n",
       " ('line_05', 'item_014'),\n",
       " ('line_05', 'item_015')]"
      ]
     },
     "execution_count": 4,
     "metadata": {},
     "output_type": "execute_result"
    }
   ],
   "source": [
    "logRdd.map(lambda x: (x.get(\"lineId\"),x.get(\"itemId\"))).distinct().sortBy(lambda x: (x[0],x[1])).collect()"
   ]
  },
  {
   "cell_type": "code",
   "execution_count": 5,
   "metadata": {},
   "outputs": [
    {
     "data": {
      "text/plain": [
       "[('line_01', 15),\n",
       " ('line_02', 15),\n",
       " ('line_03', 15),\n",
       " ('line_04', 15),\n",
       " ('line_05', 15)]"
      ]
     },
     "execution_count": 5,
     "metadata": {},
     "output_type": "execute_result"
    }
   ],
   "source": [
    "logRdd.map(lambda x: (x.get(\"lineId\"),x.get(\"itemId\"))).distinct().map(lambda x: (x[0],1))\\\n",
    "        .reduceByKey(lambda x,y: x+y).sortBy(lambda x: x[0]).collect()"
   ]
  },
  {
   "cell_type": "code",
   "execution_count": 54,
   "metadata": {},
   "outputs": [
    {
     "data": {
      "text/plain": [
       "'2010-09-18 05:14:32'"
      ]
     },
     "execution_count": 54,
     "metadata": {},
     "output_type": "execute_result"
    }
   ],
   "source": [
    "maxDate = logRdd.map(lambda x: x.get(\"creationDate\")).max()\n",
    "str(maxDate)\n"
   ]
  },
  {
   "cell_type": "code",
   "execution_count": 7,
   "metadata": {},
   "outputs": [
    {
     "data": {
      "text/plain": [
       "{'lineId': 'line_05',\n",
       " 'itemId': 'item_011',\n",
       " 'registryInsertTimestamp': datetime.datetime(2010, 1, 3, 20, 1, 2),\n",
       " 'cost': 140}"
      ]
     },
     "execution_count": 7,
     "metadata": {},
     "output_type": "execute_result"
    }
   ],
   "source": [
    "from dataGenerator.rowGenerator import *\n",
    "from dataGenerator.datasetGenerator import *\n",
    "\n",
    "dataset = datasetGenerator()\n",
    "dataset.addGenerator(idGenerator(),prefix=\"line\",min=1,max=5,keyName=\"lineId\")\n",
    "dataset.addGenerator(idGenerator(),prefix=\"item\",min=1,max=15,keyName=\"itemId\")\n",
    "dataset.addGenerator(dateGenerator(),endDate=maxDate,keyName=\"registryInsertTimestamp\")\n",
    "dataset.addGenerator(intGenerator(),\"cost\")\n",
    "\n",
    "masterDataRdd = sc.parallelize( dataset.generateDataset(1500)).persist()\n",
    "masterDataRdd.first()"
   ]
  },
  {
   "cell_type": "code",
   "execution_count": 8,
   "metadata": {},
   "outputs": [
    {
     "data": {
      "text/plain": [
       "datetime.datetime(2010, 9, 17, 22, 58, 41)"
      ]
     },
     "execution_count": 8,
     "metadata": {},
     "output_type": "execute_result"
    }
   ],
   "source": [
    "masterDataRdd.map(lambda x: x.get(\"registryInsertTimestamp\")).max()"
   ]
  },
  {
   "cell_type": "markdown",
   "metadata": {},
   "source": [
    "# Bean Counter"
   ]
  },
  {
   "cell_type": "code",
   "execution_count": 9,
   "metadata": {},
   "outputs": [
    {
     "data": {
      "text/plain": [
       "{'lineId': 'line_03',\n",
       " 'itemId': 'item_007',\n",
       " 'creationDate': datetime.datetime(2010, 1, 1, 0, 23, 19),\n",
       " 'qty': 819}"
      ]
     },
     "execution_count": 9,
     "metadata": {},
     "output_type": "execute_result"
    }
   ],
   "source": [
    "logRdd.first()"
   ]
  },
  {
   "cell_type": "markdown",
   "metadata": {},
   "source": [
    "## How many lines per item?"
   ]
  },
  {
   "cell_type": "code",
   "execution_count": 10,
   "metadata": {},
   "outputs": [
    {
     "data": {
      "text/plain": [
       "[('item_007', 1632),\n",
       " ('item_014', 1675),\n",
       " ('item_001', 1660),\n",
       " ('item_003', 1669),\n",
       " ('item_005', 1647)]"
      ]
     },
     "execution_count": 10,
     "metadata": {},
     "output_type": "execute_result"
    }
   ],
   "source": [
    "logRdd.map(lambda x: (x.get(\"itemId\"),1)).reduceByKey(lambda x,y: x+y).take(5)"
   ]
  },
  {
   "cell_type": "markdown",
   "metadata": {},
   "source": [
    "## How much qty per item?"
   ]
  },
  {
   "cell_type": "code",
   "execution_count": 57,
   "metadata": {},
   "outputs": [
    {
     "data": {
      "text/plain": [
       "[('item_015', 796409),\n",
       " ('item_014', 837173),\n",
       " ('item_013', 859935),\n",
       " ('item_012', 888172),\n",
       " ('item_011', 840470),\n",
       " ('item_010', 843809),\n",
       " ('item_009', 836727),\n",
       " ('item_008', 844387),\n",
       " ('item_007', 830204),\n",
       " ('item_006', 830555),\n",
       " ('item_005', 823817),\n",
       " ('item_004', 820094),\n",
       " ('item_003', 817150),\n",
       " ('item_002', 843236),\n",
       " ('item_001', 839274)]"
      ]
     },
     "execution_count": 57,
     "metadata": {},
     "output_type": "execute_result"
    }
   ],
   "source": [
    "def f(x,y):\n",
    "    numberOfItems = x+y\n",
    "    return numberOfItems\n",
    "logRdd.map(lambda x: (x.get(\"itemId\"),x.get(\"qty\"))).reduceByKey(lambda x,y: f(x,y)).top(100,lambda x: x[0])"
   ]
  },
  {
   "cell_type": "code",
   "execution_count": 12,
   "metadata": {},
   "outputs": [
    {
     "data": {
      "text/plain": [
       "[('item_001', 839274),\n",
       " ('item_002', 843236),\n",
       " ('item_003', 817150),\n",
       " ('item_004', 820094),\n",
       " ('item_005', 823817),\n",
       " ('item_006', 830555),\n",
       " ('item_007', 830204),\n",
       " ('item_008', 844387),\n",
       " ('item_009', 836727),\n",
       " ('item_010', 843809),\n",
       " ('item_011', 840470),\n",
       " ('item_012', 888172),\n",
       " ('item_013', 859935),\n",
       " ('item_014', 837173),\n",
       " ('item_015', 796409)]"
      ]
     },
     "execution_count": 12,
     "metadata": {},
     "output_type": "execute_result"
    }
   ],
   "source": [
    "def f(x,y):\n",
    "    numberOfItems = x+y\n",
    "    return numberOfItems\n",
    "logRdd.map(lambda x: (x.get(\"itemId\"),x.get(\"qty\"))).reduceByKey(lambda x,y: f(x,y))\\\n",
    "                    .top(100,key=lambda x: 1/int(x[0].split(\"_\")[1]))"
   ]
  },
  {
   "cell_type": "markdown",
   "metadata": {},
   "source": [
    "## How much qty in average per item?"
   ]
  },
  {
   "cell_type": "code",
   "execution_count": 13,
   "metadata": {},
   "outputs": [
    {
     "data": {
      "text/plain": [
       "[('item_007', 508.703431372549),\n",
       " ('item_014', 499.80477611940296),\n",
       " ('item_001', 505.5867469879518),\n",
       " ('item_003', 489.60455362492513),\n",
       " ('item_005', 500.19247115968426)]"
      ]
     },
     "execution_count": 13,
     "metadata": {},
     "output_type": "execute_result"
    }
   ],
   "source": [
    "def f(x,y):\n",
    "    cumulateQty = x[0]+y[0]\n",
    "    numberOfItems = x[1]+y[1]\n",
    "    return cumulateQty,numberOfItems\n",
    "    \n",
    "def prepare(x):\n",
    "    return x[0],x[1][0]/x[1][1]\n",
    "    \n",
    "logRdd.map(lambda x: (x.get(\"itemId\"),(x.get(\"qty\"),1.0))).reduceByKey(lambda x,y: f(x,y)).map(lambda x: prepare(x)).take(5)"
   ]
  },
  {
   "cell_type": "code",
   "execution_count": 14,
   "metadata": {},
   "outputs": [
    {
     "data": {
      "text/plain": [
       "(count: 15, mean: 502.0525760673677, stdev: 5.231990397914938, max: 509.8543806646526, min: 489.60455362492513)"
      ]
     },
     "execution_count": 14,
     "metadata": {},
     "output_type": "execute_result"
    }
   ],
   "source": [
    "def f(x,y):\n",
    "    cumulateQty = x[0]+y[0]\n",
    "    numberOfItems = x[1]+y[1]\n",
    "    return cumulateQty,numberOfItems\n",
    "    \n",
    "def prepare(x):\n",
    "    return x[1][0]/x[1][1]\n",
    "    \n",
    "logRdd.map(lambda x: (x.get(\"itemId\"),(x.get(\"qty\"),1.0))).reduceByKey(lambda x,y: f(x,y)).map(lambda x: prepare(x))\\\n",
    "                .stats()"
   ]
  },
  {
   "cell_type": "markdown",
   "metadata": {},
   "source": [
    "## Exercise (1): Similar statistics but on item,line couple"
   ]
  },
  {
   "cell_type": "code",
   "execution_count": 15,
   "metadata": {},
   "outputs": [],
   "source": [
    "#..."
   ]
  },
  {
   "cell_type": "markdown",
   "metadata": {},
   "source": [
    "## lets Imagine to have 100 executors, and we want to distribute the average over lineId"
   ]
  },
  {
   "cell_type": "code",
   "execution_count": 16,
   "metadata": {},
   "outputs": [
    {
     "data": {
      "text/plain": [
       "(count: 5, mean: 502.0297058398911, stdev: 4.980228866847608, max: 507.68558951965065, min: 495.367461430575)"
      ]
     },
     "execution_count": 16,
     "metadata": {},
     "output_type": "execute_result"
    }
   ],
   "source": [
    "def f(x,y):\n",
    "    cumulateQty = x[0]+y[0]\n",
    "    numberOfItems = x[1]+y[1]\n",
    "    return cumulateQty,numberOfItems\n",
    "    \n",
    "def prepare(x):\n",
    "    return x[1][0]/x[1][1]\n",
    "    \n",
    "logRdd.map(lambda x: ((x.get(\"lineId\")),(x.get(\"qty\"),1.0))).reduceByKey(lambda x,y: f(x,y))\\\n",
    "                    .map(lambda x: prepare(x))\\\n",
    "                .stats()"
   ]
  },
  {
   "cell_type": "code",
   "execution_count": 17,
   "metadata": {},
   "outputs": [
    {
     "data": {
      "text/plain": [
       "(count: 5, mean: 502.0297058398911, stdev: 4.980228866847622, max: 507.68558951965065, min: 495.367461430575)"
      ]
     },
     "execution_count": 17,
     "metadata": {},
     "output_type": "execute_result"
    }
   ],
   "source": [
    "def f(x,y):\n",
    "    cumulateQty = x[0]+y[0]\n",
    "    numberOfItems = x[1]+y[1]\n",
    "    return cumulateQty,numberOfItems\n",
    "    \n",
    "def prepare(x):\n",
    "    return x[1][0]/x[1][1]\n",
    "    \n",
    "logRdd.map(lambda x: ((randint(1,100),x.get(\"lineId\")),(x.get(\"qty\"),1.0))).reduceByKey(lambda x,y: f(x,y))\\\n",
    "                    .map(lambda x: (x[0][1],x[1])).reduceByKey(lambda x,y: f(x,y))\\\n",
    "                    .map(lambda x: prepare(x))\\\n",
    "                .stats()"
   ]
  },
  {
   "cell_type": "markdown",
   "metadata": {},
   "source": [
    "## Cycle Time"
   ]
  },
  {
   "cell_type": "code",
   "execution_count": 18,
   "metadata": {},
   "outputs": [
    {
     "data": {
      "text/plain": [
       "25000"
      ]
     },
     "execution_count": 18,
     "metadata": {},
     "output_type": "execute_result"
    }
   ],
   "source": [
    "semiLogRdd = logRdd.map(lambda x: ((x.get(\"lineId\"),x.get(\"itemId\")),x)).persist()\n",
    "semiLogRdd.count()"
   ]
  },
  {
   "cell_type": "code",
   "execution_count": 19,
   "metadata": {},
   "outputs": [
    {
     "data": {
      "text/plain": [
       "8355962"
      ]
     },
     "execution_count": 19,
     "metadata": {},
     "output_type": "execute_result"
    }
   ],
   "source": [
    "joinedRDD = semiLogRdd.join(semiLogRdd).persist()\n",
    "joinedRDD.count()\n",
    "#8.355.962"
   ]
  },
  {
   "cell_type": "code",
   "execution_count": 20,
   "metadata": {},
   "outputs": [
    {
     "data": {
      "text/plain": [
       "(('line_03', 'item_007'),\n",
       " ({'lineId': 'line_03',\n",
       "   'itemId': 'item_007',\n",
       "   'creationDate': datetime.datetime(2010, 1, 1, 0, 23, 19),\n",
       "   'qty': 819},\n",
       "  {'lineId': 'line_03',\n",
       "   'itemId': 'item_007',\n",
       "   'creationDate': datetime.datetime(2010, 1, 1, 0, 23, 19),\n",
       "   'qty': 819}))"
      ]
     },
     "execution_count": 20,
     "metadata": {},
     "output_type": "execute_result"
    }
   ],
   "source": [
    "joinedRDD.first()"
   ]
  },
  {
   "cell_type": "code",
   "execution_count": 21,
   "metadata": {},
   "outputs": [
    {
     "data": {
      "text/plain": [
       "4165481"
      ]
     },
     "execution_count": 21,
     "metadata": {},
     "output_type": "execute_result"
    }
   ],
   "source": [
    "triangleJoinedRdd = joinedRDD.filter(lambda x: x[1][0].get(\"creationDate\")<x[1][1].get(\"creationDate\")).persist()\n",
    "triangleJoinedRdd.count()"
   ]
  },
  {
   "cell_type": "code",
   "execution_count": 22,
   "metadata": {},
   "outputs": [
    {
     "data": {
      "text/plain": [
       "(('line_03', 'item_007'),\n",
       " ({'lineId': 'line_03',\n",
       "   'itemId': 'item_007',\n",
       "   'creationDate': datetime.datetime(2010, 1, 1, 0, 23, 19),\n",
       "   'qty': 819},\n",
       "  {'lineId': 'line_03',\n",
       "   'itemId': 'item_007',\n",
       "   'creationDate': datetime.datetime(2010, 1, 1, 9, 4, 30),\n",
       "   'qty': 713}))"
      ]
     },
     "execution_count": 22,
     "metadata": {},
     "output_type": "execute_result"
    }
   ],
   "source": [
    "triangleJoinedRdd.first()"
   ]
  },
  {
   "cell_type": "code",
   "execution_count": 23,
   "metadata": {},
   "outputs": [
    {
     "data": {
      "text/plain": [
       "((('line_03', 'item_007'), datetime.datetime(2010, 1, 1, 0, 23, 19)),\n",
       " (datetime.timedelta(seconds=31271),\n",
       "  (('line_03', 'item_007'),\n",
       "   ({'lineId': 'line_03',\n",
       "     'itemId': 'item_007',\n",
       "     'creationDate': datetime.datetime(2010, 1, 1, 0, 23, 19),\n",
       "     'qty': 819},\n",
       "    {'lineId': 'line_03',\n",
       "     'itemId': 'item_007',\n",
       "     'creationDate': datetime.datetime(2010, 1, 1, 9, 4, 30),\n",
       "     'qty': 713}))))"
      ]
     },
     "execution_count": 23,
     "metadata": {},
     "output_type": "execute_result"
    }
   ],
   "source": [
    "tempRdd = triangleJoinedRdd.map(lambda x: ((x[0],x[1][0].get(\"creationDate\")), \n",
    "                                 (x[1][1].get(\"creationDate\")-x[1][0].get(\"creationDate\"),x)))\n",
    "tempRdd.first()"
   ]
  },
  {
   "cell_type": "code",
   "execution_count": 24,
   "metadata": {},
   "outputs": [
    {
     "name": "stdout",
     "output_type": "stream",
     "text": [
      "(('line_03', 'item_007'), datetime.datetime(2010, 1, 1, 0, 23, 19))\n"
     ]
    },
    {
     "data": {
      "text/plain": [
       "313"
      ]
     },
     "execution_count": 24,
     "metadata": {},
     "output_type": "execute_result"
    }
   ],
   "source": [
    "sampleLine = tempRdd.first()[0]\n",
    "print(sampleLine)\n",
    "triangleJoinedRdd.map(lambda x: ((x[0],x[1][0].get(\"creationDate\")), \n",
    "                                 (x[1][1].get(\"creationDate\")-x[1][0].get(\"creationDate\"),x)))\\\n",
    "                .filter(lambda x: x[0]==sampleLine).count()"
   ]
  },
  {
   "cell_type": "code",
   "execution_count": 25,
   "metadata": {},
   "outputs": [
    {
     "data": {
      "text/plain": [
       "{'lineId': 'line_03',\n",
       " 'itemId': 'item_007',\n",
       " 'creationDate': datetime.datetime(2010, 1, 2, 21, 32, 12),\n",
       " 'qty': 316,\n",
       " 'cycleTime': datetime.timedelta(seconds=84899)}"
      ]
     },
     "execution_count": 25,
     "metadata": {},
     "output_type": "execute_result"
    }
   ],
   "source": [
    "def f(x,y):\n",
    "    if x[0]<y[0]:\n",
    "        return x\n",
    "    return y\n",
    "\n",
    "def prepare(x):\n",
    "    x[1][1][1][0][\"cycleTime\"] = x[1][0]\n",
    "    return x[1][1][1][0]\n",
    "    \n",
    "enrichedLogRdd = triangleJoinedRdd.map(lambda x: ((x[0],x[1][0].get(\"creationDate\")), \n",
    "                                                  (x[1][1].get(\"creationDate\")-x[1][0].get(\"creationDate\"),x)))\\\n",
    "                    .reduceByKey(lambda x,y: f(x,y)).map(lambda x: prepare(x)).persist()\n",
    "enrichedLogRdd.first()"
   ]
  },
  {
   "cell_type": "markdown",
   "metadata": {},
   "source": [
    "## Exercise (2): why if we count, we see fewer items?"
   ]
  },
  {
   "cell_type": "code",
   "execution_count": 26,
   "metadata": {},
   "outputs": [
    {
     "data": {
      "text/plain": [
       "24925"
      ]
     },
     "execution_count": 26,
     "metadata": {},
     "output_type": "execute_result"
    }
   ],
   "source": [
    "enrichedLogRdd.count()"
   ]
  },
  {
   "cell_type": "markdown",
   "metadata": {},
   "source": [
    "## Exercise (3): I want to see the histogram of cycle times"
   ]
  },
  {
   "cell_type": "code",
   "execution_count": null,
   "metadata": {},
   "outputs": [],
   "source": []
  },
  {
   "cell_type": "markdown",
   "metadata": {},
   "source": [
    "## Extract Snapshot from Master Data"
   ]
  },
  {
   "cell_type": "code",
   "execution_count": 27,
   "metadata": {},
   "outputs": [
    {
     "data": {
      "text/plain": [
       "(('line_05', 'item_011'), (140, datetime.datetime(2010, 1, 3, 20, 1, 2)))"
      ]
     },
     "execution_count": 27,
     "metadata": {},
     "output_type": "execute_result"
    }
   ],
   "source": [
    "tempRdd = masterDataRdd.map(lambda x: ((x.get(\"lineId\"),x.get(\"itemId\")), (x.get(\"cost\"),x.get(\"registryInsertTimestamp\")) )  )\n",
    "tempRdd.first()"
   ]
  },
  {
   "cell_type": "code",
   "execution_count": 28,
   "metadata": {},
   "outputs": [
    {
     "data": {
      "text/plain": [
       "75"
      ]
     },
     "execution_count": 28,
     "metadata": {},
     "output_type": "execute_result"
    }
   ],
   "source": [
    "masterDataRdd.map(lambda x: ((x.get(\"lineId\"),x.get(\"itemId\")))).distinct().count()"
   ]
  },
  {
   "cell_type": "code",
   "execution_count": 29,
   "metadata": {},
   "outputs": [
    {
     "name": "stdout",
     "output_type": "stream",
     "text": [
      "('line_05', 'item_011')\n"
     ]
    },
    {
     "data": {
      "text/plain": [
       "[(('line_05', 'item_011'), (140, '2010-01-03 20:01:02')),\n",
       " (('line_05', 'item_011'), (49, '2010-01-05 00:48:26')),\n",
       " (('line_05', 'item_011'), (917, '2010-01-25 03:33:07')),\n",
       " (('line_05', 'item_011'), (585, '2010-01-25 15:39:27')),\n",
       " (('line_05', 'item_011'), (659, '2010-02-08 17:34:10')),\n",
       " (('line_05', 'item_011'), (915, '2010-02-24 03:03:19')),\n",
       " (('line_05', 'item_011'), (662, '2010-03-02 17:03:58')),\n",
       " (('line_05', 'item_011'), (598, '2010-03-11 09:08:41')),\n",
       " (('line_05', 'item_011'), (967, '2010-03-20 09:19:51')),\n",
       " (('line_05', 'item_011'), (150, '2010-04-19 15:11:03')),\n",
       " (('line_05', 'item_011'), (718, '2010-05-17 21:29:19')),\n",
       " (('line_05', 'item_011'), (493, '2010-07-02 08:46:49')),\n",
       " (('line_05', 'item_011'), (91, '2010-07-06 21:45:30')),\n",
       " (('line_05', 'item_011'), (300, '2010-07-19 10:45:42')),\n",
       " (('line_05', 'item_011'), (485, '2010-07-22 13:47:25')),\n",
       " (('line_05', 'item_011'), (757, '2010-07-22 13:48:36')),\n",
       " (('line_05', 'item_011'), (987, '2010-07-24 04:48:30')),\n",
       " (('line_05', 'item_011'), (141, '2010-07-27 08:57:18')),\n",
       " (('line_05', 'item_011'), (110, '2010-07-28 12:58:55')),\n",
       " (('line_05', 'item_011'), (883, '2010-07-29 09:29:05')),\n",
       " (('line_05', 'item_011'), (308, '2010-07-29 21:13:36')),\n",
       " (('line_05', 'item_011'), (449, '2010-08-03 18:57:10')),\n",
       " (('line_05', 'item_011'), (244, '2010-09-07 07:07:03')),\n",
       " (('line_05', 'item_011'), (262, '2010-09-14 01:01:47'))]"
      ]
     },
     "execution_count": 29,
     "metadata": {},
     "output_type": "execute_result"
    }
   ],
   "source": [
    "sampleLine = tempRdd.first()[0]\n",
    "print(sampleLine)\n",
    "masterDataRdd.map(lambda x: ((x.get(\"lineId\"),x.get(\"itemId\")), (x.get(\"cost\"),str(x.get(\"registryInsertTimestamp\"))) )  )\\\n",
    "            .filter(lambda x: x[0]==sampleLine).sortBy(lambda x: x[1][1]).collect()"
   ]
  },
  {
   "cell_type": "code",
   "execution_count": 59,
   "metadata": {},
   "outputs": [
    {
     "data": {
      "text/plain": [
       "1500"
      ]
     },
     "execution_count": 59,
     "metadata": {},
     "output_type": "execute_result"
    }
   ],
   "source": [
    "masterDataRdd.count()"
   ]
  },
  {
   "cell_type": "code",
   "execution_count": 60,
   "metadata": {},
   "outputs": [
    {
     "data": {
      "text/plain": [
       "[(('line_05', 'item_010'), (899, '2010-09-13 04:52:02')),\n",
       " (('line_04', 'item_011'), (517, '2010-09-01 09:03:16')),\n",
       " (('line_04', 'item_015'), (446, '2010-09-17 16:30:51')),\n",
       " (('line_05', 'item_008'), (595, '2010-09-06 08:48:14')),\n",
       " (('line_01', 'item_005'), (959, '2010-09-08 10:38:32')),\n",
       " (('line_02', 'item_004'), (874, '2010-09-15 17:36:34')),\n",
       " (('line_02', 'item_011'), (426, '2010-09-06 16:49:19')),\n",
       " (('line_02', 'item_014'), (219, '2010-09-17 02:05:26')),\n",
       " (('line_03', 'item_004'), (756, '2010-09-16 13:09:10')),\n",
       " (('line_01', 'item_011'), (571, '2010-08-31 00:15:53')),\n",
       " (('line_03', 'item_014'), (517, '2010-08-25 08:36:26')),\n",
       " (('line_02', 'item_005'), (615, '2010-09-06 02:24:03')),\n",
       " (('line_05', 'item_005'), (348, '2010-09-16 17:27:34')),\n",
       " (('line_05', 'item_001'), (890, '2010-09-08 09:05:51')),\n",
       " (('line_03', 'item_005'), (254, '2010-08-26 12:09:20')),\n",
       " (('line_04', 'item_002'), (191, '2010-09-13 17:36:05')),\n",
       " (('line_01', 'item_003'), (187, '2010-09-11 17:18:10')),\n",
       " (('line_01', 'item_015'), (20, '2010-09-08 04:46:14')),\n",
       " (('line_01', 'item_012'), (490, '2010-09-14 15:54:24')),\n",
       " (('line_03', 'item_007'), (405, '2010-08-28 21:41:55')),\n",
       " (('line_04', 'item_013'), (153, '2010-08-28 23:34:35')),\n",
       " (('line_03', 'item_009'), (903, '2010-09-09 14:36:25')),\n",
       " (('line_04', 'item_003'), (137, '2010-09-02 20:38:02')),\n",
       " (('line_01', 'item_010'), (482, '2010-09-13 18:11:48')),\n",
       " (('line_04', 'item_007'), (48, '2010-09-16 13:26:16')),\n",
       " (('line_02', 'item_003'), (314, '2010-09-12 18:55:47')),\n",
       " (('line_04', 'item_005'), (232, '2010-09-08 19:03:07')),\n",
       " (('line_01', 'item_013'), (869, '2010-08-26 22:12:37')),\n",
       " (('line_01', 'item_007'), (817, '2010-09-01 19:46:37')),\n",
       " (('line_05', 'item_007'), (158, '2010-07-29 04:09:31')),\n",
       " (('line_03', 'item_015'), (140, '2010-09-16 23:44:46')),\n",
       " (('line_01', 'item_002'), (247, '2010-09-05 04:11:48')),\n",
       " (('line_02', 'item_009'), (85, '2010-09-06 15:03:42')),\n",
       " (('line_02', 'item_013'), (942, '2010-09-17 07:46:34')),\n",
       " (('line_03', 'item_003'), (996, '2010-09-16 04:20:48')),\n",
       " (('line_05', 'item_004'), (50, '2010-09-15 10:05:12')),\n",
       " (('line_03', 'item_013'), (870, '2010-09-12 11:55:07')),\n",
       " (('line_02', 'item_010'), (118, '2010-08-31 09:10:51')),\n",
       " (('line_05', 'item_015'), (37, '2010-09-17 09:04:15')),\n",
       " (('line_05', 'item_014'), (634, '2010-08-21 11:37:11')),\n",
       " (('line_04', 'item_010'), (494, '2010-09-17 04:27:47')),\n",
       " (('line_02', 'item_002'), (71, '2010-09-11 23:55:47')),\n",
       " (('line_01', 'item_001'), (277, '2010-09-08 07:05:26')),\n",
       " (('line_04', 'item_014'), (28, '2010-09-06 08:22:54')),\n",
       " (('line_03', 'item_010'), (959, '2010-09-04 19:52:48')),\n",
       " (('line_04', 'item_009'), (629, '2010-09-15 09:37:28')),\n",
       " (('line_05', 'item_011'), (262, '2010-09-14 01:01:47')),\n",
       " (('line_05', 'item_006'), (900, '2010-09-16 20:15:00')),\n",
       " (('line_04', 'item_008'), (290, '2010-09-05 21:48:54')),\n",
       " (('line_05', 'item_002'), (295, '2010-09-16 09:18:10')),\n",
       " (('line_02', 'item_015'), (727, '2010-09-17 22:58:41')),\n",
       " (('line_01', 'item_006'), (383, '2010-09-02 01:43:45')),\n",
       " (('line_02', 'item_007'), (92, '2010-09-01 03:31:54')),\n",
       " (('line_02', 'item_006'), (485, '2010-09-15 23:43:47')),\n",
       " (('line_04', 'item_006'), (900, '2010-09-07 15:21:23')),\n",
       " (('line_01', 'item_004'), (186, '2010-09-13 03:28:32')),\n",
       " (('line_03', 'item_012'), (297, '2010-09-16 11:51:53')),\n",
       " (('line_03', 'item_011'), (798, '2010-09-09 23:08:40')),\n",
       " (('line_02', 'item_008'), (494, '2010-09-17 18:56:05')),\n",
       " (('line_02', 'item_001'), (121, '2010-09-02 15:51:56')),\n",
       " (('line_01', 'item_014'), (105, '2010-09-05 01:26:08')),\n",
       " (('line_04', 'item_012'), (92, '2010-09-17 15:12:02')),\n",
       " (('line_03', 'item_002'), (1, '2010-08-15 21:53:16')),\n",
       " (('line_05', 'item_009'), (478, '2010-09-17 06:31:20')),\n",
       " (('line_01', 'item_009'), (863, '2010-08-23 06:00:22')),\n",
       " (('line_04', 'item_001'), (209, '2010-09-13 19:54:05')),\n",
       " (('line_03', 'item_008'), (434, '2010-09-15 09:09:04')),\n",
       " (('line_05', 'item_003'), (3, '2010-09-16 21:31:34')),\n",
       " (('line_04', 'item_004'), (393, '2010-09-14 03:33:32')),\n",
       " (('line_01', 'item_008'), (245, '2010-09-14 21:53:49')),\n",
       " (('line_03', 'item_006'), (93, '2010-09-09 14:15:43')),\n",
       " (('line_05', 'item_013'), (604, '2010-09-10 22:53:35')),\n",
       " (('line_05', 'item_012'), (696, '2010-08-05 17:58:24')),\n",
       " (('line_02', 'item_012'), (37, '2010-08-22 10:11:15')),\n",
       " (('line_03', 'item_001'), (47, '2010-08-24 22:01:02'))]"
      ]
     },
     "execution_count": 60,
     "metadata": {},
     "output_type": "execute_result"
    }
   ],
   "source": [
    "masterDataRdd.map(lambda x: ((x.get(\"lineId\"),x.get(\"itemId\")), (x.get(\"cost\"),str(x.get(\"registryInsertTimestamp\"))) )  )\\\n",
    "            .reduceByKey(lambda x,y: x if x[1]>y[1] else y).collect()"
   ]
  },
  {
   "cell_type": "markdown",
   "metadata": {},
   "source": [
    "# Join over time"
   ]
  },
  {
   "cell_type": "code",
   "execution_count": 30,
   "metadata": {},
   "outputs": [
    {
     "name": "stdout",
     "output_type": "stream",
     "text": [
      "('line_05', 'item_011')\n"
     ]
    },
    {
     "data": {
      "text/plain": [
       "[(('line_05', 'item_011'), '2010-01-01 22:20:34'),\n",
       " (('line_05', 'item_011'), '2010-01-03 07:30:05'),\n",
       " (('line_05', 'item_011'), '2010-01-03 12:00:25'),\n",
       " (('line_05', 'item_011'), '2010-01-05 05:14:15'),\n",
       " (('line_05', 'item_011'), '2010-01-05 18:17:39'),\n",
       " (('line_05', 'item_011'), '2010-01-06 05:37:04'),\n",
       " (('line_05', 'item_011'), '2010-01-06 12:05:23'),\n",
       " (('line_05', 'item_011'), '2010-01-06 12:16:16'),\n",
       " (('line_05', 'item_011'), '2010-01-07 02:15:03'),\n",
       " (('line_05', 'item_011'), '2010-01-08 12:19:32'),\n",
       " (('line_05', 'item_011'), '2010-01-09 00:43:43'),\n",
       " (('line_05', 'item_011'), '2010-01-09 22:35:48'),\n",
       " (('line_05', 'item_011'), '2010-01-10 07:21:15'),\n",
       " (('line_05', 'item_011'), '2010-01-12 11:25:08'),\n",
       " (('line_05', 'item_011'), '2010-01-12 20:40:51'),\n",
       " (('line_05', 'item_011'), '2010-01-12 22:03:13'),\n",
       " (('line_05', 'item_011'), '2010-01-15 16:51:39'),\n",
       " (('line_05', 'item_011'), '2010-01-16 07:24:05'),\n",
       " (('line_05', 'item_011'), '2010-01-18 00:17:28'),\n",
       " (('line_05', 'item_011'), '2010-01-18 05:33:34'),\n",
       " (('line_05', 'item_011'), '2010-01-19 08:26:59'),\n",
       " (('line_05', 'item_011'), '2010-01-20 01:35:23'),\n",
       " (('line_05', 'item_011'), '2010-01-20 15:11:44'),\n",
       " (('line_05', 'item_011'), '2010-01-20 17:08:34'),\n",
       " (('line_05', 'item_011'), '2010-01-20 19:01:50'),\n",
       " (('line_05', 'item_011'), '2010-01-20 19:33:04'),\n",
       " (('line_05', 'item_011'), '2010-01-21 11:59:55'),\n",
       " (('line_05', 'item_011'), '2010-01-22 03:43:51'),\n",
       " (('line_05', 'item_011'), '2010-01-22 22:04:03'),\n",
       " (('line_05', 'item_011'), '2010-01-23 11:45:06'),\n",
       " (('line_05', 'item_011'), '2010-01-23 21:09:37'),\n",
       " (('line_05', 'item_011'), '2010-01-24 13:20:30'),\n",
       " (('line_05', 'item_011'), '2010-01-24 23:30:51'),\n",
       " (('line_05', 'item_011'), '2010-01-26 03:54:09'),\n",
       " (('line_05', 'item_011'), '2010-01-28 01:02:28'),\n",
       " (('line_05', 'item_011'), '2010-01-28 08:50:34'),\n",
       " (('line_05', 'item_011'), '2010-01-29 01:30:06'),\n",
       " (('line_05', 'item_011'), '2010-01-29 09:23:44'),\n",
       " (('line_05', 'item_011'), '2010-01-30 22:09:31'),\n",
       " (('line_05', 'item_011'), '2010-01-31 17:44:30'),\n",
       " (('line_05', 'item_011'), '2010-02-01 01:28:26'),\n",
       " (('line_05', 'item_011'), '2010-02-01 23:56:42'),\n",
       " (('line_05', 'item_011'), '2010-02-02 16:17:20'),\n",
       " (('line_05', 'item_011'), '2010-02-02 18:10:46'),\n",
       " (('line_05', 'item_011'), '2010-02-02 18:19:06'),\n",
       " (('line_05', 'item_011'), '2010-02-03 14:14:42'),\n",
       " (('line_05', 'item_011'), '2010-02-07 08:32:26'),\n",
       " (('line_05', 'item_011'), '2010-02-07 09:04:49'),\n",
       " (('line_05', 'item_011'), '2010-02-09 14:20:42'),\n",
       " (('line_05', 'item_011'), '2010-02-09 16:58:45'),\n",
       " (('line_05', 'item_011'), '2010-02-09 19:24:39'),\n",
       " (('line_05', 'item_011'), '2010-02-09 20:16:58'),\n",
       " (('line_05', 'item_011'), '2010-02-10 00:38:23'),\n",
       " (('line_05', 'item_011'), '2010-02-10 01:16:07'),\n",
       " (('line_05', 'item_011'), '2010-02-11 21:11:17'),\n",
       " (('line_05', 'item_011'), '2010-02-12 14:40:40'),\n",
       " (('line_05', 'item_011'), '2010-02-13 06:25:51'),\n",
       " (('line_05', 'item_011'), '2010-02-13 10:06:33'),\n",
       " (('line_05', 'item_011'), '2010-02-14 13:12:49'),\n",
       " (('line_05', 'item_011'), '2010-02-15 01:21:45'),\n",
       " (('line_05', 'item_011'), '2010-02-16 12:45:54'),\n",
       " (('line_05', 'item_011'), '2010-02-17 07:35:09'),\n",
       " (('line_05', 'item_011'), '2010-02-19 11:38:05'),\n",
       " (('line_05', 'item_011'), '2010-02-19 22:07:56'),\n",
       " (('line_05', 'item_011'), '2010-02-20 14:03:05'),\n",
       " (('line_05', 'item_011'), '2010-02-22 15:43:29'),\n",
       " (('line_05', 'item_011'), '2010-02-22 18:47:00'),\n",
       " (('line_05', 'item_011'), '2010-02-22 22:47:52'),\n",
       " (('line_05', 'item_011'), '2010-02-23 04:44:08'),\n",
       " (('line_05', 'item_011'), '2010-02-25 02:10:02'),\n",
       " (('line_05', 'item_011'), '2010-02-25 14:26:54'),\n",
       " (('line_05', 'item_011'), '2010-02-27 08:54:32'),\n",
       " (('line_05', 'item_011'), '2010-02-28 12:40:26'),\n",
       " (('line_05', 'item_011'), '2010-03-01 00:28:03'),\n",
       " (('line_05', 'item_011'), '2010-03-01 21:42:26'),\n",
       " (('line_05', 'item_011'), '2010-03-03 21:15:55'),\n",
       " (('line_05', 'item_011'), '2010-03-04 18:55:24'),\n",
       " (('line_05', 'item_011'), '2010-03-05 07:54:05'),\n",
       " (('line_05', 'item_011'), '2010-03-06 04:53:37'),\n",
       " (('line_05', 'item_011'), '2010-03-06 22:16:13'),\n",
       " (('line_05', 'item_011'), '2010-03-07 09:06:48'),\n",
       " (('line_05', 'item_011'), '2010-03-07 16:57:17'),\n",
       " (('line_05', 'item_011'), '2010-03-08 08:57:29'),\n",
       " (('line_05', 'item_011'), '2010-03-08 21:22:54'),\n",
       " (('line_05', 'item_011'), '2010-03-08 23:14:43'),\n",
       " (('line_05', 'item_011'), '2010-03-09 10:40:49'),\n",
       " (('line_05', 'item_011'), '2010-03-10 11:30:49'),\n",
       " (('line_05', 'item_011'), '2010-03-10 16:00:41'),\n",
       " (('line_05', 'item_011'), '2010-03-11 17:36:12'),\n",
       " (('line_05', 'item_011'), '2010-03-12 01:48:55'),\n",
       " (('line_05', 'item_011'), '2010-03-12 12:46:55'),\n",
       " (('line_05', 'item_011'), '2010-03-12 19:31:17'),\n",
       " (('line_05', 'item_011'), '2010-03-12 21:05:00'),\n",
       " (('line_05', 'item_011'), '2010-03-13 11:45:02'),\n",
       " (('line_05', 'item_011'), '2010-03-14 10:09:48'),\n",
       " (('line_05', 'item_011'), '2010-03-15 20:38:28'),\n",
       " (('line_05', 'item_011'), '2010-03-16 07:58:37'),\n",
       " (('line_05', 'item_011'), '2010-03-16 23:56:51'),\n",
       " (('line_05', 'item_011'), '2010-03-17 10:39:52'),\n",
       " (('line_05', 'item_011'), '2010-03-18 08:53:40'),\n",
       " (('line_05', 'item_011'), '2010-03-18 11:27:26'),\n",
       " (('line_05', 'item_011'), '2010-03-19 04:25:39'),\n",
       " (('line_05', 'item_011'), '2010-03-19 13:26:07'),\n",
       " (('line_05', 'item_011'), '2010-03-19 18:44:54'),\n",
       " (('line_05', 'item_011'), '2010-03-19 19:54:58'),\n",
       " (('line_05', 'item_011'), '2010-03-22 06:46:19'),\n",
       " (('line_05', 'item_011'), '2010-03-22 16:05:09'),\n",
       " (('line_05', 'item_011'), '2010-03-23 01:04:27'),\n",
       " (('line_05', 'item_011'), '2010-03-23 14:29:58'),\n",
       " (('line_05', 'item_011'), '2010-03-23 15:02:22'),\n",
       " (('line_05', 'item_011'), '2010-03-23 18:53:05'),\n",
       " (('line_05', 'item_011'), '2010-03-23 20:56:59'),\n",
       " (('line_05', 'item_011'), '2010-03-24 14:08:12'),\n",
       " (('line_05', 'item_011'), '2010-03-25 08:46:40'),\n",
       " (('line_05', 'item_011'), '2010-03-27 12:48:38'),\n",
       " (('line_05', 'item_011'), '2010-03-28 05:13:11'),\n",
       " (('line_05', 'item_011'), '2010-03-28 12:54:05'),\n",
       " (('line_05', 'item_011'), '2010-03-28 22:37:52'),\n",
       " (('line_05', 'item_011'), '2010-03-29 02:10:50'),\n",
       " (('line_05', 'item_011'), '2010-03-29 10:20:31'),\n",
       " (('line_05', 'item_011'), '2010-03-29 18:21:19'),\n",
       " (('line_05', 'item_011'), '2010-03-30 03:23:39'),\n",
       " (('line_05', 'item_011'), '2010-03-30 12:19:26'),\n",
       " (('line_05', 'item_011'), '2010-03-31 20:03:49'),\n",
       " (('line_05', 'item_011'), '2010-04-01 00:33:31'),\n",
       " (('line_05', 'item_011'), '2010-04-01 01:52:02'),\n",
       " (('line_05', 'item_011'), '2010-04-01 07:04:19'),\n",
       " (('line_05', 'item_011'), '2010-04-03 08:33:48'),\n",
       " (('line_05', 'item_011'), '2010-04-03 19:29:38'),\n",
       " (('line_05', 'item_011'), '2010-04-04 19:09:29'),\n",
       " (('line_05', 'item_011'), '2010-04-05 06:02:49'),\n",
       " (('line_05', 'item_011'), '2010-04-09 11:49:31'),\n",
       " (('line_05', 'item_011'), '2010-04-09 15:44:24'),\n",
       " (('line_05', 'item_011'), '2010-04-10 04:40:11'),\n",
       " (('line_05', 'item_011'), '2010-04-10 17:07:50'),\n",
       " (('line_05', 'item_011'), '2010-04-11 11:29:21'),\n",
       " (('line_05', 'item_011'), '2010-04-14 03:10:54'),\n",
       " (('line_05', 'item_011'), '2010-04-14 11:08:12'),\n",
       " (('line_05', 'item_011'), '2010-04-15 00:23:35'),\n",
       " (('line_05', 'item_011'), '2010-04-15 08:23:40'),\n",
       " (('line_05', 'item_011'), '2010-04-15 11:41:14'),\n",
       " (('line_05', 'item_011'), '2010-04-16 23:44:26'),\n",
       " (('line_05', 'item_011'), '2010-04-19 06:35:06'),\n",
       " (('line_05', 'item_011'), '2010-04-20 18:40:30'),\n",
       " (('line_05', 'item_011'), '2010-04-20 23:26:39'),\n",
       " (('line_05', 'item_011'), '2010-04-21 10:20:35'),\n",
       " (('line_05', 'item_011'), '2010-04-21 13:11:54'),\n",
       " (('line_05', 'item_011'), '2010-04-21 13:58:12'),\n",
       " (('line_05', 'item_011'), '2010-04-21 15:05:14'),\n",
       " (('line_05', 'item_011'), '2010-04-23 23:16:58'),\n",
       " (('line_05', 'item_011'), '2010-04-24 13:31:41'),\n",
       " (('line_05', 'item_011'), '2010-04-25 19:29:24'),\n",
       " (('line_05', 'item_011'), '2010-04-26 11:36:21'),\n",
       " (('line_05', 'item_011'), '2010-04-26 16:08:01'),\n",
       " (('line_05', 'item_011'), '2010-04-27 01:50:58'),\n",
       " (('line_05', 'item_011'), '2010-04-27 02:57:03'),\n",
       " (('line_05', 'item_011'), '2010-04-27 12:39:56'),\n",
       " (('line_05', 'item_011'), '2010-04-27 15:47:35'),\n",
       " (('line_05', 'item_011'), '2010-04-27 18:22:32'),\n",
       " (('line_05', 'item_011'), '2010-04-30 18:01:07'),\n",
       " (('line_05', 'item_011'), '2010-05-01 12:55:52'),\n",
       " (('line_05', 'item_011'), '2010-05-02 14:58:46'),\n",
       " (('line_05', 'item_011'), '2010-05-03 04:47:54'),\n",
       " (('line_05', 'item_011'), '2010-05-03 07:28:16'),\n",
       " (('line_05', 'item_011'), '2010-05-03 23:33:49'),\n",
       " (('line_05', 'item_011'), '2010-05-05 14:44:41'),\n",
       " (('line_05', 'item_011'), '2010-05-08 05:05:21'),\n",
       " (('line_05', 'item_011'), '2010-05-08 05:16:08'),\n",
       " (('line_05', 'item_011'), '2010-05-08 09:32:46'),\n",
       " (('line_05', 'item_011'), '2010-05-09 09:35:13'),\n",
       " (('line_05', 'item_011'), '2010-05-09 16:02:19'),\n",
       " (('line_05', 'item_011'), '2010-05-11 06:43:46'),\n",
       " (('line_05', 'item_011'), '2010-05-12 14:04:03'),\n",
       " (('line_05', 'item_011'), '2010-05-13 00:39:15'),\n",
       " (('line_05', 'item_011'), '2010-05-13 07:53:59'),\n",
       " (('line_05', 'item_011'), '2010-05-14 23:26:06'),\n",
       " (('line_05', 'item_011'), '2010-05-15 07:46:14'),\n",
       " (('line_05', 'item_011'), '2010-05-15 22:58:40'),\n",
       " (('line_05', 'item_011'), '2010-05-16 15:10:04'),\n",
       " (('line_05', 'item_011'), '2010-05-17 22:24:12'),\n",
       " (('line_05', 'item_011'), '2010-05-18 16:18:28'),\n",
       " (('line_05', 'item_011'), '2010-05-19 11:22:10'),\n",
       " (('line_05', 'item_011'), '2010-05-19 13:43:36'),\n",
       " (('line_05', 'item_011'), '2010-05-20 12:48:56'),\n",
       " (('line_05', 'item_011'), '2010-05-21 18:17:56'),\n",
       " (('line_05', 'item_011'), '2010-05-22 06:39:27'),\n",
       " (('line_05', 'item_011'), '2010-05-22 22:56:30'),\n",
       " (('line_05', 'item_011'), '2010-05-23 06:22:13'),\n",
       " (('line_05', 'item_011'), '2010-05-25 02:23:48'),\n",
       " (('line_05', 'item_011'), '2010-05-26 13:20:53'),\n",
       " (('line_05', 'item_011'), '2010-05-28 00:39:03'),\n",
       " (('line_05', 'item_011'), '2010-05-28 02:33:47'),\n",
       " (('line_05', 'item_011'), '2010-05-28 23:50:31'),\n",
       " (('line_05', 'item_011'), '2010-05-29 03:31:36'),\n",
       " (('line_05', 'item_011'), '2010-05-29 09:21:34'),\n",
       " (('line_05', 'item_011'), '2010-05-29 10:18:15'),\n",
       " (('line_05', 'item_011'), '2010-05-30 16:51:35'),\n",
       " (('line_05', 'item_011'), '2010-05-31 04:51:04'),\n",
       " (('line_05', 'item_011'), '2010-05-31 17:42:24'),\n",
       " (('line_05', 'item_011'), '2010-06-01 04:55:17'),\n",
       " (('line_05', 'item_011'), '2010-06-01 05:51:09'),\n",
       " (('line_05', 'item_011'), '2010-06-01 09:55:32'),\n",
       " (('line_05', 'item_011'), '2010-06-01 13:17:16'),\n",
       " (('line_05', 'item_011'), '2010-06-01 17:04:02'),\n",
       " (('line_05', 'item_011'), '2010-06-02 20:08:42'),\n",
       " (('line_05', 'item_011'), '2010-06-03 00:41:44'),\n",
       " (('line_05', 'item_011'), '2010-06-03 03:32:00'),\n",
       " (('line_05', 'item_011'), '2010-06-03 19:58:56'),\n",
       " (('line_05', 'item_011'), '2010-06-04 19:22:25'),\n",
       " (('line_05', 'item_011'), '2010-06-05 16:39:50'),\n",
       " (('line_05', 'item_011'), '2010-06-06 02:47:48'),\n",
       " (('line_05', 'item_011'), '2010-06-06 09:17:12'),\n",
       " (('line_05', 'item_011'), '2010-06-07 15:19:30'),\n",
       " (('line_05', 'item_011'), '2010-06-07 21:23:45'),\n",
       " (('line_05', 'item_011'), '2010-06-08 01:26:13'),\n",
       " (('line_05', 'item_011'), '2010-06-08 05:06:08'),\n",
       " (('line_05', 'item_011'), '2010-06-10 15:06:02'),\n",
       " (('line_05', 'item_011'), '2010-06-11 11:17:21'),\n",
       " (('line_05', 'item_011'), '2010-06-11 13:06:12'),\n",
       " (('line_05', 'item_011'), '2010-06-11 14:00:37'),\n",
       " (('line_05', 'item_011'), '2010-06-13 07:26:56'),\n",
       " (('line_05', 'item_011'), '2010-06-15 03:36:16'),\n",
       " (('line_05', 'item_011'), '2010-06-15 09:36:12'),\n",
       " (('line_05', 'item_011'), '2010-06-15 11:08:32'),\n",
       " (('line_05', 'item_011'), '2010-06-16 03:35:25'),\n",
       " (('line_05', 'item_011'), '2010-06-17 03:51:11'),\n",
       " (('line_05', 'item_011'), '2010-06-17 07:24:09'),\n",
       " (('line_05', 'item_011'), '2010-06-19 14:00:55'),\n",
       " (('line_05', 'item_011'), '2010-06-19 22:14:20'),\n",
       " (('line_05', 'item_011'), '2010-06-20 10:59:02'),\n",
       " (('line_05', 'item_011'), '2010-06-22 11:19:57'),\n",
       " (('line_05', 'item_011'), '2010-06-23 04:35:09'),\n",
       " (('line_05', 'item_011'), '2010-06-23 09:19:56'),\n",
       " (('line_05', 'item_011'), '2010-06-23 15:41:36'),\n",
       " (('line_05', 'item_011'), '2010-06-24 05:08:18'),\n",
       " (('line_05', 'item_011'), '2010-06-24 12:28:52'),\n",
       " (('line_05', 'item_011'), '2010-06-26 00:18:44'),\n",
       " (('line_05', 'item_011'), '2010-06-27 15:43:32'),\n",
       " (('line_05', 'item_011'), '2010-06-28 11:57:51'),\n",
       " (('line_05', 'item_011'), '2010-06-28 15:09:04'),\n",
       " (('line_05', 'item_011'), '2010-06-29 06:24:18'),\n",
       " (('line_05', 'item_011'), '2010-06-30 22:56:10'),\n",
       " (('line_05', 'item_011'), '2010-06-30 23:40:38'),\n",
       " (('line_05', 'item_011'), '2010-07-03 06:38:03'),\n",
       " (('line_05', 'item_011'), '2010-07-04 08:22:12'),\n",
       " (('line_05', 'item_011'), '2010-07-08 02:06:16'),\n",
       " (('line_05', 'item_011'), '2010-07-08 16:02:01'),\n",
       " (('line_05', 'item_011'), '2010-07-09 07:45:07'),\n",
       " (('line_05', 'item_011'), '2010-07-10 04:28:18'),\n",
       " (('line_05', 'item_011'), '2010-07-10 05:12:18'),\n",
       " (('line_05', 'item_011'), '2010-07-10 12:35:47'),\n",
       " (('line_05', 'item_011'), '2010-07-10 21:41:40'),\n",
       " (('line_05', 'item_011'), '2010-07-11 00:19:27'),\n",
       " (('line_05', 'item_011'), '2010-07-11 03:34:41'),\n",
       " (('line_05', 'item_011'), '2010-07-11 16:11:30'),\n",
       " (('line_05', 'item_011'), '2010-07-11 16:38:18'),\n",
       " (('line_05', 'item_011'), '2010-07-12 18:18:02'),\n",
       " (('line_05', 'item_011'), '2010-07-13 08:11:09'),\n",
       " (('line_05', 'item_011'), '2010-07-13 15:12:20'),\n",
       " (('line_05', 'item_011'), '2010-07-14 00:20:48'),\n",
       " (('line_05', 'item_011'), '2010-07-16 15:29:28'),\n",
       " (('line_05', 'item_011'), '2010-07-18 16:56:08'),\n",
       " (('line_05', 'item_011'), '2010-07-19 01:08:56'),\n",
       " (('line_05', 'item_011'), '2010-07-19 16:39:01'),\n",
       " (('line_05', 'item_011'), '2010-07-19 21:13:02'),\n",
       " (('line_05', 'item_011'), '2010-07-20 21:12:23'),\n",
       " (('line_05', 'item_011'), '2010-07-20 22:02:50'),\n",
       " (('line_05', 'item_011'), '2010-07-21 13:34:43'),\n",
       " (('line_05', 'item_011'), '2010-07-23 21:53:05'),\n",
       " (('line_05', 'item_011'), '2010-07-25 10:09:42'),\n",
       " (('line_05', 'item_011'), '2010-07-26 03:08:57'),\n",
       " (('line_05', 'item_011'), '2010-07-27 05:46:59'),\n",
       " (('line_05', 'item_011'), '2010-07-29 01:27:15'),\n",
       " (('line_05', 'item_011'), '2010-07-29 08:49:10'),\n",
       " (('line_05', 'item_011'), '2010-07-30 11:29:57'),\n",
       " (('line_05', 'item_011'), '2010-08-02 16:27:38'),\n",
       " (('line_05', 'item_011'), '2010-08-02 23:42:57'),\n",
       " (('line_05', 'item_011'), '2010-08-04 11:22:57'),\n",
       " (('line_05', 'item_011'), '2010-08-06 16:19:56'),\n",
       " (('line_05', 'item_011'), '2010-08-14 13:43:51'),\n",
       " (('line_05', 'item_011'), '2010-08-16 17:18:54'),\n",
       " (('line_05', 'item_011'), '2010-08-17 02:37:10'),\n",
       " (('line_05', 'item_011'), '2010-08-17 07:39:01'),\n",
       " (('line_05', 'item_011'), '2010-08-18 00:40:21'),\n",
       " (('line_05', 'item_011'), '2010-08-18 03:35:38'),\n",
       " (('line_05', 'item_011'), '2010-08-19 08:30:42'),\n",
       " (('line_05', 'item_011'), '2010-08-19 12:49:44'),\n",
       " (('line_05', 'item_011'), '2010-08-21 18:28:05'),\n",
       " (('line_05', 'item_011'), '2010-08-24 09:51:44'),\n",
       " (('line_05', 'item_011'), '2010-08-25 05:54:21'),\n",
       " (('line_05', 'item_011'), '2010-08-25 18:50:25'),\n",
       " (('line_05', 'item_011'), '2010-08-27 01:22:52'),\n",
       " (('line_05', 'item_011'), '2010-08-27 15:10:06'),\n",
       " (('line_05', 'item_011'), '2010-08-27 16:58:04'),\n",
       " (('line_05', 'item_011'), '2010-08-27 17:49:01'),\n",
       " (('line_05', 'item_011'), '2010-08-28 08:57:42'),\n",
       " (('line_05', 'item_011'), '2010-08-29 16:06:50'),\n",
       " (('line_05', 'item_011'), '2010-08-29 23:56:56'),\n",
       " (('line_05', 'item_011'), '2010-08-30 02:35:44'),\n",
       " (('line_05', 'item_011'), '2010-08-30 08:43:05'),\n",
       " (('line_05', 'item_011'), '2010-08-30 23:27:07'),\n",
       " (('line_05', 'item_011'), '2010-08-31 03:17:23'),\n",
       " (('line_05', 'item_011'), '2010-09-02 02:00:53'),\n",
       " (('line_05', 'item_011'), '2010-09-02 07:43:48'),\n",
       " (('line_05', 'item_011'), '2010-09-03 22:17:46'),\n",
       " (('line_05', 'item_011'), '2010-09-04 18:43:39'),\n",
       " (('line_05', 'item_011'), '2010-09-05 03:16:20'),\n",
       " (('line_05', 'item_011'), '2010-09-05 18:30:03'),\n",
       " (('line_05', 'item_011'), '2010-09-05 22:48:54'),\n",
       " (('line_05', 'item_011'), '2010-09-06 02:00:16'),\n",
       " (('line_05', 'item_011'), '2010-09-06 22:28:05'),\n",
       " (('line_05', 'item_011'), '2010-09-08 18:16:41'),\n",
       " (('line_05', 'item_011'), '2010-09-08 19:29:06'),\n",
       " (('line_05', 'item_011'), '2010-09-12 23:52:38'),\n",
       " (('line_05', 'item_011'), '2010-09-14 19:03:27'),\n",
       " (('line_05', 'item_011'), '2010-09-14 21:58:22'),\n",
       " (('line_05', 'item_011'), '2010-09-15 04:30:24'),\n",
       " (('line_05', 'item_011'), '2010-09-15 11:03:46'),\n",
       " (('line_05', 'item_011'), '2010-09-15 14:03:17'),\n",
       " (('line_05', 'item_011'), '2010-09-15 22:12:26'),\n",
       " (('line_05', 'item_011'), '2010-09-16 16:29:00'),\n",
       " (('line_05', 'item_011'), '2010-09-18 00:13:31')]"
      ]
     },
     "execution_count": 30,
     "metadata": {},
     "output_type": "execute_result"
    }
   ],
   "source": [
    "print(sampleLine)\n",
    "logRdd.map(lambda x: ((x.get(\"lineId\"),x.get(\"itemId\")), str(x.get(\"creationDate\"))) )\\\n",
    "            .filter(lambda x: x[0]==(sampleLine)).sortBy(lambda x: x[1][1]).collect()"
   ]
  },
  {
   "cell_type": "markdown",
   "metadata": {},
   "source": [
    "## Step1: start with all possible combinations of log/master regardless the timestamp"
   ]
  },
  {
   "cell_type": "code",
   "execution_count": 31,
   "metadata": {},
   "outputs": [
    {
     "data": {
      "text/plain": [
       "(('line_03', 'item_007'),\n",
       " ({'lineId': 'line_03',\n",
       "   'itemId': 'item_007',\n",
       "   'creationDate': datetime.datetime(2010, 1, 1, 0, 23, 19),\n",
       "   'qty': 819},\n",
       "  {'lineId': 'line_03',\n",
       "   'itemId': 'item_007',\n",
       "   'registryInsertTimestamp': datetime.datetime(2010, 5, 13, 5, 31, 53),\n",
       "   'cost': 162}))"
      ]
     },
     "execution_count": 31,
     "metadata": {},
     "output_type": "execute_result"
    }
   ],
   "source": [
    "step1 = logRdd.map(lambda x: ((x.get(\"lineId\"),x.get(\"itemId\")),x))\\\n",
    "                .join(masterDataRdd.map(lambda x: ((x.get(\"lineId\"),x.get(\"itemId\")),x)))\n",
    "step1.first()"
   ]
  },
  {
   "cell_type": "markdown",
   "metadata": {},
   "source": [
    "## Step2: reshape the rdd to create the unique ID needed - (lineId,ItemId,creationDate)"
   ]
  },
  {
   "cell_type": "code",
   "execution_count": 32,
   "metadata": {},
   "outputs": [
    {
     "data": {
      "text/plain": [
       "{'key': (('line_03', 'item_007'), datetime.datetime(2010, 1, 1, 0, 23, 19)),\n",
       " 'value': {'deltaTime': datetime.timedelta(days=-133, seconds=67886),\n",
       "  'logLine': {'lineId': 'line_03',\n",
       "   'itemId': 'item_007',\n",
       "   'creationDate': datetime.datetime(2010, 1, 1, 0, 23, 19),\n",
       "   'qty': 819},\n",
       "  'masterLine': {'lineId': 'line_03',\n",
       "   'itemId': 'item_007',\n",
       "   'registryInsertTimestamp': datetime.datetime(2010, 5, 13, 5, 31, 53),\n",
       "   'cost': 162}}}"
      ]
     },
     "execution_count": 32,
     "metadata": {},
     "output_type": "execute_result"
    }
   ],
   "source": [
    "#log data is leading\n",
    "def linePrepare(row):\n",
    "    key = (row[0],row[1][0].get(\"creationDate\"))\n",
    "    value = {\"deltaTime\":row[1][0].get(\"creationDate\")-row[1][1].get(\"registryInsertTimestamp\"),\n",
    "            \"logLine\":row[1][0],\"masterLine\":row[1][1]}\n",
    "    return {\"key\":key,\"value\":value}\n",
    "\n",
    "step2 = step1.map(lambda x: linePrepare(x)).persist()\n",
    "step2.first()"
   ]
  },
  {
   "cell_type": "markdown",
   "metadata": {},
   "source": [
    "## Step3: Reducing to Select only the correct value"
   ]
  },
  {
   "cell_type": "code",
   "execution_count": 33,
   "metadata": {},
   "outputs": [
    {
     "data": {
      "text/plain": [
       "25000"
      ]
     },
     "execution_count": 33,
     "metadata": {},
     "output_type": "execute_result"
    }
   ],
   "source": [
    "def reduceFun(val1,val2):\n",
    "    return val1 if val1.get(\"deltaTime\") < val2.get(\"deltaTime\") else val2\n",
    "\n",
    "step3 = step2.map(lambda x: (x.get(\"key\"),x.get(\"value\"))).reduceByKey(lambda x,y: reduceFun(x,y))\n",
    "step3.count()"
   ]
  },
  {
   "cell_type": "code",
   "execution_count": 34,
   "metadata": {},
   "outputs": [
    {
     "data": {
      "text/plain": [
       "((('line_03', 'item_007'), datetime.datetime(2010, 1, 2, 21, 32, 12)),\n",
       " {'deltaTime': datetime.timedelta(days=-239, seconds=85817),\n",
       "  'logLine': {'lineId': 'line_03',\n",
       "   'itemId': 'item_007',\n",
       "   'creationDate': datetime.datetime(2010, 1, 2, 21, 32, 12),\n",
       "   'qty': 316},\n",
       "  'masterLine': {'lineId': 'line_03',\n",
       "   'itemId': 'item_007',\n",
       "   'registryInsertTimestamp': datetime.datetime(2010, 8, 28, 21, 41, 55),\n",
       "   'cost': 405}})"
      ]
     },
     "execution_count": 34,
     "metadata": {},
     "output_type": "execute_result"
    }
   ],
   "source": [
    "## it looks like correct... lets make a check\n",
    "step3.filter(lambda x: x[1].get(\"deltaTime\")<timedelta(0)).first() ##a negative value?"
   ]
  },
  {
   "cell_type": "code",
   "execution_count": 35,
   "metadata": {},
   "outputs": [
    {
     "name": "stdout",
     "output_type": "stream",
     "text": [
      "line_03-item_007 @2010-01-01 00:23:19\n",
      "\t[2010-05-13 05:31:53] - 162€\n",
      "\t[2010-06-06 13:36:42] - 2€\n",
      "\t[2010-06-27 13:22:35] - 740€\n",
      "\t[2010-02-27 09:51:45] - 827€\n",
      "\t[2010-04-19 13:25:48] - 274€\n",
      "\t[2010-06-10 13:07:17] - 764€\n",
      "\t[2010-08-18 04:06:47] - 804€\n",
      "\t[2010-08-08 21:54:03] - 899€\n",
      "\t[2010-02-18 15:43:40] - 901€\n",
      "\t[2010-04-09 19:29:54] - 853€\n",
      "\t[2010-08-28 21:41:55] - 405€\n",
      "\t[2010-05-03 20:55:50] - 393€\n",
      "\t[2010-03-10 10:20:25] - 790€\n",
      "\t[2010-02-28 10:11:34] - 689€\n",
      "\t[2010-01-19 13:04:33] - 631€\n",
      "\t[2010-07-30 01:41:43] - 948€\n"
     ]
    }
   ],
   "source": [
    "def lineFormatter(row):\n",
    "    masterLine = row.get(\"value\").get(\"masterLine\")\n",
    "    return \"[{ts}] - {cost}€\".format(ts=masterLine.get(\"registryInsertTimestamp\"),cost=masterLine.get(\"cost\"))\n",
    "sampleRowKey = step2.first().get(\"key\")\n",
    "print(\"{line}-{item} @{ts}\".format(ts=str(sampleRowKey[1]),\n",
    "                          line=sampleRowKey[0][0],item=sampleRowKey[0][1]))\n",
    "print(\"\\t\"+\"\\n\\t\".join([lineFormatter(k) for k in step2.filter(lambda x: x.get(\"key\") == sampleRowKey).take(20)]))"
   ]
  },
  {
   "cell_type": "code",
   "execution_count": 36,
   "metadata": {},
   "outputs": [
    {
     "name": "stdout",
     "output_type": "stream",
     "text": [
      "line_03-item_007 @2010-04-01 03:59:43\n",
      "\t[2010-08-28 21:41:55] - 405€\n",
      "\t[2010-08-18 04:06:47] - 804€\n",
      "\t[2010-08-08 21:54:03] - 899€\n",
      "\t[2010-07-30 01:41:43] - 948€\n",
      "\t[2010-06-27 13:22:35] - 740€\n",
      "\t[2010-06-10 13:07:17] - 764€\n",
      "\t[2010-06-06 13:36:42] - 2€\n",
      "\t[2010-05-13 05:31:53] - 162€\n",
      "\t[2010-05-03 20:55:50] - 393€\n",
      "\t[2010-04-19 13:25:48] - 274€\n",
      "\t[2010-04-09 19:29:54] - 853€\n",
      "\t[2010-03-10 10:20:25] - 790€\n",
      "\t[2010-02-28 10:11:34] - 689€\n",
      "\t[2010-02-27 09:51:45] - 827€\n",
      "\t[2010-02-18 15:43:40] - 901€\n",
      "\t[2010-01-19 13:04:33] - 631€\n"
     ]
    }
   ],
   "source": [
    "sampleRowKey2 = step2.filter(lambda x: x.get(\"key\")[1]>datetime(2010,4,1)).first().get(\"key\")\n",
    "print(\"{line}-{item} @{ts}\".format(ts=str(sampleRowKey2[1]),\n",
    "                          line=sampleRowKey2[0][0],item=sampleRowKey2[0][1]))\n",
    "print(\"\\t\"+\"\\n\\t\".join([lineFormatter(k) for k in step2.filter(lambda x: x.get(\"key\") == sampleRowKey2)\\\n",
    "                        .top(25,key=lambda x: x.get(\"value\").get(\"masterLine\").get(\"registryInsertTimestamp\"))]))"
   ]
  },
  {
   "cell_type": "markdown",
   "metadata": {},
   "source": [
    "## Step3: lets try again!"
   ]
  },
  {
   "cell_type": "code",
   "execution_count": 37,
   "metadata": {},
   "outputs": [
    {
     "data": {
      "text/plain": [
       "23734"
      ]
     },
     "execution_count": 37,
     "metadata": {},
     "output_type": "execute_result"
    }
   ],
   "source": [
    "def reduceFun(val1,val2):\n",
    "    return val1 if val1.get(\"deltaTime\") < val2.get(\"deltaTime\") else val2\n",
    "step3_1 = step2.map(lambda x: (x.get(\"key\"),x.get(\"value\"))).filter(lambda x: x[1].get(\"deltaTime\")>=timedelta(0))\\\n",
    "            .reduceByKey(lambda x,y: reduceFun(x,y))\n",
    "step3_1.count()"
   ]
  },
  {
   "cell_type": "markdown",
   "metadata": {},
   "source": [
    "why 23883?? we lost some rows"
   ]
  },
  {
   "cell_type": "code",
   "execution_count": 38,
   "metadata": {},
   "outputs": [
    {
     "data": {
      "text/plain": [
       "[(('line_03', 'item_007'), (16, 0, 0)),\n",
       " (('line_03', 'item_007'), (16, 0, 0)),\n",
       " (('line_03', 'item_005'), (16, 0, 0)),\n",
       " (('line_03', 'item_005'), (16, 0, 0)),\n",
       " (('line_03', 'item_005'), (16, 0, 0)),\n",
       " (('line_03', 'item_005'), (16, 0, 0)),\n",
       " (('line_05', 'item_008'), (29, 0, 0)),\n",
       " (('line_05', 'item_008'), (29, 0, 0)),\n",
       " (('line_05', 'item_008'), (29, 0, 0)),\n",
       " (('line_05', 'item_008'), (29, 0, 0)),\n",
       " (('line_05', 'item_008'), (29, 0, 0)),\n",
       " (('line_04', 'item_002'), (20, 0, 0)),\n",
       " (('line_04', 'item_002'), (20, 0, 0)),\n",
       " (('line_04', 'item_002'), (20, 0, 0)),\n",
       " (('line_04', 'item_002'), (20, 0, 0)),\n",
       " (('line_04', 'item_002'), (20, 0, 0)),\n",
       " (('line_04', 'item_002'), (20, 0, 0)),\n",
       " (('line_04', 'item_002'), (20, 0, 0)),\n",
       " (('line_04', 'item_002'), (20, 0, 0)),\n",
       " (('line_04', 'item_002'), (20, 0, 0)),\n",
       " (('line_03', 'item_004'), (19, 0, 0)),\n",
       " (('line_03', 'item_004'), (19, 0, 0)),\n",
       " (('line_03', 'item_004'), (19, 0, 0)),\n",
       " (('line_03', 'item_004'), (19, 0, 0)),\n",
       " (('line_03', 'item_004'), (19, 0, 0)),\n",
       " (('line_03', 'item_004'), (19, 0, 0)),\n",
       " (('line_01', 'item_003'), (22, 0, 0)),\n",
       " (('line_04', 'item_003'), (19, 0, 0)),\n",
       " (('line_02', 'item_014'), (19, 0, 0)),\n",
       " (('line_02', 'item_014'), (19, 0, 0)),\n",
       " (('line_02', 'item_014'), (19, 0, 0)),\n",
       " (('line_02', 'item_014'), (19, 0, 0)),\n",
       " (('line_01', 'item_005'), (22, 0, 0)),\n",
       " (('line_01', 'item_005'), (22, 0, 0)),\n",
       " (('line_01', 'item_005'), (22, 0, 0)),\n",
       " (('line_01', 'item_005'), (22, 0, 0)),\n",
       " (('line_01', 'item_005'), (22, 0, 0)),\n",
       " (('line_04', 'item_013'), (22, 0, 0)),\n",
       " (('line_02', 'item_003'), (27, 0, 0)),\n",
       " (('line_02', 'item_009'), (16, 0, 0)),\n",
       " (('line_05', 'item_004'), (23, 0, 0)),\n",
       " (('line_05', 'item_004'), (23, 0, 0)),\n",
       " (('line_05', 'item_004'), (23, 0, 0)),\n",
       " (('line_05', 'item_004'), (23, 0, 0)),\n",
       " (('line_05', 'item_004'), (23, 0, 0)),\n",
       " (('line_05', 'item_004'), (23, 0, 0)),\n",
       " (('line_05', 'item_004'), (23, 0, 0)),\n",
       " (('line_05', 'item_004'), (23, 0, 0)),\n",
       " (('line_05', 'item_004'), (23, 0, 0)),\n",
       " (('line_05', 'item_004'), (23, 0, 0)),\n",
       " (('line_05', 'item_004'), (23, 0, 0)),\n",
       " (('line_05', 'item_004'), (23, 0, 0)),\n",
       " (('line_02', 'item_013'), (13, 0, 0)),\n",
       " (('line_02', 'item_013'), (13, 0, 0)),\n",
       " (('line_02', 'item_013'), (13, 0, 0)),\n",
       " (('line_02', 'item_013'), (13, 0, 0)),\n",
       " (('line_02', 'item_013'), (13, 0, 0)),\n",
       " (('line_02', 'item_013'), (13, 0, 0)),\n",
       " (('line_02', 'item_013'), (13, 0, 0)),\n",
       " (('line_02', 'item_013'), (13, 0, 0)),\n",
       " (('line_05', 'item_007'), (18, 0, 0)),\n",
       " (('line_05', 'item_007'), (18, 0, 0)),\n",
       " (('line_02', 'item_002'), (17, 0, 0)),\n",
       " (('line_02', 'item_002'), (17, 0, 0)),\n",
       " (('line_02', 'item_002'), (17, 0, 0)),\n",
       " (('line_02', 'item_008'), (15, 0, 0)),\n",
       " (('line_04', 'item_001'), (23, 0, 0)),\n",
       " (('line_01', 'item_006'), (22, 0, 0)),\n",
       " (('line_01', 'item_006'), (22, 0, 0)),\n",
       " (('line_01', 'item_006'), (22, 0, 0)),\n",
       " (('line_01', 'item_006'), (22, 0, 0)),\n",
       " (('line_01', 'item_006'), (22, 0, 0)),\n",
       " (('line_01', 'item_006'), (22, 0, 0)),\n",
       " (('line_01', 'item_006'), (22, 0, 0)),\n",
       " (('line_04', 'item_004'), (16, 0, 0)),\n",
       " (('line_04', 'item_004'), (16, 0, 0)),\n",
       " (('line_04', 'item_004'), (16, 0, 0)),\n",
       " (('line_04', 'item_004'), (16, 0, 0)),\n",
       " (('line_04', 'item_004'), (16, 0, 0)),\n",
       " (('line_04', 'item_004'), (16, 0, 0)),\n",
       " (('line_04', 'item_004'), (16, 0, 0)),\n",
       " (('line_04', 'item_004'), (16, 0, 0)),\n",
       " (('line_04', 'item_004'), (16, 0, 0)),\n",
       " (('line_04', 'item_004'), (16, 0, 0)),\n",
       " (('line_04', 'item_004'), (16, 0, 0)),\n",
       " (('line_02', 'item_012'), (13, 0, 0)),\n",
       " (('line_02', 'item_012'), (13, 0, 0)),\n",
       " (('line_03', 'item_006'), (20, 0, 0)),\n",
       " (('line_03', 'item_006'), (20, 0, 0)),\n",
       " (('line_03', 'item_006'), (20, 0, 0)),\n",
       " (('line_03', 'item_006'), (20, 0, 0)),\n",
       " (('line_03', 'item_006'), (20, 0, 0)),\n",
       " (('line_03', 'item_006'), (20, 0, 0)),\n",
       " (('line_02', 'item_015'), (19, 0, 0)),\n",
       " (('line_02', 'item_015'), (19, 0, 0)),\n",
       " (('line_02', 'item_015'), (19, 0, 0)),\n",
       " (('line_03', 'item_001'), (24, 0, 0)),\n",
       " (('line_03', 'item_001'), (24, 0, 0)),\n",
       " (('line_01', 'item_009'), (19, 0, 0)),\n",
       " (('line_01', 'item_009'), (19, 0, 0)),\n",
       " (('line_01', 'item_009'), (19, 0, 0)),\n",
       " (('line_01', 'item_009'), (19, 0, 0)),\n",
       " (('line_01', 'item_009'), (19, 0, 0)),\n",
       " (('line_01', 'item_015'), (19, 0, 0)),\n",
       " (('line_01', 'item_015'), (19, 0, 0)),\n",
       " (('line_01', 'item_015'), (19, 0, 0)),\n",
       " (('line_01', 'item_015'), (19, 0, 0)),\n",
       " (('line_01', 'item_015'), (19, 0, 0)),\n",
       " (('line_01', 'item_015'), (19, 0, 0)),\n",
       " (('line_01', 'item_015'), (19, 0, 0)),\n",
       " (('line_01', 'item_015'), (19, 0, 0)),\n",
       " (('line_01', 'item_015'), (19, 0, 0)),\n",
       " (('line_01', 'item_015'), (19, 0, 0)),\n",
       " (('line_01', 'item_015'), (19, 0, 0)),\n",
       " (('line_01', 'item_010'), (20, 0, 0)),\n",
       " (('line_01', 'item_010'), (20, 0, 0)),\n",
       " (('line_01', 'item_010'), (20, 0, 0)),\n",
       " (('line_01', 'item_010'), (20, 0, 0)),\n",
       " (('line_04', 'item_011'), (25, 0, 0)),\n",
       " (('line_05', 'item_005'), (19, 0, 0)),\n",
       " (('line_05', 'item_005'), (19, 0, 0)),\n",
       " (('line_05', 'item_005'), (19, 0, 0)),\n",
       " (('line_04', 'item_015'), (24, 0, 0)),\n",
       " (('line_04', 'item_015'), (24, 0, 0)),\n",
       " (('line_04', 'item_015'), (24, 0, 0)),\n",
       " (('line_04', 'item_015'), (24, 0, 0)),\n",
       " (('line_04', 'item_015'), (24, 0, 0)),\n",
       " (('line_04', 'item_015'), (24, 0, 0)),\n",
       " (('line_01', 'item_011'), (21, 0, 0)),\n",
       " (('line_02', 'item_005'), (25, 0, 0)),\n",
       " (('line_02', 'item_005'), (25, 0, 0)),\n",
       " (('line_02', 'item_005'), (25, 0, 0)),\n",
       " (('line_01', 'item_012'), (24, 0, 0)),\n",
       " (('line_01', 'item_012'), (24, 0, 0)),\n",
       " (('line_01', 'item_012'), (24, 0, 0)),\n",
       " (('line_01', 'item_012'), (24, 0, 0)),\n",
       " (('line_05', 'item_001'), (18, 0, 0)),\n",
       " (('line_05', 'item_001'), (18, 0, 0)),\n",
       " (('line_02', 'item_004'), (13, 0, 0)),\n",
       " (('line_02', 'item_004'), (13, 0, 0)),\n",
       " (('line_02', 'item_004'), (13, 0, 0)),\n",
       " (('line_02', 'item_004'), (13, 0, 0)),\n",
       " (('line_01', 'item_001'), (11, 0, 0)),\n",
       " (('line_01', 'item_001'), (11, 0, 0)),\n",
       " (('line_01', 'item_001'), (11, 0, 0)),\n",
       " (('line_01', 'item_001'), (11, 0, 0)),\n",
       " (('line_01', 'item_001'), (11, 0, 0)),\n",
       " (('line_02', 'item_010'), (17, 0, 0)),\n",
       " (('line_02', 'item_010'), (17, 0, 0)),\n",
       " (('line_02', 'item_010'), (17, 0, 0)),\n",
       " (('line_05', 'item_015'), (13, 0, 0)),\n",
       " (('line_05', 'item_015'), (13, 0, 0)),\n",
       " (('line_05', 'item_015'), (13, 0, 0)),\n",
       " (('line_05', 'item_015'), (13, 0, 0)),\n",
       " (('line_05', 'item_015'), (13, 0, 0)),\n",
       " (('line_05', 'item_015'), (13, 0, 0)),\n",
       " (('line_05', 'item_015'), (13, 0, 0)),\n",
       " (('line_01', 'item_013'), (25, 0, 0)),\n",
       " (('line_01', 'item_013'), (25, 0, 0)),\n",
       " (('line_03', 'item_013'), (29, 0, 0)),\n",
       " (('line_04', 'item_009'), (16, 0, 0)),\n",
       " (('line_04', 'item_009'), (16, 0, 0)),\n",
       " (('line_04', 'item_009'), (16, 0, 0)),\n",
       " (('line_04', 'item_009'), (16, 0, 0)),\n",
       " (('line_04', 'item_009'), (16, 0, 0)),\n",
       " (('line_04', 'item_009'), (16, 0, 0)),\n",
       " (('line_04', 'item_009'), (16, 0, 0)),\n",
       " (('line_04', 'item_009'), (16, 0, 0)),\n",
       " (('line_04', 'item_009'), (16, 0, 0)),\n",
       " (('line_04', 'item_009'), (16, 0, 0)),\n",
       " (('line_04', 'item_009'), (16, 0, 0)),\n",
       " (('line_04', 'item_009'), (16, 0, 0)),\n",
       " (('line_04', 'item_009'), (16, 0, 0)),\n",
       " (('line_04', 'item_007'), (24, 0, 0)),\n",
       " (('line_05', 'item_013'), (18, 0, 0)),\n",
       " (('line_05', 'item_013'), (18, 0, 0)),\n",
       " (('line_05', 'item_013'), (18, 0, 0)),\n",
       " (('line_05', 'item_013'), (18, 0, 0)),\n",
       " (('line_05', 'item_013'), (18, 0, 0)),\n",
       " (('line_05', 'item_003'), (17, 0, 0)),\n",
       " (('line_04', 'item_008'), (17, 0, 0)),\n",
       " (('line_04', 'item_008'), (17, 0, 0)),\n",
       " (('line_04', 'item_008'), (17, 0, 0)),\n",
       " (('line_04', 'item_008'), (17, 0, 0)),\n",
       " (('line_05', 'item_006'), (28, 0, 0)),\n",
       " (('line_05', 'item_006'), (28, 0, 0)),\n",
       " (('line_03', 'item_012'), (17, 0, 0)),\n",
       " (('line_02', 'item_006'), (16, 0, 0)),\n",
       " (('line_02', 'item_006'), (16, 0, 0)),\n",
       " (('line_02', 'item_001'), (24, 0, 0)),\n",
       " (('line_01', 'item_008'), (16, 0, 0)),\n",
       " (('line_01', 'item_008'), (16, 0, 0)),\n",
       " (('line_01', 'item_008'), (16, 0, 0)),\n",
       " (('line_01', 'item_008'), (16, 0, 0)),\n",
       " (('line_01', 'item_008'), (16, 0, 0)),\n",
       " (('line_03', 'item_011'), (24, 0, 0)),\n",
       " (('line_03', 'item_011'), (24, 0, 0)),\n",
       " (('line_03', 'item_011'), (24, 0, 0)),\n",
       " (('line_03', 'item_011'), (24, 0, 0)),\n",
       " (('line_03', 'item_011'), (24, 0, 0)),\n",
       " (('line_03', 'item_011'), (24, 0, 0)),\n",
       " (('line_03', 'item_011'), (24, 0, 0)),\n",
       " (('line_05', 'item_009'), (17, 0, 0)),\n",
       " (('line_05', 'item_009'), (17, 0, 0)),\n",
       " (('line_05', 'item_009'), (17, 0, 0)),\n",
       " (('line_05', 'item_009'), (17, 0, 0)),\n",
       " (('line_05', 'item_009'), (17, 0, 0)),\n",
       " (('line_05', 'item_009'), (17, 0, 0)),\n",
       " (('line_05', 'item_009'), (17, 0, 0)),\n",
       " (('line_05', 'item_009'), (17, 0, 0)),\n",
       " (('line_03', 'item_008'), (19, 0, 0)),\n",
       " (('line_03', 'item_008'), (19, 0, 0)),\n",
       " (('line_03', 'item_008'), (19, 0, 0)),\n",
       " (('line_03', 'item_008'), (19, 0, 0)),\n",
       " (('line_02', 'item_007'), (17, 0, 0)),\n",
       " (('line_05', 'item_002'), (32, 0, 0)),\n",
       " (('line_03', 'item_007'), (16, 0, 0)),\n",
       " (('line_03', 'item_007'), (16, 0, 0)),\n",
       " (('line_03', 'item_007'), (16, 0, 0)),\n",
       " (('line_03', 'item_007'), (16, 0, 0)),\n",
       " (('line_03', 'item_007'), (16, 0, 0)),\n",
       " (('line_03', 'item_005'), (16, 0, 0)),\n",
       " (('line_05', 'item_008'), (29, 0, 0)),\n",
       " (('line_05', 'item_008'), (29, 0, 0)),\n",
       " (('line_05', 'item_008'), (29, 0, 0)),\n",
       " (('line_05', 'item_008'), (29, 0, 0)),\n",
       " (('line_04', 'item_002'), (20, 0, 0)),\n",
       " (('line_04', 'item_002'), (20, 0, 0)),\n",
       " (('line_04', 'item_002'), (20, 0, 0)),\n",
       " (('line_03', 'item_004'), (19, 0, 0)),\n",
       " (('line_03', 'item_004'), (19, 0, 0)),\n",
       " (('line_03', 'item_004'), (19, 0, 0)),\n",
       " (('line_03', 'item_004'), (19, 0, 0)),\n",
       " (('line_03', 'item_004'), (19, 0, 0)),\n",
       " (('line_01', 'item_003'), (22, 0, 0)),\n",
       " (('line_05', 'item_010'), (16, 0, 0)),\n",
       " (('line_05', 'item_010'), (16, 0, 0)),\n",
       " (('line_05', 'item_010'), (16, 0, 0)),\n",
       " (('line_02', 'item_011'), (26, 0, 0)),\n",
       " (('line_02', 'item_014'), (19, 0, 0)),\n",
       " (('line_02', 'item_014'), (19, 0, 0)),\n",
       " (('line_02', 'item_014'), (19, 0, 0)),\n",
       " (('line_01', 'item_005'), (22, 0, 0)),\n",
       " (('line_04', 'item_013'), (22, 0, 0)),\n",
       " (('line_02', 'item_003'), (27, 0, 0)),\n",
       " (('line_02', 'item_003'), (27, 0, 0)),\n",
       " (('line_02', 'item_009'), (16, 0, 0)),\n",
       " (('line_02', 'item_009'), (16, 0, 0)),\n",
       " (('line_02', 'item_009'), (16, 0, 0)),\n",
       " (('line_02', 'item_009'), (16, 0, 0)),\n",
       " (('line_05', 'item_004'), (23, 0, 0)),\n",
       " (('line_05', 'item_004'), (23, 0, 0)),\n",
       " (('line_05', 'item_004'), (23, 0, 0)),\n",
       " (('line_05', 'item_004'), (23, 0, 0)),\n",
       " (('line_05', 'item_004'), (23, 0, 0)),\n",
       " (('line_05', 'item_004'), (23, 0, 0)),\n",
       " (('line_02', 'item_013'), (13, 0, 0)),\n",
       " (('line_02', 'item_013'), (13, 0, 0)),\n",
       " (('line_02', 'item_013'), (13, 0, 0)),\n",
       " (('line_02', 'item_013'), (13, 0, 0)),\n",
       " (('line_04', 'item_014'), (19, 0, 0)),\n",
       " (('line_03', 'item_015'), (18, 0, 0)),\n",
       " (('line_03', 'item_010'), (15, 0, 0)),\n",
       " (('line_03', 'item_010'), (15, 0, 0)),\n",
       " (('line_02', 'item_008'), (15, 0, 0)),\n",
       " (('line_02', 'item_008'), (15, 0, 0)),\n",
       " (('line_02', 'item_008'), (15, 0, 0)),\n",
       " (('line_02', 'item_008'), (15, 0, 0)),\n",
       " (('line_04', 'item_001'), (23, 0, 0)),\n",
       " (('line_04', 'item_001'), (23, 0, 0)),\n",
       " (('line_04', 'item_001'), (23, 0, 0)),\n",
       " (('line_01', 'item_006'), (22, 0, 0)),\n",
       " (('line_01', 'item_006'), (22, 0, 0)),\n",
       " (('line_01', 'item_006'), (22, 0, 0)),\n",
       " (('line_01', 'item_006'), (22, 0, 0)),\n",
       " (('line_01', 'item_006'), (22, 0, 0)),\n",
       " (('line_01', 'item_006'), (22, 0, 0)),\n",
       " (('line_01', 'item_006'), (22, 0, 0)),\n",
       " (('line_01', 'item_006'), (22, 0, 0)),\n",
       " (('line_04', 'item_004'), (16, 0, 0)),\n",
       " (('line_04', 'item_004'), (16, 0, 0)),\n",
       " (('line_04', 'item_004'), (16, 0, 0)),\n",
       " (('line_04', 'item_004'), (16, 0, 0)),\n",
       " (('line_04', 'item_004'), (16, 0, 0)),\n",
       " (('line_04', 'item_004'), (16, 0, 0)),\n",
       " (('line_04', 'item_004'), (16, 0, 0)),\n",
       " (('line_04', 'item_004'), (16, 0, 0)),\n",
       " (('line_04', 'item_004'), (16, 0, 0)),\n",
       " (('line_02', 'item_012'), (13, 0, 0)),\n",
       " (('line_03', 'item_006'), (20, 0, 0)),\n",
       " (('line_03', 'item_006'), (20, 0, 0)),\n",
       " (('line_03', 'item_006'), (20, 0, 0)),\n",
       " (('line_03', 'item_006'), (20, 0, 0)),\n",
       " (('line_03', 'item_006'), (20, 0, 0)),\n",
       " (('line_05', 'item_011'), (24, 0, 0)),\n",
       " (('line_05', 'item_011'), (24, 0, 0)),\n",
       " (('line_02', 'item_015'), (19, 0, 0)),\n",
       " (('line_02', 'item_015'), (19, 0, 0)),\n",
       " (('line_03', 'item_001'), (24, 0, 0)),\n",
       " (('line_03', 'item_001'), (24, 0, 0)),\n",
       " (('line_03', 'item_001'), (24, 0, 0)),\n",
       " (('line_03', 'item_001'), (24, 0, 0)),\n",
       " (('line_04', 'item_006'), (17, 0, 0)),\n",
       " (('line_01', 'item_009'), (19, 0, 0)),\n",
       " (('line_01', 'item_009'), (19, 0, 0)),\n",
       " (('line_01', 'item_009'), (19, 0, 0)),\n",
       " (('line_01', 'item_009'), (19, 0, 0)),\n",
       " (('line_01', 'item_009'), (19, 0, 0)),\n",
       " (('line_01', 'item_015'), (19, 0, 0)),\n",
       " (('line_01', 'item_015'), (19, 0, 0)),\n",
       " (('line_01', 'item_015'), (19, 0, 0)),\n",
       " (('line_01', 'item_015'), (19, 0, 0)),\n",
       " (('line_01', 'item_015'), (19, 0, 0)),\n",
       " (('line_01', 'item_015'), (19, 0, 0)),\n",
       " (('line_01', 'item_015'), (19, 0, 0)),\n",
       " (('line_01', 'item_015'), (19, 0, 0)),\n",
       " (('line_01', 'item_015'), (19, 0, 0)),\n",
       " (('line_01', 'item_010'), (20, 0, 0)),\n",
       " (('line_01', 'item_010'), (20, 0, 0)),\n",
       " (('line_04', 'item_011'), (25, 0, 0)),\n",
       " (('line_04', 'item_011'), (25, 0, 0)),\n",
       " (('line_04', 'item_011'), (25, 0, 0)),\n",
       " (('line_05', 'item_005'), (19, 0, 0)),\n",
       " (('line_04', 'item_015'), (24, 0, 0)),\n",
       " (('line_01', 'item_011'), (21, 0, 0)),\n",
       " (('line_03', 'item_014'), (21, 0, 0)),\n",
       " (('line_03', 'item_014'), (21, 0, 0)),\n",
       " (('line_03', 'item_014'), (21, 0, 0)),\n",
       " (('line_03', 'item_014'), (21, 0, 0)),\n",
       " (('line_03', 'item_014'), (21, 0, 0)),\n",
       " (('line_02', 'item_005'), (25, 0, 0)),\n",
       " (('line_02', 'item_005'), (25, 0, 0)),\n",
       " (('line_02', 'item_005'), (25, 0, 0)),\n",
       " (('line_02', 'item_005'), (25, 0, 0)),\n",
       " (('line_01', 'item_012'), (24, 0, 0)),\n",
       " (('line_01', 'item_012'), (24, 0, 0)),\n",
       " (('line_05', 'item_001'), (18, 0, 0)),\n",
       " (('line_05', 'item_001'), (18, 0, 0)),\n",
       " (('line_02', 'item_004'), (13, 0, 0)),\n",
       " (('line_02', 'item_004'), (13, 0, 0)),\n",
       " (('line_02', 'item_004'), (13, 0, 0)),\n",
       " (('line_02', 'item_004'), (13, 0, 0)),\n",
       " (('line_01', 'item_001'), (11, 0, 0)),\n",
       " (('line_01', 'item_001'), (11, 0, 0)),\n",
       " (('line_01', 'item_001'), (11, 0, 0)),\n",
       " (('line_01', 'item_001'), (11, 0, 0)),\n",
       " (('line_01', 'item_001'), (11, 0, 0)),\n",
       " (('line_01', 'item_001'), (11, 0, 0)),\n",
       " (('line_01', 'item_001'), (11, 0, 0)),\n",
       " (('line_01', 'item_007'), (27, 0, 0)),\n",
       " (('line_02', 'item_010'), (17, 0, 0)),\n",
       " (('line_02', 'item_010'), (17, 0, 0)),\n",
       " (('line_02', 'item_010'), (17, 0, 0)),\n",
       " (('line_02', 'item_010'), (17, 0, 0)),\n",
       " (('line_02', 'item_010'), (17, 0, 0)),\n",
       " (('line_02', 'item_010'), (17, 0, 0)),\n",
       " (('line_05', 'item_015'), (13, 0, 0)),\n",
       " (('line_05', 'item_015'), (13, 0, 0)),\n",
       " (('line_05', 'item_015'), (13, 0, 0)),\n",
       " (('line_05', 'item_015'), (13, 0, 0)),\n",
       " (('line_05', 'item_015'), (13, 0, 0)),\n",
       " (('line_05', 'item_015'), (13, 0, 0)),\n",
       " (('line_05', 'item_015'), (13, 0, 0)),\n",
       " (('line_05', 'item_015'), (13, 0, 0)),\n",
       " (('line_01', 'item_013'), (25, 0, 0)),\n",
       " (('line_01', 'item_013'), (25, 0, 0)),\n",
       " (('line_01', 'item_013'), (25, 0, 0)),\n",
       " (('line_01', 'item_013'), (25, 0, 0)),\n",
       " (('line_01', 'item_013'), (25, 0, 0)),\n",
       " (('line_03', 'item_013'), (29, 0, 0)),\n",
       " (('line_03', 'item_013'), (29, 0, 0)),\n",
       " (('line_03', 'item_013'), (29, 0, 0)),\n",
       " (('line_04', 'item_009'), (16, 0, 0)),\n",
       " (('line_04', 'item_009'), (16, 0, 0)),\n",
       " (('line_04', 'item_009'), (16, 0, 0)),\n",
       " (('line_04', 'item_009'), (16, 0, 0)),\n",
       " (('line_04', 'item_009'), (16, 0, 0)),\n",
       " (('line_04', 'item_009'), (16, 0, 0)),\n",
       " (('line_04', 'item_009'), (16, 0, 0)),\n",
       " (('line_04', 'item_009'), (16, 0, 0)),\n",
       " (('line_04', 'item_009'), (16, 0, 0)),\n",
       " (('line_04', 'item_009'), (16, 0, 0)),\n",
       " (('line_05', 'item_013'), (18, 0, 0)),\n",
       " (('line_05', 'item_013'), (18, 0, 0)),\n",
       " (('line_05', 'item_013'), (18, 0, 0)),\n",
       " (('line_05', 'item_003'), (17, 0, 0)),\n",
       " (('line_05', 'item_003'), (17, 0, 0)),\n",
       " (('line_05', 'item_003'), (17, 0, 0)),\n",
       " (('line_05', 'item_003'), (17, 0, 0)),\n",
       " (('line_05', 'item_003'), (17, 0, 0)),\n",
       " (('line_04', 'item_008'), (17, 0, 0)),\n",
       " (('line_04', 'item_008'), (17, 0, 0)),\n",
       " (('line_04', 'item_008'), (17, 0, 0)),\n",
       " (('line_04', 'item_008'), (17, 0, 0)),\n",
       " (('line_04', 'item_008'), (17, 0, 0)),\n",
       " (('line_04', 'item_008'), (17, 0, 0)),\n",
       " (('line_05', 'item_006'), (28, 0, 0)),\n",
       " (('line_05', 'item_006'), (28, 0, 0)),\n",
       " (('line_01', 'item_014'), (23, 0, 0)),\n",
       " (('line_01', 'item_014'), (23, 0, 0)),\n",
       " (('line_03', 'item_012'), (17, 0, 0)),\n",
       " (('line_03', 'item_012'), (17, 0, 0)),\n",
       " (('line_02', 'item_006'), (16, 0, 0)),\n",
       " (('line_02', 'item_006'), (16, 0, 0)),\n",
       " (('line_02', 'item_001'), (24, 0, 0)),\n",
       " (('line_02', 'item_001'), (24, 0, 0)),\n",
       " (('line_01', 'item_008'), (16, 0, 0)),\n",
       " (('line_01', 'item_008'), (16, 0, 0)),\n",
       " (('line_01', 'item_008'), (16, 0, 0)),\n",
       " (('line_01', 'item_008'), (16, 0, 0)),\n",
       " (('line_01', 'item_008'), (16, 0, 0)),\n",
       " (('line_01', 'item_008'), (16, 0, 0)),\n",
       " (('line_03', 'item_011'), (24, 0, 0)),\n",
       " (('line_03', 'item_011'), (24, 0, 0)),\n",
       " (('line_03', 'item_011'), (24, 0, 0)),\n",
       " (('line_03', 'item_011'), (24, 0, 0)),\n",
       " (('line_03', 'item_011'), (24, 0, 0)),\n",
       " (('line_05', 'item_009'), (17, 0, 0)),\n",
       " (('line_05', 'item_009'), (17, 0, 0)),\n",
       " (('line_05', 'item_009'), (17, 0, 0)),\n",
       " (('line_05', 'item_009'), (17, 0, 0)),\n",
       " (('line_05', 'item_009'), (17, 0, 0)),\n",
       " (('line_05', 'item_009'), (17, 0, 0)),\n",
       " (('line_05', 'item_009'), (17, 0, 0)),\n",
       " (('line_05', 'item_009'), (17, 0, 0)),\n",
       " (('line_03', 'item_008'), (19, 0, 0)),\n",
       " (('line_03', 'item_008'), (19, 0, 0)),\n",
       " (('line_03', 'item_008'), (19, 0, 0)),\n",
       " (('line_02', 'item_007'), (17, 0, 0)),\n",
       " (('line_03', 'item_007'), (16, 0, 0)),\n",
       " (('line_03', 'item_007'), (16, 0, 0)),\n",
       " (('line_03', 'item_007'), (16, 0, 0)),\n",
       " (('line_03', 'item_007'), (16, 0, 0)),\n",
       " (('line_03', 'item_007'), (16, 0, 0)),\n",
       " (('line_03', 'item_005'), (16, 0, 0)),\n",
       " (('line_03', 'item_005'), (16, 0, 0)),\n",
       " (('line_05', 'item_008'), (29, 0, 0)),\n",
       " (('line_05', 'item_008'), (29, 0, 0)),\n",
       " (('line_05', 'item_008'), (29, 0, 0)),\n",
       " (('line_05', 'item_008'), (29, 0, 0)),\n",
       " (('line_05', 'item_008'), (29, 0, 0)),\n",
       " (('line_05', 'item_008'), (29, 0, 0)),\n",
       " (('line_05', 'item_008'), (29, 0, 0)),\n",
       " (('line_05', 'item_008'), (29, 0, 0)),\n",
       " (('line_05', 'item_008'), (29, 0, 0)),\n",
       " (('line_05', 'item_008'), (29, 0, 0)),\n",
       " (('line_05', 'item_008'), (29, 0, 0)),\n",
       " (('line_04', 'item_002'), (20, 0, 0)),\n",
       " (('line_01', 'item_003'), (22, 0, 0)),\n",
       " (('line_05', 'item_010'), (16, 0, 0)),\n",
       " (('line_04', 'item_003'), (19, 0, 0)),\n",
       " (('line_04', 'item_003'), (19, 0, 0)),\n",
       " (('line_04', 'item_003'), (19, 0, 0)),\n",
       " (('line_04', 'item_003'), (19, 0, 0)),\n",
       " (('line_04', 'item_003'), (19, 0, 0)),\n",
       " (('line_04', 'item_003'), (19, 0, 0)),\n",
       " (('line_04', 'item_003'), (19, 0, 0)),\n",
       " (('line_03', 'item_009'), (21, 0, 0)),\n",
       " (('line_02', 'item_011'), (26, 0, 0)),\n",
       " (('line_02', 'item_014'), (19, 0, 0)),\n",
       " (('line_02', 'item_014'), (19, 0, 0)),\n",
       " (('line_02', 'item_014'), (19, 0, 0)),\n",
       " (('line_02', 'item_014'), (19, 0, 0)),\n",
       " (('line_01', 'item_005'), (22, 0, 0)),\n",
       " (('line_01', 'item_005'), (22, 0, 0)),\n",
       " (('line_01', 'item_005'), (22, 0, 0)),\n",
       " (('line_02', 'item_009'), (16, 0, 0)),\n",
       " (('line_02', 'item_009'), (16, 0, 0)),\n",
       " (('line_02', 'item_009'), (16, 0, 0)),\n",
       " (('line_02', 'item_009'), (16, 0, 0)),\n",
       " (('line_02', 'item_009'), (16, 0, 0)),\n",
       " (('line_05', 'item_004'), (23, 0, 0)),\n",
       " (('line_05', 'item_004'), (23, 0, 0)),\n",
       " (('line_05', 'item_004'), (23, 0, 0)),\n",
       " (('line_05', 'item_004'), (23, 0, 0)),\n",
       " (('line_02', 'item_013'), (13, 0, 0)),\n",
       " (('line_02', 'item_013'), (13, 0, 0)),\n",
       " (('line_02', 'item_013'), (13, 0, 0)),\n",
       " (('line_02', 'item_013'), (13, 0, 0)),\n",
       " (('line_02', 'item_013'), (13, 0, 0)),\n",
       " (('line_02', 'item_013'), (13, 0, 0)),\n",
       " (('line_02', 'item_002'), (17, 0, 0)),\n",
       " (('line_02', 'item_002'), (17, 0, 0)),\n",
       " (('line_04', 'item_014'), (19, 0, 0)),\n",
       " (('line_03', 'item_010'), (15, 0, 0)),\n",
       " (('line_03', 'item_010'), (15, 0, 0)),\n",
       " (('line_03', 'item_010'), (15, 0, 0)),\n",
       " (('line_02', 'item_008'), (15, 0, 0)),\n",
       " (('line_02', 'item_008'), (15, 0, 0)),\n",
       " (('line_01', 'item_006'), (22, 0, 0)),\n",
       " (('line_01', 'item_006'), (22, 0, 0)),\n",
       " (('line_01', 'item_006'), (22, 0, 0)),\n",
       " (('line_04', 'item_004'), (16, 0, 0)),\n",
       " (('line_04', 'item_004'), (16, 0, 0)),\n",
       " (('line_04', 'item_004'), (16, 0, 0)),\n",
       " (('line_04', 'item_004'), (16, 0, 0)),\n",
       " (('line_04', 'item_004'), (16, 0, 0)),\n",
       " (('line_04', 'item_004'), (16, 0, 0)),\n",
       " (('line_04', 'item_004'), (16, 0, 0)),\n",
       " (('line_04', 'item_004'), (16, 0, 0)),\n",
       " (('line_03', 'item_006'), (20, 0, 0)),\n",
       " (('line_03', 'item_006'), (20, 0, 0)),\n",
       " (('line_03', 'item_006'), (20, 0, 0)),\n",
       " (('line_03', 'item_006'), (20, 0, 0)),\n",
       " (('line_03', 'item_006'), (20, 0, 0)),\n",
       " (('line_03', 'item_006'), (20, 0, 0)),\n",
       " (('line_05', 'item_011'), (24, 0, 0)),\n",
       " (('line_02', 'item_015'), (19, 0, 0)),\n",
       " (('line_02', 'item_015'), (19, 0, 0)),\n",
       " (('line_02', 'item_015'), (19, 0, 0)),\n",
       " (('line_02', 'item_015'), (19, 0, 0)),\n",
       " (('line_03', 'item_001'), (24, 0, 0)),\n",
       " (('line_03', 'item_001'), (24, 0, 0)),\n",
       " (('line_03', 'item_001'), (24, 0, 0)),\n",
       " (('line_03', 'item_001'), (24, 0, 0)),\n",
       " (('line_04', 'item_006'), (17, 0, 0)),\n",
       " (('line_04', 'item_006'), (17, 0, 0)),\n",
       " (('line_01', 'item_009'), (19, 0, 0)),\n",
       " (('line_01', 'item_009'), (19, 0, 0)),\n",
       " (('line_01', 'item_009'), (19, 0, 0)),\n",
       " (('line_01', 'item_009'), (19, 0, 0)),\n",
       " (('line_01', 'item_009'), (19, 0, 0)),\n",
       " (('line_01', 'item_015'), (19, 0, 0)),\n",
       " (('line_01', 'item_015'), (19, 0, 0)),\n",
       " (('line_01', 'item_015'), (19, 0, 0)),\n",
       " (('line_01', 'item_015'), (19, 0, 0)),\n",
       " (('line_01', 'item_015'), (19, 0, 0)),\n",
       " (('line_01', 'item_015'), (19, 0, 0)),\n",
       " (('line_01', 'item_015'), (19, 0, 0)),\n",
       " (('line_01', 'item_015'), (19, 0, 0)),\n",
       " (('line_01', 'item_010'), (20, 0, 0)),\n",
       " (('line_01', 'item_010'), (20, 0, 0)),\n",
       " (('line_01', 'item_010'), (20, 0, 0)),\n",
       " (('line_01', 'item_010'), (20, 0, 0)),\n",
       " (('line_01', 'item_010'), (20, 0, 0)),\n",
       " (('line_04', 'item_011'), (25, 0, 0)),\n",
       " (('line_04', 'item_011'), (25, 0, 0)),\n",
       " (('line_05', 'item_005'), (19, 0, 0)),\n",
       " (('line_05', 'item_005'), (19, 0, 0)),\n",
       " (('line_05', 'item_005'), (19, 0, 0)),\n",
       " (('line_05', 'item_005'), (19, 0, 0)),\n",
       " (('line_05', 'item_005'), (19, 0, 0)),\n",
       " (('line_05', 'item_005'), (19, 0, 0)),\n",
       " (('line_05', 'item_005'), (19, 0, 0)),\n",
       " (('line_05', 'item_005'), (19, 0, 0)),\n",
       " (('line_04', 'item_015'), (24, 0, 0)),\n",
       " (('line_04', 'item_015'), (24, 0, 0)),\n",
       " (('line_03', 'item_014'), (21, 0, 0)),\n",
       " (('line_03', 'item_014'), (21, 0, 0)),\n",
       " (('line_02', 'item_005'), (25, 0, 0)),\n",
       " (('line_01', 'item_012'), (24, 0, 0)),\n",
       " (('line_01', 'item_012'), (24, 0, 0)),\n",
       " (('line_01', 'item_012'), (24, 0, 0)),\n",
       " (('line_01', 'item_012'), (24, 0, 0)),\n",
       " (('line_01', 'item_012'), (24, 0, 0)),\n",
       " (('line_05', 'item_001'), (18, 0, 0)),\n",
       " (('line_05', 'item_014'), (19, 0, 0)),\n",
       " (('line_01', 'item_001'), (11, 0, 0)),\n",
       " (('line_01', 'item_001'), (11, 0, 0)),\n",
       " (('line_01', 'item_001'), (11, 0, 0)),\n",
       " (('line_01', 'item_001'), (11, 0, 0)),\n",
       " (('line_01', 'item_001'), (11, 0, 0)),\n",
       " (('line_01', 'item_001'), (11, 0, 0)),\n",
       " (('line_01', 'item_007'), (27, 0, 0)),\n",
       " (('line_04', 'item_005'), (25, 0, 0)),\n",
       " (('line_04', 'item_005'), (25, 0, 0)),\n",
       " (('line_04', 'item_005'), (25, 0, 0)),\n",
       " (('line_02', 'item_010'), (17, 0, 0)),\n",
       " (('line_02', 'item_010'), (17, 0, 0)),\n",
       " (('line_02', 'item_010'), (17, 0, 0)),\n",
       " (('line_05', 'item_015'), (13, 0, 0)),\n",
       " (('line_05', 'item_015'), (13, 0, 0)),\n",
       " (('line_05', 'item_015'), (13, 0, 0)),\n",
       " (('line_05', 'item_015'), (13, 0, 0)),\n",
       " (('line_05', 'item_015'), (13, 0, 0)),\n",
       " (('line_01', 'item_013'), (25, 0, 0)),\n",
       " (('line_01', 'item_013'), (25, 0, 0)),\n",
       " (('line_01', 'item_013'), (25, 0, 0)),\n",
       " (('line_01', 'item_013'), (25, 0, 0)),\n",
       " (('line_03', 'item_013'), (29, 0, 0)),\n",
       " (('line_04', 'item_009'), (16, 0, 0)),\n",
       " (('line_04', 'item_009'), (16, 0, 0)),\n",
       " (('line_04', 'item_009'), (16, 0, 0)),\n",
       " (('line_04', 'item_009'), (16, 0, 0)),\n",
       " (('line_04', 'item_009'), (16, 0, 0)),\n",
       " (('line_04', 'item_009'), (16, 0, 0)),\n",
       " (('line_04', 'item_009'), (16, 0, 0)),\n",
       " (('line_04', 'item_009'), (16, 0, 0)),\n",
       " (('line_04', 'item_009'), (16, 0, 0)),\n",
       " (('line_04', 'item_009'), (16, 0, 0)),\n",
       " (('line_05', 'item_013'), (18, 0, 0)),\n",
       " (('line_05', 'item_003'), (17, 0, 0)),\n",
       " (('line_04', 'item_012'), (14, 0, 0)),\n",
       " (('line_05', 'item_006'), (28, 0, 0)),\n",
       " (('line_05', 'item_006'), (28, 0, 0)),\n",
       " (('line_01', 'item_014'), (23, 0, 0)),\n",
       " (('line_03', 'item_012'), (17, 0, 0)),\n",
       " (('line_03', 'item_012'), (17, 0, 0)),\n",
       " (('line_03', 'item_012'), (17, 0, 0)),\n",
       " (('line_02', 'item_006'), (16, 0, 0)),\n",
       " (('line_02', 'item_006'), (16, 0, 0)),\n",
       " (('line_02', 'item_006'), (16, 0, 0)),\n",
       " (('line_02', 'item_006'), (16, 0, 0)),\n",
       " (('line_02', 'item_006'), (16, 0, 0)),\n",
       " (('line_02', 'item_001'), (24, 0, 0)),\n",
       " (('line_02', 'item_001'), (24, 0, 0)),\n",
       " (('line_02', 'item_001'), (24, 0, 0)),\n",
       " (('line_02', 'item_001'), (24, 0, 0)),\n",
       " (('line_01', 'item_008'), (16, 0, 0)),\n",
       " (('line_01', 'item_008'), (16, 0, 0)),\n",
       " (('line_01', 'item_008'), (16, 0, 0)),\n",
       " (('line_01', 'item_008'), (16, 0, 0)),\n",
       " (('line_01', 'item_008'), (16, 0, 0)),\n",
       " (('line_01', 'item_008'), (16, 0, 0)),\n",
       " (('line_01', 'item_008'), (16, 0, 0)),\n",
       " (('line_01', 'item_008'), (16, 0, 0)),\n",
       " (('line_03', 'item_011'), (24, 0, 0)),\n",
       " (('line_03', 'item_011'), (24, 0, 0)),\n",
       " (('line_03', 'item_011'), (24, 0, 0)),\n",
       " (('line_03', 'item_011'), (24, 0, 0)),\n",
       " (('line_03', 'item_011'), (24, 0, 0)),\n",
       " (('line_05', 'item_009'), (17, 0, 0)),\n",
       " (('line_05', 'item_009'), (17, 0, 0)),\n",
       " (('line_05', 'item_009'), (17, 0, 0)),\n",
       " (('line_05', 'item_009'), (17, 0, 0)),\n",
       " (('line_05', 'item_009'), (17, 0, 0)),\n",
       " (('line_05', 'item_009'), (17, 0, 0)),\n",
       " (('line_05', 'item_009'), (17, 0, 0)),\n",
       " (('line_05', 'item_009'), (17, 0, 0)),\n",
       " (('line_05', 'item_009'), (17, 0, 0)),\n",
       " (('line_03', 'item_008'), (19, 0, 0)),\n",
       " (('line_03', 'item_008'), (19, 0, 0)),\n",
       " (('line_03', 'item_008'), (19, 0, 0)),\n",
       " (('line_03', 'item_007'), (16, 0, 0)),\n",
       " (('line_03', 'item_007'), (16, 0, 0)),\n",
       " (('line_03', 'item_007'), (16, 0, 0)),\n",
       " (('line_03', 'item_005'), (16, 0, 0)),\n",
       " (('line_03', 'item_005'), (16, 0, 0)),\n",
       " (('line_03', 'item_005'), (16, 0, 0)),\n",
       " (('line_05', 'item_008'), (29, 0, 0)),\n",
       " (('line_05', 'item_008'), (29, 0, 0)),\n",
       " (('line_05', 'item_008'), (29, 0, 0)),\n",
       " (('line_05', 'item_008'), (29, 0, 0)),\n",
       " (('line_05', 'item_008'), (29, 0, 0)),\n",
       " (('line_05', 'item_008'), (29, 0, 0)),\n",
       " (('line_05', 'item_008'), (29, 0, 0)),\n",
       " (('line_05', 'item_008'), (29, 0, 0)),\n",
       " (('line_04', 'item_002'), (20, 0, 0)),\n",
       " (('line_04', 'item_002'), (20, 0, 0)),\n",
       " (('line_04', 'item_002'), (20, 0, 0)),\n",
       " (('line_04', 'item_002'), (20, 0, 0)),\n",
       " (('line_03', 'item_004'), (19, 0, 0)),\n",
       " (('line_03', 'item_004'), (19, 0, 0)),\n",
       " (('line_03', 'item_004'), (19, 0, 0)),\n",
       " (('line_05', 'item_010'), (16, 0, 0)),\n",
       " (('line_05', 'item_010'), (16, 0, 0)),\n",
       " (('line_05', 'item_010'), (16, 0, 0)),\n",
       " (('line_04', 'item_003'), (19, 0, 0)),\n",
       " (('line_04', 'item_003'), (19, 0, 0)),\n",
       " (('line_04', 'item_003'), (19, 0, 0)),\n",
       " (('line_02', 'item_011'), (26, 0, 0)),\n",
       " (('line_02', 'item_014'), (19, 0, 0)),\n",
       " (('line_02', 'item_014'), (19, 0, 0)),\n",
       " (('line_01', 'item_005'), (22, 0, 0)),\n",
       " (('line_01', 'item_005'), (22, 0, 0)),\n",
       " (('line_01', 'item_005'), (22, 0, 0)),\n",
       " (('line_01', 'item_005'), (22, 0, 0)),\n",
       " (('line_01', 'item_005'), (22, 0, 0)),\n",
       " (('line_04', 'item_013'), (22, 0, 0)),\n",
       " (('line_02', 'item_009'), (16, 0, 0)),\n",
       " (('line_02', 'item_009'), (16, 0, 0)),\n",
       " (('line_05', 'item_004'), (23, 0, 0)),\n",
       " (('line_05', 'item_004'), (23, 0, 0)),\n",
       " (('line_05', 'item_004'), (23, 0, 0)),\n",
       " (('line_05', 'item_004'), (23, 0, 0)),\n",
       " (('line_05', 'item_004'), (23, 0, 0)),\n",
       " (('line_05', 'item_004'), (23, 0, 0)),\n",
       " (('line_05', 'item_004'), (23, 0, 0)),\n",
       " (('line_02', 'item_013'), (13, 0, 0)),\n",
       " (('line_02', 'item_013'), (13, 0, 0)),\n",
       " (('line_02', 'item_013'), (13, 0, 0)),\n",
       " (('line_02', 'item_013'), (13, 0, 0)),\n",
       " (('line_02', 'item_013'), (13, 0, 0)),\n",
       " (('line_02', 'item_013'), (13, 0, 0)),\n",
       " (('line_02', 'item_013'), (13, 0, 0)),\n",
       " (('line_05', 'item_007'), (18, 0, 0)),\n",
       " (('line_05', 'item_007'), (18, 0, 0)),\n",
       " (('line_02', 'item_002'), (17, 0, 0)),\n",
       " (('line_04', 'item_014'), (19, 0, 0)),\n",
       " (('line_03', 'item_010'), (15, 0, 0)),\n",
       " (('line_03', 'item_010'), (15, 0, 0)),\n",
       " (('line_03', 'item_010'), (15, 0, 0)),\n",
       " (('line_02', 'item_008'), (15, 0, 0)),\n",
       " (('line_02', 'item_008'), (15, 0, 0)),\n",
       " (('line_04', 'item_001'), (23, 0, 0)),\n",
       " (('line_01', 'item_006'), (22, 0, 0)),\n",
       " (('line_01', 'item_006'), (22, 0, 0)),\n",
       " (('line_01', 'item_006'), (22, 0, 0)),\n",
       " (('line_01', 'item_006'), (22, 0, 0)),\n",
       " (('line_01', 'item_006'), (22, 0, 0)),\n",
       " (('line_04', 'item_004'), (16, 0, 0)),\n",
       " (('line_04', 'item_004'), (16, 0, 0)),\n",
       " (('line_04', 'item_004'), (16, 0, 0)),\n",
       " (('line_04', 'item_004'), (16, 0, 0)),\n",
       " (('line_04', 'item_004'), (16, 0, 0)),\n",
       " (('line_04', 'item_004'), (16, 0, 0)),\n",
       " (('line_04', 'item_004'), (16, 0, 0)),\n",
       " (('line_04', 'item_004'), (16, 0, 0)),\n",
       " (('line_03', 'item_006'), (20, 0, 0)),\n",
       " (('line_03', 'item_006'), (20, 0, 0)),\n",
       " (('line_03', 'item_006'), (20, 0, 0)),\n",
       " (('line_03', 'item_006'), (20, 0, 0)),\n",
       " (('line_03', 'item_006'), (20, 0, 0)),\n",
       " (('line_03', 'item_006'), (20, 0, 0)),\n",
       " (('line_03', 'item_006'), (20, 0, 0)),\n",
       " (('line_02', 'item_015'), (19, 0, 0)),\n",
       " (('line_02', 'item_015'), (19, 0, 0)),\n",
       " (('line_03', 'item_001'), (24, 0, 0)),\n",
       " (('line_03', 'item_001'), (24, 0, 0)),\n",
       " (('line_04', 'item_006'), (17, 0, 0)),\n",
       " (('line_01', 'item_009'), (19, 0, 0)),\n",
       " (('line_01', 'item_009'), (19, 0, 0)),\n",
       " (('line_01', 'item_009'), (19, 0, 0)),\n",
       " (('line_01', 'item_009'), (19, 0, 0)),\n",
       " (('line_01', 'item_015'), (19, 0, 0)),\n",
       " (('line_01', 'item_015'), (19, 0, 0)),\n",
       " (('line_01', 'item_015'), (19, 0, 0)),\n",
       " (('line_01', 'item_015'), (19, 0, 0)),\n",
       " (('line_01', 'item_015'), (19, 0, 0)),\n",
       " (('line_01', 'item_015'), (19, 0, 0)),\n",
       " (('line_01', 'item_015'), (19, 0, 0)),\n",
       " (('line_01', 'item_010'), (20, 0, 0)),\n",
       " (('line_01', 'item_010'), (20, 0, 0)),\n",
       " (('line_04', 'item_011'), (25, 0, 0)),\n",
       " (('line_04', 'item_011'), (25, 0, 0)),\n",
       " (('line_05', 'item_005'), (19, 0, 0)),\n",
       " (('line_05', 'item_005'), (19, 0, 0)),\n",
       " (('line_04', 'item_015'), (24, 0, 0)),\n",
       " (('line_04', 'item_015'), (24, 0, 0)),\n",
       " (('line_01', 'item_011'), (21, 0, 0)),\n",
       " (('line_01', 'item_011'), (21, 0, 0)),\n",
       " (('line_03', 'item_014'), (21, 0, 0)),\n",
       " (('line_03', 'item_014'), (21, 0, 0)),\n",
       " (('line_03', 'item_014'), (21, 0, 0)),\n",
       " (('line_02', 'item_005'), (25, 0, 0)),\n",
       " (('line_02', 'item_005'), (25, 0, 0)),\n",
       " (('line_01', 'item_012'), (24, 0, 0)),\n",
       " (('line_01', 'item_012'), (24, 0, 0)),\n",
       " (('line_01', 'item_012'), (24, 0, 0)),\n",
       " (('line_05', 'item_001'), (18, 0, 0)),\n",
       " (('line_02', 'item_004'), (13, 0, 0)),\n",
       " (('line_02', 'item_004'), (13, 0, 0)),\n",
       " (('line_02', 'item_004'), (13, 0, 0)),\n",
       " (('line_02', 'item_004'), (13, 0, 0)),\n",
       " (('line_02', 'item_004'), (13, 0, 0)),\n",
       " (('line_01', 'item_001'), (11, 0, 0)),\n",
       " (('line_01', 'item_001'), (11, 0, 0)),\n",
       " (('line_01', 'item_001'), (11, 0, 0)),\n",
       " (('line_01', 'item_001'), (11, 0, 0)),\n",
       " (('line_01', 'item_001'), (11, 0, 0)),\n",
       " (('line_01', 'item_001'), (11, 0, 0)),\n",
       " (('line_01', 'item_001'), (11, 0, 0)),\n",
       " (('line_01', 'item_001'), (11, 0, 0)),\n",
       " (('line_01', 'item_001'), (11, 0, 0)),\n",
       " (('line_01', 'item_007'), (27, 0, 0)),\n",
       " (('line_02', 'item_010'), (17, 0, 0)),\n",
       " (('line_02', 'item_010'), (17, 0, 0)),\n",
       " (('line_02', 'item_010'), (17, 0, 0)),\n",
       " (('line_02', 'item_010'), (17, 0, 0)),\n",
       " (('line_05', 'item_015'), (13, 0, 0)),\n",
       " (('line_05', 'item_015'), (13, 0, 0)),\n",
       " (('line_05', 'item_015'), (13, 0, 0)),\n",
       " (('line_05', 'item_015'), (13, 0, 0)),\n",
       " (('line_05', 'item_015'), (13, 0, 0)),\n",
       " (('line_05', 'item_015'), (13, 0, 0)),\n",
       " (('line_05', 'item_015'), (13, 0, 0)),\n",
       " (('line_05', 'item_015'), (13, 0, 0)),\n",
       " (('line_05', 'item_015'), (13, 0, 0)),\n",
       " (('line_05', 'item_015'), (13, 0, 0)),\n",
       " (('line_05', 'item_015'), (13, 0, 0)),\n",
       " (('line_01', 'item_013'), (25, 0, 0)),\n",
       " (('line_01', 'item_013'), (25, 0, 0)),\n",
       " (('line_01', 'item_013'), (25, 0, 0)),\n",
       " (('line_01', 'item_013'), (25, 0, 0)),\n",
       " (('line_03', 'item_003'), (27, 0, 0)),\n",
       " (('line_03', 'item_013'), (29, 0, 0)),\n",
       " (('line_03', 'item_013'), (29, 0, 0)),\n",
       " (('line_03', 'item_013'), (29, 0, 0)),\n",
       " (('line_04', 'item_009'), (16, 0, 0)),\n",
       " (('line_04', 'item_009'), (16, 0, 0)),\n",
       " (('line_04', 'item_009'), (16, 0, 0)),\n",
       " (('line_04', 'item_009'), (16, 0, 0)),\n",
       " (('line_04', 'item_009'), (16, 0, 0)),\n",
       " (('line_04', 'item_009'), (16, 0, 0)),\n",
       " (('line_04', 'item_009'), (16, 0, 0)),\n",
       " (('line_04', 'item_009'), (16, 0, 0)),\n",
       " (('line_04', 'item_009'), (16, 0, 0)),\n",
       " (('line_04', 'item_009'), (16, 0, 0)),\n",
       " (('line_04', 'item_009'), (16, 0, 0)),\n",
       " (('line_04', 'item_009'), (16, 0, 0)),\n",
       " (('line_04', 'item_007'), (24, 0, 0)),\n",
       " (('line_05', 'item_013'), (18, 0, 0)),\n",
       " (('line_05', 'item_013'), (18, 0, 0)),\n",
       " (('line_05', 'item_003'), (17, 0, 0)),\n",
       " (('line_05', 'item_003'), (17, 0, 0)),\n",
       " (('line_05', 'item_003'), (17, 0, 0)),\n",
       " (('line_04', 'item_008'), (17, 0, 0)),\n",
       " (('line_04', 'item_008'), (17, 0, 0)),\n",
       " (('line_04', 'item_008'), (17, 0, 0)),\n",
       " (('line_04', 'item_008'), (17, 0, 0)),\n",
       " (('line_04', 'item_008'), (17, 0, 0)),\n",
       " (('line_05', 'item_006'), (28, 0, 0)),\n",
       " (('line_05', 'item_006'), (28, 0, 0)),\n",
       " (('line_05', 'item_006'), (28, 0, 0)),\n",
       " (('line_01', 'item_014'), (23, 0, 0)),\n",
       " (('line_03', 'item_012'), (17, 0, 0)),\n",
       " (('line_03', 'item_012'), (17, 0, 0)),\n",
       " (('line_02', 'item_006'), (16, 0, 0)),\n",
       " (('line_02', 'item_006'), (16, 0, 0)),\n",
       " (('line_02', 'item_006'), (16, 0, 0)),\n",
       " (('line_02', 'item_001'), (24, 0, 0)),\n",
       " (('line_02', 'item_001'), (24, 0, 0)),\n",
       " (('line_01', 'item_008'), (16, 0, 0)),\n",
       " (('line_01', 'item_008'), (16, 0, 0)),\n",
       " (('line_01', 'item_008'), (16, 0, 0)),\n",
       " (('line_01', 'item_008'), (16, 0, 0)),\n",
       " (('line_01', 'item_008'), (16, 0, 0)),\n",
       " (('line_01', 'item_008'), (16, 0, 0)),\n",
       " (('line_01', 'item_008'), (16, 0, 0)),\n",
       " (('line_01', 'item_008'), (16, 0, 0)),\n",
       " (('line_01', 'item_008'), (16, 0, 0)),\n",
       " (('line_01', 'item_008'), (16, 0, 0)),\n",
       " (('line_03', 'item_011'), (24, 0, 0)),\n",
       " (('line_03', 'item_011'), (24, 0, 0)),\n",
       " (('line_03', 'item_011'), (24, 0, 0)),\n",
       " (('line_03', 'item_011'), (24, 0, 0)),\n",
       " (('line_03', 'item_011'), (24, 0, 0)),\n",
       " (('line_03', 'item_011'), (24, 0, 0)),\n",
       " (('line_05', 'item_009'), (17, 0, 0)),\n",
       " (('line_05', 'item_009'), (17, 0, 0)),\n",
       " (('line_05', 'item_009'), (17, 0, 0)),\n",
       " (('line_05', 'item_009'), (17, 0, 0)),\n",
       " (('line_05', 'item_009'), (17, 0, 0)),\n",
       " (('line_05', 'item_009'), (17, 0, 0)),\n",
       " (('line_03', 'item_008'), (19, 0, 0)),\n",
       " (('line_03', 'item_008'), (19, 0, 0)),\n",
       " (('line_03', 'item_008'), (19, 0, 0)),\n",
       " (('line_03', 'item_008'), (19, 0, 0)),\n",
       " (('line_03', 'item_007'), (16, 0, 0)),\n",
       " (('line_03', 'item_007'), (16, 0, 0)),\n",
       " (('line_03', 'item_005'), (16, 0, 0)),\n",
       " (('line_03', 'item_005'), (16, 0, 0)),\n",
       " (('line_03', 'item_005'), (16, 0, 0)),\n",
       " (('line_05', 'item_008'), (29, 0, 0)),\n",
       " (('line_05', 'item_008'), (29, 0, 0)),\n",
       " (('line_05', 'item_008'), (29, 0, 0)),\n",
       " (('line_04', 'item_002'), (20, 0, 0)),\n",
       " (('line_04', 'item_002'), (20, 0, 0)),\n",
       " (('line_04', 'item_002'), (20, 0, 0)),\n",
       " (('line_03', 'item_004'), (19, 0, 0)),\n",
       " (('line_03', 'item_004'), (19, 0, 0)),\n",
       " (('line_05', 'item_010'), (16, 0, 0)),\n",
       " (('line_05', 'item_010'), (16, 0, 0)),\n",
       " (('line_04', 'item_003'), (19, 0, 0)),\n",
       " (('line_04', 'item_003'), (19, 0, 0)),\n",
       " (('line_04', 'item_003'), (19, 0, 0)),\n",
       " (('line_04', 'item_003'), (19, 0, 0)),\n",
       " (('line_04', 'item_003'), (19, 0, 0)),\n",
       " (('line_03', 'item_009'), (21, 0, 0)),\n",
       " (('line_03', 'item_009'), (21, 0, 0)),\n",
       " (('line_02', 'item_014'), (19, 0, 0)),\n",
       " (('line_02', 'item_014'), (19, 0, 0)),\n",
       " (('line_02', 'item_014'), (19, 0, 0)),\n",
       " (('line_01', 'item_005'), (22, 0, 0)),\n",
       " (('line_04', 'item_013'), (22, 0, 0)),\n",
       " (('line_02', 'item_009'), (16, 0, 0)),\n",
       " (('line_02', 'item_009'), (16, 0, 0)),\n",
       " (('line_02', 'item_009'), (16, 0, 0)),\n",
       " (('line_02', 'item_009'), (16, 0, 0)),\n",
       " (('line_05', 'item_004'), (23, 0, 0)),\n",
       " (('line_05', 'item_004'), (23, 0, 0)),\n",
       " (('line_05', 'item_004'), (23, 0, 0)),\n",
       " (('line_02', 'item_013'), (13, 0, 0)),\n",
       " (('line_02', 'item_013'), (13, 0, 0)),\n",
       " (('line_02', 'item_013'), (13, 0, 0)),\n",
       " (('line_02', 'item_013'), (13, 0, 0)),\n",
       " (('line_02', 'item_002'), (17, 0, 0)),\n",
       " (('line_02', 'item_002'), (17, 0, 0)),\n",
       " (('line_04', 'item_014'), (19, 0, 0)),\n",
       " (('line_03', 'item_010'), (15, 0, 0)),\n",
       " (('line_03', 'item_010'), (15, 0, 0)),\n",
       " (('line_02', 'item_008'), (15, 0, 0)),\n",
       " (('line_02', 'item_008'), (15, 0, 0)),\n",
       " (('line_02', 'item_008'), (15, 0, 0)),\n",
       " (('line_02', 'item_008'), (15, 0, 0)),\n",
       " (('line_02', 'item_008'), (15, 0, 0)),\n",
       " (('line_04', 'item_001'), (23, 0, 0)),\n",
       " (('line_04', 'item_001'), (23, 0, 0)),\n",
       " (('line_01', 'item_006'), (22, 0, 0)),\n",
       " (('line_01', 'item_006'), (22, 0, 0)),\n",
       " (('line_01', 'item_006'), (22, 0, 0)),\n",
       " (('line_04', 'item_004'), (16, 0, 0)),\n",
       " (('line_04', 'item_004'), (16, 0, 0)),\n",
       " (('line_04', 'item_004'), (16, 0, 0)),\n",
       " (('line_04', 'item_004'), (16, 0, 0)),\n",
       " (('line_04', 'item_004'), (16, 0, 0)),\n",
       " (('line_04', 'item_004'), (16, 0, 0)),\n",
       " (('line_04', 'item_004'), (16, 0, 0)),\n",
       " (('line_04', 'item_004'), (16, 0, 0)),\n",
       " (('line_04', 'item_004'), (16, 0, 0)),\n",
       " (('line_04', 'item_004'), (16, 0, 0)),\n",
       " (('line_04', 'item_004'), (16, 0, 0)),\n",
       " (('line_04', 'item_004'), (16, 0, 0)),\n",
       " (('line_04', 'item_004'), (16, 0, 0)),\n",
       " (('line_04', 'item_004'), (16, 0, 0)),\n",
       " (('line_03', 'item_006'), (20, 0, 0)),\n",
       " (('line_03', 'item_006'), (20, 0, 0)),\n",
       " (('line_02', 'item_015'), (19, 0, 0)),\n",
       " (('line_02', 'item_015'), (19, 0, 0)),\n",
       " (('line_02', 'item_015'), (19, 0, 0)),\n",
       " (('line_02', 'item_015'), (19, 0, 0)),\n",
       " (('line_02', 'item_015'), (19, 0, 0)),\n",
       " (('line_03', 'item_001'), (24, 0, 0)),\n",
       " (('line_03', 'item_001'), (24, 0, 0)),\n",
       " (('line_03', 'item_001'), (24, 0, 0)),\n",
       " (('line_03', 'item_001'), (24, 0, 0)),\n",
       " (('line_03', 'item_001'), (24, 0, 0)),\n",
       " (('line_03', 'item_001'), (24, 0, 0)),\n",
       " (('line_04', 'item_006'), (17, 0, 0)),\n",
       " (('line_04', 'item_006'), (17, 0, 0)),\n",
       " (('line_04', 'item_006'), (17, 0, 0)),\n",
       " (('line_01', 'item_009'), (19, 0, 0)),\n",
       " (('line_01', 'item_009'), (19, 0, 0)),\n",
       " (('line_01', 'item_009'), (19, 0, 0)),\n",
       " (('line_01', 'item_009'), (19, 0, 0)),\n",
       " (('line_01', 'item_009'), (19, 0, 0)),\n",
       " (('line_01', 'item_015'), (19, 0, 0)),\n",
       " (('line_01', 'item_015'), (19, 0, 0)),\n",
       " (('line_01', 'item_015'), (19, 0, 0)),\n",
       " (('line_01', 'item_015'), (19, 0, 0)),\n",
       " (('line_01', 'item_015'), (19, 0, 0)),\n",
       " (('line_01', 'item_015'), (19, 0, 0)),\n",
       " (('line_01', 'item_015'), (19, 0, 0)),\n",
       " (('line_01', 'item_010'), (20, 0, 0)),\n",
       " (('line_01', 'item_010'), (20, 0, 0)),\n",
       " (('line_01', 'item_010'), (20, 0, 0)),\n",
       " (('line_04', 'item_011'), (25, 0, 0)),\n",
       " (('line_04', 'item_011'), (25, 0, 0)),\n",
       " (('line_04', 'item_011'), (25, 0, 0)),\n",
       " (('line_05', 'item_005'), (19, 0, 0)),\n",
       " (('line_05', 'item_005'), (19, 0, 0)),\n",
       " (('line_05', 'item_005'), (19, 0, 0)),\n",
       " (('line_04', 'item_015'), (24, 0, 0)),\n",
       " (('line_03', 'item_014'), (21, 0, 0)),\n",
       " (('line_03', 'item_014'), (21, 0, 0)),\n",
       " (('line_02', 'item_005'), (25, 0, 0)),\n",
       " (('line_02', 'item_005'), (25, 0, 0)),\n",
       " (('line_02', 'item_005'), (25, 0, 0)),\n",
       " (('line_02', 'item_005'), (25, 0, 0)),\n",
       " (('line_01', 'item_012'), (24, 0, 0)),\n",
       " (('line_01', 'item_012'), (24, 0, 0)),\n",
       " (('line_01', 'item_012'), (24, 0, 0)),\n",
       " (('line_05', 'item_001'), (18, 0, 0)),\n",
       " (('line_02', 'item_004'), (13, 0, 0)),\n",
       " (('line_02', 'item_004'), (13, 0, 0)),\n",
       " (('line_02', 'item_004'), (13, 0, 0)),\n",
       " (('line_05', 'item_014'), (19, 0, 0)),\n",
       " (('line_01', 'item_001'), (11, 0, 0)),\n",
       " (('line_01', 'item_001'), (11, 0, 0)),\n",
       " (('line_01', 'item_007'), (27, 0, 0)),\n",
       " (('line_01', 'item_007'), (27, 0, 0)),\n",
       " (('line_04', 'item_005'), (25, 0, 0)),\n",
       " (('line_02', 'item_010'), (17, 0, 0)),\n",
       " (('line_02', 'item_010'), (17, 0, 0)),\n",
       " (('line_02', 'item_010'), (17, 0, 0)),\n",
       " (('line_01', 'item_002'), (20, 0, 0)),\n",
       " (('line_05', 'item_015'), (13, 0, 0)),\n",
       " (('line_05', 'item_015'), (13, 0, 0)),\n",
       " (('line_05', 'item_015'), (13, 0, 0)),\n",
       " (('line_05', 'item_015'), (13, 0, 0)),\n",
       " (('line_05', 'item_015'), (13, 0, 0)),\n",
       " (('line_05', 'item_015'), (13, 0, 0)),\n",
       " (('line_05', 'item_015'), (13, 0, 0)),\n",
       " (('line_05', 'item_015'), (13, 0, 0)),\n",
       " (('line_05', 'item_015'), (13, 0, 0)),\n",
       " (('line_01', 'item_013'), (25, 0, 0)),\n",
       " (('line_01', 'item_013'), (25, 0, 0)),\n",
       " (('line_01', 'item_013'), (25, 0, 0)),\n",
       " (('line_01', 'item_013'), (25, 0, 0)),\n",
       " (('line_01', 'item_013'), (25, 0, 0)),\n",
       " (('line_03', 'item_013'), (29, 0, 0)),\n",
       " (('line_03', 'item_013'), (29, 0, 0)),\n",
       " (('line_04', 'item_009'), (16, 0, 0)),\n",
       " (('line_04', 'item_009'), (16, 0, 0)),\n",
       " (('line_04', 'item_009'), (16, 0, 0)),\n",
       " (('line_04', 'item_009'), (16, 0, 0)),\n",
       " (('line_04', 'item_009'), (16, 0, 0)),\n",
       " (('line_04', 'item_009'), (16, 0, 0)),\n",
       " (('line_04', 'item_009'), (16, 0, 0)),\n",
       " (('line_04', 'item_007'), (24, 0, 0)),\n",
       " ...]"
      ]
     },
     "execution_count": 38,
     "metadata": {},
     "output_type": "execute_result"
    }
   ],
   "source": [
    "def lineMaker(row):\n",
    "    return (row.get(\"key\"),(0,0,1) if row.get(\"value\").get(\"deltaTime\")>timedelta(0) \n",
    "                                            else (0,1,0) if row.get(\"value\").get(\"deltaTime\") == 0\n",
    "                                            else (1,0,0))\n",
    "    \n",
    "rowDistribution = step2.map(lambda x: lineMaker(x)).reduceByKey(lambda x,y: (x[0]+y[0],x[1]+y[1],x[2]+y[2])).persist()\n",
    "[(k[0][0],k[1]) for k in rowDistribution.collect() if k[1][2] == 0]"
   ]
  },
  {
   "cell_type": "code",
   "execution_count": 44,
   "metadata": {},
   "outputs": [
    {
     "data": {
      "text/plain": [
       "(1266, 25000)"
      ]
     },
     "execution_count": 44,
     "metadata": {},
     "output_type": "execute_result"
    }
   ],
   "source": [
    "len([(k[0][0],k[1]) for k in rowDistribution.collect() if k[1][2] == 0]),len([(k[0][0],k[1]) for k in rowDistribution.collect() if k[1][2] == 0]) + step3_1.count()"
   ]
  },
  {
   "cell_type": "markdown",
   "metadata": {},
   "source": [
    "## Step3.ter maybe this is the good one"
   ]
  },
  {
   "cell_type": "code",
   "execution_count": 40,
   "metadata": {},
   "outputs": [
    {
     "data": {
      "text/plain": [
       "25000"
      ]
     },
     "execution_count": 40,
     "metadata": {},
     "output_type": "execute_result"
    }
   ],
   "source": [
    "def reduceFun(val1,val2):\n",
    "    val1Delta = val1.get(\"deltaTime\")\n",
    "    val2Delta = val2.get(\"deltaTime\")\n",
    "    if val1Delta >= timedelta(0) and val2Delta >=timedelta(0):\n",
    "        return val1 if  val1Delta < val2Delta else val2\n",
    "    elif val1Delta < timedelta(0) and val2Delta <timedelta(0): \n",
    "        return val1 if  val1Delta > val2Delta else val2\n",
    "    else: \n",
    "        return val1 if val1Delta>=timedelta(0) else val2\n",
    "        \n",
    "def lineParser(row):\n",
    "    return {\"lineId\":row[0][0][0],\"itemId\":row[0][0][1],\"creationDate\":row[0][1], \"deltaTime\":row[1].get(\"deltaTime\"),\n",
    "                 \"qty\":row[1].get(\"logLine\").get(\"qty\"),\"cost\":row[1].get(\"masterLine\").get(\"cost\")}\n",
    "\n",
    "\n",
    "step3_2 = step2.map(lambda x: (x.get(\"key\"),x.get(\"value\")))\\\n",
    "            .reduceByKey(lambda x,y: reduceFun(x,y)).map(lambda x: lineParser(x))\n",
    "step3_2.count()"
   ]
  },
  {
   "cell_type": "code",
   "execution_count": 41,
   "metadata": {},
   "outputs": [
    {
     "data": {
      "text/plain": [
       "(23989, 1011)"
      ]
     },
     "execution_count": 41,
     "metadata": {},
     "output_type": "execute_result"
    }
   ],
   "source": [
    "step3_0 = step3.map(lambda x: lineParser(x))\n",
    "step3_0.filter(lambda x: x.get(\"deltaTime\")<timedelta(0)).count(),step3_0.filter(lambda x: x.get(\"deltaTime\")>=timedelta(0)).count()"
   ]
  },
  {
   "cell_type": "code",
   "execution_count": 42,
   "metadata": {},
   "outputs": [
    {
     "data": {
      "text/plain": [
       "(0, 23734)"
      ]
     },
     "execution_count": 42,
     "metadata": {},
     "output_type": "execute_result"
    }
   ],
   "source": [
    "step3_1_0 = step3_1.map(lambda x: lineParser(x))\n",
    "step3_1_0.filter(lambda x: x.get(\"deltaTime\")<timedelta(0)).count(),step3_1_0.filter(lambda x: x.get(\"deltaTime\")>=timedelta(0)).count()"
   ]
  },
  {
   "cell_type": "code",
   "execution_count": 43,
   "metadata": {},
   "outputs": [
    {
     "data": {
      "text/plain": [
       "(1266, 23734)"
      ]
     },
     "execution_count": 43,
     "metadata": {},
     "output_type": "execute_result"
    }
   ],
   "source": [
    "step3_2.filter(lambda x: x.get(\"deltaTime\")<timedelta(0)).count(),step3_2.filter(lambda x: x.get(\"deltaTime\")>=timedelta(0)).count()"
   ]
  }
 ],
 "metadata": {
  "kernelspec": {
   "display_name": "Python 3",
   "language": "python",
   "name": "python3"
  },
  "language_info": {
   "codemirror_mode": {
    "name": "ipython",
    "version": 3
   },
   "file_extension": ".py",
   "mimetype": "text/x-python",
   "name": "python",
   "nbconvert_exporter": "python",
   "pygments_lexer": "ipython3",
   "version": "3.8.6"
  }
 },
 "nbformat": 4,
 "nbformat_minor": 4
}
