{
 "cells": [
  {
   "cell_type": "markdown",
   "metadata": {},
   "source": [
    "VISTO LEZ 10 anche se non spiega niente\n",
    "spiega solo come usa i suoi rowGenerator e datasetGenerator\n",
    "VISTO LEZ 12 (i commenti alle celle li ha fatti qua FINO A JOIN OVER TIME)\n",
    "VISTO LEZ 13 (da join over time)"
   ]
  },
  {
   "cell_type": "code",
   "execution_count": 1,
   "metadata": {},
   "outputs": [],
   "source": [
    "#remember to clone https://github.com/brcondor/Architectures_for_Big_Data into '/home/jovyan/work/'\n",
    "import sys\n",
    "sys.path.append(\"/home/jovyan/work/Architectures_for_Big_Data/\")\n",
    "import pyspark\n",
    "sc = pyspark.SparkContext(\"local[3]\")"
   ]
  },
  {
   "cell_type": "code",
   "execution_count": 2,
   "metadata": {},
   "outputs": [
    {
     "data": {
      "text/plain": [
       "{'lineId': 'line_04',\n",
       " 'itemId': 'item_010',\n",
       " 'creationDate': datetime.datetime(2010, 1, 1, 0, 2, 51),\n",
       " 'qty': 91}"
      ]
     },
     "execution_count": 2,
     "metadata": {},
     "output_type": "execute_result"
    }
   ],
   "source": [
    "from dataGenerator.rowGenerator import *\n",
    "from dataGenerator.datasetGenerator import *\n",
    "\n",
    "# genera dati a caso con i suoi generatori\n",
    "\n",
    "dataset = datasetGenerator()\n",
    "dataset.addGenerator(idGenerator(),prefix=\"line\",min=1,max=5,keyName=\"lineId\")\n",
    "dataset.addGenerator(idGenerator(),prefix=\"item\",min=1,max=15,keyName=\"itemId\")\n",
    "dataset.addGenerator(tickGenerator(),minTick=600,maxTick=1800,keyName=\"creationDate\")\n",
    "dataset.addGenerator(intGenerator(),keyName=\"qty\")\n",
    "\n",
    "logRdd = sc.parallelize( dataset.generateDataset(25000)).persist()\n",
    "logRdd.first()"
   ]
  },
  {
   "cell_type": "code",
   "execution_count": 3,
   "metadata": {},
   "outputs": [
    {
     "data": {
      "text/plain": [
       "['2010-01-01 00:29:14',\n",
       " '2010-01-01 00:40:41',\n",
       " '2010-01-01 00:46:42',\n",
       " '2010-01-01 00:48:52',\n",
       " '2010-01-01 01:04:44']"
      ]
     },
     "execution_count": 3,
     "metadata": {},
     "output_type": "execute_result"
    }
   ],
   "source": [
    "# lets see the oldest entry\n",
    "logRdd.map(lambda x: x.get(\"creationDate\")).sortBy(lambda x: x).map(lambda x: str(x)).take(5)"
   ]
  },
  {
   "cell_type": "code",
   "execution_count": 23,
   "metadata": {},
   "outputs": [
    {
     "data": {
      "text/plain": [
       "[('line_01', 'item_001'),\n",
       " ('line_01', 'item_002'),\n",
       " ('line_01', 'item_003'),\n",
       " ('line_01', 'item_004'),\n",
       " ('line_01', 'item_005'),\n",
       " ('line_01', 'item_006'),\n",
       " ('line_01', 'item_007'),\n",
       " ('line_01', 'item_008'),\n",
       " ('line_01', 'item_009'),\n",
       " ('line_01', 'item_010'),\n",
       " ('line_01', 'item_011'),\n",
       " ('line_01', 'item_012'),\n",
       " ('line_01', 'item_013'),\n",
       " ('line_01', 'item_014'),\n",
       " ('line_01', 'item_015'),\n",
       " ('line_02', 'item_001'),\n",
       " ('line_02', 'item_002'),\n",
       " ('line_02', 'item_003'),\n",
       " ('line_02', 'item_004'),\n",
       " ('line_02', 'item_005'),\n",
       " ('line_02', 'item_006'),\n",
       " ('line_02', 'item_007'),\n",
       " ('line_02', 'item_008'),\n",
       " ('line_02', 'item_009'),\n",
       " ('line_02', 'item_010'),\n",
       " ('line_02', 'item_011'),\n",
       " ('line_02', 'item_012'),\n",
       " ('line_02', 'item_013'),\n",
       " ('line_02', 'item_014'),\n",
       " ('line_02', 'item_015'),\n",
       " ('line_03', 'item_001'),\n",
       " ('line_03', 'item_002'),\n",
       " ('line_03', 'item_003'),\n",
       " ('line_03', 'item_004'),\n",
       " ('line_03', 'item_005'),\n",
       " ('line_03', 'item_006'),\n",
       " ('line_03', 'item_007'),\n",
       " ('line_03', 'item_008'),\n",
       " ('line_03', 'item_009'),\n",
       " ('line_03', 'item_010'),\n",
       " ('line_03', 'item_011'),\n",
       " ('line_03', 'item_012'),\n",
       " ('line_03', 'item_013'),\n",
       " ('line_03', 'item_014'),\n",
       " ('line_03', 'item_015'),\n",
       " ('line_04', 'item_001'),\n",
       " ('line_04', 'item_002'),\n",
       " ('line_04', 'item_003'),\n",
       " ('line_04', 'item_004'),\n",
       " ('line_04', 'item_005'),\n",
       " ('line_04', 'item_006'),\n",
       " ('line_04', 'item_007'),\n",
       " ('line_04', 'item_008'),\n",
       " ('line_04', 'item_009'),\n",
       " ('line_04', 'item_010'),\n",
       " ('line_04', 'item_011'),\n",
       " ('line_04', 'item_012'),\n",
       " ('line_04', 'item_013'),\n",
       " ('line_04', 'item_014'),\n",
       " ('line_04', 'item_015'),\n",
       " ('line_05', 'item_001'),\n",
       " ('line_05', 'item_002'),\n",
       " ('line_05', 'item_003'),\n",
       " ('line_05', 'item_004'),\n",
       " ('line_05', 'item_005'),\n",
       " ('line_05', 'item_006'),\n",
       " ('line_05', 'item_007'),\n",
       " ('line_05', 'item_008'),\n",
       " ('line_05', 'item_009'),\n",
       " ('line_05', 'item_010'),\n",
       " ('line_05', 'item_011'),\n",
       " ('line_05', 'item_012'),\n",
       " ('line_05', 'item_013'),\n",
       " ('line_05', 'item_014'),\n",
       " ('line_05', 'item_015')]"
      ]
     },
     "execution_count": 23,
     "metadata": {},
     "output_type": "execute_result"
    }
   ],
   "source": [
    "# lets check that all couples line-item are there\n",
    "logRdd.map(lambda x: (x.get(\"lineId\"),x.get(\"itemId\"))).distinct().sortBy(lambda x: (x[0],x[1])).collect()"
   ]
  },
  {
   "cell_type": "code",
   "execution_count": 3,
   "metadata": {},
   "outputs": [
    {
     "data": {
      "text/plain": [
       "[('line_01', 15),\n",
       " ('line_02', 15),\n",
       " ('line_03', 15),\n",
       " ('line_04', 15),\n",
       " ('line_05', 15)]"
      ]
     },
     "execution_count": 3,
     "metadata": {},
     "output_type": "execute_result"
    }
   ],
   "source": [
    "# PATTERN VISTO COUNT OCCURRENCES check how many times a line appears\n",
    "logRdd.map(lambda x: (x.get(\"lineId\"),x.get(\"itemId\"))).distinct().map(lambda x: (x[0],1))\\\n",
    "        .reduceByKey(lambda x,y: x+y).sortBy(lambda x: x[0]).collect()"
   ]
  },
  {
   "cell_type": "code",
   "execution_count": 14,
   "metadata": {},
   "outputs": [
    {
     "data": {
      "text/plain": [
       "'2010-09-18 08:26:07'"
      ]
     },
     "execution_count": 14,
     "metadata": {},
     "output_type": "execute_result"
    }
   ],
   "source": [
    "# most recent\n",
    "maxDate = logRdd.map(lambda x: x.get(\"creationDate\")).max()\n",
    "str(maxDate)\n"
   ]
  },
  {
   "cell_type": "code",
   "execution_count": 15,
   "metadata": {},
   "outputs": [
    {
     "data": {
      "text/plain": [
       "{'lineId': 'line_03',\n",
       " 'itemId': 'item_009',\n",
       " 'registryInsertTimestamp': datetime.datetime(2010, 7, 20, 18, 24, 55),\n",
       " 'cost': 862}"
      ]
     },
     "execution_count": 15,
     "metadata": {},
     "output_type": "execute_result"
    }
   ],
   "source": [
    "# lets add another rdd (masterrdd) with same keys plis a registryinsertts. this simulates a cdc off a master data table.\n",
    "# it's the ts that signals that the line changed. this is useful when you want to know how data changes over time.\n",
    "from dataGenerator.rowGenerator import *\n",
    "from dataGenerator.datasetGenerator import *\n",
    "\n",
    "dataset = datasetGenerator()\n",
    "dataset.addGenerator(idGenerator(),prefix=\"line\",min=1,max=5,keyName=\"lineId\")\n",
    "dataset.addGenerator(idGenerator(),prefix=\"item\",min=1,max=15,keyName=\"itemId\")\n",
    "dataset.addGenerator(dateGenerator(),endDate=maxDate,keyName=\"registryInsertTimestamp\")\n",
    "dataset.addGenerator(intGenerator(),\"cost\")\n",
    "\n",
    "masterDataRdd = sc.parallelize( dataset.generateDataset(1500)).persist()\n",
    "masterDataRdd.first()"
   ]
  },
  {
   "cell_type": "code",
   "execution_count": 16,
   "metadata": {},
   "outputs": [
    {
     "data": {
      "text/plain": [
       "datetime.datetime(2010, 9, 18, 2, 31, 5)"
      ]
     },
     "execution_count": 16,
     "metadata": {},
     "output_type": "execute_result"
    }
   ],
   "source": [
    "masterDataRdd.map(lambda x: x.get(\"registryInsertTimestamp\")).max()"
   ]
  },
  {
   "cell_type": "markdown",
   "metadata": {},
   "source": [
    "# Bean Counter"
   ]
  },
  {
   "cell_type": "code",
   "execution_count": 9,
   "metadata": {},
   "outputs": [
    {
     "data": {
      "text/plain": [
       "{'lineId': 'line_05',\n",
       " 'itemId': 'item_011',\n",
       " 'creationDate': datetime.datetime(2010, 1, 1, 0, 29, 14),\n",
       " 'qty': 824}"
      ]
     },
     "execution_count": 9,
     "metadata": {},
     "output_type": "execute_result"
    }
   ],
   "source": [
    "# this is useful just to know the data structure\n",
    "logRdd.first()"
   ]
  },
  {
   "cell_type": "markdown",
   "metadata": {},
   "source": [
    "## How many lines per item?"
   ]
  },
  {
   "cell_type": "code",
   "execution_count": 10,
   "metadata": {},
   "outputs": [
    {
     "data": {
      "text/plain": [
       "[('item_003', 1724),\n",
       " ('item_002', 1610),\n",
       " ('item_005', 1679),\n",
       " ('item_010', 1690),\n",
       " ('item_007', 1665)]"
      ]
     },
     "execution_count": 10,
     "metadata": {},
     "output_type": "execute_result"
    }
   ],
   "source": [
    "# how many times an item shows up\n",
    "logRdd.map(lambda x: (x.get(\"itemId\"),1)).reduceByKey(lambda x,y: x+y).take(5)"
   ]
  },
  {
   "cell_type": "markdown",
   "metadata": {},
   "source": [
    "## How much qty per item?"
   ]
  },
  {
   "cell_type": "code",
   "execution_count": 13,
   "metadata": {},
   "outputs": [
    {
     "data": {
      "text/plain": [
       "[('item_015', 822107),\n",
       " ('item_014', 823417),\n",
       " ('item_013', 805765),\n",
       " ('item_012', 833216),\n",
       " ('item_011', 859989),\n",
       " ('item_010', 847069),\n",
       " ('item_009', 812745),\n",
       " ('item_008', 815525),\n",
       " ('item_007', 835245),\n",
       " ('item_006', 835307),\n",
       " ('item_005', 833672),\n",
       " ('item_004', 828181),\n",
       " ('item_003', 887633),\n",
       " ('item_002', 807583),\n",
       " ('item_001', 838001)]"
      ]
     },
     "execution_count": 13,
     "metadata": {},
     "output_type": "execute_result"
    }
   ],
   "source": [
    "# summing the quantity per item\n",
    "def f(x,y):\n",
    "    numberOfItems = x+y\n",
    "    return numberOfItems\n",
    "logRdd.map(lambda x: (x.get(\"itemId\"),x.get(\"qty\"))).reduceByKey(lambda x,y: f(x,y)).top(100,lambda x: x[0])"
   ]
  },
  {
   "cell_type": "code",
   "execution_count": 14,
   "metadata": {},
   "outputs": [
    {
     "data": {
      "text/plain": [
       "[('item_015', 822107),\n",
       " ('item_014', 823417),\n",
       " ('item_013', 805765),\n",
       " ('item_012', 833216),\n",
       " ('item_011', 859989),\n",
       " ('item_010', 847069),\n",
       " ('item_009', 812745),\n",
       " ('item_008', 815525),\n",
       " ('item_007', 835245),\n",
       " ('item_006', 835307),\n",
       " ('item_005', 833672),\n",
       " ('item_004', 828181),\n",
       " ('item_003', 887633),\n",
       " ('item_002', 807583),\n",
       " ('item_001', 838001)]"
      ]
     },
     "execution_count": 14,
     "metadata": {},
     "output_type": "execute_result"
    }
   ],
   "source": [
    "# (scritta io) stessa cosa ma senza f\n",
    "logRdd.map(lambda x: (x.get(\"itemId\"),x.get(\"qty\"))).reduceByKey(lambda x,y: x+y).top(100,lambda x: x[0])"
   ]
  },
  {
   "cell_type": "code",
   "execution_count": 15,
   "metadata": {},
   "outputs": [
    {
     "data": {
      "text/plain": [
       "[('item_001', 838001),\n",
       " ('item_002', 807583),\n",
       " ('item_003', 887633),\n",
       " ('item_004', 828181),\n",
       " ('item_005', 833672),\n",
       " ('item_006', 835307),\n",
       " ('item_007', 835245),\n",
       " ('item_008', 815525),\n",
       " ('item_009', 812745),\n",
       " ('item_010', 847069),\n",
       " ('item_011', 859989),\n",
       " ('item_012', 833216),\n",
       " ('item_013', 805765),\n",
       " ('item_014', 823417),\n",
       " ('item_015', 822107)]"
      ]
     },
     "execution_count": 15,
     "metadata": {},
     "output_type": "execute_result"
    }
   ],
   "source": [
    "# just to show a more complex final sorti\n",
    "def f(x,y):\n",
    "    numberOfItems = x+y\n",
    "    return numberOfItems\n",
    "logRdd.map(lambda x: (x.get(\"itemId\"),x.get(\"qty\"))).reduceByKey(lambda x,y: f(x,y))\\\n",
    "                    .top(100,key=lambda x: 1/int(x[0].split(\"_\")[1]))"
   ]
  },
  {
   "cell_type": "markdown",
   "metadata": {},
   "source": [
    "## How much qty in average per item?"
   ]
  },
  {
   "cell_type": "code",
   "execution_count": 16,
   "metadata": {},
   "outputs": [
    {
     "data": {
      "text/plain": [
       "[('item_003', 514.8683294663573),\n",
       " ('item_002', 501.60434782608695),\n",
       " ('item_005', 496.5288862418106),\n",
       " ('item_010', 501.22426035502957),\n",
       " ('item_007', 501.64864864864865)]"
      ]
     },
     "execution_count": 16,
     "metadata": {},
     "output_type": "execute_result"
    }
   ],
   "source": [
    "def f(x,y):\n",
    "    cumulateQty = x[0]+y[0]\n",
    "    numberOfItems = x[1]+y[1]\n",
    "    return cumulateQty,numberOfItems\n",
    "    \n",
    "def prepare(x):\n",
    "    return x[0],x[1][0]/x[1][1]\n",
    "    \n",
    "logRdd.map(lambda x: (x.get(\"itemId\"),(x.get(\"qty\"),1.0))).reduceByKey(lambda x,y: f(x,y)).map(lambda x: prepare(x)).take(5)"
   ]
  },
  {
   "cell_type": "code",
   "execution_count": 17,
   "metadata": {},
   "outputs": [
    {
     "data": {
      "text/plain": [
       "(count: 15, mean: 499.4326175141998, stdev: 5.846525274434224, max: 514.8683294663573, min: 490.63290398126463)"
      ]
     },
     "execution_count": 17,
     "metadata": {},
     "output_type": "execute_result"
    }
   ],
   "source": [
    "def f(x,y):\n",
    "    cumulateQty = x[0]+y[0]\n",
    "    numberOfItems = x[1]+y[1]\n",
    "    return cumulateQty,numberOfItems\n",
    "    \n",
    "def prepare(x):\n",
    "    return x[1][0]/x[1][1]\n",
    "    \n",
    "logRdd.map(lambda x: (x.get(\"itemId\"),(x.get(\"qty\"),1.0))).reduceByKey(lambda x,y: f(x,y)).map(lambda x: prepare(x))\\\n",
    "                .stats()"
   ]
  },
  {
   "cell_type": "markdown",
   "metadata": {},
   "source": [
    "## Exercise (1): Similar statistics but on item,line couple"
   ]
  },
  {
   "cell_type": "code",
   "execution_count": 25,
   "metadata": {},
   "outputs": [
    {
     "data": {
      "text/plain": [
       "[(('item_010', 'line_04'), 355),\n",
       " (('item_001', 'line_02'), 389),\n",
       " (('item_009', 'line_04'), 322),\n",
       " (('item_002', 'line_05'), 311),\n",
       " (('item_013', 'line_01'), 318)]"
      ]
     },
     "execution_count": 25,
     "metadata": {},
     "output_type": "execute_result"
    }
   ],
   "source": [
    "# copying solution presented by a guy (LESSON 13)\n",
    "# how many lines?\n",
    "logRdd.map(lambda x: ((x.get(\"itemId\"),x.get(\"lineId\")),1)).reduceByKey(lambda x,y: x+y).take(5)"
   ]
  },
  {
   "cell_type": "code",
   "execution_count": 26,
   "metadata": {},
   "outputs": [
    {
     "data": {
      "text/plain": [
       "[(('item_010', 'line_04'), 168955),\n",
       " (('item_001', 'line_02'), 193844),\n",
       " (('item_009', 'line_04'), 166712),\n",
       " (('item_002', 'line_05'), 157655),\n",
       " (('item_013', 'line_01'), 162051)]"
      ]
     },
     "execution_count": 26,
     "metadata": {},
     "output_type": "execute_result"
    }
   ],
   "source": [
    "# how much quantity?\n",
    "logRdd.map(lambda x: ((x.get(\"itemId\"),x.get(\"lineId\")),x.get(\"qty\"))).reduceByKey(lambda x,y: x+y).take(5)"
   ]
  },
  {
   "cell_type": "code",
   "execution_count": 29,
   "metadata": {},
   "outputs": [
    {
     "data": {
      "text/plain": [
       "(count: 75, mean: 498.4581282803424, stdev: 15.16587378720956, max: 532.9333333333333, min: 460.39506172839504)"
      ]
     },
     "execution_count": 29,
     "metadata": {},
     "output_type": "execute_result"
    }
   ],
   "source": [
    "# take the prev 2 cells together and divide one by the other\n",
    "def add_elements(a,b):\n",
    "    #a = (7, 121238192)\n",
    "    #b = (12, 9812741) this fun will return (19, ...)\n",
    "    # a_n would be how many lines so far, and a_qty how much qty so far\n",
    "    a_n, a_qty = a\n",
    "    b_n, b_qty = b\n",
    "    return a_n + b_n, a_qty + b_qty\n",
    "    \n",
    "def average(x):\n",
    "    key, (n, qty) = x\n",
    "    return qty/n\n",
    "    \n",
    "(logRdd\n",
    "     .map(lambda x: ((x.get(\"itemId\"), x.get(\"lineId\")), (1.0, x.get(\"qty\"))))\n",
    "     .reduceByKey(add_elements)\n",
    "     .map(average)\n",
    "     .stats()\n",
    ")"
   ]
  },
  {
   "cell_type": "markdown",
   "metadata": {},
   "source": [
    "## lets Imagine to have 100 executors, and we want to distribute the average over lineId"
   ]
  },
  {
   "cell_type": "code",
   "execution_count": null,
   "metadata": {},
   "outputs": [],
   "source": [
    "# because we have only 15 lineids, spark will split the job on 15 workers, will leaving all other 100 workers idle\n",
    "def f(x,y):\n",
    "    cumulateQty = x[0]+y[0]\n",
    "    numberOfItems = x[1]+y[1]\n",
    "    return cumulateQty,numberOfItems\n",
    "    \n",
    "def prepare(x):\n",
    "    return x[1][0]/x[1][1]\n",
    "    \n",
    "logRdd.map(lambda x: ((x.get(\"lineId\")),(x.get(\"qty\"),1.0))).reduceByKey(lambda x,y: f(x,y))\\\n",
    "                    .map(lambda x: prepare(x))\\\n",
    "                .stats()"
   ]
  },
  {
   "cell_type": "code",
   "execution_count": null,
   "metadata": {},
   "outputs": [],
   "source": [
    "# in order to solve that problem we add a randint to associate each line with a random worker.\n",
    "# so we split 25000 elements over 100 executors\n",
    "def f(x,y):\n",
    "    cumulateQty = x[0]+y[0]\n",
    "    numberOfItems = x[1]+y[1]\n",
    "    return cumulateQty,numberOfItems\n",
    "    \n",
    "def prepare(x):\n",
    "    return x[1][0]/x[1][1]\n",
    "    \n",
    "logRdd.map(lambda x: ((randint(1,100),x.get(\"lineId\")),(x.get(\"qty\"),1.0))).reduceByKey(lambda x,y: f(x,y))\\\n",
    "                    .map(lambda x: (x[0][1],x[1])).reduceByKey(lambda x,y: f(x,y))\\\n",
    "                    .map(lambda x: prepare(x))\\\n",
    "                .stats()"
   ]
  },
  {
   "cell_type": "markdown",
   "metadata": {},
   "source": [
    "## Cycle Time = amount of time between the creation of 2 elements SAME AS SLIDES GET CLOSEST ELEMENT"
   ]
  },
  {
   "cell_type": "code",
   "execution_count": 4,
   "metadata": {},
   "outputs": [
    {
     "data": {
      "text/plain": [
       "25000"
      ]
     },
     "execution_count": 4,
     "metadata": {},
     "output_type": "execute_result"
    }
   ],
   "source": [
    "semiLogRdd = logRdd.map(lambda x: ((x.get(\"lineId\"),x.get(\"itemId\")),x)).persist()\n",
    "semiLogRdd.count()"
   ]
  },
  {
   "cell_type": "code",
   "execution_count": 5,
   "metadata": {},
   "outputs": [
    {
     "data": {
      "text/plain": [
       "8359328"
      ]
     },
     "execution_count": 5,
     "metadata": {},
     "output_type": "execute_result"
    }
   ],
   "source": [
    "# join with itself\n",
    "joinedRDD = semiLogRdd.join(semiLogRdd).persist()\n",
    "joinedRDD.count()\n",
    "#8.355.962"
   ]
  },
  {
   "cell_type": "code",
   "execution_count": 6,
   "metadata": {},
   "outputs": [
    {
     "data": {
      "text/plain": [
       "(('line_04', 'item_002'),\n",
       " ({'lineId': 'line_04',\n",
       "   'itemId': 'item_002',\n",
       "   'creationDate': datetime.datetime(2010, 1, 1, 0, 32, 21),\n",
       "   'qty': 923},\n",
       "  {'lineId': 'line_04',\n",
       "   'itemId': 'item_002',\n",
       "   'creationDate': datetime.datetime(2010, 1, 1, 0, 32, 21),\n",
       "   'qty': 923}))"
      ]
     },
     "execution_count": 6,
     "metadata": {},
     "output_type": "execute_result"
    }
   ],
   "source": [
    "# example of join with itself \n",
    "joinedRDD.first()"
   ]
  },
  {
   "cell_type": "code",
   "execution_count": 7,
   "metadata": {},
   "outputs": [
    {
     "data": {
      "text/plain": [
       "4167164"
      ]
     },
     "execution_count": 7,
     "metadata": {},
     "output_type": "execute_result"
    }
   ],
   "source": [
    "triangleJoinedRdd = joinedRDD.filter(lambda x: x[1][0].get(\"creationDate\")<x[1][1].get(\"creationDate\")).persist()\n",
    "triangleJoinedRdd.count()"
   ]
  },
  {
   "cell_type": "code",
   "execution_count": 8,
   "metadata": {},
   "outputs": [
    {
     "data": {
      "text/plain": [
       "(('line_04', 'item_002'),\n",
       " ({'lineId': 'line_04',\n",
       "   'itemId': 'item_002',\n",
       "   'creationDate': datetime.datetime(2010, 1, 1, 0, 32, 21),\n",
       "   'qty': 923},\n",
       "  {'lineId': 'line_04',\n",
       "   'itemId': 'item_002',\n",
       "   'creationDate': datetime.datetime(2010, 1, 1, 5, 16, 17),\n",
       "   'qty': 455}))"
      ]
     },
     "execution_count": 8,
     "metadata": {},
     "output_type": "execute_result"
    }
   ],
   "source": [
    "# now we have greater date\n",
    "triangleJoinedRdd.first()"
   ]
  },
  {
   "cell_type": "code",
   "execution_count": 9,
   "metadata": {},
   "outputs": [
    {
     "data": {
      "text/plain": [
       "((('line_04', 'item_002'), datetime.datetime(2010, 1, 1, 0, 32, 21)),\n",
       " (datetime.timedelta(seconds=17036),\n",
       "  (('line_04', 'item_002'),\n",
       "   ({'lineId': 'line_04',\n",
       "     'itemId': 'item_002',\n",
       "     'creationDate': datetime.datetime(2010, 1, 1, 0, 32, 21),\n",
       "     'qty': 923},\n",
       "    {'lineId': 'line_04',\n",
       "     'itemId': 'item_002',\n",
       "     'creationDate': datetime.datetime(2010, 1, 1, 5, 16, 17),\n",
       "     'qty': 455}))))"
      ]
     },
     "execution_count": 9,
     "metadata": {},
     "output_type": "execute_result"
    }
   ],
   "source": [
    "tempRdd = triangleJoinedRdd.map(lambda x: ((x[0],x[1][0].get(\"creationDate\")), \n",
    "                                 (x[1][1].get(\"creationDate\")-x[1][0].get(\"creationDate\"),x)))\n",
    "tempRdd.first()"
   ]
  },
  {
   "cell_type": "code",
   "execution_count": 10,
   "metadata": {},
   "outputs": [
    {
     "name": "stdout",
     "output_type": "stream",
     "text": [
      "(('line_04', 'item_002'), datetime.datetime(2010, 1, 1, 0, 32, 21))\n"
     ]
    },
    {
     "data": {
      "text/plain": [
       "340"
      ]
     },
     "execution_count": 10,
     "metadata": {},
     "output_type": "execute_result"
    }
   ],
   "source": [
    "# this shows that amount the 340 possible lines, we chose the one that is closest (first printed below)\n",
    "sampleLine = tempRdd.first()[0]\n",
    "print(sampleLine)\n",
    "triangleJoinedRdd.map(lambda x: ((x[0],x[1][0].get(\"creationDate\")), \n",
    "                                 (x[1][1].get(\"creationDate\")-x[1][0].get(\"creationDate\"),x)))\\\n",
    "                .filter(lambda x: x[0]==sampleLine).count()"
   ]
  },
  {
   "cell_type": "code",
   "execution_count": 11,
   "metadata": {},
   "outputs": [
    {
     "data": {
      "text/plain": [
       "{'lineId': 'line_04',\n",
       " 'itemId': 'item_002',\n",
       " 'creationDate': datetime.datetime(2010, 1, 1, 5, 16, 17),\n",
       " 'qty': 455,\n",
       " 'cycleTime': datetime.timedelta(seconds=70096)}"
      ]
     },
     "execution_count": 11,
     "metadata": {},
     "output_type": "execute_result"
    }
   ],
   "source": [
    "def f(x,y):\n",
    "    if x[0]<y[0]:\n",
    "        return x\n",
    "    return y\n",
    "\n",
    "def prepare(x):\n",
    "    x[1][1][1][0][\"cycleTime\"] = x[1][0]\n",
    "    return x[1][1][1][0]\n",
    "    \n",
    "enrichedLogRdd = triangleJoinedRdd.map(lambda x: ((x[0],x[1][0].get(\"creationDate\")), \n",
    "                                                  (x[1][1].get(\"creationDate\")-x[1][0].get(\"creationDate\"),x)))\\\n",
    "                    .reduceByKey(lambda x,y: f(x,y)).map(lambda x: prepare(x)).persist()\n",
    "enrichedLogRdd.first()"
   ]
  },
  {
   "cell_type": "markdown",
   "metadata": {},
   "source": [
    "## Exercise (2): why if we count, we see fewer items?"
   ]
  },
  {
   "cell_type": "code",
   "execution_count": null,
   "metadata": {},
   "outputs": [],
   "source": [
    "enrichedLogRdd.count()"
   ]
  },
  {
   "cell_type": "code",
   "execution_count": 30,
   "metadata": {},
   "outputs": [
    {
     "name": "stdout",
     "output_type": "stream",
     "text": [
      "75 values have disappeared from the rdd\n",
      "There are75 distinct (itemId, lineId) pairs\n",
      "This makes sense since 1 value is removed for each key\n"
     ]
    }
   ],
   "source": [
    "\"\"\"\n",
    "Because before when we create triandleJoinedRdd we filtered each pair where\n",
    "left[\"creationDate\"] < right[\"creationDate\"]\n",
    "The problem is that for the pair with the highest creationDate there can't be \n",
    "any pair where this condition is True. This means that each (itemId, lineId) with \n",
    "the highest creationDate is completely removed from the rdd.\n",
    "This sort of makes sense though, their cycle has not ended yet so we don't add them yet \n",
    "to the rdd that stores cycle times \n",
    "\"\"\"\n",
    "total_missing_values = logRdd.count() - enrichedLogRdd.count()\n",
    "print(f\"{total_missing_values} values have disappeared from the rdd\")\n",
    "\n",
    "distinct_itemId_lineId = len(logRdd.map(lambda x: ((x.get(\"itemId\"), x.get(\"lineId\")))).distinct().collect())\n",
    "print(f\"There are{distinct_itemId_lineId} distinct (itemId, lineId) pairs\")\n",
    "\n",
    "print(\"\"\"This makes sense since 1 value is removed for each key\"\"\")"
   ]
  },
  {
   "cell_type": "markdown",
   "metadata": {},
   "source": [
    "## Exercise (3): I want to see the histogram of cycle times"
   ]
  },
  {
   "cell_type": "code",
   "execution_count": null,
   "metadata": {},
   "outputs": [],
   "source": [
    "# GUARDA LESSON 003 IL PROF SPIEGA LI' l'histogram"
   ]
  },
  {
   "cell_type": "markdown",
   "metadata": {},
   "source": [
    "## Extract Snapshot from Master Data"
   ]
  },
  {
   "cell_type": "code",
   "execution_count": 17,
   "metadata": {},
   "outputs": [
    {
     "data": {
      "text/plain": [
       "(('line_03', 'item_009'), (862, datetime.datetime(2010, 7, 20, 18, 24, 55)))"
      ]
     },
     "execution_count": 17,
     "metadata": {},
     "output_type": "execute_result"
    }
   ],
   "source": [
    "# snapshot = most recent situation. for each key we must find the most recent value of cost\n",
    "tempRdd = masterDataRdd.map(lambda x: ((x.get(\"lineId\"),x.get(\"itemId\")), (x.get(\"cost\"),x.get(\"registryInsertTimestamp\")) )  )\n",
    "tempRdd.first()"
   ]
  },
  {
   "cell_type": "code",
   "execution_count": 18,
   "metadata": {},
   "outputs": [
    {
     "data": {
      "text/plain": [
       "75"
      ]
     },
     "execution_count": 18,
     "metadata": {},
     "output_type": "execute_result"
    }
   ],
   "source": [
    "masterDataRdd.map(lambda x: ((x.get(\"lineId\"),x.get(\"itemId\")))).distinct().count()"
   ]
  },
  {
   "cell_type": "code",
   "execution_count": 19,
   "metadata": {},
   "outputs": [
    {
     "name": "stdout",
     "output_type": "stream",
     "text": [
      "('line_03', 'item_009')\n"
     ]
    },
    {
     "data": {
      "text/plain": [
       "[(('line_03', 'item_009'), (336, '2010-01-26 18:18:27')),\n",
       " (('line_03', 'item_009'), (740, '2010-02-09 14:14:32')),\n",
       " (('line_03', 'item_009'), (186, '2010-02-10 05:27:24')),\n",
       " (('line_03', 'item_009'), (318, '2010-02-20 09:42:32')),\n",
       " (('line_03', 'item_009'), (262, '2010-03-01 20:26:54')),\n",
       " (('line_03', 'item_009'), (774, '2010-03-18 20:07:38')),\n",
       " (('line_03', 'item_009'), (438, '2010-03-23 04:49:49')),\n",
       " (('line_03', 'item_009'), (623, '2010-03-26 21:30:15')),\n",
       " (('line_03', 'item_009'), (425, '2010-03-31 04:55:31')),\n",
       " (('line_03', 'item_009'), (318, '2010-04-21 16:29:29')),\n",
       " (('line_03', 'item_009'), (206, '2010-05-31 17:15:42')),\n",
       " (('line_03', 'item_009'), (384, '2010-06-06 23:02:44')),\n",
       " (('line_03', 'item_009'), (256, '2010-06-12 18:38:53')),\n",
       " (('line_03', 'item_009'), (957, '2010-06-18 00:46:14')),\n",
       " (('line_03', 'item_009'), (85, '2010-06-23 08:16:27')),\n",
       " (('line_03', 'item_009'), (315, '2010-06-30 03:50:29')),\n",
       " (('line_03', 'item_009'), (689, '2010-07-14 11:28:41')),\n",
       " (('line_03', 'item_009'), (862, '2010-07-20 18:24:55'))]"
      ]
     },
     "execution_count": 19,
     "metadata": {},
     "output_type": "execute_result"
    }
   ],
   "source": [
    "sampleLine = tempRdd.first()[0]\n",
    "print(sampleLine)\n",
    "masterDataRdd.map(lambda x: ((x.get(\"lineId\"),x.get(\"itemId\")), (x.get(\"cost\"),str(x.get(\"registryInsertTimestamp\"))) )  )\\\n",
    "            .filter(lambda x: x[0]==sampleLine).sortBy(lambda x: x[1][1]).collect()"
   ]
  },
  {
   "cell_type": "code",
   "execution_count": 20,
   "metadata": {},
   "outputs": [
    {
     "data": {
      "text/plain": [
       "1500"
      ]
     },
     "execution_count": 20,
     "metadata": {},
     "output_type": "execute_result"
    }
   ],
   "source": [
    "masterDataRdd.count()"
   ]
  },
  {
   "cell_type": "code",
   "execution_count": 21,
   "metadata": {},
   "outputs": [
    {
     "data": {
      "text/plain": [
       "[(('line_03', 'item_009'), (862, '2010-07-20 18:24:55')),\n",
       " (('line_04', 'item_003'), (154, '2010-09-14 13:09:09')),\n",
       " (('line_01', 'item_011'), (945, '2010-09-17 01:38:04')),\n",
       " (('line_03', 'item_005'), (890, '2010-09-16 23:22:00')),\n",
       " (('line_05', 'item_001'), (797, '2010-09-06 07:12:42')),\n",
       " (('line_01', 'item_015'), (879, '2010-08-31 22:46:34')),\n",
       " (('line_05', 'item_010'), (544, '2010-09-16 13:02:37')),\n",
       " (('line_01', 'item_003'), (993, '2010-09-03 22:29:05')),\n",
       " (('line_04', 'item_015'), (209, '2010-08-20 22:53:27')),\n",
       " (('line_04', 'item_002'), (643, '2010-09-04 05:39:45')),\n",
       " (('line_02', 'item_014'), (958, '2010-09-04 17:10:30')),\n",
       " (('line_02', 'item_011'), (585, '2010-09-12 14:17:51')),\n",
       " (('line_02', 'item_005'), (719, '2010-09-17 17:24:43')),\n",
       " (('line_01', 'item_005'), (770, '2010-09-09 18:46:16')),\n",
       " (('line_03', 'item_004'), (78, '2010-09-13 08:23:28')),\n",
       " (('line_05', 'item_005'), (398, '2010-08-10 13:17:46')),\n",
       " (('line_01', 'item_010'), (133, '2010-09-01 06:10:33')),\n",
       " (('line_02', 'item_004'), (227, '2010-09-13 23:04:32')),\n",
       " (('line_04', 'item_011'), (788, '2010-09-06 19:54:46')),\n",
       " (('line_01', 'item_012'), (68, '2010-09-12 00:50:27')),\n",
       " (('line_03', 'item_007'), (783, '2010-09-18 02:31:05')),\n",
       " (('line_05', 'item_008'), (494, '2010-09-08 19:53:26')),\n",
       " (('line_03', 'item_014'), (45, '2010-09-13 19:34:56')),\n",
       " (('line_04', 'item_013'), (611, '2010-09-08 19:38:07')),\n",
       " (('line_02', 'item_003'), (622, '2010-09-08 16:42:50')),\n",
       " (('line_03', 'item_010'), (513, '2010-09-10 10:35:44')),\n",
       " (('line_03', 'item_003'), (699, '2010-09-14 20:55:37')),\n",
       " (('line_05', 'item_014'), (725, '2010-09-15 03:12:24')),\n",
       " (('line_03', 'item_013'), (482, '2010-09-15 02:41:48')),\n",
       " (('line_04', 'item_010'), (5, '2010-09-03 19:52:11')),\n",
       " (('line_01', 'item_007'), (348, '2010-08-27 08:20:53')),\n",
       " (('line_03', 'item_015'), (722, '2010-09-14 14:09:04')),\n",
       " (('line_01', 'item_002'), (91, '2010-09-17 14:19:39')),\n",
       " (('line_04', 'item_005'), (291, '2010-09-18 01:34:20')),\n",
       " (('line_02', 'item_002'), (27, '2010-09-01 23:47:21')),\n",
       " (('line_05', 'item_015'), (418, '2010-08-29 12:59:23')),\n",
       " (('line_04', 'item_009'), (547, '2010-08-26 10:17:52')),\n",
       " (('line_02', 'item_010'), (298, '2010-09-07 18:43:58')),\n",
       " (('line_02', 'item_009'), (51, '2010-09-17 03:31:37')),\n",
       " (('line_01', 'item_001'), (434, '2010-08-09 19:22:38')),\n",
       " (('line_02', 'item_013'), (435, '2010-08-20 02:04:12')),\n",
       " (('line_01', 'item_013'), (532, '2010-08-28 03:33:04')),\n",
       " (('line_05', 'item_007'), (372, '2010-09-15 03:10:52')),\n",
       " (('line_05', 'item_004'), (992, '2010-09-17 10:51:36')),\n",
       " (('line_04', 'item_007'), (752, '2010-09-12 21:56:27')),\n",
       " (('line_04', 'item_014'), (135, '2010-09-09 20:37:21')),\n",
       " (('line_05', 'item_006'), (750, '2010-09-16 02:16:31')),\n",
       " (('line_01', 'item_006'), (567, '2010-09-11 01:45:47')),\n",
       " (('line_03', 'item_008'), (235, '2010-09-13 12:14:56')),\n",
       " (('line_04', 'item_012'), (57, '2010-09-11 15:04:55')),\n",
       " (('line_03', 'item_002'), (842, '2010-08-25 07:35:59')),\n",
       " (('line_02', 'item_001'), (601, '2010-09-17 06:59:42')),\n",
       " (('line_05', 'item_002'), (600, '2010-09-12 06:21:22')),\n",
       " (('line_03', 'item_006'), (983, '2010-09-16 16:58:54')),\n",
       " (('line_01', 'item_004'), (144, '2010-08-18 01:16:30')),\n",
       " (('line_05', 'item_009'), (929, '2010-08-25 11:26:46')),\n",
       " (('line_05', 'item_012'), (111, '2010-09-07 16:36:30')),\n",
       " (('line_05', 'item_011'), (561, '2010-09-08 00:07:37')),\n",
       " (('line_05', 'item_013'), (634, '2010-09-12 08:13:58')),\n",
       " (('line_02', 'item_015'), (186, '2010-09-16 13:49:36')),\n",
       " (('line_04', 'item_008'), (865, '2010-09-12 04:36:36')),\n",
       " (('line_04', 'item_006'), (857, '2010-08-26 07:40:06')),\n",
       " (('line_01', 'item_009'), (294, '2010-09-09 14:47:25')),\n",
       " (('line_01', 'item_014'), (566, '2010-09-09 17:46:53')),\n",
       " (('line_04', 'item_001'), (689, '2010-07-31 12:14:52')),\n",
       " (('line_04', 'item_004'), (303, '2010-09-17 22:11:04')),\n",
       " (('line_02', 'item_008'), (153, '2010-09-09 13:51:05')),\n",
       " (('line_02', 'item_012'), (5, '2010-09-08 06:15:12')),\n",
       " (('line_03', 'item_001'), (999, '2010-08-29 16:50:49')),\n",
       " (('line_01', 'item_008'), (319, '2010-09-05 22:38:05')),\n",
       " (('line_02', 'item_006'), (2, '2010-08-21 12:26:54')),\n",
       " (('line_03', 'item_011'), (29, '2010-08-19 15:23:07')),\n",
       " (('line_03', 'item_012'), (64, '2010-09-07 14:32:08')),\n",
       " (('line_05', 'item_003'), (301, '2010-09-04 13:38:45')),\n",
       " (('line_02', 'item_007'), (210, '2010-09-03 08:05:13'))]"
      ]
     },
     "execution_count": 21,
     "metadata": {},
     "output_type": "execute_result"
    }
   ],
   "source": [
    "masterDataRdd.map(lambda x: ((x.get(\"lineId\"),x.get(\"itemId\")), (x.get(\"cost\"),str(x.get(\"registryInsertTimestamp\"))) )  )\\\n",
    "            .reduceByKey(lambda x,y: x if x[1]>y[1] else y).collect()"
   ]
  },
  {
   "cell_type": "markdown",
   "metadata": {},
   "source": [
    "# Join over time"
   ]
  },
  {
   "cell_type": "code",
   "execution_count": null,
   "metadata": {},
   "outputs": [],
   "source": [
    "print(sampleLine)\n",
    "logRdd.map(lambda x: ((x.get(\"lineId\"),x.get(\"itemId\")), str(x.get(\"creationDate\"))) )\\\n",
    "            .filter(lambda x: x[0]==(sampleLine)).sortBy(lambda x: x[1][1]).collect()"
   ]
  },
  {
   "cell_type": "markdown",
   "metadata": {},
   "source": [
    "## Step1: start with all possible combinations of log/master regardless the timestamp"
   ]
  },
  {
   "cell_type": "code",
   "execution_count": null,
   "metadata": {},
   "outputs": [],
   "source": [
    "step1 = logRdd.map(lambda x: ((x.get(\"lineId\"),x.get(\"itemId\")),x))\\\n",
    "                .join(masterDataRdd.map(lambda x: ((x.get(\"lineId\"),x.get(\"itemId\")),x)))\n",
    "step1.first()"
   ]
  },
  {
   "cell_type": "markdown",
   "metadata": {},
   "source": [
    "## Step2: reshape the rdd to create the unique ID needed - (lineId,ItemId,creationDate)"
   ]
  },
  {
   "cell_type": "code",
   "execution_count": null,
   "metadata": {},
   "outputs": [],
   "source": [
    "#log data is leading\n",
    "def linePrepare(row):\n",
    "    key = (row[0],row[1][0].get(\"creationDate\"))\n",
    "    value = {\"deltaTime\":row[1][0].get(\"creationDate\")-row[1][1].get(\"registryInsertTimestamp\"),\n",
    "            \"logLine\":row[1][0],\"masterLine\":row[1][1]}\n",
    "    return {\"key\":key,\"value\":value}\n",
    "\n",
    "step2 = step1.map(lambda x: linePrepare(x)).persist()\n",
    "step2.first()"
   ]
  },
  {
   "cell_type": "markdown",
   "metadata": {},
   "source": [
    "## Step3: Reducing to Select only the correct value"
   ]
  },
  {
   "cell_type": "code",
   "execution_count": null,
   "metadata": {},
   "outputs": [],
   "source": [
    "def reduceFun(val1,val2):\n",
    "    return val1 if val1.get(\"deltaTime\") < val2.get(\"deltaTime\") else val2\n",
    "\n",
    "step3 = step2.map(lambda x: (x.get(\"key\"),x.get(\"value\"))).reduceByKey(lambda x,y: reduceFun(x,y))\n",
    "step3.count()"
   ]
  },
  {
   "cell_type": "code",
   "execution_count": null,
   "metadata": {},
   "outputs": [],
   "source": [
    "## it looks like correct... lets make a check\n",
    "step3.filter(lambda x: x[1].get(\"deltaTime\")<timedelta(0)).first() ##a negative value?"
   ]
  },
  {
   "cell_type": "code",
   "execution_count": null,
   "metadata": {},
   "outputs": [],
   "source": [
    "def lineFormatter(row):\n",
    "    masterLine = row.get(\"value\").get(\"masterLine\")\n",
    "    return \"[{ts}] - {cost}€\".format(ts=masterLine.get(\"registryInsertTimestamp\"),cost=masterLine.get(\"cost\"))\n",
    "sampleRowKey = step2.first().get(\"key\")\n",
    "print(\"{line}-{item} @{ts}\".format(ts=str(sampleRowKey[1]),\n",
    "                          line=sampleRowKey[0][0],item=sampleRowKey[0][1]))\n",
    "print(\"\\t\"+\"\\n\\t\".join([lineFormatter(k) for k in step2.filter(lambda x: x.get(\"key\") == sampleRowKey).take(20)]))"
   ]
  },
  {
   "cell_type": "code",
   "execution_count": null,
   "metadata": {},
   "outputs": [],
   "source": [
    "sampleRowKey2 = step2.filter(lambda x: x.get(\"key\")[1]>datetime(2010,4,1)).first().get(\"key\")\n",
    "print(\"{line}-{item} @{ts}\".format(ts=str(sampleRowKey2[1]),\n",
    "                          line=sampleRowKey2[0][0],item=sampleRowKey2[0][1]))\n",
    "print(\"\\t\"+\"\\n\\t\".join([lineFormatter(k) for k in step2.filter(lambda x: x.get(\"key\") == sampleRowKey2)\\\n",
    "                        .top(25,key=lambda x: x.get(\"value\").get(\"masterLine\").get(\"registryInsertTimestamp\"))]))"
   ]
  },
  {
   "cell_type": "markdown",
   "metadata": {},
   "source": [
    "## Step3: lets try again!"
   ]
  },
  {
   "cell_type": "code",
   "execution_count": null,
   "metadata": {},
   "outputs": [],
   "source": [
    "def reduceFun(val1,val2):\n",
    "    return val1 if val1.get(\"deltaTime\") < val2.get(\"deltaTime\") else val2\n",
    "step3_1 = step2.map(lambda x: (x.get(\"key\"),x.get(\"value\"))).filter(lambda x: x[1].get(\"deltaTime\")>=timedelta(0))\\\n",
    "            .reduceByKey(lambda x,y: reduceFun(x,y))\n",
    "step3_1.count()"
   ]
  },
  {
   "cell_type": "markdown",
   "metadata": {},
   "source": [
    "why 23883?? we lost some rows"
   ]
  },
  {
   "cell_type": "code",
   "execution_count": null,
   "metadata": {},
   "outputs": [],
   "source": [
    "def lineMaker(row):\n",
    "    return (row.get(\"key\"),(0,0,1) if row.get(\"value\").get(\"deltaTime\")>timedelta(0) \n",
    "                                            else (0,1,0) if row.get(\"value\").get(\"deltaTime\") == 0\n",
    "                                            else (1,0,0))\n",
    "    \n",
    "rowDistribution = step2.map(lambda x: lineMaker(x)).reduceByKey(lambda x,y: (x[0]+y[0],x[1]+y[1],x[2]+y[2])).persist()\n",
    "[(k[0][0],k[1]) for k in rowDistribution.collect() if k[1][2] == 0]"
   ]
  },
  {
   "cell_type": "code",
   "execution_count": null,
   "metadata": {},
   "outputs": [],
   "source": [
    "len([(k[0][0],k[1]) for k in rowDistribution.collect() if k[1][2] == 0]),len([(k[0][0],k[1]) for k in rowDistribution.collect() if k[1][2] == 0]) + step3_1.count()"
   ]
  },
  {
   "cell_type": "markdown",
   "metadata": {},
   "source": [
    "## Step3.ter maybe this is the good one"
   ]
  },
  {
   "cell_type": "code",
   "execution_count": null,
   "metadata": {},
   "outputs": [],
   "source": [
    "def reduceFun(val1,val2):\n",
    "    val1Delta = val1.get(\"deltaTime\")\n",
    "    val2Delta = val2.get(\"deltaTime\")\n",
    "    if val1Delta >= timedelta(0) and val2Delta >=timedelta(0):\n",
    "        return val1 if  val1Delta < val2Delta else val2\n",
    "    elif val1Delta < timedelta(0) and val2Delta <timedelta(0): \n",
    "        return val1 if  val1Delta > val2Delta else val2\n",
    "    else: \n",
    "        return val1 if val1Delta>=timedelta(0) else val2\n",
    "        \n",
    "def lineParser(row):\n",
    "    return {\"lineId\":row[0][0][0],\"itemId\":row[0][0][1],\"creationDate\":row[0][1], \"deltaTime\":row[1].get(\"deltaTime\"),\n",
    "                 \"qty\":row[1].get(\"logLine\").get(\"qty\"),\"cost\":row[1].get(\"masterLine\").get(\"cost\")}\n",
    "\n",
    "\n",
    "step3_2 = step2.map(lambda x: (x.get(\"key\"),x.get(\"value\")))\\\n",
    "            .reduceByKey(lambda x,y: reduceFun(x,y)).map(lambda x: lineParser(x))\n",
    "step3_2.count()"
   ]
  },
  {
   "cell_type": "code",
   "execution_count": null,
   "metadata": {},
   "outputs": [],
   "source": [
    "step3_0 = step3.map(lambda x: lineParser(x))\n",
    "step3_0.filter(lambda x: x.get(\"deltaTime\")<timedelta(0)).count(),step3_0.filter(lambda x: x.get(\"deltaTime\")>=timedelta(0)).count()"
   ]
  },
  {
   "cell_type": "code",
   "execution_count": null,
   "metadata": {},
   "outputs": [],
   "source": [
    "step3_1_0 = step3_1.map(lambda x: lineParser(x))\n",
    "step3_1_0.filter(lambda x: x.get(\"deltaTime\")<timedelta(0)).count(),step3_1_0.filter(lambda x: x.get(\"deltaTime\")>=timedelta(0)).count()"
   ]
  },
  {
   "cell_type": "code",
   "execution_count": null,
   "metadata": {},
   "outputs": [],
   "source": [
    "step3_2.filter(lambda x: x.get(\"deltaTime\")<timedelta(0)).count(),step3_2.filter(lambda x: x.get(\"deltaTime\")>=timedelta(0)).count()"
   ]
  }
 ],
 "metadata": {
  "kernelspec": {
   "display_name": "Python 3",
   "language": "python",
   "name": "python3"
  },
  "language_info": {
   "codemirror_mode": {
    "name": "ipython",
    "version": 3
   },
   "file_extension": ".py",
   "mimetype": "text/x-python",
   "name": "python",
   "nbconvert_exporter": "python",
   "pygments_lexer": "ipython3",
   "version": "3.7.4"
  }
 },
 "nbformat": 4,
 "nbformat_minor": 4
}
