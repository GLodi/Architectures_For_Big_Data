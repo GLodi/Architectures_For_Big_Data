{
 "cells": [
  {
   "cell_type": "code",
   "execution_count": 1,
   "metadata": {},
   "outputs": [],
   "source": [
    "import pyspark\n",
    "from random import randint, random, choice\n",
    "import matplotlib.pyplot as plt\n",
    "\n",
    "sc = pyspark.SparkContext('local[*]')"
   ]
  },
  {
   "cell_type": "code",
   "execution_count": 2,
   "metadata": {},
   "outputs": [
    {
     "data": {
      "text/plain": [
       "[{'lineId': 'line_0006', 'ts': datetime.datetime(2016, 11, 12, 17, 44, 37)},\n",
       " {'lineId': 'line_0068', 'ts': datetime.datetime(2014, 7, 5, 17, 26, 26)},\n",
       " {'lineId': 'line_0074', 'ts': datetime.datetime(2015, 6, 20, 14, 44, 40)},\n",
       " {'lineId': 'line_0030', 'ts': datetime.datetime(2010, 3, 15, 1, 15, 15)},\n",
       " {'lineId': 'line_0015', 'ts': datetime.datetime(2010, 8, 23, 2, 45, 22)}]"
      ]
     },
     "execution_count": 2,
     "metadata": {},
     "output_type": "execute_result"
    }
   ],
   "source": [
    "from dataGenerator.rowGenerator import *\n",
    "from dataGenerator.datasetGenerator import *\n",
    "from datetime import datetime\n",
    "\n",
    "dataset = datasetGenerator()\n",
    "dataset.addGenerator(idGenerator(),prefix=\"line\",min=1,max=100,keyName=\"lineId\")\n",
    "dataset.addGenerator(dateGenerator(),keyName=\"ts\")\n",
    "\n",
    "rdd = sc.parallelize(dataset.generateDataset(5000)).persist()\n",
    "rdd.take(5)"
   ]
  },
  {
   "cell_type": "code",
   "execution_count": 3,
   "metadata": {},
   "outputs": [
    {
     "data": {
      "text/plain": [
       "5000"
      ]
     },
     "execution_count": 3,
     "metadata": {},
     "output_type": "execute_result"
    }
   ],
   "source": [
    "toJoin = rdd.map(lambda x: ((x.get('lineId')), x)).persist()\n",
    "toJoin.count()"
   ]
  },
  {
   "cell_type": "code",
   "execution_count": 4,
   "metadata": {},
   "outputs": [
    {
     "data": {
      "text/plain": [
       "[('line_0006',\n",
       "  {'lineId': 'line_0006', 'ts': datetime.datetime(2016, 11, 12, 17, 44, 37)}),\n",
       " ('line_0068',\n",
       "  {'lineId': 'line_0068', 'ts': datetime.datetime(2014, 7, 5, 17, 26, 26)}),\n",
       " ('line_0074',\n",
       "  {'lineId': 'line_0074', 'ts': datetime.datetime(2015, 6, 20, 14, 44, 40)}),\n",
       " ('line_0030',\n",
       "  {'lineId': 'line_0030', 'ts': datetime.datetime(2010, 3, 15, 1, 15, 15)}),\n",
       " ('line_0015',\n",
       "  {'lineId': 'line_0015', 'ts': datetime.datetime(2010, 8, 23, 2, 45, 22)})]"
      ]
     },
     "execution_count": 4,
     "metadata": {},
     "output_type": "execute_result"
    }
   ],
   "source": [
    "toJoin.take(5)"
   ]
  },
  {
   "cell_type": "code",
   "execution_count": 5,
   "metadata": {},
   "outputs": [
    {
     "data": {
      "text/plain": [
       "255200"
      ]
     },
     "execution_count": 5,
     "metadata": {},
     "output_type": "execute_result"
    }
   ],
   "source": [
    "lol = toJoin.join(toJoin).persist()\n",
    "lol.count()"
   ]
  },
  {
   "cell_type": "code",
   "execution_count": 6,
   "metadata": {},
   "outputs": [
    {
     "data": {
      "text/plain": [
       "[('line_0001',\n",
       "  ({'lineId': 'line_0001', 'ts': datetime.datetime(2017, 4, 6, 4, 49, 1)},\n",
       "   {'lineId': 'line_0001', 'ts': datetime.datetime(2017, 4, 6, 4, 49, 1)})),\n",
       " ('line_0001',\n",
       "  ({'lineId': 'line_0001', 'ts': datetime.datetime(2017, 4, 6, 4, 49, 1)},\n",
       "   {'lineId': 'line_0001', 'ts': datetime.datetime(2016, 3, 2, 1, 1, 32)})),\n",
       " ('line_0001',\n",
       "  ({'lineId': 'line_0001', 'ts': datetime.datetime(2017, 4, 6, 4, 49, 1)},\n",
       "   {'lineId': 'line_0001', 'ts': datetime.datetime(2017, 3, 11, 19, 24, 20)})),\n",
       " ('line_0001',\n",
       "  ({'lineId': 'line_0001', 'ts': datetime.datetime(2017, 4, 6, 4, 49, 1)},\n",
       "   {'lineId': 'line_0001', 'ts': datetime.datetime(2011, 2, 12, 22, 6, 4)})),\n",
       " ('line_0001',\n",
       "  ({'lineId': 'line_0001', 'ts': datetime.datetime(2017, 4, 6, 4, 49, 1)},\n",
       "   {'lineId': 'line_0001', 'ts': datetime.datetime(2010, 5, 13, 8, 59, 16)}))]"
      ]
     },
     "execution_count": 6,
     "metadata": {},
     "output_type": "execute_result"
    }
   ],
   "source": [
    "lol.take(5)"
   ]
  },
  {
   "cell_type": "code",
   "execution_count": 7,
   "metadata": {},
   "outputs": [
    {
     "data": {
      "text/plain": [
       "130100"
      ]
     },
     "execution_count": 7,
     "metadata": {},
     "output_type": "execute_result"
    }
   ],
   "source": [
    "filtered = lol.filter(lambda x: x[1][0].get('ts') <= x[1][1].get('ts')).persist()\n",
    "filtered.count()"
   ]
  },
  {
   "cell_type": "code",
   "execution_count": 8,
   "metadata": {},
   "outputs": [
    {
     "data": {
      "text/plain": [
       "[('line_0001',\n",
       "  ({'lineId': 'line_0001', 'ts': datetime.datetime(2017, 4, 6, 4, 49, 1)},\n",
       "   {'lineId': 'line_0001', 'ts': datetime.datetime(2017, 4, 6, 4, 49, 1)})),\n",
       " ('line_0001',\n",
       "  ({'lineId': 'line_0001', 'ts': datetime.datetime(2017, 4, 6, 4, 49, 1)},\n",
       "   {'lineId': 'line_0001', 'ts': datetime.datetime(2020, 4, 16, 20, 52, 49)})),\n",
       " ('line_0001',\n",
       "  ({'lineId': 'line_0001', 'ts': datetime.datetime(2017, 4, 6, 4, 49, 1)},\n",
       "   {'lineId': 'line_0001', 'ts': datetime.datetime(2018, 6, 19, 12, 54, 21)})),\n",
       " ('line_0001',\n",
       "  ({'lineId': 'line_0001', 'ts': datetime.datetime(2017, 4, 6, 4, 49, 1)},\n",
       "   {'lineId': 'line_0001', 'ts': datetime.datetime(2019, 12, 21, 13, 7, 51)})),\n",
       " ('line_0001',\n",
       "  ({'lineId': 'line_0001', 'ts': datetime.datetime(2017, 4, 6, 4, 49, 1)},\n",
       "   {'lineId': 'line_0001', 'ts': datetime.datetime(2018, 9, 4, 6, 53, 4)}))]"
      ]
     },
     "execution_count": 8,
     "metadata": {},
     "output_type": "execute_result"
    }
   ],
   "source": [
    "filtered.take(5)"
   ]
  },
  {
   "cell_type": "code",
   "execution_count": 11,
   "metadata": {},
   "outputs": [
    {
     "data": {
      "text/plain": [
       "130100"
      ]
     },
     "execution_count": 11,
     "metadata": {},
     "output_type": "execute_result"
    }
   ],
   "source": [
    "newkey = filtered.map(lambda x: ((x[0], x[1][0].get('ts')),(x[1][1].get('ts')-x[1][0].get('ts'), x))).persist()\n",
    "newkey.count()"
   ]
  },
  {
   "cell_type": "code",
   "execution_count": 12,
   "metadata": {},
   "outputs": [
    {
     "data": {
      "text/plain": [
       "[(('line_0001', datetime.datetime(2017, 4, 6, 4, 49, 1)),\n",
       "  (datetime.timedelta(0),\n",
       "   ('line_0001',\n",
       "    ({'lineId': 'line_0001', 'ts': datetime.datetime(2017, 4, 6, 4, 49, 1)},\n",
       "     {'lineId': 'line_0001',\n",
       "      'ts': datetime.datetime(2017, 4, 6, 4, 49, 1)})))),\n",
       " (('line_0001', datetime.datetime(2017, 4, 6, 4, 49, 1)),\n",
       "  (datetime.timedelta(days=1106, seconds=57828),\n",
       "   ('line_0001',\n",
       "    ({'lineId': 'line_0001', 'ts': datetime.datetime(2017, 4, 6, 4, 49, 1)},\n",
       "     {'lineId': 'line_0001',\n",
       "      'ts': datetime.datetime(2020, 4, 16, 20, 52, 49)})))),\n",
       " (('line_0001', datetime.datetime(2017, 4, 6, 4, 49, 1)),\n",
       "  (datetime.timedelta(days=439, seconds=29120),\n",
       "   ('line_0001',\n",
       "    ({'lineId': 'line_0001', 'ts': datetime.datetime(2017, 4, 6, 4, 49, 1)},\n",
       "     {'lineId': 'line_0001',\n",
       "      'ts': datetime.datetime(2018, 6, 19, 12, 54, 21)})))),\n",
       " (('line_0001', datetime.datetime(2017, 4, 6, 4, 49, 1)),\n",
       "  (datetime.timedelta(days=989, seconds=29930),\n",
       "   ('line_0001',\n",
       "    ({'lineId': 'line_0001', 'ts': datetime.datetime(2017, 4, 6, 4, 49, 1)},\n",
       "     {'lineId': 'line_0001',\n",
       "      'ts': datetime.datetime(2019, 12, 21, 13, 7, 51)})))),\n",
       " (('line_0001', datetime.datetime(2017, 4, 6, 4, 49, 1)),\n",
       "  (datetime.timedelta(days=516, seconds=7443),\n",
       "   ('line_0001',\n",
       "    ({'lineId': 'line_0001', 'ts': datetime.datetime(2017, 4, 6, 4, 49, 1)},\n",
       "     {'lineId': 'line_0001',\n",
       "      'ts': datetime.datetime(2018, 9, 4, 6, 53, 4)}))))]"
      ]
     },
     "execution_count": 12,
     "metadata": {},
     "output_type": "execute_result"
    }
   ],
   "source": [
    "newkey.take(5)"
   ]
  },
  {
   "cell_type": "code",
   "execution_count": null,
   "metadata": {},
   "outputs": [],
   "source": [
    "# wtf il resto e' un casino"
   ]
  }
 ],
 "metadata": {
  "kernelspec": {
   "display_name": "Python 3",
   "language": "python",
   "name": "python3"
  },
  "language_info": {
   "codemirror_mode": {
    "name": "ipython",
    "version": 3
   },
   "file_extension": ".py",
   "mimetype": "text/x-python",
   "name": "python",
   "nbconvert_exporter": "python",
   "pygments_lexer": "ipython3",
   "version": "3.7.4"
  }
 },
 "nbformat": 4,
 "nbformat_minor": 4
}
