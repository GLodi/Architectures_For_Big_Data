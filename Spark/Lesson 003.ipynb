{
 "cells": [
  {
   "cell_type": "code",
   "execution_count": 2,
   "metadata": {},
   "outputs": [],
   "source": [
    "#remember to clone https://github.com/brcondor/Architectures_for_Big_Data into '/home/jovyan/work/'\n",
    "import sys\n",
    "sys.path.append(\"/home/jovyan/work/Architectures_for_Big_Data/\")\n",
    "import pyspark\n",
    "sc = pyspark.SparkContext(\"local[3]\")"
   ]
  },
  {
   "cell_type": "code",
   "execution_count": 4,
   "metadata": {},
   "outputs": [
    {
     "data": {
      "text/plain": [
       "{'userId': 'user_0069',\n",
       " 'trackId': 'track_02234',\n",
       " 'ts': datetime.datetime(2018, 6, 14, 8, 56, 48)}"
      ]
     },
     "execution_count": 4,
     "metadata": {},
     "output_type": "execute_result"
    }
   ],
   "source": [
    "from dataGenerator.rowGenerator import *\n",
    "from dataGenerator.datasetGenerator import *\n",
    "from datetime import datetime\n",
    "\n",
    "dataset = datasetGenerator()\n",
    "dataset.addGenerator(idGenerator(),prefix=\"user\",min=1,max=100,keyName=\"userId\")\n",
    "dataset.addGenerator(idGenerator(),prefix=\"track\",min=1,max=5000,keyName=\"trackId\")\n",
    "dataset.addGenerator(dateGenerator(),startDate=datetime(2018,1,1),endDate=datetime(2018,12,1),keyName=\"ts\")\n",
    "\n",
    "\n",
    "logRdd = sc.parallelize( dataset.generateDataset(250000)).persist()\n",
    "logRdd.first()"
   ]
  },
  {
   "cell_type": "code",
   "execution_count": null,
   "metadata": {},
   "outputs": [],
   "source": []
  }
 ],
 "metadata": {
  "kernelspec": {
   "display_name": "Python 3",
   "language": "python",
   "name": "python3"
  },
  "language_info": {
   "codemirror_mode": {
    "name": "ipython",
    "version": 3
   },
   "file_extension": ".py",
   "mimetype": "text/x-python",
   "name": "python",
   "nbconvert_exporter": "python",
   "pygments_lexer": "ipython3",
   "version": "3.8.6"
  }
 },
 "nbformat": 4,
 "nbformat_minor": 4
}
