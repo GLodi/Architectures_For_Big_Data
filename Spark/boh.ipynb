{
 "cells": [
  {
   "cell_type": "code",
   "execution_count": 1,
   "metadata": {},
   "outputs": [],
   "source": [
    "import sys\n",
    "sys.path.append(\"/home/jovyan/work/Architectures_for_Big_Data/\")\n",
    "import pyspark\n",
    "sc = pyspark.SparkContext(\"local[3]\")"
   ]
  },
  {
   "cell_type": "code",
   "execution_count": 2,
   "metadata": {},
   "outputs": [
    {
     "data": {
      "text/plain": [
       "{'bookId': 'book_0060', 'tokenId': 'token_01376'}"
      ]
     },
     "execution_count": 2,
     "metadata": {},
     "output_type": "execute_result"
    }
   ],
   "source": [
    "from dataGenerator.rowGenerator import *\n",
    "from dataGenerator.datasetGenerator import *\n",
    "from datetime import datetime\n",
    "\n",
    "dataset = datasetGenerator()\n",
    "dataset.addGenerator(idGenerator(),prefix=\"book\",min=1,max=100,keyName=\"bookId\")\n",
    "dataset.addGenerator(idGenerator(),prefix=\"token\",min=1,max=5000,keyName=\"tokenId\")\n",
    "\n",
    "\n",
    "rdd = sc.parallelize( dataset.generateDataset(250000)).persist()\n",
    "rdd.first()"
   ]
  },
  {
   "cell_type": "code",
   "execution_count": 5,
   "metadata": {},
   "outputs": [
    {
     "data": {
      "text/plain": [
       "[(('book_0009', 'token_01605'), 2),\n",
       " (('book_0045', 'token_03798'), 3),\n",
       " (('book_0083', 'token_03345'), 1),\n",
       " (('book_0002', 'token_02261'), 1),\n",
       " (('book_0066', 'token_02110'), 3)]"
      ]
     },
     "execution_count": 5,
     "metadata": {},
     "output_type": "execute_result"
    }
   ],
   "source": [
    "# tf\n",
    "tf = rdd.map(lambda x: ((x.get('bookId'), x.get('tokenId')), 1)).reduceByKey(lambda a,b: a+b)\n",
    "tf.take(5)"
   ]
  },
  {
   "cell_type": "code",
   "execution_count": 8,
   "metadata": {},
   "outputs": [
    {
     "data": {
      "text/plain": [
       "[('token_03345', 39),\n",
       " ('token_01486', 37),\n",
       " ('token_03589', 37),\n",
       " ('token_01101', 37),\n",
       " ('token_04054', 48)]"
      ]
     },
     "execution_count": 8,
     "metadata": {},
     "output_type": "execute_result"
    }
   ],
   "source": [
    "# df\n",
    "df = tf.map(lambda x: (x[0][1], 1)).reduceByKey(lambda a,b: a+b)\n",
    "df.take(5)"
   ]
  },
  {
   "cell_type": "code",
   "execution_count": 16,
   "metadata": {},
   "outputs": [
    {
     "data": {
      "text/plain": [
       "[('token_03345', 0.9416085398584451),\n",
       " ('token_01486', 0.9942522733438669),\n",
       " ('token_03589', 0.9942522733438669),\n",
       " ('token_01101', 0.9942522733438669),\n",
       " ('token_04054', 0.7339691750802005)]"
      ]
     },
     "execution_count": 16,
     "metadata": {},
     "output_type": "execute_result"
    }
   ],
   "source": [
    "# idf\n",
    "import numpy as np\n",
    "totBooks = rdd.map(lambda x: x.get('bookId')).distinct().count()\n",
    "idf = df.map(lambda x: (x[0], np.log(totBooks/x[1])))\n",
    "idf.take(5)"
   ]
  },
  {
   "cell_type": "code",
   "execution_count": 22,
   "metadata": {},
   "outputs": [
    {
     "data": {
      "text/plain": [
       "[('token_04279', 'book_0086', 1, 0.5447271754416719, 0.5447271754416719),\n",
       " ('token_04279', 'book_0075', 1, 0.5447271754416719, 0.5447271754416719),\n",
       " ('token_04279', 'book_0002', 1, 0.5447271754416719, 0.5447271754416719),\n",
       " ('token_04279', 'book_0030', 1, 0.5447271754416719, 0.5447271754416719),\n",
       " ('token_04279', 'book_0062', 1, 0.5447271754416719, 0.5447271754416719)]"
      ]
     },
     "execution_count": 22,
     "metadata": {},
     "output_type": "execute_result"
    }
   ],
   "source": [
    "tfidf = tf.map(lambda x: (x[0][1], x)).join(idf).map(lambda x: (x[0], x[1][0][0][0], x[1][0][1], x[1][1], x[1][0][1]*x[1][1]))\n",
    "tfidf.top(5, lambda x: 1/x[4])"
   ]
  },
  {
   "cell_type": "code",
   "execution_count": null,
   "metadata": {},
   "outputs": [],
   "source": []
  }
 ],
 "metadata": {
  "kernelspec": {
   "display_name": "Python 3",
   "language": "python",
   "name": "python3"
  },
  "language_info": {
   "codemirror_mode": {
    "name": "ipython",
    "version": 3
   },
   "file_extension": ".py",
   "mimetype": "text/x-python",
   "name": "python",
   "nbconvert_exporter": "python",
   "pygments_lexer": "ipython3",
   "version": "3.7.4"
  }
 },
 "nbformat": 4,
 "nbformat_minor": 4
}
