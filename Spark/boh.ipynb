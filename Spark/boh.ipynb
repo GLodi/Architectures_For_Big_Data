{
 "cells": [
  {
   "cell_type": "code",
   "execution_count": 1,
   "metadata": {},
   "outputs": [],
   "source": [
    "import pyspark\n",
    "from random import randint, random, choice\n",
    "import matplotlib.pyplot as plt\n",
    "\n",
    "sc = pyspark.SparkContext('local[*]')"
   ]
  },
  {
   "cell_type": "code",
   "execution_count": 6,
   "metadata": {},
   "outputs": [],
   "source": [
    "from dataGenerator.rowGenerator import *\n",
    "from dataGenerator.datasetGenerator import *\n",
    "from datetime import datetime\n",
    "\n",
    "dataset = datasetGenerator()\n",
    "dataset.addGenerator(intGenerator(),min=1,max=100,keyName=\"bookId\")\n",
    "dataset.addGenerator(intGenerator(),min=1,max=10000,keyName=\"tokenId\")\n",
    "\n",
    "rdd = sc.parallelize(dataset.generateDataset(1000000)).persist()"
   ]
  },
  {
   "cell_type": "code",
   "execution_count": 9,
   "metadata": {},
   "outputs": [
    {
     "data": {
      "text/plain": [
       "[((3462, 75), 8),\n",
       " ((2369, 76), 8),\n",
       " ((966, 95), 8),\n",
       " ((217, 63), 8),\n",
       " ((788, 65), 8)]"
      ]
     },
     "execution_count": 9,
     "metadata": {},
     "output_type": "execute_result"
    }
   ],
   "source": [
    "tf = rdd.map(lambda x: ((x.get('tokenId'), x.get('bookId')), 1)).reduceByKey(lambda a,b: a+b)\n",
    "tf.top(5, lambda x: x[1])"
   ]
  },
  {
   "cell_type": "code",
   "execution_count": 10,
   "metadata": {},
   "outputs": [
    {
     "data": {
      "text/plain": [
       "[(1, 368068),\n",
       " (2, 183269),\n",
       " (3, 61391),\n",
       " (4, 15344),\n",
       " (5, 3196),\n",
       " (6, 543),\n",
       " (7, 81),\n",
       " (8, 5)]"
      ]
     },
     "execution_count": 10,
     "metadata": {},
     "output_type": "execute_result"
    }
   ],
   "source": [
    "toplot = tf.map(lambda x: (x[1], 1)).reduceByKey(lambda a,b: a+b)\n",
    "toplot.collect()"
   ]
  },
  {
   "cell_type": "code",
   "execution_count": 11,
   "metadata": {},
   "outputs": [
    {
     "data": {
      "text/plain": [
       "<BarContainer object of 8 artists>"
      ]
     },
     "execution_count": 11,
     "metadata": {},
     "output_type": "execute_result"
    },
    {
     "data": {
      "image/png": "[encoded data removed]",
      "text/plain": [
       "<Figure size 432x288 with 1 Axes>"
      ]
     },
     "metadata": {
      "needs_background": "light"
     },
     "output_type": "display_data"
    }
   ],
   "source": [
    "plt.bar(toplot.map(lambda x: x[0]).collect(),toplot.map(lambda x: x[1]).collect() )"
   ]
  },
  {
   "cell_type": "code",
   "execution_count": 16,
   "metadata": {},
   "outputs": [
    {
     "data": {
      "text/plain": [
       "[(7615, 80), (3360, 79), (9415, 79), (2337, 79), (3814, 79)]"
      ]
     },
     "execution_count": 16,
     "metadata": {},
     "output_type": "execute_result"
    }
   ],
   "source": [
    "df = tf.map(lambda x: (x[0][0], 1)).reduceByKey(lambda a,b: a+b)\n",
    "df.top(5, lambda x: x[1])"
   ]
  },
  {
   "cell_type": "code",
   "execution_count": 18,
   "metadata": {},
   "outputs": [
    {
     "data": {
      "text/plain": [
       "100"
      ]
     },
     "execution_count": 18,
     "metadata": {},
     "output_type": "execute_result"
    }
   ],
   "source": [
    "# np.log(totBooks/df)\n",
    "totBooks = tf.map(lambda x: x[0][1]).distinct().count()\n",
    "totBooks"
   ]
  },
  {
   "cell_type": "code",
   "execution_count": 21,
   "metadata": {},
   "outputs": [
    {
     "data": {
      "text/plain": [
       "[(4716, (64, 0.44628710262841953)),\n",
       " (4008, (57, 0.5621189181535412)),\n",
       " (4200, (62, 0.47803580094299974)),\n",
       " (2064, (64, 0.44628710262841953)),\n",
       " (6024, (63, 0.4620354595965586))]"
      ]
     },
     "execution_count": 21,
     "metadata": {},
     "output_type": "execute_result"
    }
   ],
   "source": [
    "idf = df.map(lambda x: (x[0], (x[1], np.log(totBooks/x[1]))))\n",
    "idf.take(5)"
   ]
  },
  {
   "cell_type": "code",
   "execution_count": 22,
   "metadata": {},
   "outputs": [
    {
     "data": {
      "text/plain": [
       "[((6325, 17), 1),\n",
       " ((9354, 4), 2),\n",
       " ((7093, 9), 2),\n",
       " ((9323, 63), 2),\n",
       " ((5386, 44), 3)]"
      ]
     },
     "execution_count": 22,
     "metadata": {},
     "output_type": "execute_result"
    }
   ],
   "source": [
    "tf.take(5)"
   ]
  },
  {
   "cell_type": "code",
   "execution_count": 28,
   "metadata": {},
   "outputs": [
    {
     "data": {
      "text/plain": [
       "[((7615, 91), 1, 80, 0.22314355131420976, 0.22314355131420976),\n",
       " ((7615, 35), 1, 80, 0.22314355131420976, 0.22314355131420976),\n",
       " ((7615, 87), 1, 80, 0.22314355131420976, 0.22314355131420976),\n",
       " ((7615, 92), 1, 80, 0.22314355131420976, 0.22314355131420976),\n",
       " ((7615, 24), 1, 80, 0.22314355131420976, 0.22314355131420976)]"
      ]
     },
     "execution_count": 28,
     "metadata": {},
     "output_type": "execute_result"
    }
   ],
   "source": [
    "tfidf = tf.map(lambda x: (x[0][0], x)).join(idf).map(lambda x: (x[1][0][0], x[1][0][1], x[1][1][0], x[1][1][1], x[1][0][1]*x[1][1][1]))\n",
    "tfidf.top(5, lambda x: 1/x[4])"
   ]
  },
  {
   "cell_type": "code",
   "execution_count": null,
   "metadata": {},
   "outputs": [],
   "source": []
  }
 ],
 "metadata": {
  "kernelspec": {
   "display_name": "Python 3",
   "language": "python",
   "name": "python3"
  },
  "language_info": {
   "codemirror_mode": {
    "name": "ipython",
    "version": 3
   },
   "file_extension": ".py",
   "mimetype": "text/x-python",
   "name": "python",
   "nbconvert_exporter": "python",
   "pygments_lexer": "ipython3",
   "version": "3.7.4"
  }
 },
 "nbformat": 4,
 "nbformat_minor": 4
}
