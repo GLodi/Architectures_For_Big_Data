{
 "cells": [
  {
   "cell_type": "code",
   "execution_count": 1,
   "metadata": {},
   "outputs": [],
   "source": [
    "import pyspark\n",
    "from random import randint, random, choice\n",
    "import matplotlib.pyplot as plt\n",
    "\n",
    "sc = pyspark.SparkContext('local[*]')"
   ]
  },
  {
   "cell_type": "code",
   "execution_count": 2,
   "metadata": {},
   "outputs": [],
   "source": [
    "from dataGenerator.rowGenerator import *\n",
    "from dataGenerator.datasetGenerator import *\n",
    "from datetime import datetime\n",
    "\n",
    "dataset = datasetGenerator()\n",
    "dataset.addGenerator(randomFromListGenerator(),list=['P&P103','P&P104','P&P105'],keyName=\"machineId\")\n",
    "dataset.addGenerator(intGenerator(),min=1,max=5000,keyName=\"itemId\")\n",
    "dataset.addGenerator(intGenerator(),min=1,max=10,keyName=\"errors\")\n",
    "dataset.addGenerator(dateGenerator(),min=1,max=10,keyName=\"ts\")\n",
    "dataset.addGenerator(randomFromListGenerator(),list=['In Progress', 'Idle','Done'],keyName=\"status\")\n",
    "\n",
    "rdd = sc.parallelize(dataset.generateDataset(1000)).persist()"
   ]
  },
  {
   "cell_type": "code",
   "execution_count": 3,
   "metadata": {},
   "outputs": [
    {
     "data": {
      "text/plain": [
       "[{'machineId': 'P&P104',\n",
       "  'itemId': 998,\n",
       "  'errors': 3,\n",
       "  'ts': datetime.datetime(2013, 11, 6, 17, 38, 20),\n",
       "  'status': 'In Progress'},\n",
       " {'machineId': 'P&P105',\n",
       "  'itemId': 4039,\n",
       "  'errors': 7,\n",
       "  'ts': datetime.datetime(2016, 6, 29, 21, 20, 19),\n",
       "  'status': 'Idle'},\n",
       " {'machineId': 'P&P105',\n",
       "  'itemId': 2182,\n",
       "  'errors': 1,\n",
       "  'ts': datetime.datetime(2015, 3, 6, 20, 5, 57),\n",
       "  'status': 'Idle'},\n",
       " {'machineId': 'P&P104',\n",
       "  'itemId': 1444,\n",
       "  'errors': 2,\n",
       "  'ts': datetime.datetime(2014, 5, 7, 17, 15, 2),\n",
       "  'status': 'Idle'},\n",
       " {'machineId': 'P&P103',\n",
       "  'itemId': 3961,\n",
       "  'errors': 4,\n",
       "  'ts': datetime.datetime(2018, 10, 8, 9, 23, 5),\n",
       "  'status': 'Done'}]"
      ]
     },
     "execution_count": 3,
     "metadata": {},
     "output_type": "execute_result"
    }
   ],
   "source": [
    "rdd.take(5)"
   ]
  },
  {
   "cell_type": "code",
   "execution_count": null,
   "metadata": {},
   "outputs": [],
   "source": []
  }
 ],
 "metadata": {
  "kernelspec": {
   "display_name": "Python 3",
   "language": "python",
   "name": "python3"
  },
  "language_info": {
   "codemirror_mode": {
    "name": "ipython",
    "version": 3
   },
   "file_extension": ".py",
   "mimetype": "text/x-python",
   "name": "python",
   "nbconvert_exporter": "python",
   "pygments_lexer": "ipython3",
   "version": "3.7.4"
  }
 },
 "nbformat": 4,
 "nbformat_minor": 4
}
