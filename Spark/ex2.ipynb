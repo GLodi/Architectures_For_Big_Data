{
 "cells": [
  {
   "cell_type": "code",
   "execution_count": 1,
   "metadata": {},
   "outputs": [],
   "source": [
    "import pyspark\n",
    "from random import randint, random, choice\n",
    "import matplotlib.pyplot as plt\n",
    "\n",
    "sc = pyspark.SparkContext('local[*]')"
   ]
  },
  {
   "cell_type": "code",
   "execution_count": 2,
   "metadata": {},
   "outputs": [],
   "source": [
    "from dataGenerator.rowGenerator import *\n",
    "from dataGenerator.datasetGenerator import *\n",
    "from datetime import datetime\n",
    "\n",
    "dataset = datasetGenerator()\n",
    "dataset.addGenerator(randomFromListGenerator(),list=['P&P103','P&P104','P&P105'],keyName=\"machineId\")\n",
    "dataset.addGenerator(intGenerator(),min=1,max=5000,keyName=\"itemId\")\n",
    "dataset.addGenerator(intGenerator(),min=1,max=10,keyName=\"errors\")\n",
    "dataset.addGenerator(dateGenerator(),min=1,max=10,keyName=\"ts\")\n",
    "dataset.addGenerator(randomFromListGenerator(),list=['In Progress', 'Idle','Done'],keyName=\"status\")\n",
    "\n",
    "rdd = sc.parallelize(dataset.generateDataset(10000)).persist()"
   ]
  },
  {
   "cell_type": "code",
   "execution_count": 3,
   "metadata": {},
   "outputs": [
    {
     "data": {
      "text/plain": [
       "[{'machineId': 'P&P104',\n",
       "  'itemId': 1458,\n",
       "  'errors': 4,\n",
       "  'ts': datetime.datetime(2011, 4, 23, 7, 52, 7),\n",
       "  'status': 'In Progress'},\n",
       " {'machineId': 'P&P105',\n",
       "  'itemId': 2981,\n",
       "  'errors': 5,\n",
       "  'ts': datetime.datetime(2014, 10, 10, 21, 12, 14),\n",
       "  'status': 'Done'},\n",
       " {'machineId': 'P&P104',\n",
       "  'itemId': 1016,\n",
       "  'errors': 2,\n",
       "  'ts': datetime.datetime(2013, 7, 19, 20, 41, 25),\n",
       "  'status': 'Idle'},\n",
       " {'machineId': 'P&P105',\n",
       "  'itemId': 4515,\n",
       "  'errors': 2,\n",
       "  'ts': datetime.datetime(2020, 5, 27, 22, 28, 33),\n",
       "  'status': 'Idle'},\n",
       " {'machineId': 'P&P104',\n",
       "  'itemId': 4496,\n",
       "  'errors': 8,\n",
       "  'ts': datetime.datetime(2017, 7, 1, 2, 57, 54),\n",
       "  'status': 'In Progress'}]"
      ]
     },
     "execution_count": 3,
     "metadata": {},
     "output_type": "execute_result"
    }
   ],
   "source": [
    "rdd.take(5)"
   ]
  },
  {
   "cell_type": "code",
   "execution_count": 4,
   "metadata": {},
   "outputs": [
    {
     "data": {
      "text/plain": [
       "[{'machineId': 'P&P104',\n",
       "  'itemId': 1458,\n",
       "  'errors': 4,\n",
       "  'ts': datetime.datetime(2011, 4, 23, 7, 52, 7),\n",
       "  'status': 'In Progress'},\n",
       " {'machineId': 'P&P104',\n",
       "  'itemId': 1016,\n",
       "  'errors': 2,\n",
       "  'ts': datetime.datetime(2013, 7, 19, 20, 41, 25),\n",
       "  'status': 'Idle'},\n",
       " {'machineId': 'P&P105',\n",
       "  'itemId': 4515,\n",
       "  'errors': 2,\n",
       "  'ts': datetime.datetime(2020, 5, 27, 22, 28, 33),\n",
       "  'status': 'Idle'},\n",
       " {'machineId': 'P&P104',\n",
       "  'itemId': 4496,\n",
       "  'errors': 8,\n",
       "  'ts': datetime.datetime(2017, 7, 1, 2, 57, 54),\n",
       "  'status': 'In Progress'},\n",
       " {'machineId': 'P&P103',\n",
       "  'itemId': 2732,\n",
       "  'errors': 7,\n",
       "  'ts': datetime.datetime(2013, 11, 16, 20, 5, 43),\n",
       "  'status': 'Idle'}]"
      ]
     },
     "execution_count": 4,
     "metadata": {},
     "output_type": "execute_result"
    }
   ],
   "source": [
    "notdone = rdd.filter(lambda x: x.get('status') != 'Done')\n",
    "notdone.take(5)"
   ]
  },
  {
   "cell_type": "code",
   "execution_count": 5,
   "metadata": {},
   "outputs": [
    {
     "data": {
      "text/plain": [
       "[('P&P103', 11907), ('P&P105', 12247), ('P&P104', 12502)]"
      ]
     },
     "execution_count": 5,
     "metadata": {},
     "output_type": "execute_result"
    }
   ],
   "source": [
    "errpermachine = notdone.map(lambda x: (x.get('machineId'), x.get('errors'))).reduceByKey(lambda a,b: a+b)\n",
    "errpermachine.collect()"
   ]
  },
  {
   "cell_type": "code",
   "execution_count": 6,
   "metadata": {},
   "outputs": [
    {
     "data": {
      "text/plain": [
       "<BarContainer object of 3 artists>"
      ]
     },
     "execution_count": 6,
     "metadata": {},
     "output_type": "execute_result"
    },
    {
     "data": {
      "image/png": "[encoded data removed]",
      "text/plain": [
       "<Figure size 432x288 with 1 Axes>"
      ]
     },
     "metadata": {
      "needs_background": "light"
     },
     "output_type": "display_data"
    }
   ],
   "source": [
    "plt.bar(errpermachine.map(lambda x: x[0]).collect(), errpermachine.map(lambda x: x[1]).collect())"
   ]
  },
  {
   "cell_type": "code",
   "execution_count": 7,
   "metadata": {},
   "outputs": [
    {
     "data": {
      "text/plain": [
       "[(8, 2865),\n",
       " (9, 3139),\n",
       " (1, 3332),\n",
       " (2, 2722),\n",
       " (10, 3325),\n",
       " (11, 2978),\n",
       " (3, 3136),\n",
       " (4, 3267),\n",
       " (12, 2974),\n",
       " (5, 2932),\n",
       " (6, 2971),\n",
       " (7, 3015)]"
      ]
     },
     "execution_count": 7,
     "metadata": {},
     "output_type": "execute_result"
    }
   ],
   "source": [
    "errpermonth = notdone.map(lambda x: (x.get('ts').month, x.get('errors'))).reduceByKey(lambda a,b: a+b)\n",
    "errpermonth.collect()"
   ]
  },
  {
   "cell_type": "code",
   "execution_count": 8,
   "metadata": {},
   "outputs": [
    {
     "data": {
      "text/plain": [
       "<BarContainer object of 12 artists>"
      ]
     },
     "execution_count": 8,
     "metadata": {},
     "output_type": "execute_result"
    },
    {
     "data": {
      "image/png": "[encoded data removed]",
      "text/plain": [
       "<Figure size 432x288 with 1 Axes>"
      ]
     },
     "metadata": {
      "needs_background": "light"
     },
     "output_type": "display_data"
    }
   ],
   "source": [
    "plt.bar(errpermonth.map(lambda x: x[0]).collect(), errpermonth.map(lambda x: x[1]).collect())"
   ]
  },
  {
   "cell_type": "code",
   "execution_count": 9,
   "metadata": {},
   "outputs": [
    {
     "data": {
      "text/plain": [
       "[(('P&P103', 1), 1150),\n",
       " (('P&P104', 1), 1039),\n",
       " (('P&P105', 1), 1143),\n",
       " (('P&P104', 2), 898),\n",
       " (('P&P103', 2), 860),\n",
       " (('P&P105', 2), 964),\n",
       " (('P&P103', 3), 960),\n",
       " (('P&P105', 3), 1128),\n",
       " (('P&P104', 3), 1048),\n",
       " (('P&P104', 4), 1148),\n",
       " (('P&P105', 4), 1083),\n",
       " (('P&P103', 4), 1036),\n",
       " (('P&P104', 5), 909),\n",
       " (('P&P105', 5), 973),\n",
       " (('P&P103', 5), 1050),\n",
       " (('P&P103', 6), 955),\n",
       " (('P&P105', 6), 942),\n",
       " (('P&P104', 6), 1074),\n",
       " (('P&P105', 7), 1113),\n",
       " (('P&P104', 7), 974),\n",
       " (('P&P103', 7), 928),\n",
       " (('P&P105', 8), 906),\n",
       " (('P&P103', 8), 910),\n",
       " (('P&P104', 8), 1049),\n",
       " (('P&P103', 9), 939),\n",
       " (('P&P104', 9), 1135),\n",
       " (('P&P105', 9), 1065),\n",
       " (('P&P104', 10), 1223),\n",
       " (('P&P103', 10), 1099),\n",
       " (('P&P105', 10), 1003),\n",
       " (('P&P103', 11), 948),\n",
       " (('P&P105', 11), 1053),\n",
       " (('P&P104', 11), 977),\n",
       " (('P&P104', 12), 1028),\n",
       " (('P&P105', 12), 874),\n",
       " (('P&P103', 12), 1072)]"
      ]
     },
     "execution_count": 9,
     "metadata": {},
     "output_type": "execute_result"
    }
   ],
   "source": [
    "perper = notdone.map(lambda x: ((x.get('machineId'), x.get('ts').month), x.get('errors'))).reduceByKey(lambda a,b: a+b).sortBy(lambda x: x[0][1])\n",
    "perper.collect()"
   ]
  },
  {
   "cell_type": "code",
   "execution_count": 10,
   "metadata": {},
   "outputs": [
    {
     "data": {
      "text/plain": [
       "<BarContainer object of 36 artists>"
      ]
     },
     "execution_count": 10,
     "metadata": {},
     "output_type": "execute_result"
    },
    {
     "data": {
      "image/png": "[encoded data removed]",
      "text/plain": [
       "<Figure size 432x288 with 1 Axes>"
      ]
     },
     "metadata": {
      "needs_background": "light"
     },
     "output_type": "display_data"
    }
   ],
   "source": [
    "plt.bar(perper.map(lambda x: x[0][1]).collect(), perper.map(lambda x: x[1]).collect()) # not quite correct"
   ]
  },
  {
   "cell_type": "code",
   "execution_count": null,
   "metadata": {},
   "outputs": [],
   "source": []
  }
 ],
 "metadata": {
  "kernelspec": {
   "display_name": "Python 3",
   "language": "python",
   "name": "python3"
  },
  "language_info": {
   "codemirror_mode": {
    "name": "ipython",
    "version": 3
   },
   "file_extension": ".py",
   "mimetype": "text/x-python",
   "name": "python",
   "nbconvert_exporter": "python",
   "pygments_lexer": "ipython3",
   "version": "3.7.4"
  }
 },
 "nbformat": 4,
 "nbformat_minor": 4
}
