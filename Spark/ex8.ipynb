{
 "cells": [
  {
   "cell_type": "code",
   "execution_count": 1,
   "metadata": {},
   "outputs": [],
   "source": [
    "import pyspark\n",
    "from random import randint, random, choice\n",
    "import matplotlib.pyplot as plt\n",
    "\n",
    "sc = pyspark.SparkContext('local[*]')"
   ]
  },
  {
   "cell_type": "code",
   "execution_count": 10,
   "metadata": {},
   "outputs": [],
   "source": [
    "from dataGenerator.rowGenerator import *\n",
    "from dataGenerator.datasetGenerator import *\n",
    "from datetime import datetime\n",
    "\n",
    "dataset = datasetGenerator()\n",
    "dataset.addGenerator(intGenerator(),min=1,max=100,keyName=\"userId\")\n",
    "dataset.addGenerator(intGenerator(),min=1,max=1000,keyName=\"songId\")\n",
    "dataset.addGenerator(intGenerator(),min=1,max=180,keyName=\"lengthPlayed\")\n",
    "dataset.addGenerator(dateGenerator(),startDate=datetime(2021,3,1),keyName=\"ts\")\n",
    "\n",
    "dataset2 = datasetGenerator()\n",
    "dataset2.addGenerator(intGenerator(),min=1,max=1000,keyName=\"songId\")\n",
    "dataset2.addGenerator(intGenerator(),min=1,max=180,keyName=\"length\")\n",
    "\n",
    "replays = sc.parallelize(dataset.generateDataset(1000000)).persist()\n",
    "metadata = sc.parallelize(dataset2.generateDataset(100000)).persist()"
   ]
  },
  {
   "cell_type": "code",
   "execution_count": 16,
   "metadata": {},
   "outputs": [
    {
     "data": {
      "text/plain": [
       "(804, 47)"
      ]
     },
     "execution_count": 16,
     "metadata": {},
     "output_type": "execute_result"
    }
   ],
   "source": [
    "metafixed = metadata.map(lambda x: (x.get('songId'), x.get('length'))).reduceByKey(lambda a,b: a)\n",
    "metafixed.first()"
   ]
  },
  {
   "cell_type": "code",
   "execution_count": 22,
   "metadata": {},
   "outputs": [
    {
     "data": {
      "text/plain": [
       "((456, 97), 85, 143)"
      ]
     },
     "execution_count": 22,
     "metadata": {},
     "output_type": "execute_result"
    }
   ],
   "source": [
    "joined =replays.map(lambda x: (x.get('songId'), x)).join(metafixed).map(lambda x: ((x[0], x[1][0].get('userId')), x[1][0].get('lengthPlayed'), x[1][1]))\n",
    "joined.first()"
   ]
  },
  {
   "cell_type": "code",
   "execution_count": 23,
   "metadata": {},
   "outputs": [
    {
     "data": {
      "text/plain": [
       "((456, 99), 133, 143)"
      ]
     },
     "execution_count": 23,
     "metadata": {},
     "output_type": "execute_result"
    }
   ],
   "source": [
    "filtered = joined.filter(lambda x: x[1]/x[2] > 0.8)\n",
    "filtered.first()"
   ]
  },
  {
   "cell_type": "code",
   "execution_count": null,
   "metadata": {},
   "outputs": [],
   "source": []
  }
 ],
 "metadata": {
  "kernelspec": {
   "display_name": "Python 3",
   "language": "python",
   "name": "python3"
  },
  "language_info": {
   "codemirror_mode": {
    "name": "ipython",
    "version": 3
   },
   "file_extension": ".py",
   "mimetype": "text/x-python",
   "name": "python",
   "nbconvert_exporter": "python",
   "pygments_lexer": "ipython3",
   "version": "3.7.4"
  }
 },
 "nbformat": 4,
 "nbformat_minor": 4
}
